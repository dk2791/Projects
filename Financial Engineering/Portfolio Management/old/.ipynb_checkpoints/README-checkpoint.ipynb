{
 "cells": [
  {
   "cell_type": "markdown",
   "metadata": {},
   "source": [
    "This project attempts to implement the research paper:\n",
    "### Return Predictability and Dynamic Asset Allocation: How Often Should Investors Rebalance?\n",
    "#### by _Himanshu Almadi, David E. Rapach, and Anil Suri_"
   ]
  },
  {
   "cell_type": "markdown",
   "metadata": {},
   "source": [
    "To view the work until now, please find `Implementation_Exercise.ipynb`.\n",
    "However, the file is too large for smooth viewing at Github.\n",
    "In this case, please refer to `Implementation_Exercise.md` in `Implementation_Exercise` Folder.\n",
    "The problem with `Implementation_Exercise.md` is that Markdown Math Equations are not rendered."
   ]
  },
  {
   "cell_type": "markdown",
   "metadata": {},
   "source": [
    "I was interested in understanding whether there is a systematic pattern in the estimated portfolio weights from the model. Rmarkdown that utilized ARIMA-GARCH is available at `ARIMA_GARCH on esimated portfolio weights.pdf`. Also, a few Tableau visualizations of the estimated portfolio weights are available at https://public.tableau.com/profile/donggeun.kim#!/vizhome/Portfolio_Weights/Story1.\n",
    "Screenshot of the Tableau visualizations are as following:"
   ]
  },
  {
   "cell_type": "markdown",
   "metadata": {},
   "source": [
    "### Monthly DAA Portfolio Weights"
   ]
  },
  {
   "cell_type": "markdown",
   "metadata": {},
   "source": [
    "![image](../image/Story1_1.png)"
   ]
  },
  {
   "cell_type": "markdown",
   "metadata": {},
   "source": [
    "![image](../image/Story1_2.png)"
   ]
  },
  {
   "cell_type": "markdown",
   "metadata": {},
   "source": [
    "![image](../image/Story1_3.png)"
   ]
  },
  {
   "cell_type": "markdown",
   "metadata": {},
   "source": [
    "![image](../image/Story1_4.png)"
   ]
  },
  {
   "cell_type": "markdown",
   "metadata": {},
   "source": [
    "![image](../image/Story1_5.png)"
   ]
  },
  {
   "cell_type": "markdown",
   "metadata": {},
   "source": [
    "![image](../image/Story1_6.png)"
   ]
  }
 ],
 "metadata": {
  "kernelspec": {
   "display_name": "Python (python3_cooking)\n",
   "language": "python",
   "name": "python3_cooking"
  },
  "language_info": {
   "codemirror_mode": {
    "name": "ipython",
    "version": 3
   },
   "file_extension": ".py",
   "mimetype": "text/x-python",
   "name": "python",
   "nbconvert_exporter": "python",
   "pygments_lexer": "ipython3",
   "version": "3.7.2"
  }
 },
 "nbformat": 4,
 "nbformat_minor": 2
}
