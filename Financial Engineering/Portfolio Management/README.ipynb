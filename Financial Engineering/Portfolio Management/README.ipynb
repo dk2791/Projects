{
 "cells": [
  {
   "cell_type": "markdown",
   "metadata": {},
   "source": [
    "This project attempts to implement the research paper:\n",
    "### Return Predictability and Dynamic Asset Allocation: How Often Should Investors Rebalance?\n",
    "#### by _Himanshu Almadi, David E. Rapach, and Anil Suri_"
   ]
  },
  {
   "cell_type": "markdown",
   "metadata": {},
   "source": [
    "The current status is: `working in progress`."
   ]
  },
  {
   "cell_type": "markdown",
   "metadata": {},
   "source": [
    "To view the work until now, please find `prelim.ipynb`."
   ]
  }
 ],
 "metadata": {
  "kernelspec": {
   "display_name": "Python (python3_cooking)\n",
   "language": "python",
   "name": "python3_cooking"
  },
  "language_info": {
   "codemirror_mode": {
    "name": "ipython",
    "version": 3
   },
   "file_extension": ".py",
   "mimetype": "text/x-python",
   "name": "python",
   "nbconvert_exporter": "python",
   "pygments_lexer": "ipython3",
   "version": "3.7.2"
  }
 },
 "nbformat": 4,
 "nbformat_minor": 2
}
