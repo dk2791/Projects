{
 "cells": [
  {
   "cell_type": "markdown",
   "metadata": {},
   "source": [
    "# Implementation Exercise: Work in Progress\n",
    "### _Return Predictability and Dynamic Asset Allocation: How Often Should Investors Rebalance?_\n",
    "by _Himanshu Almadi, David E. Rapach, and Anil Suri_"
   ]
  },
  {
   "cell_type": "markdown",
   "metadata": {},
   "source": [
    "## 1. Processing data from Bloomberg Terminal"
   ]
  },
  {
   "cell_type": "code",
   "execution_count": 528,
   "metadata": {},
   "outputs": [],
   "source": [
    "import pandas as pd\n",
    "import numpy as np\n",
    "import matplotlib.pyplot as plt\n",
    "import multiprocessing\n",
    "from cvxopt import matrix, solvers"
   ]
  },
  {
   "cell_type": "code",
   "execution_count": 2,
   "metadata": {},
   "outputs": [],
   "source": [
    "def process_xlsx(filename,filetype = 'Bloomberg'):\n",
    "    \"\"\"\n",
    "    process .xlsx files downloaded from Bloomberg and Factset\n",
    "    \"\"\"\n",
    "    if filetype == 'Bloomberg':\n",
    "        df = pd.read_excel(filename,header=5)\n",
    "        df.rename(columns = {'Unnamed: 0':'dates'},inplace=True)\n",
    "        df.loc[:,'Dates']=pd.to_datetime(df['Dates'])\n",
    "    if filetype == 'Bonds':\n",
    "        df = pd.read_excel(filename,header=3,parser='Date')\n",
    "    if filetype == 'Bills':\n",
    "        df = pd.read_excel(filename,header=20,parser='Date')\n",
    "    return df.reset_index(drop=True)"
   ]
  },
  {
   "cell_type": "code",
   "execution_count": 3,
   "metadata": {},
   "outputs": [
    {
     "data": {
      "text/html": [
       "<div>\n",
       "<style scoped>\n",
       "    .dataframe tbody tr th:only-of-type {\n",
       "        vertical-align: middle;\n",
       "    }\n",
       "\n",
       "    .dataframe tbody tr th {\n",
       "        vertical-align: top;\n",
       "    }\n",
       "\n",
       "    .dataframe thead th {\n",
       "        text-align: right;\n",
       "    }\n",
       "</style>\n",
       "<table border=\"1\" class=\"dataframe\">\n",
       "  <thead>\n",
       "    <tr style=\"text-align: right;\">\n",
       "      <th></th>\n",
       "      <th>Dates</th>\n",
       "      <th>SPX Index</th>\n",
       "      <th>SPXDIV Index</th>\n",
       "      <th>CPI INDX Index</th>\n",
       "      <th>CT10 Govt</th>\n",
       "      <th>CB3 Govt</th>\n",
       "      <th>MOODCBAA Index</th>\n",
       "      <th>MOODCAAA Index</th>\n",
       "      <th>IP Index</th>\n",
       "    </tr>\n",
       "  </thead>\n",
       "  <tbody>\n",
       "    <tr>\n",
       "      <th>0</th>\n",
       "      <td>NaT</td>\n",
       "      <td>329.08</td>\n",
       "      <td>NaN</td>\n",
       "      <td>NaN</td>\n",
       "      <td>NaN</td>\n",
       "      <td>NaN</td>\n",
       "      <td>NaN</td>\n",
       "      <td>NaN</td>\n",
       "      <td>NaN</td>\n",
       "    </tr>\n",
       "    <tr>\n",
       "      <th>1</th>\n",
       "      <td>1990-02-28</td>\n",
       "      <td>331.89</td>\n",
       "      <td>NaN</td>\n",
       "      <td>128.0</td>\n",
       "      <td>NaN</td>\n",
       "      <td>NaN</td>\n",
       "      <td>10.14</td>\n",
       "      <td>9.22</td>\n",
       "      <td>64.0446</td>\n",
       "    </tr>\n",
       "    <tr>\n",
       "      <th>2</th>\n",
       "      <td>1990-03-30</td>\n",
       "      <td>339.94</td>\n",
       "      <td>0.31</td>\n",
       "      <td>128.6</td>\n",
       "      <td>NaN</td>\n",
       "      <td>NaN</td>\n",
       "      <td>10.21</td>\n",
       "      <td>9.37</td>\n",
       "      <td>64.3580</td>\n",
       "    </tr>\n",
       "    <tr>\n",
       "      <th>3</th>\n",
       "      <td>1990-04-30</td>\n",
       "      <td>330.80</td>\n",
       "      <td>0.98</td>\n",
       "      <td>128.9</td>\n",
       "      <td>NaN</td>\n",
       "      <td>NaN</td>\n",
       "      <td>10.30</td>\n",
       "      <td>9.46</td>\n",
       "      <td>64.2602</td>\n",
       "    </tr>\n",
       "    <tr>\n",
       "      <th>4</th>\n",
       "      <td>1990-05-31</td>\n",
       "      <td>361.23</td>\n",
       "      <td>2.74</td>\n",
       "      <td>129.1</td>\n",
       "      <td>NaN</td>\n",
       "      <td>NaN</td>\n",
       "      <td>10.41</td>\n",
       "      <td>9.47</td>\n",
       "      <td>64.3973</td>\n",
       "    </tr>\n",
       "  </tbody>\n",
       "</table>\n",
       "</div>"
      ],
      "text/plain": [
       "       Dates  SPX Index  SPXDIV Index  CPI INDX Index  CT10 Govt  CB3 Govt  \\\n",
       "0        NaT     329.08           NaN             NaN        NaN       NaN   \n",
       "1 1990-02-28     331.89           NaN           128.0        NaN       NaN   \n",
       "2 1990-03-30     339.94          0.31           128.6        NaN       NaN   \n",
       "3 1990-04-30     330.80          0.98           128.9        NaN       NaN   \n",
       "4 1990-05-31     361.23          2.74           129.1        NaN       NaN   \n",
       "\n",
       "   MOODCBAA Index  MOODCAAA Index  IP Index  \n",
       "0             NaN             NaN       NaN  \n",
       "1           10.14            9.22   64.0446  \n",
       "2           10.21            9.37   64.3580  \n",
       "3           10.30            9.46   64.2602  \n",
       "4           10.41            9.47   64.3973  "
      ]
     },
     "execution_count": 3,
     "metadata": {},
     "output_type": "execute_result"
    }
   ],
   "source": [
    "other_df = process_xlsx('others.xlsx')\n",
    "other_df.head()"
   ]
  },
  {
   "cell_type": "code",
   "execution_count": 4,
   "metadata": {},
   "outputs": [
    {
     "data": {
      "text/html": [
       "<div>\n",
       "<style scoped>\n",
       "    .dataframe tbody tr th:only-of-type {\n",
       "        vertical-align: middle;\n",
       "    }\n",
       "\n",
       "    .dataframe tbody tr th {\n",
       "        vertical-align: top;\n",
       "    }\n",
       "\n",
       "    .dataframe thead th {\n",
       "        text-align: right;\n",
       "    }\n",
       "</style>\n",
       "<table border=\"1\" class=\"dataframe\">\n",
       "  <thead>\n",
       "    <tr style=\"text-align: right;\">\n",
       "      <th></th>\n",
       "      <th>Date</th>\n",
       "      <th>Close</th>\n",
       "      <th>Volume</th>\n",
       "      <th>Change</th>\n",
       "      <th>% Change</th>\n",
       "      <th>Total Return (Gross)</th>\n",
       "      <th>Cumulative Return %</th>\n",
       "      <th>Open</th>\n",
       "      <th>High</th>\n",
       "      <th>Low</th>\n",
       "    </tr>\n",
       "  </thead>\n",
       "  <tbody>\n",
       "    <tr>\n",
       "      <th>0</th>\n",
       "      <td>1990-01-31</td>\n",
       "      <td>8.43</td>\n",
       "      <td>NaN</td>\n",
       "      <td>NaN</td>\n",
       "      <td>NaN</td>\n",
       "      <td>8.43</td>\n",
       "      <td>0.000000</td>\n",
       "      <td>NaN</td>\n",
       "      <td>NaN</td>\n",
       "      <td>NaN</td>\n",
       "    </tr>\n",
       "    <tr>\n",
       "      <th>1</th>\n",
       "      <td>1990-02-28</td>\n",
       "      <td>8.51</td>\n",
       "      <td>NaN</td>\n",
       "      <td>0.080000</td>\n",
       "      <td>0.948991</td>\n",
       "      <td>8.51</td>\n",
       "      <td>0.948992</td>\n",
       "      <td>NaN</td>\n",
       "      <td>NaN</td>\n",
       "      <td>NaN</td>\n",
       "    </tr>\n",
       "    <tr>\n",
       "      <th>2</th>\n",
       "      <td>1990-03-30</td>\n",
       "      <td>8.65</td>\n",
       "      <td>NaN</td>\n",
       "      <td>0.139999</td>\n",
       "      <td>1.645116</td>\n",
       "      <td>8.65</td>\n",
       "      <td>2.609727</td>\n",
       "      <td>NaN</td>\n",
       "      <td>NaN</td>\n",
       "      <td>NaN</td>\n",
       "    </tr>\n",
       "    <tr>\n",
       "      <th>3</th>\n",
       "      <td>1990-04-30</td>\n",
       "      <td>9.04</td>\n",
       "      <td>NaN</td>\n",
       "      <td>0.390000</td>\n",
       "      <td>4.508675</td>\n",
       "      <td>9.04</td>\n",
       "      <td>7.236062</td>\n",
       "      <td>NaN</td>\n",
       "      <td>NaN</td>\n",
       "      <td>NaN</td>\n",
       "    </tr>\n",
       "    <tr>\n",
       "      <th>4</th>\n",
       "      <td>1990-05-31</td>\n",
       "      <td>8.60</td>\n",
       "      <td>NaN</td>\n",
       "      <td>-0.440000</td>\n",
       "      <td>-4.867252</td>\n",
       "      <td>8.60</td>\n",
       "      <td>2.016607</td>\n",
       "      <td>NaN</td>\n",
       "      <td>NaN</td>\n",
       "      <td>NaN</td>\n",
       "    </tr>\n",
       "  </tbody>\n",
       "</table>\n",
       "</div>"
      ],
      "text/plain": [
       "        Date  Close  Volume    Change  % Change  Total Return (Gross)  \\\n",
       "0 1990-01-31   8.43     NaN       NaN       NaN                  8.43   \n",
       "1 1990-02-28   8.51     NaN  0.080000  0.948991                  8.51   \n",
       "2 1990-03-30   8.65     NaN  0.139999  1.645116                  8.65   \n",
       "3 1990-04-30   9.04     NaN  0.390000  4.508675                  9.04   \n",
       "4 1990-05-31   8.60     NaN -0.440000 -4.867252                  8.60   \n",
       "\n",
       "   Cumulative Return %  Open  High  Low  \n",
       "0             0.000000   NaN   NaN  NaN  \n",
       "1             0.948992   NaN   NaN  NaN  \n",
       "2             2.609727   NaN   NaN  NaN  \n",
       "3             7.236062   NaN   NaN  NaN  \n",
       "4             2.016607   NaN   NaN  NaN  "
      ]
     },
     "execution_count": 4,
     "metadata": {},
     "output_type": "execute_result"
    }
   ],
   "source": [
    "df_bonds = process_xlsx('./facset/US10YY-TU1.xlsx','Bonds')\n",
    "df_bonds.head()"
   ]
  },
  {
   "cell_type": "code",
   "execution_count": 5,
   "metadata": {},
   "outputs": [
    {
     "data": {
      "text/html": [
       "<div>\n",
       "<style scoped>\n",
       "    .dataframe tbody tr th:only-of-type {\n",
       "        vertical-align: middle;\n",
       "    }\n",
       "\n",
       "    .dataframe tbody tr th {\n",
       "        vertical-align: top;\n",
       "    }\n",
       "\n",
       "    .dataframe thead th {\n",
       "        text-align: right;\n",
       "    }\n",
       "</style>\n",
       "<table border=\"1\" class=\"dataframe\">\n",
       "  <thead>\n",
       "    <tr style=\"text-align: right;\">\n",
       "      <th></th>\n",
       "      <th>Date</th>\n",
       "      <th>Close</th>\n",
       "      <th>Volume</th>\n",
       "      <th>Change</th>\n",
       "      <th>% Change</th>\n",
       "      <th>Total Return (Gross)</th>\n",
       "      <th>Cumulative Return %</th>\n",
       "      <th>Open</th>\n",
       "      <th>High</th>\n",
       "      <th>Low</th>\n",
       "    </tr>\n",
       "  </thead>\n",
       "  <tbody>\n",
       "    <tr>\n",
       "      <th>0</th>\n",
       "      <td>1990-01-31</td>\n",
       "      <td>7.74</td>\n",
       "      <td>NaN</td>\n",
       "      <td>NaN</td>\n",
       "      <td>NaN</td>\n",
       "      <td>7.74</td>\n",
       "      <td>0.000000</td>\n",
       "      <td>NaN</td>\n",
       "      <td>NaN</td>\n",
       "      <td>NaN</td>\n",
       "    </tr>\n",
       "    <tr>\n",
       "      <th>1</th>\n",
       "      <td>1990-02-28</td>\n",
       "      <td>7.77</td>\n",
       "      <td>NaN</td>\n",
       "      <td>0.03</td>\n",
       "      <td>0.387600</td>\n",
       "      <td>7.77</td>\n",
       "      <td>0.387597</td>\n",
       "      <td>NaN</td>\n",
       "      <td>NaN</td>\n",
       "      <td>NaN</td>\n",
       "    </tr>\n",
       "    <tr>\n",
       "      <th>2</th>\n",
       "      <td>1990-03-30</td>\n",
       "      <td>7.80</td>\n",
       "      <td>NaN</td>\n",
       "      <td>0.03</td>\n",
       "      <td>0.386103</td>\n",
       "      <td>7.80</td>\n",
       "      <td>0.775194</td>\n",
       "      <td>NaN</td>\n",
       "      <td>NaN</td>\n",
       "      <td>NaN</td>\n",
       "    </tr>\n",
       "    <tr>\n",
       "      <th>3</th>\n",
       "      <td>1990-04-30</td>\n",
       "      <td>7.79</td>\n",
       "      <td>NaN</td>\n",
       "      <td>-0.01</td>\n",
       "      <td>-0.128208</td>\n",
       "      <td>7.79</td>\n",
       "      <td>0.645995</td>\n",
       "      <td>NaN</td>\n",
       "      <td>NaN</td>\n",
       "      <td>NaN</td>\n",
       "    </tr>\n",
       "    <tr>\n",
       "      <th>4</th>\n",
       "      <td>1990-05-31</td>\n",
       "      <td>7.75</td>\n",
       "      <td>NaN</td>\n",
       "      <td>-0.04</td>\n",
       "      <td>-0.513478</td>\n",
       "      <td>7.75</td>\n",
       "      <td>0.129199</td>\n",
       "      <td>NaN</td>\n",
       "      <td>NaN</td>\n",
       "      <td>NaN</td>\n",
       "    </tr>\n",
       "  </tbody>\n",
       "</table>\n",
       "</div>"
      ],
      "text/plain": [
       "        Date  Close  Volume  Change  % Change  Total Return (Gross)  \\\n",
       "0 1990-01-31   7.74     NaN     NaN       NaN                  7.74   \n",
       "1 1990-02-28   7.77     NaN    0.03  0.387600                  7.77   \n",
       "2 1990-03-30   7.80     NaN    0.03  0.386103                  7.80   \n",
       "3 1990-04-30   7.79     NaN   -0.01 -0.128208                  7.79   \n",
       "4 1990-05-31   7.75     NaN   -0.04 -0.513478                  7.75   \n",
       "\n",
       "   Cumulative Return %  Open  High  Low  \n",
       "0             0.000000   NaN   NaN  NaN  \n",
       "1             0.387597   NaN   NaN  NaN  \n",
       "2             0.775194   NaN   NaN  NaN  \n",
       "3             0.645995   NaN   NaN  NaN  \n",
       "4             0.129199   NaN   NaN  NaN  "
      ]
     },
     "execution_count": 5,
     "metadata": {},
     "output_type": "execute_result"
    }
   ],
   "source": [
    "df_bill = process_xlsx('./facset/TRYUS3M-FDS.xlsx','Bills')\n",
    "df_bill.head()"
   ]
  },
  {
   "cell_type": "markdown",
   "metadata": {},
   "source": [
    "## 2. Processing Explanatory Variables"
   ]
  },
  {
   "cell_type": "markdown",
   "metadata": {},
   "source": [
    "### 2.1 log(D/P)"
   ]
  },
  {
   "cell_type": "markdown",
   "metadata": {},
   "source": [
    "More specifically, I am computing the following:\n",
    "$$ log(\\sum_{s=1}^{12} D_{t-(s-1)}) - log(P_{t}) $$\n",
    "where `D` stands for dividens paid by `SP500` constituents at time t. \n",
    "And `P` stands for `SP500` at time t.\n"
   ]
  },
  {
   "cell_type": "markdown",
   "metadata": {},
   "source": [
    "As a sanity check, I wanted to check there are only two `NaN` values for `SPXDIV Index`"
   ]
  },
  {
   "cell_type": "code",
   "execution_count": 6,
   "metadata": {},
   "outputs": [
    {
     "data": {
      "text/plain": [
       "2"
      ]
     },
     "execution_count": 6,
     "metadata": {},
     "output_type": "execute_result"
    }
   ],
   "source": [
    "other_df['SPXDIV Index'].isna().sum()"
   ]
  },
  {
   "cell_type": "code",
   "execution_count": 7,
   "metadata": {},
   "outputs": [
    {
     "data": {
      "text/html": [
       "<div>\n",
       "<style scoped>\n",
       "    .dataframe tbody tr th:only-of-type {\n",
       "        vertical-align: middle;\n",
       "    }\n",
       "\n",
       "    .dataframe tbody tr th {\n",
       "        vertical-align: top;\n",
       "    }\n",
       "\n",
       "    .dataframe thead th {\n",
       "        text-align: right;\n",
       "    }\n",
       "</style>\n",
       "<table border=\"1\" class=\"dataframe\">\n",
       "  <thead>\n",
       "    <tr style=\"text-align: right;\">\n",
       "      <th></th>\n",
       "      <th>Dates</th>\n",
       "      <th>SPX Index</th>\n",
       "      <th>SPXDIV Index</th>\n",
       "      <th>CPI INDX Index</th>\n",
       "      <th>CT10 Govt</th>\n",
       "      <th>CB3 Govt</th>\n",
       "      <th>MOODCBAA Index</th>\n",
       "      <th>MOODCAAA Index</th>\n",
       "      <th>IP Index</th>\n",
       "    </tr>\n",
       "  </thead>\n",
       "  <tbody>\n",
       "    <tr>\n",
       "      <th>0</th>\n",
       "      <td>NaT</td>\n",
       "      <td>329.08</td>\n",
       "      <td>NaN</td>\n",
       "      <td>NaN</td>\n",
       "      <td>NaN</td>\n",
       "      <td>NaN</td>\n",
       "      <td>NaN</td>\n",
       "      <td>NaN</td>\n",
       "      <td>NaN</td>\n",
       "    </tr>\n",
       "    <tr>\n",
       "      <th>1</th>\n",
       "      <td>1990-02-28</td>\n",
       "      <td>331.89</td>\n",
       "      <td>NaN</td>\n",
       "      <td>128.0</td>\n",
       "      <td>NaN</td>\n",
       "      <td>NaN</td>\n",
       "      <td>10.14</td>\n",
       "      <td>9.22</td>\n",
       "      <td>64.0446</td>\n",
       "    </tr>\n",
       "    <tr>\n",
       "      <th>2</th>\n",
       "      <td>1990-03-30</td>\n",
       "      <td>339.94</td>\n",
       "      <td>0.31</td>\n",
       "      <td>128.6</td>\n",
       "      <td>NaN</td>\n",
       "      <td>NaN</td>\n",
       "      <td>10.21</td>\n",
       "      <td>9.37</td>\n",
       "      <td>64.3580</td>\n",
       "    </tr>\n",
       "    <tr>\n",
       "      <th>3</th>\n",
       "      <td>1990-04-30</td>\n",
       "      <td>330.80</td>\n",
       "      <td>0.98</td>\n",
       "      <td>128.9</td>\n",
       "      <td>NaN</td>\n",
       "      <td>NaN</td>\n",
       "      <td>10.30</td>\n",
       "      <td>9.46</td>\n",
       "      <td>64.2602</td>\n",
       "    </tr>\n",
       "    <tr>\n",
       "      <th>4</th>\n",
       "      <td>1990-05-31</td>\n",
       "      <td>361.23</td>\n",
       "      <td>2.74</td>\n",
       "      <td>129.1</td>\n",
       "      <td>NaN</td>\n",
       "      <td>NaN</td>\n",
       "      <td>10.41</td>\n",
       "      <td>9.47</td>\n",
       "      <td>64.3973</td>\n",
       "    </tr>\n",
       "  </tbody>\n",
       "</table>\n",
       "</div>"
      ],
      "text/plain": [
       "       Dates  SPX Index  SPXDIV Index  CPI INDX Index  CT10 Govt  CB3 Govt  \\\n",
       "0        NaT     329.08           NaN             NaN        NaN       NaN   \n",
       "1 1990-02-28     331.89           NaN           128.0        NaN       NaN   \n",
       "2 1990-03-30     339.94          0.31           128.6        NaN       NaN   \n",
       "3 1990-04-30     330.80          0.98           128.9        NaN       NaN   \n",
       "4 1990-05-31     361.23          2.74           129.1        NaN       NaN   \n",
       "\n",
       "   MOODCBAA Index  MOODCAAA Index  IP Index  \n",
       "0             NaN             NaN       NaN  \n",
       "1           10.14            9.22   64.0446  \n",
       "2           10.21            9.37   64.3580  \n",
       "3           10.30            9.46   64.2602  \n",
       "4           10.41            9.47   64.3973  "
      ]
     },
     "execution_count": 7,
     "metadata": {},
     "output_type": "execute_result"
    }
   ],
   "source": [
    "other_df.head()"
   ]
  },
  {
   "cell_type": "code",
   "execution_count": 8,
   "metadata": {},
   "outputs": [],
   "source": [
    "df = pd.DataFrame([])\n",
    "df['Dates'] = other_df['Dates']\n",
    "df['log_DP'] = (other_df['SPXDIV Index'].rolling(12).sum().apply('log').shift()\n",
    "                - other_df['SPX Index'].apply('log'))"
   ]
  },
  {
   "cell_type": "code",
   "execution_count": 9,
   "metadata": {},
   "outputs": [
    {
     "data": {
      "text/html": [
       "<div>\n",
       "<style scoped>\n",
       "    .dataframe tbody tr th:only-of-type {\n",
       "        vertical-align: middle;\n",
       "    }\n",
       "\n",
       "    .dataframe tbody tr th {\n",
       "        vertical-align: top;\n",
       "    }\n",
       "\n",
       "    .dataframe thead th {\n",
       "        text-align: right;\n",
       "    }\n",
       "</style>\n",
       "<table border=\"1\" class=\"dataframe\">\n",
       "  <thead>\n",
       "    <tr style=\"text-align: right;\">\n",
       "      <th></th>\n",
       "      <th>Dates</th>\n",
       "      <th>log_DP</th>\n",
       "    </tr>\n",
       "  </thead>\n",
       "  <tbody>\n",
       "    <tr>\n",
       "      <th>13</th>\n",
       "      <td>1991-02-28</td>\n",
       "      <td>NaN</td>\n",
       "    </tr>\n",
       "    <tr>\n",
       "      <th>14</th>\n",
       "      <td>1991-03-29</td>\n",
       "      <td>-3.184739</td>\n",
       "    </tr>\n",
       "    <tr>\n",
       "      <th>15</th>\n",
       "      <td>1991-04-30</td>\n",
       "      <td>-3.187664</td>\n",
       "    </tr>\n",
       "    <tr>\n",
       "      <th>16</th>\n",
       "      <td>1991-05-31</td>\n",
       "      <td>-3.221650</td>\n",
       "    </tr>\n",
       "    <tr>\n",
       "      <th>17</th>\n",
       "      <td>1991-06-28</td>\n",
       "      <td>-3.175793</td>\n",
       "    </tr>\n",
       "  </tbody>\n",
       "</table>\n",
       "</div>"
      ],
      "text/plain": [
       "        Dates    log_DP\n",
       "13 1991-02-28       NaN\n",
       "14 1991-03-29 -3.184739\n",
       "15 1991-04-30 -3.187664\n",
       "16 1991-05-31 -3.221650\n",
       "17 1991-06-28 -3.175793"
      ]
     },
     "execution_count": 9,
     "metadata": {},
     "output_type": "execute_result"
    }
   ],
   "source": [
    "df[['Dates','log_DP']][13:].head()"
   ]
  },
  {
   "cell_type": "markdown",
   "metadata": {},
   "source": [
    "Compare 14th row with following for sanity check:"
   ]
  },
  {
   "cell_type": "code",
   "execution_count": 10,
   "metadata": {},
   "outputs": [
    {
     "data": {
      "text/plain": [
       "-3.1847388834548687"
      ]
     },
     "execution_count": 10,
     "metadata": {},
     "output_type": "execute_result"
    }
   ],
   "source": [
    "np.log(sum(other_df['SPXDIV Index'][2:14])) - np.log(other_df['SPX Index'][14])"
   ]
  },
  {
   "cell_type": "markdown",
   "metadata": {},
   "source": [
    "### 2.2 Inflation"
   ]
  },
  {
   "cell_type": "markdown",
   "metadata": {},
   "source": [
    "Inflation is calculated by CPI Index. The research paper writes following: \n",
    "<br>\n",
    "_We account for the delay in the release of monthly CPI data when computing the forecast_\n",
    "<br>\n",
    "My susequent search suggested that  CPI Index is released with lag of 1 month.\n",
    "<br>\n",
    "Thus, I adjust for the issue by shifting CPI Index level by 1.\n",
    "$$ inflation_{t} = \\frac{CPI_{t}}{CPI_{t-1}}$$\n",
    "However, at time t, the most recent available inflation rate is that of time t-1.\n"
   ]
  },
  {
   "cell_type": "code",
   "execution_count": 11,
   "metadata": {},
   "outputs": [],
   "source": [
    "df['inflation'] = other_df['CPI INDX Index'].pct_change().shift()"
   ]
  },
  {
   "cell_type": "code",
   "execution_count": 12,
   "metadata": {},
   "outputs": [
    {
     "data": {
      "text/html": [
       "<div>\n",
       "<style scoped>\n",
       "    .dataframe tbody tr th:only-of-type {\n",
       "        vertical-align: middle;\n",
       "    }\n",
       "\n",
       "    .dataframe tbody tr th {\n",
       "        vertical-align: top;\n",
       "    }\n",
       "\n",
       "    .dataframe thead th {\n",
       "        text-align: right;\n",
       "    }\n",
       "</style>\n",
       "<table border=\"1\" class=\"dataframe\">\n",
       "  <thead>\n",
       "    <tr style=\"text-align: right;\">\n",
       "      <th></th>\n",
       "      <th>Dates</th>\n",
       "      <th>inflation</th>\n",
       "    </tr>\n",
       "  </thead>\n",
       "  <tbody>\n",
       "    <tr>\n",
       "      <th>0</th>\n",
       "      <td>NaT</td>\n",
       "      <td>NaN</td>\n",
       "    </tr>\n",
       "    <tr>\n",
       "      <th>1</th>\n",
       "      <td>1990-02-28</td>\n",
       "      <td>NaN</td>\n",
       "    </tr>\n",
       "    <tr>\n",
       "      <th>2</th>\n",
       "      <td>1990-03-30</td>\n",
       "      <td>NaN</td>\n",
       "    </tr>\n",
       "    <tr>\n",
       "      <th>3</th>\n",
       "      <td>1990-04-30</td>\n",
       "      <td>0.004687</td>\n",
       "    </tr>\n",
       "    <tr>\n",
       "      <th>4</th>\n",
       "      <td>1990-05-31</td>\n",
       "      <td>0.002333</td>\n",
       "    </tr>\n",
       "  </tbody>\n",
       "</table>\n",
       "</div>"
      ],
      "text/plain": [
       "       Dates  inflation\n",
       "0        NaT        NaN\n",
       "1 1990-02-28        NaN\n",
       "2 1990-03-30        NaN\n",
       "3 1990-04-30   0.004687\n",
       "4 1990-05-31   0.002333"
      ]
     },
     "execution_count": 12,
     "metadata": {},
     "output_type": "execute_result"
    }
   ],
   "source": [
    "df[['Dates','inflation']].head()"
   ]
  },
  {
   "cell_type": "markdown",
   "metadata": {},
   "source": [
    "Following is a sanity check. inflation rate for 2nd row is consistent with third row of inflation columns. The rationale for this is explained at the Markdown Cell above"
   ]
  },
  {
   "cell_type": "code",
   "execution_count": 13,
   "metadata": {},
   "outputs": [
    {
     "data": {
      "text/plain": [
       "0.004687499999999956"
      ]
     },
     "execution_count": 13,
     "metadata": {},
     "output_type": "execute_result"
    }
   ],
   "source": [
    "(other_df['CPI INDX Index'][2]/other_df['CPI INDX Index'][1] -1)"
   ]
  },
  {
   "cell_type": "markdown",
   "metadata": {},
   "source": [
    "### 2.3 Term Spread"
   ]
  },
  {
   "cell_type": "markdown",
   "metadata": {},
   "source": [
    "Term spread refers to the difference between 10-year Treasury bond yield and the three-month Treasury bill yield.\n"
   ]
  },
  {
   "cell_type": "code",
   "execution_count": 14,
   "metadata": {},
   "outputs": [],
   "source": [
    "df['Term_Spread'] = df_bonds['Close'] - df_bill['Close']"
   ]
  },
  {
   "cell_type": "code",
   "execution_count": 15,
   "metadata": {},
   "outputs": [
    {
     "data": {
      "text/html": [
       "<div>\n",
       "<style scoped>\n",
       "    .dataframe tbody tr th:only-of-type {\n",
       "        vertical-align: middle;\n",
       "    }\n",
       "\n",
       "    .dataframe tbody tr th {\n",
       "        vertical-align: top;\n",
       "    }\n",
       "\n",
       "    .dataframe thead th {\n",
       "        text-align: right;\n",
       "    }\n",
       "</style>\n",
       "<table border=\"1\" class=\"dataframe\">\n",
       "  <thead>\n",
       "    <tr style=\"text-align: right;\">\n",
       "      <th></th>\n",
       "      <th>Dates</th>\n",
       "      <th>Term_Spread</th>\n",
       "    </tr>\n",
       "  </thead>\n",
       "  <tbody>\n",
       "    <tr>\n",
       "      <th>0</th>\n",
       "      <td>NaT</td>\n",
       "      <td>0.690001</td>\n",
       "    </tr>\n",
       "    <tr>\n",
       "      <th>1</th>\n",
       "      <td>1990-02-28</td>\n",
       "      <td>0.740000</td>\n",
       "    </tr>\n",
       "    <tr>\n",
       "      <th>2</th>\n",
       "      <td>1990-03-30</td>\n",
       "      <td>0.849999</td>\n",
       "    </tr>\n",
       "    <tr>\n",
       "      <th>3</th>\n",
       "      <td>1990-04-30</td>\n",
       "      <td>1.250000</td>\n",
       "    </tr>\n",
       "    <tr>\n",
       "      <th>4</th>\n",
       "      <td>1990-05-31</td>\n",
       "      <td>0.850000</td>\n",
       "    </tr>\n",
       "  </tbody>\n",
       "</table>\n",
       "</div>"
      ],
      "text/plain": [
       "       Dates  Term_Spread\n",
       "0        NaT     0.690001\n",
       "1 1990-02-28     0.740000\n",
       "2 1990-03-30     0.849999\n",
       "3 1990-04-30     1.250000\n",
       "4 1990-05-31     0.850000"
      ]
     },
     "execution_count": 15,
     "metadata": {},
     "output_type": "execute_result"
    }
   ],
   "source": [
    "df[['Dates','Term_Spread']].head()"
   ]
  },
  {
   "cell_type": "markdown",
   "metadata": {},
   "source": [
    "### 2.4 Default Spread"
   ]
  },
  {
   "cell_type": "markdown",
   "metadata": {},
   "source": [
    "The difference between Moody's BAA and AAA rated corporate Bond yields"
   ]
  },
  {
   "cell_type": "code",
   "execution_count": 16,
   "metadata": {},
   "outputs": [],
   "source": [
    "df['Default_Spread']=other_df['MOODCBAA Index'] - other_df['MOODCAAA Index']"
   ]
  },
  {
   "cell_type": "code",
   "execution_count": 17,
   "metadata": {},
   "outputs": [
    {
     "data": {
      "text/html": [
       "<div>\n",
       "<style scoped>\n",
       "    .dataframe tbody tr th:only-of-type {\n",
       "        vertical-align: middle;\n",
       "    }\n",
       "\n",
       "    .dataframe tbody tr th {\n",
       "        vertical-align: top;\n",
       "    }\n",
       "\n",
       "    .dataframe thead th {\n",
       "        text-align: right;\n",
       "    }\n",
       "</style>\n",
       "<table border=\"1\" class=\"dataframe\">\n",
       "  <thead>\n",
       "    <tr style=\"text-align: right;\">\n",
       "      <th></th>\n",
       "      <th>Dates</th>\n",
       "      <th>Default_Spread</th>\n",
       "    </tr>\n",
       "  </thead>\n",
       "  <tbody>\n",
       "    <tr>\n",
       "      <th>0</th>\n",
       "      <td>NaT</td>\n",
       "      <td>NaN</td>\n",
       "    </tr>\n",
       "    <tr>\n",
       "      <th>1</th>\n",
       "      <td>1990-02-28</td>\n",
       "      <td>0.92</td>\n",
       "    </tr>\n",
       "    <tr>\n",
       "      <th>2</th>\n",
       "      <td>1990-03-30</td>\n",
       "      <td>0.84</td>\n",
       "    </tr>\n",
       "    <tr>\n",
       "      <th>3</th>\n",
       "      <td>1990-04-30</td>\n",
       "      <td>0.84</td>\n",
       "    </tr>\n",
       "    <tr>\n",
       "      <th>4</th>\n",
       "      <td>1990-05-31</td>\n",
       "      <td>0.94</td>\n",
       "    </tr>\n",
       "  </tbody>\n",
       "</table>\n",
       "</div>"
      ],
      "text/plain": [
       "       Dates  Default_Spread\n",
       "0        NaT             NaN\n",
       "1 1990-02-28            0.92\n",
       "2 1990-03-30            0.84\n",
       "3 1990-04-30            0.84\n",
       "4 1990-05-31            0.94"
      ]
     },
     "execution_count": 17,
     "metadata": {},
     "output_type": "execute_result"
    }
   ],
   "source": [
    "df[['Dates','Default_Spread']].head()"
   ]
  },
  {
   "cell_type": "markdown",
   "metadata": {},
   "source": [
    "As with `term spread`, a few observation would be sufficient for a sanity check as it only requires a subtraction"
   ]
  },
  {
   "cell_type": "code",
   "execution_count": 18,
   "metadata": {},
   "outputs": [
    {
     "data": {
      "text/html": [
       "<div>\n",
       "<style scoped>\n",
       "    .dataframe tbody tr th:only-of-type {\n",
       "        vertical-align: middle;\n",
       "    }\n",
       "\n",
       "    .dataframe tbody tr th {\n",
       "        vertical-align: top;\n",
       "    }\n",
       "\n",
       "    .dataframe thead th {\n",
       "        text-align: right;\n",
       "    }\n",
       "</style>\n",
       "<table border=\"1\" class=\"dataframe\">\n",
       "  <thead>\n",
       "    <tr style=\"text-align: right;\">\n",
       "      <th></th>\n",
       "      <th>Dates</th>\n",
       "      <th>MOODCBAA Index</th>\n",
       "      <th>MOODCAAA Index</th>\n",
       "    </tr>\n",
       "  </thead>\n",
       "  <tbody>\n",
       "    <tr>\n",
       "      <th>0</th>\n",
       "      <td>NaT</td>\n",
       "      <td>NaN</td>\n",
       "      <td>NaN</td>\n",
       "    </tr>\n",
       "    <tr>\n",
       "      <th>1</th>\n",
       "      <td>1990-02-28</td>\n",
       "      <td>10.14</td>\n",
       "      <td>9.22</td>\n",
       "    </tr>\n",
       "    <tr>\n",
       "      <th>2</th>\n",
       "      <td>1990-03-30</td>\n",
       "      <td>10.21</td>\n",
       "      <td>9.37</td>\n",
       "    </tr>\n",
       "    <tr>\n",
       "      <th>3</th>\n",
       "      <td>1990-04-30</td>\n",
       "      <td>10.30</td>\n",
       "      <td>9.46</td>\n",
       "    </tr>\n",
       "    <tr>\n",
       "      <th>4</th>\n",
       "      <td>1990-05-31</td>\n",
       "      <td>10.41</td>\n",
       "      <td>9.47</td>\n",
       "    </tr>\n",
       "  </tbody>\n",
       "</table>\n",
       "</div>"
      ],
      "text/plain": [
       "       Dates  MOODCBAA Index  MOODCAAA Index\n",
       "0        NaT             NaN             NaN\n",
       "1 1990-02-28           10.14            9.22\n",
       "2 1990-03-30           10.21            9.37\n",
       "3 1990-04-30           10.30            9.46\n",
       "4 1990-05-31           10.41            9.47"
      ]
     },
     "execution_count": 18,
     "metadata": {},
     "output_type": "execute_result"
    }
   ],
   "source": [
    "other_df[['Dates','MOODCBAA Index','MOODCAAA Index']].head()"
   ]
  },
  {
   "cell_type": "markdown",
   "metadata": {},
   "source": [
    "### 2.5  Moving Averages"
   ]
  },
  {
   "cell_type": "markdown",
   "metadata": {},
   "source": [
    "Average of `SPX Index` for the past 12-months.\n",
    "<br>\n",
    "$$ MA_{t} = \\frac{\\sum_{i=0}^{11} SPX_{t-i}}{12}$$"
   ]
  },
  {
   "cell_type": "code",
   "execution_count": 19,
   "metadata": {},
   "outputs": [],
   "source": [
    "Moving_Average_12 = other_df['SPX Index'].rolling(12).mean()"
   ]
  },
  {
   "cell_type": "code",
   "execution_count": 20,
   "metadata": {},
   "outputs": [
    {
     "data": {
      "text/plain": [
       "10           NaN\n",
       "11    332.680000\n",
       "12    333.917500\n",
       "13    336.849167\n",
       "14    339.789167\n",
       "Name: SPX Index, dtype: float64"
      ]
     },
     "execution_count": 20,
     "metadata": {},
     "output_type": "execute_result"
    }
   ],
   "source": [
    "Moving_Average_12[10:].head()"
   ]
  },
  {
   "cell_type": "markdown",
   "metadata": {},
   "source": [
    "As a sanity check: the moving average of first 12 numbers are as following:"
   ]
  },
  {
   "cell_type": "code",
   "execution_count": 21,
   "metadata": {},
   "outputs": [
    {
     "data": {
      "text/plain": [
       "332.68000000000006"
      ]
     },
     "execution_count": 21,
     "metadata": {},
     "output_type": "execute_result"
    }
   ],
   "source": [
    "np.mean(other_df['SPX Index'][:12])"
   ]
  },
  {
   "cell_type": "code",
   "execution_count": 22,
   "metadata": {},
   "outputs": [],
   "source": [
    "Moving_Average_2 = other_df['SPX Index'].rolling(2).mean()"
   ]
  },
  {
   "cell_type": "code",
   "execution_count": 23,
   "metadata": {},
   "outputs": [
    {
     "data": {
      "text/plain": [
       "0        NaN\n",
       "1    330.485\n",
       "2    335.915\n",
       "3    335.370\n",
       "4    346.015\n",
       "Name: SPX Index, dtype: float64"
      ]
     },
     "execution_count": 23,
     "metadata": {},
     "output_type": "execute_result"
    }
   ],
   "source": [
    "Moving_Average_2.head()"
   ]
  },
  {
   "cell_type": "markdown",
   "metadata": {},
   "source": [
    "As a sanity check: the moving average of first 12 numbers are as following:"
   ]
  },
  {
   "cell_type": "code",
   "execution_count": 24,
   "metadata": {},
   "outputs": [
    {
     "data": {
      "text/plain": [
       "330.485"
      ]
     },
     "execution_count": 24,
     "metadata": {},
     "output_type": "execute_result"
    }
   ],
   "source": [
    "np.mean(other_df['SPX Index'][:2])"
   ]
  },
  {
   "cell_type": "code",
   "execution_count": 25,
   "metadata": {},
   "outputs": [],
   "source": [
    "Bond_Moving_Average_12 = df_bonds['Close'].rolling(12).mean()"
   ]
  },
  {
   "cell_type": "code",
   "execution_count": 26,
   "metadata": {},
   "outputs": [
    {
     "data": {
      "text/plain": [
       "10         NaN\n",
       "11    8.557500\n",
       "12    8.524167\n",
       "13    8.483333\n",
       "14    8.433333\n",
       "Name: Close, dtype: float64"
      ]
     },
     "execution_count": 26,
     "metadata": {},
     "output_type": "execute_result"
    }
   ],
   "source": [
    "Bond_Moving_Average_12[10:].head()"
   ]
  },
  {
   "cell_type": "markdown",
   "metadata": {},
   "source": [
    "As a sanity check: the moving average of first 12 numbers are as following:"
   ]
  },
  {
   "cell_type": "code",
   "execution_count": 27,
   "metadata": {},
   "outputs": [
    {
     "data": {
      "text/plain": [
       "8.557499965031942"
      ]
     },
     "execution_count": 27,
     "metadata": {},
     "output_type": "execute_result"
    }
   ],
   "source": [
    "df_bonds['Close'][:12].mean()"
   ]
  },
  {
   "cell_type": "code",
   "execution_count": 28,
   "metadata": {},
   "outputs": [],
   "source": [
    "Bond_Moving_Average_6 = Bond_Moving_Average_12 = df_bonds['Close'].rolling(6).mean()"
   ]
  },
  {
   "cell_type": "code",
   "execution_count": 29,
   "metadata": {},
   "outputs": [
    {
     "data": {
      "text/plain": [
       "5    8.610000\n",
       "6    8.598333\n",
       "7    8.656667\n",
       "8    8.685000\n",
       "9    8.620000\n",
       "Name: Close, dtype: float64"
      ]
     },
     "execution_count": 29,
     "metadata": {},
     "output_type": "execute_result"
    }
   ],
   "source": [
    "Bond_Moving_Average_6[5:].head()"
   ]
  },
  {
   "cell_type": "code",
   "execution_count": 30,
   "metadata": {},
   "outputs": [
    {
     "data": {
      "text/plain": [
       "8.610000133514404"
      ]
     },
     "execution_count": 30,
     "metadata": {},
     "output_type": "execute_result"
    }
   ],
   "source": [
    "np.mean(df_bonds['Close'][:6])"
   ]
  },
  {
   "cell_type": "markdown",
   "metadata": {},
   "source": [
    "### 2.5.1 MA(1,12) "
   ]
  },
  {
   "cell_type": "markdown",
   "metadata": {},
   "source": [
    "It is a dummy variable based on `SPX Index` level and `Moving_Average_12`\n",
    "<br>\n",
    "If `SPX Index` value is greater than its 12 months moving average, then assign 1. Otherwise assign 0."
   ]
  },
  {
   "cell_type": "code",
   "execution_count": 31,
   "metadata": {},
   "outputs": [],
   "source": [
    "MA_nan = (other_df['SPX Index']-Moving_Average_12).apply(lambda x: np.nan if np.isnan(x) else 0)"
   ]
  },
  {
   "cell_type": "code",
   "execution_count": 32,
   "metadata": {},
   "outputs": [],
   "source": [
    "df['MA_1_12']=(other_df['SPX Index']-Moving_Average_12).apply(lambda x: 1 if x>0 else 0) + MA_nan"
   ]
  },
  {
   "cell_type": "code",
   "execution_count": 33,
   "metadata": {},
   "outputs": [
    {
     "data": {
      "text/html": [
       "<div>\n",
       "<style scoped>\n",
       "    .dataframe tbody tr th:only-of-type {\n",
       "        vertical-align: middle;\n",
       "    }\n",
       "\n",
       "    .dataframe tbody tr th {\n",
       "        vertical-align: top;\n",
       "    }\n",
       "\n",
       "    .dataframe thead th {\n",
       "        text-align: right;\n",
       "    }\n",
       "</style>\n",
       "<table border=\"1\" class=\"dataframe\">\n",
       "  <thead>\n",
       "    <tr style=\"text-align: right;\">\n",
       "      <th></th>\n",
       "      <th>Dates</th>\n",
       "      <th>MA_1_12</th>\n",
       "    </tr>\n",
       "  </thead>\n",
       "  <tbody>\n",
       "    <tr>\n",
       "      <th>9</th>\n",
       "      <td>1990-10-31</td>\n",
       "      <td>NaN</td>\n",
       "    </tr>\n",
       "    <tr>\n",
       "      <th>10</th>\n",
       "      <td>1990-11-30</td>\n",
       "      <td>NaN</td>\n",
       "    </tr>\n",
       "    <tr>\n",
       "      <th>11</th>\n",
       "      <td>1990-12-31</td>\n",
       "      <td>0.0</td>\n",
       "    </tr>\n",
       "    <tr>\n",
       "      <th>12</th>\n",
       "      <td>1991-01-31</td>\n",
       "      <td>1.0</td>\n",
       "    </tr>\n",
       "    <tr>\n",
       "      <th>13</th>\n",
       "      <td>1991-02-28</td>\n",
       "      <td>1.0</td>\n",
       "    </tr>\n",
       "  </tbody>\n",
       "</table>\n",
       "</div>"
      ],
      "text/plain": [
       "        Dates  MA_1_12\n",
       "9  1990-10-31      NaN\n",
       "10 1990-11-30      NaN\n",
       "11 1990-12-31      0.0\n",
       "12 1991-01-31      1.0\n",
       "13 1991-02-28      1.0"
      ]
     },
     "execution_count": 33,
     "metadata": {},
     "output_type": "execute_result"
    }
   ],
   "source": [
    "df[['Dates','MA_1_12']][9:].head()"
   ]
  },
  {
   "cell_type": "markdown",
   "metadata": {},
   "source": [
    "As a sanity check, since Moving_Average_12 is already checked, following shows that lambda function performs as expected."
   ]
  },
  {
   "cell_type": "code",
   "execution_count": 34,
   "metadata": {},
   "outputs": [
    {
     "data": {
      "text/plain": [
       "9           NaN\n",
       "10          NaN\n",
       "11    -2.460000\n",
       "12    10.012500\n",
       "13    30.220833\n",
       "Name: SPX Index, dtype: float64"
      ]
     },
     "execution_count": 34,
     "metadata": {},
     "output_type": "execute_result"
    }
   ],
   "source": [
    "(other_df['SPX Index']-Moving_Average_12)[9:].head()"
   ]
  },
  {
   "cell_type": "markdown",
   "metadata": {},
   "source": [
    "### 2.5.2 MA(2,12) "
   ]
  },
  {
   "cell_type": "markdown",
   "metadata": {},
   "source": [
    "It is a dummy variable based on `Moving_Average_2`  and `Moving_Average_12`\n",
    "<br>\n",
    "If `Moving_Average_2` value is greater than `Moving_Average_12` value, then assign 1. Otherwise assign 0."
   ]
  },
  {
   "cell_type": "code",
   "execution_count": 35,
   "metadata": {},
   "outputs": [],
   "source": [
    "df['MA_2_12']=(Moving_Average_2-Moving_Average_12).apply(lambda x: 1 if x>0 else 0) + MA_nan"
   ]
  },
  {
   "cell_type": "code",
   "execution_count": 36,
   "metadata": {},
   "outputs": [
    {
     "data": {
      "text/html": [
       "<div>\n",
       "<style scoped>\n",
       "    .dataframe tbody tr th:only-of-type {\n",
       "        vertical-align: middle;\n",
       "    }\n",
       "\n",
       "    .dataframe tbody tr th {\n",
       "        vertical-align: top;\n",
       "    }\n",
       "\n",
       "    .dataframe thead th {\n",
       "        text-align: right;\n",
       "    }\n",
       "</style>\n",
       "<table border=\"1\" class=\"dataframe\">\n",
       "  <thead>\n",
       "    <tr style=\"text-align: right;\">\n",
       "      <th></th>\n",
       "      <th>Dates</th>\n",
       "      <th>MA_2_12</th>\n",
       "    </tr>\n",
       "  </thead>\n",
       "  <tbody>\n",
       "    <tr>\n",
       "      <th>9</th>\n",
       "      <td>1990-10-31</td>\n",
       "      <td>NaN</td>\n",
       "    </tr>\n",
       "    <tr>\n",
       "      <th>10</th>\n",
       "      <td>1990-11-30</td>\n",
       "      <td>NaN</td>\n",
       "    </tr>\n",
       "    <tr>\n",
       "      <th>11</th>\n",
       "      <td>1990-12-31</td>\n",
       "      <td>0.0</td>\n",
       "    </tr>\n",
       "    <tr>\n",
       "      <th>12</th>\n",
       "      <td>1991-01-31</td>\n",
       "      <td>1.0</td>\n",
       "    </tr>\n",
       "    <tr>\n",
       "      <th>13</th>\n",
       "      <td>1991-02-28</td>\n",
       "      <td>1.0</td>\n",
       "    </tr>\n",
       "  </tbody>\n",
       "</table>\n",
       "</div>"
      ],
      "text/plain": [
       "        Dates  MA_2_12\n",
       "9  1990-10-31      NaN\n",
       "10 1990-11-30      NaN\n",
       "11 1990-12-31      0.0\n",
       "12 1991-01-31      1.0\n",
       "13 1991-02-28      1.0"
      ]
     },
     "execution_count": 36,
     "metadata": {},
     "output_type": "execute_result"
    }
   ],
   "source": [
    "df[['Dates','MA_2_12']][9:].head()"
   ]
  },
  {
   "cell_type": "markdown",
   "metadata": {},
   "source": [
    "### 2.5.3 MOMBY(6) "
   ]
  },
  {
   "cell_type": "markdown",
   "metadata": {},
   "source": [
    "It is a dummy variable based on `Bond_Moving_Average_6`  and the current bond yield.\n",
    "<br>\n",
    "If the bond yield is greater than `Bond_Moving_Average_6` by more than 5 basis points, assign -1. \n",
    "<br>\n",
    "Else if the bond yield is less than `Bond_Moving_Average_6` by more than 5 basis points, assign 1.\n",
    "<br>\n",
    "Otherwie, assign 0."
   ]
  },
  {
   "cell_type": "code",
   "execution_count": 37,
   "metadata": {},
   "outputs": [],
   "source": [
    "MOMBY_6_nan = (df_bonds['Close']-Bond_Moving_Average_6\n",
    "              ).apply(lambda x: np.nan if np.isnan(x) else 0)"
   ]
  },
  {
   "cell_type": "code",
   "execution_count": 38,
   "metadata": {},
   "outputs": [],
   "source": [
    "df['MOMBY_6']=(df_bonds['Close']-Bond_Moving_Average_6\n",
    "              ).apply(lambda x: -1 if x>0.05 else (1 if x<0.05 else 0)) + MOMBY_6_nan"
   ]
  },
  {
   "cell_type": "code",
   "execution_count": 39,
   "metadata": {},
   "outputs": [
    {
     "data": {
      "text/html": [
       "<div>\n",
       "<style scoped>\n",
       "    .dataframe tbody tr th:only-of-type {\n",
       "        vertical-align: middle;\n",
       "    }\n",
       "\n",
       "    .dataframe tbody tr th {\n",
       "        vertical-align: top;\n",
       "    }\n",
       "\n",
       "    .dataframe thead th {\n",
       "        text-align: right;\n",
       "    }\n",
       "</style>\n",
       "<table border=\"1\" class=\"dataframe\">\n",
       "  <thead>\n",
       "    <tr style=\"text-align: right;\">\n",
       "      <th></th>\n",
       "      <th>Dates</th>\n",
       "      <th>MOMBY_6</th>\n",
       "    </tr>\n",
       "  </thead>\n",
       "  <tbody>\n",
       "    <tr>\n",
       "      <th>5</th>\n",
       "      <td>1990-06-29</td>\n",
       "      <td>1.0</td>\n",
       "    </tr>\n",
       "    <tr>\n",
       "      <th>6</th>\n",
       "      <td>1990-07-31</td>\n",
       "      <td>1.0</td>\n",
       "    </tr>\n",
       "    <tr>\n",
       "      <th>7</th>\n",
       "      <td>1990-08-31</td>\n",
       "      <td>-1.0</td>\n",
       "    </tr>\n",
       "    <tr>\n",
       "      <th>8</th>\n",
       "      <td>1990-09-28</td>\n",
       "      <td>-1.0</td>\n",
       "    </tr>\n",
       "    <tr>\n",
       "      <th>9</th>\n",
       "      <td>1990-10-31</td>\n",
       "      <td>1.0</td>\n",
       "    </tr>\n",
       "  </tbody>\n",
       "</table>\n",
       "</div>"
      ],
      "text/plain": [
       "       Dates  MOMBY_6\n",
       "5 1990-06-29      1.0\n",
       "6 1990-07-31      1.0\n",
       "7 1990-08-31     -1.0\n",
       "8 1990-09-28     -1.0\n",
       "9 1990-10-31      1.0"
      ]
     },
     "execution_count": 39,
     "metadata": {},
     "output_type": "execute_result"
    }
   ],
   "source": [
    "df[['Dates','MOMBY_6']][5:].head()"
   ]
  },
  {
   "cell_type": "markdown",
   "metadata": {},
   "source": [
    "### 2.5.3 MOMBY(12) "
   ]
  },
  {
   "cell_type": "code",
   "execution_count": 40,
   "metadata": {},
   "outputs": [],
   "source": [
    "MOMBY_12_nan = (df_bonds['Close']-Bond_Moving_Average_12\n",
    "              ).apply(lambda x: np.nan if np.isnan(x) else 0)"
   ]
  },
  {
   "cell_type": "code",
   "execution_count": 41,
   "metadata": {},
   "outputs": [],
   "source": [
    "df['MOMBY_12']=(df_bonds['Close']-Bond_Moving_Average_12\n",
    "              ).apply(lambda x: -1 if x>0.05 else (1 if x<0.05 else 0)) + MOMBY_12_nan"
   ]
  },
  {
   "cell_type": "code",
   "execution_count": 42,
   "metadata": {},
   "outputs": [
    {
     "data": {
      "text/html": [
       "<div>\n",
       "<style scoped>\n",
       "    .dataframe tbody tr th:only-of-type {\n",
       "        vertical-align: middle;\n",
       "    }\n",
       "\n",
       "    .dataframe tbody tr th {\n",
       "        vertical-align: top;\n",
       "    }\n",
       "\n",
       "    .dataframe thead th {\n",
       "        text-align: right;\n",
       "    }\n",
       "</style>\n",
       "<table border=\"1\" class=\"dataframe\">\n",
       "  <thead>\n",
       "    <tr style=\"text-align: right;\">\n",
       "      <th></th>\n",
       "      <th>Dates</th>\n",
       "      <th>MOMBY_12</th>\n",
       "    </tr>\n",
       "  </thead>\n",
       "  <tbody>\n",
       "    <tr>\n",
       "      <th>11</th>\n",
       "      <td>1990-12-31</td>\n",
       "      <td>1.0</td>\n",
       "    </tr>\n",
       "    <tr>\n",
       "      <th>12</th>\n",
       "      <td>1991-01-31</td>\n",
       "      <td>1.0</td>\n",
       "    </tr>\n",
       "    <tr>\n",
       "      <th>13</th>\n",
       "      <td>1991-02-28</td>\n",
       "      <td>1.0</td>\n",
       "    </tr>\n",
       "    <tr>\n",
       "      <th>14</th>\n",
       "      <td>1991-03-29</td>\n",
       "      <td>1.0</td>\n",
       "    </tr>\n",
       "    <tr>\n",
       "      <th>15</th>\n",
       "      <td>1991-04-30</td>\n",
       "      <td>1.0</td>\n",
       "    </tr>\n",
       "  </tbody>\n",
       "</table>\n",
       "</div>"
      ],
      "text/plain": [
       "        Dates  MOMBY_12\n",
       "11 1990-12-31       1.0\n",
       "12 1991-01-31       1.0\n",
       "13 1991-02-28       1.0\n",
       "14 1991-03-29       1.0\n",
       "15 1991-04-30       1.0"
      ]
     },
     "execution_count": 42,
     "metadata": {},
     "output_type": "execute_result"
    }
   ],
   "source": [
    "df[['Dates','MOMBY_12']][11:].head()"
   ]
  },
  {
   "cell_type": "markdown",
   "metadata": {},
   "source": [
    "### 2.6 MOM"
   ]
  },
  {
   "cell_type": "markdown",
   "metadata": {},
   "source": [
    "It is a dummy variable that depends on `SPX Index` and its lagged values."
   ]
  },
  {
   "cell_type": "markdown",
   "metadata": {},
   "source": [
    "### 2.6.1 MOM(9)\n",
    "If the difference between `SPX Index` and its 9 months lagged value is positive then assign 1. Otherwise assign 0."
   ]
  },
  {
   "cell_type": "code",
   "execution_count": 43,
   "metadata": {},
   "outputs": [],
   "source": [
    "MOM_9_nan = (other_df['SPX Index']-other_df['SPX Index'].shift(9)\n",
    "            ).apply(lambda x: np.nan if np.isnan(x) else 0)\n",
    "df['MOM_9']=(other_df['SPX Index']-other_df['SPX Index'].shift(9)\n",
    "            ).apply(lambda x: 1 if x>0 else 0) + MOM_9_nan"
   ]
  },
  {
   "cell_type": "code",
   "execution_count": 44,
   "metadata": {},
   "outputs": [
    {
     "data": {
      "text/html": [
       "<div>\n",
       "<style scoped>\n",
       "    .dataframe tbody tr th:only-of-type {\n",
       "        vertical-align: middle;\n",
       "    }\n",
       "\n",
       "    .dataframe tbody tr th {\n",
       "        vertical-align: top;\n",
       "    }\n",
       "\n",
       "    .dataframe thead th {\n",
       "        text-align: right;\n",
       "    }\n",
       "</style>\n",
       "<table border=\"1\" class=\"dataframe\">\n",
       "  <thead>\n",
       "    <tr style=\"text-align: right;\">\n",
       "      <th></th>\n",
       "      <th>Dates</th>\n",
       "      <th>MOM_9</th>\n",
       "    </tr>\n",
       "  </thead>\n",
       "  <tbody>\n",
       "    <tr>\n",
       "      <th>8</th>\n",
       "      <td>1990-09-28</td>\n",
       "      <td>NaN</td>\n",
       "    </tr>\n",
       "    <tr>\n",
       "      <th>9</th>\n",
       "      <td>1990-10-31</td>\n",
       "      <td>0.0</td>\n",
       "    </tr>\n",
       "    <tr>\n",
       "      <th>10</th>\n",
       "      <td>1990-11-30</td>\n",
       "      <td>0.0</td>\n",
       "    </tr>\n",
       "    <tr>\n",
       "      <th>11</th>\n",
       "      <td>1990-12-31</td>\n",
       "      <td>0.0</td>\n",
       "    </tr>\n",
       "    <tr>\n",
       "      <th>12</th>\n",
       "      <td>1991-01-31</td>\n",
       "      <td>1.0</td>\n",
       "    </tr>\n",
       "  </tbody>\n",
       "</table>\n",
       "</div>"
      ],
      "text/plain": [
       "        Dates  MOM_9\n",
       "8  1990-09-28    NaN\n",
       "9  1990-10-31    0.0\n",
       "10 1990-11-30    0.0\n",
       "11 1990-12-31    0.0\n",
       "12 1991-01-31    1.0"
      ]
     },
     "execution_count": 44,
     "metadata": {},
     "output_type": "execute_result"
    }
   ],
   "source": [
    "df[['Dates','MOM_9']][8:].head()"
   ]
  },
  {
   "cell_type": "markdown",
   "metadata": {},
   "source": [
    "Following checks the result"
   ]
  },
  {
   "cell_type": "code",
   "execution_count": 45,
   "metadata": {},
   "outputs": [
    {
     "data": {
      "text/plain": [
       "8       NaN\n",
       "9    -25.08\n",
       "10    -9.67\n",
       "11    -9.72\n",
       "12    13.13\n",
       "Name: SPX Index, dtype: float64"
      ]
     },
     "execution_count": 45,
     "metadata": {},
     "output_type": "execute_result"
    }
   ],
   "source": [
    "(other_df['SPX Index']-other_df['SPX Index'].shift(9))[8:].head()"
   ]
  },
  {
   "cell_type": "markdown",
   "metadata": {},
   "source": [
    "### 2.6.2 MOM(12)\n",
    "If the difference between `SPX Index` and its 12 months lagged value is positive then assign 1. Otherwise assign 0."
   ]
  },
  {
   "cell_type": "code",
   "execution_count": 46,
   "metadata": {},
   "outputs": [],
   "source": [
    "MOM_12_nan = (other_df['SPX Index']-other_df['SPX Index'].shift(12)\n",
    "            ).apply(lambda x: np.nan if np.isnan(x) else 0)\n",
    "df['MOM_12']=(other_df['SPX Index']-other_df['SPX Index'].shift(12)\n",
    "            ).apply(lambda x: 1 if x>0 else 0) + MOM_12_nan"
   ]
  },
  {
   "cell_type": "code",
   "execution_count": 47,
   "metadata": {},
   "outputs": [
    {
     "data": {
      "text/html": [
       "<div>\n",
       "<style scoped>\n",
       "    .dataframe tbody tr th:only-of-type {\n",
       "        vertical-align: middle;\n",
       "    }\n",
       "\n",
       "    .dataframe tbody tr th {\n",
       "        vertical-align: top;\n",
       "    }\n",
       "\n",
       "    .dataframe thead th {\n",
       "        text-align: right;\n",
       "    }\n",
       "</style>\n",
       "<table border=\"1\" class=\"dataframe\">\n",
       "  <thead>\n",
       "    <tr style=\"text-align: right;\">\n",
       "      <th></th>\n",
       "      <th>Dates</th>\n",
       "      <th>MOM_12</th>\n",
       "    </tr>\n",
       "  </thead>\n",
       "  <tbody>\n",
       "    <tr>\n",
       "      <th>11</th>\n",
       "      <td>1990-12-31</td>\n",
       "      <td>NaN</td>\n",
       "    </tr>\n",
       "    <tr>\n",
       "      <th>12</th>\n",
       "      <td>1991-01-31</td>\n",
       "      <td>1.0</td>\n",
       "    </tr>\n",
       "    <tr>\n",
       "      <th>13</th>\n",
       "      <td>1991-02-28</td>\n",
       "      <td>1.0</td>\n",
       "    </tr>\n",
       "    <tr>\n",
       "      <th>14</th>\n",
       "      <td>1991-03-29</td>\n",
       "      <td>1.0</td>\n",
       "    </tr>\n",
       "    <tr>\n",
       "      <th>15</th>\n",
       "      <td>1991-04-30</td>\n",
       "      <td>1.0</td>\n",
       "    </tr>\n",
       "  </tbody>\n",
       "</table>\n",
       "</div>"
      ],
      "text/plain": [
       "        Dates  MOM_12\n",
       "11 1990-12-31     NaN\n",
       "12 1991-01-31     1.0\n",
       "13 1991-02-28     1.0\n",
       "14 1991-03-29     1.0\n",
       "15 1991-04-30     1.0"
      ]
     },
     "execution_count": 47,
     "metadata": {},
     "output_type": "execute_result"
    }
   ],
   "source": [
    "df[['Dates','MOM_12']][11:].head()"
   ]
  },
  {
   "cell_type": "markdown",
   "metadata": {},
   "source": [
    "### 2.7 Output Gap"
   ]
  },
  {
   "cell_type": "markdown",
   "metadata": {},
   "source": [
    "The deviation of the log of industrial production from a quadratic trend.\n",
    "<br>\n",
    "I believe this data is available from Bloomberg Terminal. \n",
    "However, it is simple to compute. Therefore, I decided to simply compute it.\n",
    "<br>\n",
    "A quadratic trend is of the following form:\n",
    "<br>\n",
    "$$ y_{t} = \\beta_{0} + \\beta_{0}x_{t} + \\beta_{0}x_{t}^2 +\\epsilon_{t} $$\n",
    "<br>\n",
    "$\\widehat{\\beta}$ is estimated by $$\\widehat{\\beta} = (X^{T}X)^{-1}X^{T}y  $$\n",
    "\n",
    "following provides an illustration of this estimation procedure.\n",
    "\n"
   ]
  },
  {
   "cell_type": "code",
   "execution_count": 48,
   "metadata": {},
   "outputs": [],
   "source": [
    "def beta_est(obs):\n",
    "    \"\"\"\n",
    "    estimates beta of ols to minimize l2 norm\n",
    "    \"\"\"\n",
    "    y = np.log(other_df['IP Index'].dropna())[:obs]\n",
    "    X = np.concatenate((np.ones(obs).reshape(-1,1),np.arange(obs).reshape(-1,1)),axis=1)\n",
    "    X = np.concatenate((X,(np.arange(obs)**2).reshape(-1,1)),axis=1)\n",
    "    beta_hat = np.dot(np.matmul(np.linalg.inv(1e-6 *np.eye(3) + np.matmul(X.transpose(),X)),\n",
    "                                X.transpose()),y.values.reshape(-1,1))\n",
    "    return beta_hat"
   ]
  },
  {
   "cell_type": "code",
   "execution_count": 49,
   "metadata": {},
   "outputs": [
    {
     "data": {
      "text/plain": [
       "<matplotlib.legend.Legend at 0x1184cd898>"
      ]
     },
     "execution_count": 49,
     "metadata": {},
     "output_type": "execute_result"
    },
    {
     "data": {
      "image/png": "[encoded data removed]",
      "text/plain": [
       "<Figure size 432x288 with 1 Axes>"
      ]
     },
     "metadata": {
      "needs_background": "light"
     },
     "output_type": "display_data"
    }
   ],
   "source": [
    "n = len(np.log(other_df['IP Index'].dropna()))\n",
    "X = np.concatenate((np.ones(n).reshape(-1,1),np.arange(n).reshape(-1,1)),axis=1)\n",
    "X = np.concatenate((X,(np.arange(n)**2).reshape(-1,1)),axis=1)\n",
    "beta_hat = beta_est(n)\n",
    "y_pred = np.matmul(X,beta_hat)\n",
    "y = np.log(other_df['IP Index'].dropna())\n",
    "plot_df = np.concatenate((np.arange(n).reshape(-1,1),y.values.reshape(-1,1),y_pred),axis=1)\n",
    "plot_df = pd.DataFrame(plot_df)\n",
    "plot_df.columns = ['obs','log(IP)','predicted log(IP)']\n",
    "plt.plot('obs','log(IP)',data=plot_df)\n",
    "plt.plot('obs','predicted log(IP)',data=plot_df)\n",
    "plt.legend()"
   ]
  },
  {
   "cell_type": "markdown",
   "metadata": {},
   "source": [
    "However, the research estimates $\\widehat{\\beta}$ from data available up to each point in time. Thus, I will repeat the calculation above to every time step."
   ]
  },
  {
   "cell_type": "code",
   "execution_count": 50,
   "metadata": {},
   "outputs": [],
   "source": [
    "def output_gap_computer(obs):\n",
    "    \"\"\"\n",
    "    computes the deviation of the log of industrial production from a quadratic trend.\n",
    "    \"\"\"\n",
    "    return y[obs]-np.dot(X[:obs],beta_est(obs))[-1]"
   ]
  },
  {
   "cell_type": "code",
   "execution_count": 51,
   "metadata": {},
   "outputs": [],
   "source": [
    "# Next Cell parallelize for loop. It is equivalent to\n",
    "\n",
    "# output_gap2 = []\n",
    "# for i in range(1,n+1):\n",
    "#     output_gap2 += [output_gap_computer(i)]"
   ]
  },
  {
   "cell_type": "code",
   "execution_count": 52,
   "metadata": {},
   "outputs": [],
   "source": [
    "pool = multiprocessing.Pool(4)\n",
    "output_gap =[*pool.map(output_gap_computer, range(1, n+1))]"
   ]
  },
  {
   "cell_type": "code",
   "execution_count": 53,
   "metadata": {},
   "outputs": [],
   "source": [
    "df['output_gap']=np.concatenate(([np.nan],np.array(output_gap).reshape(-1)))"
   ]
  },
  {
   "cell_type": "code",
   "execution_count": 54,
   "metadata": {},
   "outputs": [
    {
     "data": {
      "text/html": [
       "<div>\n",
       "<style scoped>\n",
       "    .dataframe tbody tr th:only-of-type {\n",
       "        vertical-align: middle;\n",
       "    }\n",
       "\n",
       "    .dataframe tbody tr th {\n",
       "        vertical-align: top;\n",
       "    }\n",
       "\n",
       "    .dataframe thead th {\n",
       "        text-align: right;\n",
       "    }\n",
       "</style>\n",
       "<table border=\"1\" class=\"dataframe\">\n",
       "  <thead>\n",
       "    <tr style=\"text-align: right;\">\n",
       "      <th></th>\n",
       "      <th>Dates</th>\n",
       "      <th>output_gap</th>\n",
       "    </tr>\n",
       "  </thead>\n",
       "  <tbody>\n",
       "    <tr>\n",
       "      <th>0</th>\n",
       "      <td>NaT</td>\n",
       "      <td>NaN</td>\n",
       "    </tr>\n",
       "    <tr>\n",
       "      <th>1</th>\n",
       "      <td>1990-02-28</td>\n",
       "      <td>4.159576e-06</td>\n",
       "    </tr>\n",
       "    <tr>\n",
       "      <th>2</th>\n",
       "      <td>1990-03-30</td>\n",
       "      <td>2.422823e-09</td>\n",
       "    </tr>\n",
       "    <tr>\n",
       "      <th>3</th>\n",
       "      <td>1990-04-30</td>\n",
       "      <td>-5.646037e-09</td>\n",
       "    </tr>\n",
       "    <tr>\n",
       "      <th>4</th>\n",
       "      <td>1990-05-31</td>\n",
       "      <td>5.029228e-04</td>\n",
       "    </tr>\n",
       "  </tbody>\n",
       "</table>\n",
       "</div>"
      ],
      "text/plain": [
       "       Dates    output_gap\n",
       "0        NaT           NaN\n",
       "1 1990-02-28  4.159576e-06\n",
       "2 1990-03-30  2.422823e-09\n",
       "3 1990-04-30 -5.646037e-09\n",
       "4 1990-05-31  5.029228e-04"
      ]
     },
     "execution_count": 54,
     "metadata": {},
     "output_type": "execute_result"
    }
   ],
   "source": [
    "df[['Dates','output_gap']].head()"
   ]
  },
  {
   "cell_type": "markdown",
   "metadata": {},
   "source": [
    "### 2.7 SPX Index return\n"
   ]
  },
  {
   "cell_type": "code",
   "execution_count": 55,
   "metadata": {},
   "outputs": [
    {
     "data": {
      "text/html": [
       "<div>\n",
       "<style scoped>\n",
       "    .dataframe tbody tr th:only-of-type {\n",
       "        vertical-align: middle;\n",
       "    }\n",
       "\n",
       "    .dataframe tbody tr th {\n",
       "        vertical-align: top;\n",
       "    }\n",
       "\n",
       "    .dataframe thead th {\n",
       "        text-align: right;\n",
       "    }\n",
       "</style>\n",
       "<table border=\"1\" class=\"dataframe\">\n",
       "  <thead>\n",
       "    <tr style=\"text-align: right;\">\n",
       "      <th></th>\n",
       "      <th>Dates</th>\n",
       "      <th>r_SPX</th>\n",
       "    </tr>\n",
       "  </thead>\n",
       "  <tbody>\n",
       "    <tr>\n",
       "      <th>0</th>\n",
       "      <td>NaT</td>\n",
       "      <td>NaN</td>\n",
       "    </tr>\n",
       "    <tr>\n",
       "      <th>1</th>\n",
       "      <td>1990-02-28</td>\n",
       "      <td>0.008539</td>\n",
       "    </tr>\n",
       "    <tr>\n",
       "      <th>2</th>\n",
       "      <td>1990-03-30</td>\n",
       "      <td>0.024255</td>\n",
       "    </tr>\n",
       "    <tr>\n",
       "      <th>3</th>\n",
       "      <td>1990-04-30</td>\n",
       "      <td>-0.026887</td>\n",
       "    </tr>\n",
       "    <tr>\n",
       "      <th>4</th>\n",
       "      <td>1990-05-31</td>\n",
       "      <td>0.091989</td>\n",
       "    </tr>\n",
       "  </tbody>\n",
       "</table>\n",
       "</div>"
      ],
      "text/plain": [
       "       Dates     r_SPX\n",
       "0        NaT       NaN\n",
       "1 1990-02-28  0.008539\n",
       "2 1990-03-30  0.024255\n",
       "3 1990-04-30 -0.026887\n",
       "4 1990-05-31  0.091989"
      ]
     },
     "execution_count": 55,
     "metadata": {},
     "output_type": "execute_result"
    }
   ],
   "source": [
    "df['r_SPX'] = other_df['SPX Index'].pct_change()\n",
    "df[['Dates','r_SPX']].head()"
   ]
  },
  {
   "cell_type": "markdown",
   "metadata": {},
   "source": [
    "### 2.8 Bond return and yield"
   ]
  },
  {
   "cell_type": "code",
   "execution_count": 141,
   "metadata": {},
   "outputs": [],
   "source": [
    "def compound_return(cum_return):\n",
    "    sol = (cum_return.values/100 + 1)\n",
    "    for i in range(2,len(sol)):\n",
    "       sol[i] = sol[i]/(cum_return.values/100 + 1)[i-1]\n",
    "    return sol - 1\n"
   ]
  },
  {
   "cell_type": "code",
   "execution_count": 142,
   "metadata": {},
   "outputs": [
    {
     "data": {
      "text/html": [
       "<div>\n",
       "<style scoped>\n",
       "    .dataframe tbody tr th:only-of-type {\n",
       "        vertical-align: middle;\n",
       "    }\n",
       "\n",
       "    .dataframe tbody tr th {\n",
       "        vertical-align: top;\n",
       "    }\n",
       "\n",
       "    .dataframe thead th {\n",
       "        text-align: right;\n",
       "    }\n",
       "</style>\n",
       "<table border=\"1\" class=\"dataframe\">\n",
       "  <thead>\n",
       "    <tr style=\"text-align: right;\">\n",
       "      <th></th>\n",
       "      <th>Dates</th>\n",
       "      <th>y_bond</th>\n",
       "    </tr>\n",
       "  </thead>\n",
       "  <tbody>\n",
       "    <tr>\n",
       "      <th>0</th>\n",
       "      <td>NaT</td>\n",
       "      <td>0.0843</td>\n",
       "    </tr>\n",
       "    <tr>\n",
       "      <th>1</th>\n",
       "      <td>1990-02-28</td>\n",
       "      <td>0.0851</td>\n",
       "    </tr>\n",
       "    <tr>\n",
       "      <th>2</th>\n",
       "      <td>1990-03-30</td>\n",
       "      <td>0.0865</td>\n",
       "    </tr>\n",
       "    <tr>\n",
       "      <th>3</th>\n",
       "      <td>1990-04-30</td>\n",
       "      <td>0.0904</td>\n",
       "    </tr>\n",
       "    <tr>\n",
       "      <th>4</th>\n",
       "      <td>1990-05-31</td>\n",
       "      <td>0.0860</td>\n",
       "    </tr>\n",
       "  </tbody>\n",
       "</table>\n",
       "</div>"
      ],
      "text/plain": [
       "       Dates  y_bond\n",
       "0        NaT  0.0843\n",
       "1 1990-02-28  0.0851\n",
       "2 1990-03-30  0.0865\n",
       "3 1990-04-30  0.0904\n",
       "4 1990-05-31  0.0860"
      ]
     },
     "execution_count": 142,
     "metadata": {},
     "output_type": "execute_result"
    }
   ],
   "source": [
    "df['y_bond'] = df_bonds['Close']/100\n",
    "df[['Dates','y_bond']].head()"
   ]
  },
  {
   "cell_type": "code",
   "execution_count": 143,
   "metadata": {},
   "outputs": [
    {
     "data": {
      "text/html": [
       "<div>\n",
       "<style scoped>\n",
       "    .dataframe tbody tr th:only-of-type {\n",
       "        vertical-align: middle;\n",
       "    }\n",
       "\n",
       "    .dataframe tbody tr th {\n",
       "        vertical-align: top;\n",
       "    }\n",
       "\n",
       "    .dataframe thead th {\n",
       "        text-align: right;\n",
       "    }\n",
       "</style>\n",
       "<table border=\"1\" class=\"dataframe\">\n",
       "  <thead>\n",
       "    <tr style=\"text-align: right;\">\n",
       "      <th></th>\n",
       "      <th>Dates</th>\n",
       "      <th>r_bond</th>\n",
       "    </tr>\n",
       "  </thead>\n",
       "  <tbody>\n",
       "    <tr>\n",
       "      <th>0</th>\n",
       "      <td>NaT</td>\n",
       "      <td>0.000000</td>\n",
       "    </tr>\n",
       "    <tr>\n",
       "      <th>1</th>\n",
       "      <td>1990-02-28</td>\n",
       "      <td>0.009490</td>\n",
       "    </tr>\n",
       "    <tr>\n",
       "      <th>2</th>\n",
       "      <td>1990-03-30</td>\n",
       "      <td>0.016451</td>\n",
       "    </tr>\n",
       "    <tr>\n",
       "      <th>3</th>\n",
       "      <td>1990-04-30</td>\n",
       "      <td>0.045087</td>\n",
       "    </tr>\n",
       "    <tr>\n",
       "      <th>4</th>\n",
       "      <td>1990-05-31</td>\n",
       "      <td>-0.048673</td>\n",
       "    </tr>\n",
       "  </tbody>\n",
       "</table>\n",
       "</div>"
      ],
      "text/plain": [
       "       Dates    r_bond\n",
       "0        NaT  0.000000\n",
       "1 1990-02-28  0.009490\n",
       "2 1990-03-30  0.016451\n",
       "3 1990-04-30  0.045087\n",
       "4 1990-05-31 -0.048673"
      ]
     },
     "execution_count": 143,
     "metadata": {},
     "output_type": "execute_result"
    }
   ],
   "source": [
    "df['r_bond'] = compound_return(df_bonds['Cumulative Return %'])\n",
    "df[['Dates','r_bond']].head()"
   ]
  },
  {
   "cell_type": "markdown",
   "metadata": {},
   "source": [
    "To check the compound_return function indeed takes cumulative return as input and computes the compounding rate of return: I will manually compute `r_bond` on `1990-03-30`. The numbers correspond to cumulative returns as can be seen from the cell below:\n",
    "<br>\n",
    "$$ (1.026097) = (1.009490)(1 + r) \\Rightarrow r = 0.016451$$\n",
    "$$ (1.072361) = (1.009490)(1.016451)(1 + r) \\Rightarrow r = 0.045087 $$\n",
    "\n"
   ]
  },
  {
   "cell_type": "code",
   "execution_count": 144,
   "metadata": {},
   "outputs": [
    {
     "data": {
      "text/plain": [
       "0    1.000000\n",
       "1    1.009490\n",
       "2    1.026097\n",
       "3    1.072361\n",
       "4    1.020166\n",
       "Name: Cumulative Return %, dtype: float64"
      ]
     },
     "execution_count": 144,
     "metadata": {},
     "output_type": "execute_result"
    }
   ],
   "source": [
    "(df_bonds['Cumulative Return %']/100 + 1).head()"
   ]
  },
  {
   "cell_type": "markdown",
   "metadata": {},
   "source": [
    "### 2. Bill return and yield"
   ]
  },
  {
   "cell_type": "code",
   "execution_count": 145,
   "metadata": {},
   "outputs": [
    {
     "data": {
      "text/html": [
       "<div>\n",
       "<style scoped>\n",
       "    .dataframe tbody tr th:only-of-type {\n",
       "        vertical-align: middle;\n",
       "    }\n",
       "\n",
       "    .dataframe tbody tr th {\n",
       "        vertical-align: top;\n",
       "    }\n",
       "\n",
       "    .dataframe thead th {\n",
       "        text-align: right;\n",
       "    }\n",
       "</style>\n",
       "<table border=\"1\" class=\"dataframe\">\n",
       "  <thead>\n",
       "    <tr style=\"text-align: right;\">\n",
       "      <th></th>\n",
       "      <th>Dates</th>\n",
       "      <th>y_bill</th>\n",
       "    </tr>\n",
       "  </thead>\n",
       "  <tbody>\n",
       "    <tr>\n",
       "      <th>0</th>\n",
       "      <td>NaT</td>\n",
       "      <td>0.0774</td>\n",
       "    </tr>\n",
       "    <tr>\n",
       "      <th>1</th>\n",
       "      <td>1990-02-28</td>\n",
       "      <td>0.0777</td>\n",
       "    </tr>\n",
       "    <tr>\n",
       "      <th>2</th>\n",
       "      <td>1990-03-30</td>\n",
       "      <td>0.0780</td>\n",
       "    </tr>\n",
       "    <tr>\n",
       "      <th>3</th>\n",
       "      <td>1990-04-30</td>\n",
       "      <td>0.0779</td>\n",
       "    </tr>\n",
       "    <tr>\n",
       "      <th>4</th>\n",
       "      <td>1990-05-31</td>\n",
       "      <td>0.0775</td>\n",
       "    </tr>\n",
       "  </tbody>\n",
       "</table>\n",
       "</div>"
      ],
      "text/plain": [
       "       Dates  y_bill\n",
       "0        NaT  0.0774\n",
       "1 1990-02-28  0.0777\n",
       "2 1990-03-30  0.0780\n",
       "3 1990-04-30  0.0779\n",
       "4 1990-05-31  0.0775"
      ]
     },
     "execution_count": 145,
     "metadata": {},
     "output_type": "execute_result"
    }
   ],
   "source": [
    "df['y_bill'] = df_bill['Close']/100\n",
    "df[['Dates','y_bill']].head()"
   ]
  },
  {
   "cell_type": "code",
   "execution_count": 147,
   "metadata": {},
   "outputs": [
    {
     "data": {
      "text/html": [
       "<div>\n",
       "<style scoped>\n",
       "    .dataframe tbody tr th:only-of-type {\n",
       "        vertical-align: middle;\n",
       "    }\n",
       "\n",
       "    .dataframe tbody tr th {\n",
       "        vertical-align: top;\n",
       "    }\n",
       "\n",
       "    .dataframe thead th {\n",
       "        text-align: right;\n",
       "    }\n",
       "</style>\n",
       "<table border=\"1\" class=\"dataframe\">\n",
       "  <thead>\n",
       "    <tr style=\"text-align: right;\">\n",
       "      <th></th>\n",
       "      <th>Dates</th>\n",
       "      <th>r_bill</th>\n",
       "    </tr>\n",
       "  </thead>\n",
       "  <tbody>\n",
       "    <tr>\n",
       "      <th>0</th>\n",
       "      <td>NaT</td>\n",
       "      <td>0.000000</td>\n",
       "    </tr>\n",
       "    <tr>\n",
       "      <th>1</th>\n",
       "      <td>1990-02-28</td>\n",
       "      <td>0.003876</td>\n",
       "    </tr>\n",
       "    <tr>\n",
       "      <th>2</th>\n",
       "      <td>1990-03-30</td>\n",
       "      <td>0.003861</td>\n",
       "    </tr>\n",
       "    <tr>\n",
       "      <th>3</th>\n",
       "      <td>1990-04-30</td>\n",
       "      <td>-0.001282</td>\n",
       "    </tr>\n",
       "    <tr>\n",
       "      <th>4</th>\n",
       "      <td>1990-05-31</td>\n",
       "      <td>-0.005135</td>\n",
       "    </tr>\n",
       "  </tbody>\n",
       "</table>\n",
       "</div>"
      ],
      "text/plain": [
       "       Dates    r_bill\n",
       "0        NaT  0.000000\n",
       "1 1990-02-28  0.003876\n",
       "2 1990-03-30  0.003861\n",
       "3 1990-04-30 -0.001282\n",
       "4 1990-05-31 -0.005135"
      ]
     },
     "execution_count": 147,
     "metadata": {},
     "output_type": "execute_result"
    },
    {
     "data": {
      "image/png": "[encoded data removed]",
      "text/plain": [
       "<Figure size 432x288 with 1 Axes>"
      ]
     },
     "metadata": {
      "needs_background": "light"
     },
     "output_type": "display_data"
    }
   ],
   "source": [
    "df['r_bill'] = compound_return(df_bill['Cumulative Return %'])\n",
    "plt.plot(df['r_bill'])\n",
    "df[['Dates','r_bill']].head()"
   ]
  },
  {
   "cell_type": "markdown",
   "metadata": {},
   "source": [
    "To check the compound_return function indeed takes cumulative return as input and computes the compounding rate of return: I will manually compute `r_bill` on `1990-03-30`. The numbers correspond to cumulative returns as can be seen from the cell below:\n",
    "<br>\n",
    "$$ (1+ 0.007752) = (1 + 0.003876)(1 + r) \\Rightarrow r = 0.003861$$\n",
    "$$ (1 + 0.006460) = (1 + 0.003876)(1 + 0.003861)(1 + r) \\Rightarrow r = -0.001282 $$\n",
    "\n"
   ]
  },
  {
   "cell_type": "code",
   "execution_count": 62,
   "metadata": {},
   "outputs": [
    {
     "data": {
      "text/plain": [
       "0    1.000000\n",
       "1    1.003876\n",
       "2    1.007752\n",
       "3    1.006460\n",
       "4    1.001292\n",
       "Name: Cumulative Return %, dtype: float64"
      ]
     },
     "execution_count": 62,
     "metadata": {},
     "output_type": "execute_result"
    }
   ],
   "source": [
    "(df_bill['Cumulative Return %']/100 + 1).head()"
   ]
  },
  {
   "cell_type": "code",
   "execution_count": 140,
   "metadata": {},
   "outputs": [
    {
     "data": {
      "text/plain": [
       "-0.001282027007208475"
      ]
     },
     "execution_count": 140,
     "metadata": {},
     "output_type": "execute_result"
    }
   ],
   "source": [
    "1.006460/((1+0.003861)*(1+0.003876)) -1"
   ]
  },
  {
   "cell_type": "markdown",
   "metadata": {},
   "source": [
    "## 3. Return Forecasts"
   ]
  },
  {
   "cell_type": "markdown",
   "metadata": {},
   "source": [
    "After preprocessing available data is from 1991-03-29 to 2019-07-31"
   ]
  },
  {
   "cell_type": "code",
   "execution_count": 63,
   "metadata": {},
   "outputs": [
    {
     "data": {
      "text/html": [
       "<div>\n",
       "<style scoped>\n",
       "    .dataframe tbody tr th:only-of-type {\n",
       "        vertical-align: middle;\n",
       "    }\n",
       "\n",
       "    .dataframe tbody tr th {\n",
       "        vertical-align: top;\n",
       "    }\n",
       "\n",
       "    .dataframe thead th {\n",
       "        text-align: right;\n",
       "    }\n",
       "</style>\n",
       "<table border=\"1\" class=\"dataframe\">\n",
       "  <thead>\n",
       "    <tr style=\"text-align: right;\">\n",
       "      <th></th>\n",
       "      <th>Dates</th>\n",
       "      <th>log_DP</th>\n",
       "      <th>inflation</th>\n",
       "      <th>Term_Spread</th>\n",
       "      <th>Default_Spread</th>\n",
       "      <th>MA_1_12</th>\n",
       "      <th>MA_2_12</th>\n",
       "      <th>MOMBY_6</th>\n",
       "      <th>MOMBY_12</th>\n",
       "      <th>MOM_9</th>\n",
       "      <th>MOM_12</th>\n",
       "      <th>output_gap</th>\n",
       "      <th>r_SPX</th>\n",
       "      <th>y_bond</th>\n",
       "      <th>r_bond</th>\n",
       "      <th>y_bill</th>\n",
       "      <th>r_bill</th>\n",
       "    </tr>\n",
       "  </thead>\n",
       "  <tbody>\n",
       "    <tr>\n",
       "      <th>0</th>\n",
       "      <td>1991-03-29</td>\n",
       "      <td>-3.184739</td>\n",
       "      <td>0.000742</td>\n",
       "      <td>2.31</td>\n",
       "      <td>1.16</td>\n",
       "      <td>1.0</td>\n",
       "      <td>1.0</td>\n",
       "      <td>1.0</td>\n",
       "      <td>1.0</td>\n",
       "      <td>1.0</td>\n",
       "      <td>1.0</td>\n",
       "      <td>0.003305</td>\n",
       "      <td>0.022203</td>\n",
       "      <td>0.0805</td>\n",
       "      <td>0.003741</td>\n",
       "      <td>0.0574</td>\n",
       "      <td>-0.049669</td>\n",
       "    </tr>\n",
       "    <tr>\n",
       "      <th>1</th>\n",
       "      <td>1991-04-30</td>\n",
       "      <td>-3.187664</td>\n",
       "      <td>0.000000</td>\n",
       "      <td>2.51</td>\n",
       "      <td>1.08</td>\n",
       "      <td>1.0</td>\n",
       "      <td>1.0</td>\n",
       "      <td>1.0</td>\n",
       "      <td>1.0</td>\n",
       "      <td>1.0</td>\n",
       "      <td>1.0</td>\n",
       "      <td>0.008409</td>\n",
       "      <td>0.000346</td>\n",
       "      <td>0.0802</td>\n",
       "      <td>-0.003727</td>\n",
       "      <td>0.0551</td>\n",
       "      <td>-0.040070</td>\n",
       "    </tr>\n",
       "    <tr>\n",
       "      <th>2</th>\n",
       "      <td>1991-05-31</td>\n",
       "      <td>-3.221650</td>\n",
       "      <td>0.002226</td>\n",
       "      <td>2.53</td>\n",
       "      <td>1.00</td>\n",
       "      <td>1.0</td>\n",
       "      <td>1.0</td>\n",
       "      <td>1.0</td>\n",
       "      <td>1.0</td>\n",
       "      <td>1.0</td>\n",
       "      <td>1.0</td>\n",
       "      <td>0.015507</td>\n",
       "      <td>0.038577</td>\n",
       "      <td>0.0806</td>\n",
       "      <td>0.004988</td>\n",
       "      <td>0.0553</td>\n",
       "      <td>0.003630</td>\n",
       "    </tr>\n",
       "    <tr>\n",
       "      <th>3</th>\n",
       "      <td>1991-06-28</td>\n",
       "      <td>-3.175793</td>\n",
       "      <td>0.003701</td>\n",
       "      <td>2.70</td>\n",
       "      <td>0.95</td>\n",
       "      <td>1.0</td>\n",
       "      <td>1.0</td>\n",
       "      <td>-1.0</td>\n",
       "      <td>-1.0</td>\n",
       "      <td>1.0</td>\n",
       "      <td>1.0</td>\n",
       "      <td>0.018247</td>\n",
       "      <td>-0.047893</td>\n",
       "      <td>0.0824</td>\n",
       "      <td>0.022333</td>\n",
       "      <td>0.0554</td>\n",
       "      <td>0.001808</td>\n",
       "    </tr>\n",
       "    <tr>\n",
       "      <th>4</th>\n",
       "      <td>1991-07-31</td>\n",
       "      <td>-3.222907</td>\n",
       "      <td>0.002950</td>\n",
       "      <td>2.67</td>\n",
       "      <td>0.89</td>\n",
       "      <td>1.0</td>\n",
       "      <td>1.0</td>\n",
       "      <td>-1.0</td>\n",
       "      <td>-1.0</td>\n",
       "      <td>1.0</td>\n",
       "      <td>1.0</td>\n",
       "      <td>0.014082</td>\n",
       "      <td>0.044859</td>\n",
       "      <td>0.0820</td>\n",
       "      <td>-0.004854</td>\n",
       "      <td>0.0553</td>\n",
       "      <td>-0.001805</td>\n",
       "    </tr>\n",
       "  </tbody>\n",
       "</table>\n",
       "</div>"
      ],
      "text/plain": [
       "       Dates    log_DP  inflation  Term_Spread  Default_Spread  MA_1_12  \\\n",
       "0 1991-03-29 -3.184739   0.000742         2.31            1.16      1.0   \n",
       "1 1991-04-30 -3.187664   0.000000         2.51            1.08      1.0   \n",
       "2 1991-05-31 -3.221650   0.002226         2.53            1.00      1.0   \n",
       "3 1991-06-28 -3.175793   0.003701         2.70            0.95      1.0   \n",
       "4 1991-07-31 -3.222907   0.002950         2.67            0.89      1.0   \n",
       "\n",
       "   MA_2_12  MOMBY_6  MOMBY_12  MOM_9  MOM_12  output_gap     r_SPX  y_bond  \\\n",
       "0      1.0      1.0       1.0    1.0     1.0    0.003305  0.022203  0.0805   \n",
       "1      1.0      1.0       1.0    1.0     1.0    0.008409  0.000346  0.0802   \n",
       "2      1.0      1.0       1.0    1.0     1.0    0.015507  0.038577  0.0806   \n",
       "3      1.0     -1.0      -1.0    1.0     1.0    0.018247 -0.047893  0.0824   \n",
       "4      1.0     -1.0      -1.0    1.0     1.0    0.014082  0.044859  0.0820   \n",
       "\n",
       "     r_bond  y_bill    r_bill  \n",
       "0  0.003741  0.0574 -0.049669  \n",
       "1 -0.003727  0.0551 -0.040070  \n",
       "2  0.004988  0.0553  0.003630  \n",
       "3  0.022333  0.0554  0.001808  \n",
       "4 -0.004854  0.0553 -0.001805  "
      ]
     },
     "execution_count": 63,
     "metadata": {},
     "output_type": "execute_result"
    }
   ],
   "source": [
    "processed_df = df.loc[14:].reset_index(drop=True)\n",
    "processed_df.head()"
   ]
  },
  {
   "cell_type": "markdown",
   "metadata": {},
   "source": [
    "### 3.1 Stock Returns"
   ]
  },
  {
   "cell_type": "markdown",
   "metadata": {},
   "source": [
    "First step is to find truncated PCA for different number of eigenvalues.\n",
    "<br>\n",
    "PCA is implemented on the following matrix. Each variable corresponds to a set of observations and hence is a column vector.\n",
    "<br>\n",
    "[ $log(\\frac{D}{P})$, Inflation, Term Spread, Default Spread, Output Gap, MA(1,12), MA(2,12), MOM(9), MOM(12) ] \n",
    "<br>"
   ]
  },
  {
   "cell_type": "markdown",
   "metadata": {},
   "source": [
    "Second step is to come up with a decision rule on how to truncate eigenvalues.\n",
    "The research paper utilizes (1) out-of-sample $R^2$ denoted as $R_{OS}^2$ and (2) Clark and West statistic.\n",
    "<br>\n",
    "where \n",
    "$$R_{OS}^2 = 1 - \\frac{\\sum_{t=1}^T (r_{t} - \\widehat{r}_{t})}{\\sum_{t=1}^T (r_{t} - \\overline{r}_{t-1})} $$\n",
    "and\n",
    "<br>\n",
    "<br>\n",
    "$\\widehat{r}_{t}$ is the fitted value using data up to t-1\n",
    "<br>\n",
    "$\\overline{r}_{t-1}$ is the historal average using data upto t-1\n",
    "<br>\n",
    "<br>\n",
    "Apart from $R_{OS}^2$, the paper utilizes Clark and West (2007) test. \n",
    "<br> Refer: Approximately Normal Tests for Equal Predictive Accuracy in Nested Models.\n",
    "<br> Clark and West claims that test of mean squared prediction error (MSPE) typically exhibits a stylised pattern. That is, `the MSPE under Null (parsimonious model) is relatively smaller than it is expected to be because of the efficiency of parsimonious model and noises from estimating more parameters`. Therefore, authors propose an alternative hypothesis test as following:\n",
    "<br>\n",
    "For the hypothesis testing <br>H0: Parsimonious model (constant) MSPE is equal to or better than that of the larger model, H1: Larger model is better.\n",
    "$$ \\hat{f}_{t+1} = (y_{t+1} - \\hat{y}_{\\text{pars:} t,t+1})^2 - [(y_{t+1} - \\hat{y}_{\\text{large:} t,t+1})^2 - (\\hat{y}_{\\text{pars:} t,t+1} - \\hat{y}_{\\text{large:} t,t+1})^2] $$\n",
    "$$ \\overline{f} = \\frac{1}{T}\\sum_{t=1}^{T}\\hat{f}_{t+1}$$\n",
    "$$ s_{\\hat{f}-\\overline{f}}^2 = \\frac{1}{T-1}\\sum_{t=1}^{T}(\\hat{f}_{t+1}-\\overline{f})^2 $$\n",
    "\n",
    "<br>Test statistics is: $$ CW = \\frac{\\overline{f}}{s_{\\hat{f}-\\overline{f}}/\\sqrt{T}}$$ <br> the mean of $\\hat{f}_{t+\\tau}$ denoted as $\\overline{\\hat{f}_{t+\\tau}}$ . With 10% significance level, reject null if $\\overline{\\hat{f}_{t+\\tau}}$ > 1.282. With 5% significance level, reject null if $\\overline{\\hat{f}_{t+\\tau}}$ > 1.645. For one step forecast errors, the usual least squares standard errors can be used. For autocorrelated forecast errors, an autocorrelation consistent standard error should be used."
   ]
  },
  {
   "cell_type": "code",
   "execution_count": 64,
   "metadata": {},
   "outputs": [],
   "source": [
    "def truncated_PC(X,dim):\n",
    "    eig, V = np.linalg.eig(np.matmul(X.transpose(),X))\n",
    "    approx_X =  np.matmul(X,V[:,:dim])\n",
    "    return approx_X"
   ]
  },
  {
   "cell_type": "code",
   "execution_count": 65,
   "metadata": {},
   "outputs": [],
   "source": [
    "def PC_approx_error(X,dim):\n",
    "    \"\"\"\n",
    "    PC approximation errors in terms of frobenius norms\n",
    "    \"\"\"\n",
    "    eig, V = np.linalg.eig(np.matmul(X.transpose(),X))\n",
    "    approx_A =  np.matmul(np.matmul(V[:,:dim],\n",
    "                            np.diag(eig[:dim])),\n",
    "                            V[:,:dim].transpose())\n",
    "    error = np.linalg.norm(approx_A - np.matmul(X.transpose(),X), ord='fro')\n",
    "    return error"
   ]
  },
  {
   "cell_type": "code",
   "execution_count": 66,
   "metadata": {},
   "outputs": [],
   "source": [
    "def PC_fit(X,r,dim):\n",
    "    \"\"\"\n",
    "    estimates SPX Index return in a way that minimizes l2 norm\n",
    "    \"\"\"\n",
    "    X = np.concatenate((np.ones(X.shape[0]).reshape(-1,1),X),axis=1)\n",
    "    beta = \\\n",
    "    np.matmul(\n",
    "        np.linalg.inv(1e-6*np.eye(dim+1) + np.matmul(X.transpose(),X)),\n",
    "        np.matmul(X.transpose(),r))\n",
    "    return beta"
   ]
  },
  {
   "cell_type": "markdown",
   "metadata": {},
   "source": [
    "### 3.1.1 Principle Component Regression"
   ]
  },
  {
   "cell_type": "code",
   "execution_count": 67,
   "metadata": {},
   "outputs": [],
   "source": [
    "stock_explanatory_variables = ['log_DP','inflation','Term_Spread','Default_Spread',\\\n",
    "                               'output_gap','MA_1_12','MA_2_12','MOM_9','MOM_12']\n",
    "X = processed_df[stock_explanatory_variables].values"
   ]
  },
  {
   "cell_type": "markdown",
   "metadata": {},
   "source": [
    "The plot of PC approximation errors in terms of frobenius norm is as following:"
   ]
  },
  {
   "cell_type": "code",
   "execution_count": 68,
   "metadata": {},
   "outputs": [
    {
     "data": {
      "text/plain": [
       "<matplotlib.legend.Legend at 0x1183cce10>"
      ]
     },
     "execution_count": 68,
     "metadata": {},
     "output_type": "execute_result"
    },
    {
     "data": {
      "image/png": "[encoded data removed]",
      "text/plain": [
       "<Figure size 432x288 with 1 Axes>"
      ]
     },
     "metadata": {
      "needs_background": "light"
     },
     "output_type": "display_data"
    }
   ],
   "source": [
    "PC_plot_df = pd.DataFrame([])\n",
    "PC_plot_df['dim'] = range(3,X.shape[1]+1) \n",
    "PC_plot_df['approx_error'] = [PC_approx_error(X,dim) for dim \\\n",
    "                               in range(3,X.shape[1]+1)]\n",
    "plt.plot('dim','approx_error',data=PC_plot_df)\n",
    "plt.title(\"Principle Component Approximation of X'X\")\n",
    "plt.legend()"
   ]
  },
  {
   "cell_type": "markdown",
   "metadata": {},
   "source": [
    "Above plot confirms that the principle component approximation works as expected"
   ]
  },
  {
   "cell_type": "markdown",
   "metadata": {},
   "source": [
    "Following figures compare actual return with estimated return based on PC regression."
   ]
  },
  {
   "cell_type": "code",
   "execution_count": 69,
   "metadata": {
    "scrolled": true
   },
   "outputs": [
    {
     "data": {
      "image/png": "[encoded data removed]",
      "text/plain": [
       "<Figure size 432x288 with 1 Axes>"
      ]
     },
     "metadata": {
      "needs_background": "light"
     },
     "output_type": "display_data"
    },
    {
     "data": {
      "image/png": "[encoded data removed]",
      "text/plain": [
       "<Figure size 432x288 with 1 Axes>"
      ]
     },
     "metadata": {
      "needs_background": "light"
     },
     "output_type": "display_data"
    },
    {
     "data": {
      "image/png": "[encoded data removed]",
      "text/plain": [
       "<Figure size 432x288 with 1 Axes>"
      ]
     },
     "metadata": {
      "needs_background": "light"
     },
     "output_type": "display_data"
    },
    {
     "data": {
      "image/png": "[encoded data removed]",
      "text/plain": [
       "<Figure size 432x288 with 1 Axes>"
      ]
     },
     "metadata": {
      "needs_background": "light"
     },
     "output_type": "display_data"
    },
    {
     "data": {
      "image/png": "[encoded data removed]",
      "text/plain": [
       "<Figure size 432x288 with 1 Axes>"
      ]
     },
     "metadata": {
      "needs_background": "light"
     },
     "output_type": "display_data"
    },
    {
     "data": {
      "image/png": "[encoded data removed]",
      "text/plain": [
       "<Figure size 432x288 with 1 Axes>"
      ]
     },
     "metadata": {
      "needs_background": "light"
     },
     "output_type": "display_data"
    },
    {
     "data": {
      "image/png": "[encoded data removed]",
      "text/plain": [
       "<Figure size 432x288 with 1 Axes>"
      ]
     },
     "metadata": {
      "needs_background": "light"
     },
     "output_type": "display_data"
    }
   ],
   "source": [
    "for i in range(3,10):\n",
    "    dim = i\n",
    "    r = processed_df['r_SPX'].values\n",
    "    X_PCA = truncated_PC(X,dim)\n",
    "    w = PC_fit(X_PCA,r,dim)\n",
    "    X_PCA_intercept = np.concatenate((np.ones(X_PCA.shape[0]).reshape(-1,1),X_PCA),axis=1)\n",
    "    r_hat = np.matmul(X_PCA_intercept,w)\n",
    "    plt.figure(i)\n",
    "    PC_plot_df2 = pd.DataFrame([])\n",
    "    PC_plot_df2['r_hat'] = r_hat\n",
    "    PC_plot_df2['r'] = r\n",
    "    plt.plot('r',data=PC_plot_df2)\n",
    "    plt.plot('r_hat',data=PC_plot_df2)\n",
    "    plt.title(f'Estimated return based on PCA with dimension: {dim}')\n",
    "    plt.legend()\n"
   ]
  },
  {
   "cell_type": "markdown",
   "metadata": {},
   "source": [
    "### 3.1.2  $R_{OS}^2$ Computation"
   ]
  },
  {
   "cell_type": "markdown",
   "metadata": {},
   "source": [
    "Following the logic of the original paper, I will compute $R_{OS}^2$ for monthly (h=1), quartherly (h=3), semi-annual (h=6), and annual (h=12). And out-of-sample forecasts are estimated by recursive estimation windows. For example, for monthly estimation, initial 200 samples are used exclusively for fitting the model. The 201$^{\\text{st}}$ sample is forecasted by the model fitted by 200 samples. The 202$^{\\text{nd}}$ sample is estimated by the model fitted using 201 samples. And so on.\n",
    "<br>\n",
    "<br>\n",
    "Below illustrations show that monthly $R_{OS}^2$ gives the highest value range. This is consistent with the original paper. "
   ]
  },
  {
   "cell_type": "code",
   "execution_count": 70,
   "metadata": {},
   "outputs": [
    {
     "data": {
      "text/plain": [
       "(200, 9)"
      ]
     },
     "execution_count": 70,
     "metadata": {},
     "output_type": "execute_result"
    }
   ],
   "source": [
    "X[:200].shape"
   ]
  },
  {
   "cell_type": "code",
   "execution_count": 71,
   "metadata": {},
   "outputs": [],
   "source": [
    "def Rsquared_OS(X,r,dim,OS_start):\n",
    "    \"\"\"\n",
    "    computes out-of-sample rsquared.\n",
    "    First computes PCA only using explanatory variables without augmenting the data with a constant = 1.\n",
    "    For regression result, added a constant to capture the y-intercept. \n",
    "    PCA_fit by default adds the constant column. Therefore, I only add the constant column to obtain\n",
    "    one step ahead forecast using the weights obtained by the PCA_fit\n",
    "    \"\"\"\n",
    "    numerator = 0\n",
    "    denominator = 0\n",
    "    for i in range(OS_start,len(r)):\n",
    "        X_PCA = truncated_PC(X[:i],dim)\n",
    "        w = PC_fit(X_PCA,r[:i],dim) \n",
    "        X_PCA_OS = truncated_PC(X[:i+1],dim)\n",
    "        X_PCA_OS_intercept = np.concatenate((np.ones(X_PCA_OS.shape[0]).reshape(-1,1),X_PCA_OS),axis=1)\n",
    "        r_hat = np.matmul(X_PCA_OS_intercept[-1],w)\n",
    "        numerator += (r[i] - r_hat)**2\n",
    "        denominator += (r[i]-r[:i].mean())**2\n",
    "    R_squared_OS = 1 - numerator/(denominator + 1e-6)\n",
    "    return R_squared_OS"
   ]
  },
  {
   "cell_type": "markdown",
   "metadata": {},
   "source": [
    "### 3.1.2.1 Month $R_{OS}^2$ "
   ]
  },
  {
   "cell_type": "code",
   "execution_count": 72,
   "metadata": {},
   "outputs": [
    {
     "data": {
      "text/plain": [
       "Text(0.5, 1.0, 'Month out-of-sample R-squared')"
      ]
     },
     "execution_count": 72,
     "metadata": {},
     "output_type": "execute_result"
    },
    {
     "data": {
      "image/png": "[encoded data removed]",
      "text/plain": [
       "<Figure size 432x288 with 1 Axes>"
      ]
     },
     "metadata": {
      "needs_background": "light"
     },
     "output_type": "display_data"
    }
   ],
   "source": [
    "plt.plot([Rsquared_OS(X,r,i,200) for i in range(1,X.shape[1]+1)])\n",
    "plt.xlabel('Rank of Principle Component Approximation')\n",
    "plt.ylabel('Out-of-sample R-squared')\n",
    "plt.title('Month out-of-sample R-squared')"
   ]
  },
  {
   "cell_type": "markdown",
   "metadata": {},
   "source": [
    "### 3.1.2.2  Quarter $R_{OS}^2$"
   ]
  },
  {
   "cell_type": "markdown",
   "metadata": {},
   "source": [
    "For consistency, I utilized 66 quarterly observations exclusively for fitting the model. Following dataframe shows that 66$^{\\text{th}}$ quarterly observation corresponds to 200$^{\\text{th}}$ monthly observation."
   ]
  },
  {
   "cell_type": "code",
   "execution_count": 73,
   "metadata": {},
   "outputs": [
    {
     "data": {
      "text/html": [
       "<div>\n",
       "<style scoped>\n",
       "    .dataframe tbody tr th:only-of-type {\n",
       "        vertical-align: middle;\n",
       "    }\n",
       "\n",
       "    .dataframe tbody tr th {\n",
       "        vertical-align: top;\n",
       "    }\n",
       "\n",
       "    .dataframe thead th {\n",
       "        text-align: right;\n",
       "    }\n",
       "</style>\n",
       "<table border=\"1\" class=\"dataframe\">\n",
       "  <thead>\n",
       "    <tr style=\"text-align: right;\">\n",
       "      <th></th>\n",
       "      <th>Dates</th>\n",
       "      <th>index</th>\n",
       "      <th>log_DP</th>\n",
       "      <th>inflation</th>\n",
       "      <th>Term_Spread</th>\n",
       "      <th>Default_Spread</th>\n",
       "      <th>MA_1_12</th>\n",
       "      <th>MA_2_12</th>\n",
       "      <th>MOMBY_6</th>\n",
       "      <th>MOMBY_12</th>\n",
       "      <th>MOM_9</th>\n",
       "      <th>MOM_12</th>\n",
       "      <th>output_gap</th>\n",
       "      <th>r_SPX</th>\n",
       "      <th>y_bond</th>\n",
       "      <th>r_bond</th>\n",
       "      <th>y_bill</th>\n",
       "      <th>r_bill</th>\n",
       "    </tr>\n",
       "  </thead>\n",
       "  <tbody>\n",
       "    <tr>\n",
       "      <th>64</th>\n",
       "      <td>2007-05-31</td>\n",
       "      <td>194</td>\n",
       "      <td>-3.843610</td>\n",
       "      <td>0.003001</td>\n",
       "      <td>0.2994</td>\n",
       "      <td>0.92</td>\n",
       "      <td>1.0</td>\n",
       "      <td>1.0</td>\n",
       "      <td>-1.0</td>\n",
       "      <td>-1.0</td>\n",
       "      <td>1.0</td>\n",
       "      <td>1.0</td>\n",
       "      <td>0.021707</td>\n",
       "      <td>0.032549</td>\n",
       "      <td>0.048994</td>\n",
       "      <td>0.059055</td>\n",
       "      <td>0.0460</td>\n",
       "      <td>-0.039666</td>\n",
       "    </tr>\n",
       "    <tr>\n",
       "      <th>65</th>\n",
       "      <td>2007-08-31</td>\n",
       "      <td>197</td>\n",
       "      <td>-3.779418</td>\n",
       "      <td>0.001781</td>\n",
       "      <td>0.6221</td>\n",
       "      <td>0.86</td>\n",
       "      <td>1.0</td>\n",
       "      <td>1.0</td>\n",
       "      <td>1.0</td>\n",
       "      <td>1.0</td>\n",
       "      <td>1.0</td>\n",
       "      <td>1.0</td>\n",
       "      <td>0.018905</td>\n",
       "      <td>0.012857</td>\n",
       "      <td>0.045321</td>\n",
       "      <td>-0.044445</td>\n",
       "      <td>0.0391</td>\n",
       "      <td>-0.188797</td>\n",
       "    </tr>\n",
       "    <tr>\n",
       "      <th>66</th>\n",
       "      <td>2007-11-30</td>\n",
       "      <td>200</td>\n",
       "      <td>-3.788723</td>\n",
       "      <td>0.003083</td>\n",
       "      <td>0.8589</td>\n",
       "      <td>0.96</td>\n",
       "      <td>1.0</td>\n",
       "      <td>1.0</td>\n",
       "      <td>1.0</td>\n",
       "      <td>1.0</td>\n",
       "      <td>1.0</td>\n",
       "      <td>1.0</td>\n",
       "      <td>0.019589</td>\n",
       "      <td>-0.044043</td>\n",
       "      <td>0.039389</td>\n",
       "      <td>-0.119937</td>\n",
       "      <td>0.0308</td>\n",
       "      <td>-0.197917</td>\n",
       "    </tr>\n",
       "    <tr>\n",
       "      <th>67</th>\n",
       "      <td>2008-02-29</td>\n",
       "      <td>203</td>\n",
       "      <td>-3.710938</td>\n",
       "      <td>0.003448</td>\n",
       "      <td>1.7002</td>\n",
       "      <td>1.29</td>\n",
       "      <td>0.0</td>\n",
       "      <td>0.0</td>\n",
       "      <td>1.0</td>\n",
       "      <td>1.0</td>\n",
       "      <td>0.0</td>\n",
       "      <td>0.0</td>\n",
       "      <td>0.009492</td>\n",
       "      <td>-0.034761</td>\n",
       "      <td>0.035102</td>\n",
       "      <td>-0.024321</td>\n",
       "      <td>0.0181</td>\n",
       "      <td>-0.057292</td>\n",
       "    </tr>\n",
       "    <tr>\n",
       "      <th>68</th>\n",
       "      <td>2008-05-31</td>\n",
       "      <td>206</td>\n",
       "      <td>-3.774398</td>\n",
       "      <td>0.002314</td>\n",
       "      <td>2.2153</td>\n",
       "      <td>1.36</td>\n",
       "      <td>0.0</td>\n",
       "      <td>0.0</td>\n",
       "      <td>-1.0</td>\n",
       "      <td>-1.0</td>\n",
       "      <td>0.0</td>\n",
       "      <td>0.0</td>\n",
       "      <td>-0.008239</td>\n",
       "      <td>0.010674</td>\n",
       "      <td>0.040653</td>\n",
       "      <td>0.089075</td>\n",
       "      <td>0.0185</td>\n",
       "      <td>0.312057</td>\n",
       "    </tr>\n",
       "  </tbody>\n",
       "</table>\n",
       "</div>"
      ],
      "text/plain": [
       "        Dates  index    log_DP  inflation  Term_Spread  Default_Spread  \\\n",
       "64 2007-05-31    194 -3.843610   0.003001       0.2994            0.92   \n",
       "65 2007-08-31    197 -3.779418   0.001781       0.6221            0.86   \n",
       "66 2007-11-30    200 -3.788723   0.003083       0.8589            0.96   \n",
       "67 2008-02-29    203 -3.710938   0.003448       1.7002            1.29   \n",
       "68 2008-05-31    206 -3.774398   0.002314       2.2153            1.36   \n",
       "\n",
       "    MA_1_12  MA_2_12  MOMBY_6  MOMBY_12  MOM_9  MOM_12  output_gap     r_SPX  \\\n",
       "64      1.0      1.0     -1.0      -1.0    1.0     1.0    0.021707  0.032549   \n",
       "65      1.0      1.0      1.0       1.0    1.0     1.0    0.018905  0.012857   \n",
       "66      1.0      1.0      1.0       1.0    1.0     1.0    0.019589 -0.044043   \n",
       "67      0.0      0.0      1.0       1.0    0.0     0.0    0.009492 -0.034761   \n",
       "68      0.0      0.0     -1.0      -1.0    0.0     0.0   -0.008239  0.010674   \n",
       "\n",
       "      y_bond    r_bond  y_bill    r_bill  \n",
       "64  0.048994  0.059055  0.0460 -0.039666  \n",
       "65  0.045321 -0.044445  0.0391 -0.188797  \n",
       "66  0.039389 -0.119937  0.0308 -0.197917  \n",
       "67  0.035102 -0.024321  0.0181 -0.057292  \n",
       "68  0.040653  0.089075  0.0185  0.312057  "
      ]
     },
     "execution_count": 73,
     "metadata": {},
     "output_type": "execute_result"
    }
   ],
   "source": [
    "processed_df[2:].reset_index().set_index('Dates').resample('3M').agg('last').reset_index()[64:].head()"
   ]
  },
  {
   "cell_type": "code",
   "execution_count": 74,
   "metadata": {},
   "outputs": [
    {
     "data": {
      "text/plain": [
       "Text(0.5, 1.0, 'Quarter out-of-sample R-squared')"
      ]
     },
     "execution_count": 74,
     "metadata": {},
     "output_type": "execute_result"
    },
    {
     "data": {
      "image/png": "[encoded data removed]",
      "text/plain": [
       "<Figure size 432x288 with 1 Axes>"
      ]
     },
     "metadata": {
      "needs_background": "light"
     },
     "output_type": "display_data"
    }
   ],
   "source": [
    "X_quarter = processed_df[2:].set_index('Dates').resample('3M').agg('last')[stock_explanatory_variables].values\n",
    "r_quarter = processed_df[2:].set_index('Dates').resample('3M').agg('last')['r_SPX'].values\n",
    "plt.plot([Rsquared_OS(X_quarter,r_quarter,i,66) for i in range(X.shape[1]+1)])\n",
    "plt.xlabel('Rank of Principle Component Approximation')\n",
    "plt.ylabel('Out-of-sample R-squared')\n",
    "plt.title('Quarter out-of-sample R-squared')"
   ]
  },
  {
   "cell_type": "markdown",
   "metadata": {},
   "source": [
    "### 3.1.2.3  Semi-annual $R_{OS}^2$"
   ]
  },
  {
   "cell_type": "markdown",
   "metadata": {},
   "source": [
    "For consistency, I utilized 33 semi-annually observations exclusively for fitting the model. Following dataframe shows that 33$^{\\text{rd}}$ quarterly observation corresponds to 200$^{\\text{th}}$ monthly observation."
   ]
  },
  {
   "cell_type": "code",
   "execution_count": 75,
   "metadata": {},
   "outputs": [
    {
     "data": {
      "text/html": [
       "<div>\n",
       "<style scoped>\n",
       "    .dataframe tbody tr th:only-of-type {\n",
       "        vertical-align: middle;\n",
       "    }\n",
       "\n",
       "    .dataframe tbody tr th {\n",
       "        vertical-align: top;\n",
       "    }\n",
       "\n",
       "    .dataframe thead th {\n",
       "        text-align: right;\n",
       "    }\n",
       "</style>\n",
       "<table border=\"1\" class=\"dataframe\">\n",
       "  <thead>\n",
       "    <tr style=\"text-align: right;\">\n",
       "      <th></th>\n",
       "      <th>Dates</th>\n",
       "      <th>index</th>\n",
       "      <th>log_DP</th>\n",
       "      <th>inflation</th>\n",
       "      <th>Term_Spread</th>\n",
       "      <th>Default_Spread</th>\n",
       "      <th>MA_1_12</th>\n",
       "      <th>MA_2_12</th>\n",
       "      <th>MOMBY_6</th>\n",
       "      <th>MOMBY_12</th>\n",
       "      <th>MOM_9</th>\n",
       "      <th>MOM_12</th>\n",
       "      <th>output_gap</th>\n",
       "      <th>r_SPX</th>\n",
       "      <th>y_bond</th>\n",
       "      <th>r_bond</th>\n",
       "      <th>y_bill</th>\n",
       "      <th>r_bill</th>\n",
       "    </tr>\n",
       "  </thead>\n",
       "  <tbody>\n",
       "    <tr>\n",
       "      <th>32</th>\n",
       "      <td>2007-05-31</td>\n",
       "      <td>194</td>\n",
       "      <td>-3.843610</td>\n",
       "      <td>0.003001</td>\n",
       "      <td>0.2994</td>\n",
       "      <td>0.92</td>\n",
       "      <td>1.0</td>\n",
       "      <td>1.0</td>\n",
       "      <td>-1.0</td>\n",
       "      <td>-1.0</td>\n",
       "      <td>1.0</td>\n",
       "      <td>1.0</td>\n",
       "      <td>0.021707</td>\n",
       "      <td>0.032549</td>\n",
       "      <td>0.048994</td>\n",
       "      <td>0.059055</td>\n",
       "      <td>0.0460</td>\n",
       "      <td>-0.039666</td>\n",
       "    </tr>\n",
       "    <tr>\n",
       "      <th>33</th>\n",
       "      <td>2007-11-30</td>\n",
       "      <td>200</td>\n",
       "      <td>-3.788723</td>\n",
       "      <td>0.003083</td>\n",
       "      <td>0.8589</td>\n",
       "      <td>0.96</td>\n",
       "      <td>1.0</td>\n",
       "      <td>1.0</td>\n",
       "      <td>1.0</td>\n",
       "      <td>1.0</td>\n",
       "      <td>1.0</td>\n",
       "      <td>1.0</td>\n",
       "      <td>0.019589</td>\n",
       "      <td>-0.044043</td>\n",
       "      <td>0.039389</td>\n",
       "      <td>-0.119937</td>\n",
       "      <td>0.0308</td>\n",
       "      <td>-0.197917</td>\n",
       "    </tr>\n",
       "    <tr>\n",
       "      <th>34</th>\n",
       "      <td>2008-05-31</td>\n",
       "      <td>206</td>\n",
       "      <td>-3.774398</td>\n",
       "      <td>0.002314</td>\n",
       "      <td>2.2153</td>\n",
       "      <td>1.36</td>\n",
       "      <td>0.0</td>\n",
       "      <td>0.0</td>\n",
       "      <td>-1.0</td>\n",
       "      <td>-1.0</td>\n",
       "      <td>0.0</td>\n",
       "      <td>0.0</td>\n",
       "      <td>-0.008239</td>\n",
       "      <td>0.010674</td>\n",
       "      <td>0.040653</td>\n",
       "      <td>0.089075</td>\n",
       "      <td>0.0185</td>\n",
       "      <td>0.312057</td>\n",
       "    </tr>\n",
       "    <tr>\n",
       "      <th>35</th>\n",
       "      <td>2008-11-30</td>\n",
       "      <td>212</td>\n",
       "      <td>-3.339371</td>\n",
       "      <td>-0.008598</td>\n",
       "      <td>2.9100</td>\n",
       "      <td>3.09</td>\n",
       "      <td>0.0</td>\n",
       "      <td>0.0</td>\n",
       "      <td>1.0</td>\n",
       "      <td>1.0</td>\n",
       "      <td>0.0</td>\n",
       "      <td>0.0</td>\n",
       "      <td>-0.071761</td>\n",
       "      <td>-0.074849</td>\n",
       "      <td>0.029200</td>\n",
       "      <td>-0.264354</td>\n",
       "      <td>0.0001</td>\n",
       "      <td>-0.977273</td>\n",
       "    </tr>\n",
       "    <tr>\n",
       "      <th>36</th>\n",
       "      <td>2009-05-31</td>\n",
       "      <td>218</td>\n",
       "      <td>-3.346824</td>\n",
       "      <td>0.001007</td>\n",
       "      <td>3.3204</td>\n",
       "      <td>2.52</td>\n",
       "      <td>0.0</td>\n",
       "      <td>0.0</td>\n",
       "      <td>-1.0</td>\n",
       "      <td>-1.0</td>\n",
       "      <td>0.0</td>\n",
       "      <td>0.0</td>\n",
       "      <td>-0.137647</td>\n",
       "      <td>0.053081</td>\n",
       "      <td>0.034604</td>\n",
       "      <td>0.109743</td>\n",
       "      <td>0.0014</td>\n",
       "      <td>0.000000</td>\n",
       "    </tr>\n",
       "  </tbody>\n",
       "</table>\n",
       "</div>"
      ],
      "text/plain": [
       "        Dates  index    log_DP  inflation  Term_Spread  Default_Spread  \\\n",
       "32 2007-05-31    194 -3.843610   0.003001       0.2994            0.92   \n",
       "33 2007-11-30    200 -3.788723   0.003083       0.8589            0.96   \n",
       "34 2008-05-31    206 -3.774398   0.002314       2.2153            1.36   \n",
       "35 2008-11-30    212 -3.339371  -0.008598       2.9100            3.09   \n",
       "36 2009-05-31    218 -3.346824   0.001007       3.3204            2.52   \n",
       "\n",
       "    MA_1_12  MA_2_12  MOMBY_6  MOMBY_12  MOM_9  MOM_12  output_gap     r_SPX  \\\n",
       "32      1.0      1.0     -1.0      -1.0    1.0     1.0    0.021707  0.032549   \n",
       "33      1.0      1.0      1.0       1.0    1.0     1.0    0.019589 -0.044043   \n",
       "34      0.0      0.0     -1.0      -1.0    0.0     0.0   -0.008239  0.010674   \n",
       "35      0.0      0.0      1.0       1.0    0.0     0.0   -0.071761 -0.074849   \n",
       "36      0.0      0.0     -1.0      -1.0    0.0     0.0   -0.137647  0.053081   \n",
       "\n",
       "      y_bond    r_bond  y_bill    r_bill  \n",
       "32  0.048994  0.059055  0.0460 -0.039666  \n",
       "33  0.039389 -0.119937  0.0308 -0.197917  \n",
       "34  0.040653  0.089075  0.0185  0.312057  \n",
       "35  0.029200 -0.264354  0.0001 -0.977273  \n",
       "36  0.034604  0.109743  0.0014  0.000000  "
      ]
     },
     "execution_count": 75,
     "metadata": {},
     "output_type": "execute_result"
    }
   ],
   "source": [
    "processed_df[2:].reset_index().set_index('Dates').resample('6M').agg('last').reset_index()[32:].head()"
   ]
  },
  {
   "cell_type": "code",
   "execution_count": 76,
   "metadata": {},
   "outputs": [
    {
     "data": {
      "text/plain": [
       "Text(0.5, 1.0, 'Semi-annual out-of-sample R-squared')"
      ]
     },
     "execution_count": 76,
     "metadata": {},
     "output_type": "execute_result"
    },
    {
     "data": {
      "image/png": "[encoded data removed]",
      "text/plain": [
       "<Figure size 432x288 with 1 Axes>"
      ]
     },
     "metadata": {
      "needs_background": "light"
     },
     "output_type": "display_data"
    }
   ],
   "source": [
    "X_semi = processed_df[2:].set_index('Dates').resample('6M').agg('last')[stock_explanatory_variables].values\n",
    "r_semi = processed_df[2:].set_index('Dates').resample('6M').agg('last')['r_SPX'].values\n",
    "plt.plot([Rsquared_OS(X_semi,r_semi,i,33) for i in range(X.shape[1]+1)])\n",
    "plt.xlabel('Rank of Principle Component Approximation')\n",
    "plt.ylabel('Out-of-sample R-squared')\n",
    "plt.title('Semi-annual out-of-sample R-squared')"
   ]
  },
  {
   "cell_type": "markdown",
   "metadata": {},
   "source": [
    "### 3.1.2.4  Annual $R_{OS}^2$"
   ]
  },
  {
   "cell_type": "markdown",
   "metadata": {},
   "source": [
    "For consistency, I utilized 33 semi-annually observations exclusively for fitting the model. Following dataframe shows that 33$^{\\text{rd}}$ quarterly observation corresponds to 200$^{\\text{th}}$ monthly observation."
   ]
  },
  {
   "cell_type": "code",
   "execution_count": 77,
   "metadata": {
    "scrolled": true
   },
   "outputs": [
    {
     "data": {
      "text/html": [
       "<div>\n",
       "<style scoped>\n",
       "    .dataframe tbody tr th:only-of-type {\n",
       "        vertical-align: middle;\n",
       "    }\n",
       "\n",
       "    .dataframe tbody tr th {\n",
       "        vertical-align: top;\n",
       "    }\n",
       "\n",
       "    .dataframe thead th {\n",
       "        text-align: right;\n",
       "    }\n",
       "</style>\n",
       "<table border=\"1\" class=\"dataframe\">\n",
       "  <thead>\n",
       "    <tr style=\"text-align: right;\">\n",
       "      <th></th>\n",
       "      <th>Dates</th>\n",
       "      <th>index</th>\n",
       "      <th>log_DP</th>\n",
       "      <th>inflation</th>\n",
       "      <th>Term_Spread</th>\n",
       "      <th>Default_Spread</th>\n",
       "      <th>MA_1_12</th>\n",
       "      <th>MA_2_12</th>\n",
       "      <th>MOMBY_6</th>\n",
       "      <th>MOMBY_12</th>\n",
       "      <th>MOM_9</th>\n",
       "      <th>MOM_12</th>\n",
       "      <th>output_gap</th>\n",
       "      <th>r_SPX</th>\n",
       "      <th>y_bond</th>\n",
       "      <th>r_bond</th>\n",
       "      <th>y_bill</th>\n",
       "      <th>r_bill</th>\n",
       "    </tr>\n",
       "  </thead>\n",
       "  <tbody>\n",
       "    <tr>\n",
       "      <th>15</th>\n",
       "      <td>2006-12-31</td>\n",
       "      <td>188</td>\n",
       "      <td>-3.814893</td>\n",
       "      <td>-0.004438</td>\n",
       "      <td>-0.4390</td>\n",
       "      <td>0.87</td>\n",
       "      <td>1.0</td>\n",
       "      <td>1.0</td>\n",
       "      <td>1.0</td>\n",
       "      <td>1.0</td>\n",
       "      <td>1.0</td>\n",
       "      <td>1.0</td>\n",
       "      <td>0.006390</td>\n",
       "      <td>0.016467</td>\n",
       "      <td>0.044610</td>\n",
       "      <td>-0.031060</td>\n",
       "      <td>0.0490</td>\n",
       "      <td>-0.010101</td>\n",
       "    </tr>\n",
       "    <tr>\n",
       "      <th>16</th>\n",
       "      <td>2007-12-31</td>\n",
       "      <td>200</td>\n",
       "      <td>-3.788723</td>\n",
       "      <td>0.003083</td>\n",
       "      <td>0.8589</td>\n",
       "      <td>0.96</td>\n",
       "      <td>1.0</td>\n",
       "      <td>1.0</td>\n",
       "      <td>1.0</td>\n",
       "      <td>1.0</td>\n",
       "      <td>1.0</td>\n",
       "      <td>1.0</td>\n",
       "      <td>0.019589</td>\n",
       "      <td>-0.044043</td>\n",
       "      <td>0.039389</td>\n",
       "      <td>-0.119937</td>\n",
       "      <td>0.0308</td>\n",
       "      <td>-0.197917</td>\n",
       "    </tr>\n",
       "    <tr>\n",
       "      <th>17</th>\n",
       "      <td>2008-12-31</td>\n",
       "      <td>212</td>\n",
       "      <td>-3.339371</td>\n",
       "      <td>-0.008598</td>\n",
       "      <td>2.9100</td>\n",
       "      <td>3.09</td>\n",
       "      <td>0.0</td>\n",
       "      <td>0.0</td>\n",
       "      <td>1.0</td>\n",
       "      <td>1.0</td>\n",
       "      <td>0.0</td>\n",
       "      <td>0.0</td>\n",
       "      <td>-0.071761</td>\n",
       "      <td>-0.074849</td>\n",
       "      <td>0.029200</td>\n",
       "      <td>-0.264354</td>\n",
       "      <td>0.0001</td>\n",
       "      <td>-0.977273</td>\n",
       "    </tr>\n",
       "    <tr>\n",
       "      <th>18</th>\n",
       "      <td>2009-12-31</td>\n",
       "      <td>224</td>\n",
       "      <td>-3.617410</td>\n",
       "      <td>0.003002</td>\n",
       "      <td>3.1402</td>\n",
       "      <td>1.13</td>\n",
       "      <td>1.0</td>\n",
       "      <td>1.0</td>\n",
       "      <td>1.0</td>\n",
       "      <td>1.0</td>\n",
       "      <td>1.0</td>\n",
       "      <td>1.0</td>\n",
       "      <td>-0.077893</td>\n",
       "      <td>0.057364</td>\n",
       "      <td>0.032002</td>\n",
       "      <td>-0.054873</td>\n",
       "      <td>0.0006</td>\n",
       "      <td>0.200000</td>\n",
       "    </tr>\n",
       "    <tr>\n",
       "      <th>19</th>\n",
       "      <td>2010-12-31</td>\n",
       "      <td>236</td>\n",
       "      <td>-3.755558</td>\n",
       "      <td>0.003482</td>\n",
       "      <td>2.6254</td>\n",
       "      <td>1.05</td>\n",
       "      <td>1.0</td>\n",
       "      <td>1.0</td>\n",
       "      <td>-1.0</td>\n",
       "      <td>-1.0</td>\n",
       "      <td>1.0</td>\n",
       "      <td>1.0</td>\n",
       "      <td>-0.001713</td>\n",
       "      <td>-0.002290</td>\n",
       "      <td>0.027954</td>\n",
       "      <td>0.070378</td>\n",
       "      <td>0.0017</td>\n",
       "      <td>0.416667</td>\n",
       "    </tr>\n",
       "  </tbody>\n",
       "</table>\n",
       "</div>"
      ],
      "text/plain": [
       "        Dates  index    log_DP  inflation  Term_Spread  Default_Spread  \\\n",
       "15 2006-12-31    188 -3.814893  -0.004438      -0.4390            0.87   \n",
       "16 2007-12-31    200 -3.788723   0.003083       0.8589            0.96   \n",
       "17 2008-12-31    212 -3.339371  -0.008598       2.9100            3.09   \n",
       "18 2009-12-31    224 -3.617410   0.003002       3.1402            1.13   \n",
       "19 2010-12-31    236 -3.755558   0.003482       2.6254            1.05   \n",
       "\n",
       "    MA_1_12  MA_2_12  MOMBY_6  MOMBY_12  MOM_9  MOM_12  output_gap     r_SPX  \\\n",
       "15      1.0      1.0      1.0       1.0    1.0     1.0    0.006390  0.016467   \n",
       "16      1.0      1.0      1.0       1.0    1.0     1.0    0.019589 -0.044043   \n",
       "17      0.0      0.0      1.0       1.0    0.0     0.0   -0.071761 -0.074849   \n",
       "18      1.0      1.0      1.0       1.0    1.0     1.0   -0.077893  0.057364   \n",
       "19      1.0      1.0     -1.0      -1.0    1.0     1.0   -0.001713 -0.002290   \n",
       "\n",
       "      y_bond    r_bond  y_bill    r_bill  \n",
       "15  0.044610 -0.031060  0.0490 -0.010101  \n",
       "16  0.039389 -0.119937  0.0308 -0.197917  \n",
       "17  0.029200 -0.264354  0.0001 -0.977273  \n",
       "18  0.032002 -0.054873  0.0006  0.200000  \n",
       "19  0.027954  0.070378  0.0017  0.416667  "
      ]
     },
     "execution_count": 77,
     "metadata": {},
     "output_type": "execute_result"
    }
   ],
   "source": [
    "processed_df.reset_index().set_index('Dates').resample('Y').agg(lambda x: x[-2]).reset_index()[15:].head()"
   ]
  },
  {
   "cell_type": "code",
   "execution_count": 78,
   "metadata": {},
   "outputs": [
    {
     "name": "stderr",
     "output_type": "stream",
     "text": [
      "/Users/gimdong-geon/python3_cooking/lib/python3.7/site-packages/numpy/core/numeric.py:538: ComplexWarning: Casting complex values to real discards the imaginary part\n",
      "  return array(a, dtype, copy=False, order=order)\n"
     ]
    },
    {
     "data": {
      "text/plain": [
       "Text(0.5, 1.0, 'Annual out-of-sample R-squared')"
      ]
     },
     "execution_count": 78,
     "metadata": {},
     "output_type": "execute_result"
    },
    {
     "data": {
      "image/png": "[encoded data removed]",
      "text/plain": [
       "<Figure size 432x288 with 1 Axes>"
      ]
     },
     "metadata": {
      "needs_background": "light"
     },
     "output_type": "display_data"
    }
   ],
   "source": [
    "X_annual = (processed_df.set_index('Dates').resample('Y')\n",
    "            .agg(lambda x: x[-2])[stock_explanatory_variables].values)\n",
    "r_annual = (processed_df.set_index('Dates').resample('Y')\n",
    "            .agg(lambda x: x[-2])['r_SPX'].values)\n",
    "plt.plot([Rsquared_OS(X_annual,r_annual,i,16) for i in range(X.shape[1]+1)])\n",
    "plt.xlabel('Rank of Principle Component Approximation')\n",
    "plt.ylabel('Out-of-sample R-squared')\n",
    "plt.title('Annual out-of-sample R-squared')"
   ]
  },
  {
   "cell_type": "markdown",
   "metadata": {},
   "source": [
    "### 3.1.3  Clark and Wald (2007) Test Statistics Computation"
   ]
  },
  {
   "cell_type": "code",
   "execution_count": 79,
   "metadata": {},
   "outputs": [],
   "source": [
    "def CW_test(X,r,dim,OS_start):\n",
    "    \"\"\"\n",
    "    computes Clark and Wald test statistics.\n",
    "    First computes PCA only using explanatory variables without augmenting the data with a constant = 1.\n",
    "    For regression result, added a constant to capture the y-intercept. \n",
    "    PCA_fit by default adds the constant column. Therefore, I only add the constant column to obtain\n",
    "    one step ahead forecast using the weights obtained by the PCA_fit\n",
    "\n",
    "    \"\"\"\n",
    "    denom = len(r) - OS_start\n",
    "    num = []\n",
    "    for i in range(OS_start,len(r)):\n",
    "        X_PCA = truncated_PC(X[:i],dim)\n",
    "        w = PC_fit(X_PCA,r[:i],dim)\n",
    "        X_PCA_OS = truncated_PC(X[:i+1],dim)\n",
    "        X_PCA_OS_intercept = np.concatenate((np.ones(X_PCA_OS.shape[0]).reshape(-1,1),X_PCA_OS),axis=1)\n",
    "        r_hat = np.matmul(X_PCA_OS_intercept[-1],w)\n",
    "        num += [(r[i]-r[:i].mean())**2 - (r[i] - r_hat)**2  + (r[:i].mean() - r_hat)**2]\n",
    "    f_bar = np.array(num).mean()\n",
    "    CW = np.sqrt(denom) * f_bar / np.std(np.array(num) - f_bar,ddof=1)\n",
    "    return CW"
   ]
  },
  {
   "cell_type": "code",
   "execution_count": 80,
   "metadata": {},
   "outputs": [
    {
     "data": {
      "image/png": "[encoded data removed]",
      "text/plain": [
       "<Figure size 432x288 with 1 Axes>"
      ]
     },
     "metadata": {
      "needs_background": "light"
     },
     "output_type": "display_data"
    },
    {
     "data": {
      "image/png": "[encoded data removed]",
      "text/plain": [
       "<Figure size 432x288 with 1 Axes>"
      ]
     },
     "metadata": {
      "needs_background": "light"
     },
     "output_type": "display_data"
    },
    {
     "data": {
      "image/png": "[encoded data removed]",
      "text/plain": [
       "<Figure size 432x288 with 1 Axes>"
      ]
     },
     "metadata": {
      "needs_background": "light"
     },
     "output_type": "display_data"
    },
    {
     "data": {
      "image/png": "[encoded data removed]",
      "text/plain": [
       "<Figure size 432x288 with 1 Axes>"
      ]
     },
     "metadata": {
      "needs_background": "light"
     },
     "output_type": "display_data"
    }
   ],
   "source": [
    "my_dict = {'month':200,'quarter':66,'semi':33,'annual':16}\n",
    "\n",
    "i=0\n",
    "for item in my_dict.keys():\n",
    "    plt.figure(i)\n",
    "    if item == 'month':\n",
    "        plt.plot([CW_test(X,r,i,my_dict[item]) for i in range(X.shape[1]+1)])\n",
    "        plt.xlabel('Rank of Principle Component Approximation')\n",
    "        plt.ylabel('CW test statistics')\n",
    "        plt.title('Month Clark and Wald Test')\n",
    "    else:\n",
    "        eval(f'plt.plot([CW_test(X_{item},r_{item},i,my_dict[item]) for i in range(X.shape[1]+1)])')\n",
    "        plt.xlabel('Rank of Principle Component Approximation')\n",
    "        plt.ylabel('CW test statistics')\n",
    "        if item == 'semi':\n",
    "            plt.title(f'{item[0].upper()}{item[1:]}' + '-annual Clark and Wald Test')\n",
    "        else:\n",
    "            plt.title(f'{item[0].upper()}{item[1:]} Clark and Wald Test')\n",
    "    i+=1"
   ]
  },
  {
   "cell_type": "markdown",
   "metadata": {},
   "source": [
    "### 3.2 Bond Returns"
   ]
  },
  {
   "cell_type": "markdown",
   "metadata": {},
   "source": [
    "The logic of this section is equivalent to the stock returns. First section deals with principal component, the second section the $R_{OS}^2$ and the third section the Clark Wald test statistics."
   ]
  },
  {
   "cell_type": "code",
   "execution_count": 148,
   "metadata": {},
   "outputs": [],
   "source": [
    "bonds_explanatory_variables = ['y_bond','inflation','Term_Spread','Default_Spread',\\\n",
    "                               'output_gap','MOMBY_6','MOMBY_12']\n",
    "X = processed_df[bonds_explanatory_variables].values\n",
    "r = processed_df['r_bond'].values\n",
    "\n",
    "X_quarter = (processed_df[2:].set_index('Dates').resample('3M')\n",
    "             .agg('last')[bonds_explanatory_variables].values)\n",
    "y_quarter = (processed_df[2:].set_index('Dates')\n",
    "             .resample('3M').agg('last')['r_bond'].values)\n",
    "X_semi = (processed_df[2:].set_index('Dates').resample('6M')\n",
    "          .agg('last')[bonds_explanatory_variables].values)\n",
    "y_semi = (processed_df[2:].set_index('Dates')\n",
    "          .resample('6M').agg('last')['r_bond'].values)\n",
    "X_annual = (processed_df.set_index('Dates').resample('Y')\n",
    "        .agg(lambda x: x[-2])[bonds_explanatory_variables].values)\n",
    "y_annual = (processed_df.set_index('Dates').resample('Y')\n",
    "        .agg(lambda x: x[-2])['r_bond'].values)\n"
   ]
  },
  {
   "cell_type": "code",
   "execution_count": 149,
   "metadata": {},
   "outputs": [
    {
     "data": {
      "image/png": "[encoded data removed]",
      "text/plain": [
       "<Figure size 432x288 with 1 Axes>"
      ]
     },
     "metadata": {
      "needs_background": "light"
     },
     "output_type": "display_data"
    },
    {
     "data": {
      "image/png": "[encoded data removed]",
      "text/plain": [
       "<Figure size 432x288 with 1 Axes>"
      ]
     },
     "metadata": {
      "needs_background": "light"
     },
     "output_type": "display_data"
    },
    {
     "data": {
      "image/png": "[encoded data removed]",
      "text/plain": [
       "<Figure size 432x288 with 1 Axes>"
      ]
     },
     "metadata": {
      "needs_background": "light"
     },
     "output_type": "display_data"
    },
    {
     "data": {
      "image/png": "[encoded data removed]",
      "text/plain": [
       "<Figure size 432x288 with 1 Axes>"
      ]
     },
     "metadata": {
      "needs_background": "light"
     },
     "output_type": "display_data"
    }
   ],
   "source": [
    "my_dict = {'month':200,'quarter':66,'semi':33,'annual':16}\n",
    "\n",
    "i=0\n",
    "for item in my_dict.keys():\n",
    "    plt.figure(i)\n",
    "    if item == 'month':\n",
    "        plt.plot([Rsquared_OS(X,r,i,my_dict[item]) for i in range(X.shape[1]+1)])\n",
    "        plt.xlabel('Bond: Rank of Principle Component Approximation')\n",
    "        plt.ylabel('Bond: Out-of-sample R-squared')\n",
    "        plt.title('Bond: Month out-of-sample R-squared')\n",
    "    else:\n",
    "        eval(f'plt.plot([Rsquared_OS(X_{item},r_{item},i,my_dict[item]) for i in range(X.shape[1]+1)])')\n",
    "        plt.xlabel('Rank of Principle Component Approximation')\n",
    "        plt.ylabel('Bond: Out-of-sample R-squared')\n",
    "        if item == 'semi':\n",
    "            plt.title('Bond: '+f'{item[0].upper()}{item[1:]}' + '-annual out-of-sample R-squared')\n",
    "        else:\n",
    "            plt.title('Bond: '+ f'{item[0].upper()}{item[1:]} out-of-sample R-squared')\n",
    "    i+=1\n",
    "\n"
   ]
  },
  {
   "cell_type": "code",
   "execution_count": 151,
   "metadata": {},
   "outputs": [
    {
     "data": {
      "image/png": "[encoded data removed]",
      "text/plain": [
       "<Figure size 432x288 with 1 Axes>"
      ]
     },
     "metadata": {
      "needs_background": "light"
     },
     "output_type": "display_data"
    },
    {
     "data": {
      "image/png": "[encoded data removed]",
      "text/plain": [
       "<Figure size 432x288 with 1 Axes>"
      ]
     },
     "metadata": {
      "needs_background": "light"
     },
     "output_type": "display_data"
    },
    {
     "data": {
      "image/png": "[encoded data removed]",
      "text/plain": [
       "<Figure size 432x288 with 1 Axes>"
      ]
     },
     "metadata": {
      "needs_background": "light"
     },
     "output_type": "display_data"
    },
    {
     "data": {
      "image/png": "[encoded data removed]",
      "text/plain": [
       "<Figure size 432x288 with 1 Axes>"
      ]
     },
     "metadata": {
      "needs_background": "light"
     },
     "output_type": "display_data"
    }
   ],
   "source": [
    "my_dict = {'month':200,'quarter':66,'semi':33,'annual':16}\n",
    "\n",
    "i=0\n",
    "for item in my_dict.keys():\n",
    "    plt.figure(i)\n",
    "    if item == 'month':\n",
    "        plt.plot([CW_test(X,r,i,my_dict[item]) for i in range(X.shape[1]+1)])\n",
    "        plt.xlabel('Rank of Principle Component Approximation')\n",
    "        plt.ylabel('CW test statistics')\n",
    "        plt.title('Bond: Month Clark and Wald Test')\n",
    "    else:\n",
    "        eval(f'plt.plot([CW_test(X_{item},r_{item},i,my_dict[item]) for i in range(X.shape[1]+1)])')\n",
    "        plt.xlabel('Rank of Principle Component Approximation')\n",
    "        plt.ylabel('Bond: CW test statistics')\n",
    "        if item == 'semi':\n",
    "            plt.title('Bond: '+f'{item[0].upper()}{item[1:]}' + '-annual Clark and Wald Test')\n",
    "        else:\n",
    "            plt.title('Bond: '+ f'{item[0].upper()}{item[1:]} Clark and Wald Test')\n",
    "    i+=1"
   ]
  },
  {
   "cell_type": "markdown",
   "metadata": {},
   "source": [
    "### 3.3 Bill Returns"
   ]
  },
  {
   "cell_type": "markdown",
   "metadata": {},
   "source": [
    "The result is not as expected for bill returns. I suspect that the compound return data provided by the Factset is not accurate. For visualization of the data, Please refer to the next cell. The data shows the 1-month return. However, the maximum return was 10.0 and minimum value was -9. Clearly, return of -9 does not make sense. As I have checked the function I used to compute the return, I should find another source to obtain the return data. However, I do not currently know where I can retrieve the data.\n"
   ]
  },
  {
   "cell_type": "code",
   "execution_count": 167,
   "metadata": {},
   "outputs": [
    {
     "data": {
      "text/plain": [
       "[<matplotlib.lines.Line2D at 0x11bee5a90>]"
      ]
     },
     "execution_count": 167,
     "metadata": {},
     "output_type": "execute_result"
    },
    {
     "data": {
      "image/png": "[encoded data removed]",
      "text/plain": [
       "<Figure size 432x288 with 1 Axes>"
      ]
     },
     "metadata": {
      "needs_background": "light"
     },
     "output_type": "display_data"
    }
   ],
   "source": [
    "plt.plot( processed_df['r_bill'].values)"
   ]
  },
  {
   "cell_type": "code",
   "execution_count": 168,
   "metadata": {},
   "outputs": [
    {
     "data": {
      "text/plain": [
       "-8.999999999997765"
      ]
     },
     "execution_count": 168,
     "metadata": {},
     "output_type": "execute_result"
    }
   ],
   "source": [
    "processed_df['r_bill'].values.min()"
   ]
  },
  {
   "cell_type": "code",
   "execution_count": 169,
   "metadata": {},
   "outputs": [],
   "source": [
    "X = processed_df['y_bill'].values.reshape(-1,1)\n",
    "r = processed_df['r_bill'].values\n",
    "\n",
    "X_quarter = (processed_df[2:].set_index('Dates').resample('3M')\n",
    "             .agg('last')[['y_bill']].values)\n",
    "y_quarter = (processed_df[2:].set_index('Dates')\n",
    "             .resample('3M').agg('last')['r_bill'].values)\n",
    "X_semi = (processed_df[2:].set_index('Dates').resample('6M')\n",
    "          .agg('last')[['y_bill']].values)\n",
    "y_semi = (processed_df[2:].set_index('Dates')\n",
    "          .resample('6M').agg('last')['r_bill'].values)\n",
    "X_annual = (processed_df.set_index('Dates').resample('Y')\n",
    "        .agg(lambda x: x[-2])[['y_bill']].values)\n",
    "y_annual = (processed_df.set_index('Dates').resample('Y')\n",
    "        .agg(lambda x: x[-2])['r_bill'].values)"
   ]
  },
  {
   "cell_type": "code",
   "execution_count": 170,
   "metadata": {},
   "outputs": [
    {
     "name": "stdout",
     "output_type": "stream",
     "text": [
      "Month Rsquared_OS:  -0.00963719144583619\n",
      "quarter  Rsquared_OS:  -0.05757419481227144\n",
      "semi  Rsquared_OS:  -0.16981965806816768\n",
      "annual  Rsquared_OS:  -0.4422955358190517\n"
     ]
    }
   ],
   "source": [
    "my_dict = {'month':200,'quarter':66,'semi':33,'annual':16}\n",
    "\n",
    "i=0\n",
    "for item in my_dict.keys():\n",
    "    if item=='month':\n",
    "        print('Month Rsquared_OS: ', Rsquared_OS(X,r,1,my_dict[item]))\n",
    "    else:\n",
    "        eval( f'print(item,\" Rsquared_OS: \",Rsquared_OS(X_{item},r_{item},1,my_dict[item]))')\n"
   ]
  },
  {
   "cell_type": "code",
   "execution_count": 171,
   "metadata": {},
   "outputs": [
    {
     "name": "stdout",
     "output_type": "stream",
     "text": [
      "Month Rsquared_OS:  -0.4211238819678403\n",
      "quarter  Rsquared_OS:  -2.285135505687965\n",
      "semi  Rsquared_OS:  -1.353549076476365\n",
      "annual  Rsquared_OS:  -1.1960589001920952\n"
     ]
    }
   ],
   "source": [
    "my_dict = {'month':200,'quarter':66,'semi':33,'annual':16}\n",
    "\n",
    "i=0\n",
    "for item in my_dict.keys():\n",
    "    if item=='month':\n",
    "        print('Month Rsquared_OS: ', CW_test(X,r,1,my_dict[item]))\n",
    "    else:\n",
    "        eval( f'print(item,\" Rsquared_OS: \",CW_test(X_{item},r_{item},1,my_dict[item]))')\n"
   ]
  },
  {
   "cell_type": "markdown",
   "metadata": {},
   "source": [
    "## 4. Portfolio Performance Evaluation"
   ]
  },
  {
   "cell_type": "markdown",
   "metadata": {},
   "source": [
    "Choice of the number of Principal Components for Month:\n",
    "Stock: 7, Bond: 2"
   ]
  },
  {
   "cell_type": "markdown",
   "metadata": {},
   "source": [
    "## 4.1 Return Estimate"
   ]
  },
  {
   "cell_type": "code",
   "execution_count": 189,
   "metadata": {},
   "outputs": [],
   "source": [
    "r_actual = processed_df[['r_SPX','r_bond','r_bill']].values"
   ]
  },
  {
   "cell_type": "code",
   "execution_count": 264,
   "metadata": {},
   "outputs": [],
   "source": [
    "r_hat_SPX = []\n",
    "for i in range(r_actual.shape[0]):\n",
    "    X_stock_PCA = truncated_PC(processed_df[stock_explanatory_variables][:i].values,7)\n",
    "    w_stock = PC_fit(X_stock_PCA,r_actual[:i,0],7)\n",
    "    x_stock_PCA_new = np.concatenate((np.ones(1),truncated_PC(processed_df[stock_explanatory_variables][:i+1].values,7)[-1,:]))\n",
    "    r_hat_SPX+=[np.dot(x_stock_PCA_new,w_stock)]"
   ]
  },
  {
   "cell_type": "code",
   "execution_count": 265,
   "metadata": {},
   "outputs": [
    {
     "name": "stderr",
     "output_type": "stream",
     "text": [
      "No handles with labels found to put in legend.\n"
     ]
    },
    {
     "data": {
      "text/plain": [
       "<matplotlib.legend.Legend at 0x11f854ef0>"
      ]
     },
     "execution_count": 265,
     "metadata": {},
     "output_type": "execute_result"
    },
    {
     "data": {
      "image/png": "[encoded data removed]",
      "text/plain": [
       "<Figure size 432x288 with 1 Axes>"
      ]
     },
     "metadata": {
      "needs_background": "light"
     },
     "output_type": "display_data"
    }
   ],
   "source": [
    "plt.plot(r_hat_SPX[200:])\n",
    "plt.plot(r_actual[200:,0])\n",
    "plt.legend()"
   ]
  },
  {
   "cell_type": "code",
   "execution_count": 377,
   "metadata": {},
   "outputs": [],
   "source": [
    "r_hat_bond = []\n",
    "for i in range(r_actual.shape[0]):\n",
    "    X_bond_PCA = truncated_PC(processed_df[bonds_explanatory_variables][:i].values,2)\n",
    "    w_bond = PC_fit(X_bond_PCA,r_actual[:i,1],2)\n",
    "    x_bond_PCA_new = np.concatenate((np.ones(1),truncated_PC(processed_df[bonds_explanatory_variables][:i+1].values,2)[-1,:]))\n",
    "    r_hat_bond+=[np.dot(x_bond_PCA_new,w_bond)]"
   ]
  },
  {
   "cell_type": "code",
   "execution_count": 378,
   "metadata": {},
   "outputs": [
    {
     "name": "stderr",
     "output_type": "stream",
     "text": [
      "No handles with labels found to put in legend.\n"
     ]
    },
    {
     "data": {
      "text/plain": [
       "<matplotlib.legend.Legend at 0x11ffa7f60>"
      ]
     },
     "execution_count": 378,
     "metadata": {},
     "output_type": "execute_result"
    },
    {
     "data": {
      "image/png": "[encoded data removed]",
      "text/plain": [
       "<Figure size 432x288 with 1 Axes>"
      ]
     },
     "metadata": {
      "needs_background": "light"
     },
     "output_type": "display_data"
    }
   ],
   "source": [
    "plt.plot(r_hat_bond[200:])\n",
    "plt.plot(r_actual[200:,1])\n",
    "plt.legend()"
   ]
  },
  {
   "cell_type": "code",
   "execution_count": 354,
   "metadata": {},
   "outputs": [],
   "source": [
    "r_hat_bill = []\n",
    "X_bill = np.concatenate((np.ones(r_actual.shape[0]).reshape(-1,1),\n",
    "                         processed_df['y_bill'].values.reshape(-1,1)),axis=1)\n",
    "for i in range(r_actual.shape[0]):\n",
    "    w_bill = np.matmul(\n",
    "                    np.matmul(\n",
    "                        np.linalg.inv(1e-6*np.eye(2) + np.matmul(\n",
    "                            X_bill[:i-1,:].transpose(),X_bill[:i-1,:])),\n",
    "                            X_bill[:i-1,:].transpose()),\n",
    "                        r_actual[:i-1,2])\n",
    "    r_hat_bill+=[np.dot(X_bill[i-1,:],w_bill)]\n",
    "    \n",
    "    \n",
    "    "
   ]
  },
  {
   "cell_type": "code",
   "execution_count": 353,
   "metadata": {},
   "outputs": [
    {
     "name": "stderr",
     "output_type": "stream",
     "text": [
      "No handles with labels found to put in legend.\n"
     ]
    },
    {
     "data": {
      "text/plain": [
       "<matplotlib.legend.Legend at 0x11fecd320>"
      ]
     },
     "execution_count": 353,
     "metadata": {},
     "output_type": "execute_result"
    },
    {
     "data": {
      "image/png": "[encoded data removed]",
      "text/plain": [
       "<Figure size 432x288 with 1 Axes>"
      ]
     },
     "metadata": {
      "needs_background": "light"
     },
     "output_type": "display_data"
    }
   ],
   "source": [
    "plt.plot(r_hat_bill[200:])\n",
    "plt.plot(r_actual[200:,2])\n",
    "plt.legend()"
   ]
  },
  {
   "cell_type": "code",
   "execution_count": 467,
   "metadata": {},
   "outputs": [],
   "source": [
    "r_hat = pd.DataFrame(r_hat_SPX,columns = ['r_hat_SPX'])\n",
    "r_hat['r_hat_bond'] = pd.Series(r_hat_bond)\n",
    "r_hat['r_hat_bill'] = pd.Series(r_hat_bill)\n",
    "r_hat = r_hat.astype(float)"
   ]
  },
  {
   "cell_type": "markdown",
   "metadata": {},
   "source": [
    "## 4.2 EWMA Covariance Estimate"
   ]
  },
  {
   "cell_type": "markdown",
   "metadata": {},
   "source": [
    "I referred the formula of Exponentially Weighted Moving Average from Table 5.1 of Riskmetrics - technical document. It is as following:\n",
    "$$Cov(r^i, r^j)= (1-\\lambda)\\sum_{t=0}^{T-1}\\lambda^t (r_{t}^{i}-\\overline{r}_{t}^{i})(r_{t}^{j}-\\overline{r}_{t}^{j}) \\quad i,j \\in{\\{stock, bond, bill\\}}$$\n",
    "The way I compute this amount is:\n",
    "$$ X =\\begin{pmatrix}\n",
    "r^{stock}_0 -\\overline{r}^{stock}& r^{bond}_0  -\\overline{r}^{bond}& r^{bill}_0 -\\overline{r}^{bill}\\\\ \n",
    "r^{stock}_1 -\\overline{r}^{stock}&  r^{bond}_1 -\\overline{r}^{bond}& r^{bill}_1 -\\overline{r}^{bill}\\\\ \n",
    "r^{stock}_3 -\\overline{r}^{stock}&  r^{bond}_2 -\\overline{r}^{bond}& r^{bill}_2 -\\overline{r}^{bill}\n",
    "\\end{pmatrix} \\\\\n",
    "\\Rightarrow\n",
    "\\tilde{X}=\\sqrt{1-\\lambda}\\bigl(\\begin{smallmatrix}\n",
    "1 & 0 & 0\\\\ \n",
    " 0&  \\lambda^{0.5}& 0\\\\ \n",
    " 0&  0& \\lambda\n",
    "\\end{smallmatrix}\\bigr)X =\\sqrt{1-\\lambda} \\begin{pmatrix}\n",
    "r^{stock}_0 -\\overline{r}^{stock}& r^{bond}_0  -\\overline{r}^{bond}& r^{bill}_0 -\\overline{r}^{bill}\\\\ \n",
    "\\lambda^{0.5}(r^{stock}_1 -\\overline{r}^{stock})&  \\lambda^{0.5}(r^{bond}_1 -\\overline{r}^{bond})&\\lambda^{0.5}( r^{bill}_1 -\\overline{r}^{bill})\\\\ \n",
    "\\lambda(r^{stock}_2 -\\overline{r}^{stock})&  \\lambda(r^{bond}_2 -\\overline{r}^{bond})&\\lambda( r^{bill}_2 -\\overline{r}^{bill})\n",
    "\\end{pmatrix}= (\\tilde{r}^{stock},\\tilde{r}^{bond},\\tilde{r}^{bill} )\n",
    "\\\\\n",
    "$$\n",
    "\n",
    "$$\\Rightarrow\n",
    "\\tilde{X}^T\\tilde{X} = \\begin{pmatrix}\n",
    " (\\tilde{r}^{stock})^T\\tilde{r}^{stock}& (\\tilde{r}^{stock})^T\\tilde{r}^{bond} &(\\tilde{r}^{stock})^T\\tilde{r}^{bill} \\\\ \n",
    " (\\tilde{r}^{bond})^T\\tilde{r}^{stock}&  (\\tilde{r}^{bond})^T\\tilde{r}^{bond}& (\\tilde{r}^{bond})^T\\tilde{r}^{bill}\\\\ \n",
    " (\\tilde{r}^{bill})^T\\tilde{r}^{stock}&  (\\tilde{r}^{bill})^T\\tilde{r}^{bond}& (\\tilde{r}^{bill})^T\\tilde{r}^{bill}\n",
    "\\end{pmatrix} = \\begin{pmatrix}\n",
    "Cov(r^{stock},r^{stock}) &  Cov(r^{stock},r^{bond})&Cov(r^{stock},r^{bill}) \\\\ \n",
    "Cov(r^{bond},r^{stock}) & Cov(r^{bond},r^{ond}) & Cov(r^{bond},r^{bill})\\\\ \n",
    "Cov(r^{bill},r^{stock}) & Cov(r^{bill},r^{bond}) & Cov(r^{bill},r^{bill})\n",
    "\\end{pmatrix}\n",
    "$$"
   ]
  },
  {
   "cell_type": "code",
   "execution_count": 468,
   "metadata": {},
   "outputs": [],
   "source": [
    "def EWMA(t):\n",
    "    decay = 0.94\n",
    "    A = np.matmul(np.diag([np.sqrt((1-decay)*decay**i) \n",
    "                           for i in range(t+1)]),r_actual[:t+1])\n",
    "    return np.matmul(A.T,A)"
   ]
  },
  {
   "cell_type": "code",
   "execution_count": 469,
   "metadata": {},
   "outputs": [
    {
     "data": {
      "text/plain": [
       "array([[ 0.00114833, -0.00062392, -0.00050918],\n",
       "       [-0.00062392,  0.00154445,  0.00122935],\n",
       "       [-0.00050918,  0.00122935,  0.00318574]])"
      ]
     },
     "execution_count": 469,
     "metadata": {},
     "output_type": "execute_result"
    }
   ],
   "source": [
    "EWMA(200)"
   ]
  },
  {
   "cell_type": "markdown",
   "metadata": {},
   "source": [
    "## 4.3 Black Litterman $\\mu$ and $\\Sigma$"
   ]
  },
  {
   "cell_type": "markdown",
   "metadata": {},
   "source": [
    "### 4.3.1 Covariance Matrix of Active Views"
   ]
  },
  {
   "cell_type": "markdown",
   "metadata": {},
   "source": [
    "$$\\omega_{j} = \\left( \\frac{1-c_{j}}{c_{j}} \\right)p_{j}\\hat{\\Sigma}_{t:t+h}p_{j}^{T}\\quad \\text{for} \\space j = \\text{stock, bond, or bill}$$\n",
    "where $p_{stock}, p_{bond}, p_{bill}$ are first, second and third rows of $P = I_{3}$. And, $c_{stock} = 0.25, c_{bond} = 0.50, c_{bill} = 0.75$. Note that larger the c is, less relevant is the investor view and when c equals 1 then investor view is considered majestic. The rationale for the choice of parameter is that if regression result is credit-worthy (characterized by high $R^2_{OS}$) then do not utilize information about views."
   ]
  },
  {
   "cell_type": "markdown",
   "metadata": {},
   "source": [
    "I slightly modify the weights `c` because of poor quality of bond/bill returns data I obtained."
   ]
  },
  {
   "cell_type": "code",
   "execution_count": 470,
   "metadata": {},
   "outputs": [],
   "source": [
    "omega_stock = [(1/0.75 -1)*EWMA(t)[0,0] for t in range(r_actual.shape[0])]\n",
    "omega_bond  = [(1/0.5 -1)*EWMA(t)[1,1] for t in range(r_actual.shape[0])]\n",
    "omega_bill  = [(1/0.25 -1)*EWMA(t)[2,2] for t in range(r_actual.shape[0])]"
   ]
  },
  {
   "cell_type": "code",
   "execution_count": 471,
   "metadata": {},
   "outputs": [],
   "source": [
    "Omega = []\n",
    "for i in range(len(omega_stock)):\n",
    "    Omega += [np.diag([omega_stock[i],omega_bond[i],omega_bill[i]])]"
   ]
  },
  {
   "cell_type": "markdown",
   "metadata": {},
   "source": [
    "### 4.3.2 $\\mu_{BL}$ And $\\Sigma_{BL}$"
   ]
  },
  {
   "cell_type": "markdown",
   "metadata": {},
   "source": [
    "$$\\mu_{BL} = \\mu + \\hat{\\Sigma} P^T(P\\hat{\\Sigma}P^T+\\Omega)^{-1}(V-P \\mu) $$\n",
    "$$ \\Sigma_{BL} = \\hat{\\Sigma} - \\hat{\\Sigma}P^T(P\\hat{\\Sigma}P^T+\\Omega)^{-1}P\\hat{\\Sigma}$$\n",
    "\n",
    "Da Silva(2009) claims that Black-Litterman was derived under the mean-variance portfolio optimization rather than optimizing the common active management performance measure, the information ratio. And, this resulted in a bias that could lead to unintentional trades.\n",
    "\n",
    "The authors' remedy for this issue pertains to the practice of obtaining implied equilibrium excess returns through $\\mu = \\gamma \\Sigma \\omega_B$ where $\\gamma$ is a risk-aversion coefficient. The author asserts to set $\\mu = 0$. And, $\\hat{r}$ is considered to be the active views $V$ and $P$ is assumed to be $I_3$.\n",
    "In summary,\n",
    "$$\\mu_{BL} = \\hat{\\Sigma}(\\hat{\\Sigma}+\\Omega)^{-1}\\hat{r} $$\n",
    "$$ \\Sigma_{BL} = \\hat{\\Sigma} - \\hat{\\Sigma}(\\hat{\\Sigma}+\\Omega)^{-1}\\hat{\\Sigma}$$"
   ]
  },
  {
   "cell_type": "code",
   "execution_count": 478,
   "metadata": {},
   "outputs": [],
   "source": [
    "mu_BL = []\n",
    "Sigma_BL = []\n",
    "for i in range(len(r_actual)):\n",
    "    mu_BL+=[np.dot(np.matmul(EWMA(i),np.linalg.inv(1e-6 + EWMA(i) + Omega[i])),r_hat.values[i] )]\n",
    "    Sigma_BL+=[EWMA(i)-np.matmul(np.matmul(EWMA(i),np.linalg.inv(1e-6 +EWMA(i)+Omega[i])),EWMA(i))]"
   ]
  },
  {
   "cell_type": "markdown",
   "metadata": {},
   "source": [
    "### 4.3.3 Black-Litterman Return Expectation and Variance"
   ]
  },
  {
   "cell_type": "markdown",
   "metadata": {},
   "source": [
    "$log(r)|view \\sim N(\\mu_{BL},\\Sigma_{BL}) \\\\ \\Rightarrow E[P^i_{t}] = P^i_{0}exp\\left(\\mu_{BL,i} + \\frac{1}{2} \\Sigma_{BL,(i,i)}\\right) \\quad \\text{where} \\quad i\\in{\\{stock,bond,bill\\}}\n",
    " \\\\ \\quad Cov[P^i_{t},P^j_{t}] =P^i_{0}P^i_{0}exp\\left(\\mu_{BL,i}+\\mu_{BL,j}\\right)exp\\left(\\frac{1}{2}\\left(\\Sigma_{BL,(ii)} +   \\Sigma_{BL,(jj)}\\right)\\right)\\bigodot\\left(exp\\left(\\Sigma_{BL,(ij)}-1\\right)\\right) \\quad \\text{where}  \\quad  i,j\\in{\\{stock,bond,bill\\}}        $"
   ]
  },
  {
   "cell_type": "code",
   "execution_count": 676,
   "metadata": {},
   "outputs": [],
   "source": [
    "m=[]\n",
    "S=[]\n",
    "for i in range(len(r_actual)):\n",
    "    m += [np.exp(mu_BL[i]+0.5*np.diag(Sigma_BL[i])).reshape(-1,1)  - 1]\n",
    "    S += [np.multiply(np.matmul(np.exp(mu_BL[i]+0.5*np.diag(Sigma_BL[i])).reshape(-1,1),\n",
    "          np.exp(mu_BL[i]+0.5*np.diag(Sigma_BL[i])).reshape(-1,1).T),np.exp(Sigma_BL[i]) - 1)]"
   ]
  },
  {
   "cell_type": "markdown",
   "metadata": {},
   "source": [
    "### 4.3.4 DAA Portfolio Optimization"
   ]
  },
  {
   "cell_type": "markdown",
   "metadata": {},
   "source": [
    "Optimization problem is:\n",
    "\n",
    "\n",
    "\\begin{aligned}\n",
    "\\min_{w} \\quad & -\\left ( w-w_{bench} \\right )^Tm\\\\\n",
    "\\textrm{s.t.} \\quad & \\left \\| R\\left ( w-w_{bench} \\right ) \\right \\|_2 \\leq (h/12)TE^2\\\\\n",
    " & w^T1_3 =1    \\\\\n",
    " & -w  \\leq -w_{LB}\n",
    "\\end{aligned}\n",
    "\n",
    "where $R$ is the Cholesky Decomposition of $S$\n",
    "This is equivalent to:\n",
    "\n",
    "\\begin{aligned}\n",
    "\\min_{u} \\quad & -u^Tm\\\\\n",
    "\\textrm{s.t.} \\quad\n",
    " & u^T1_3 \\leq -0.5    \\\\\n",
    " & -u^T1_3 \\leq 0.5 \\\\\n",
    " & -u  \\leq -w_{LB} + w_{bench} \\\\\n",
    " & \\left \\| Ru \\right \\|_2 \\leq 0.02^2/12\n",
    "\\end{aligned}"
   ]
  },
  {
   "cell_type": "code",
   "execution_count": 636,
   "metadata": {},
   "outputs": [],
   "source": [
    "def cholesky(A):\n",
    "    \"\"\"\n",
    "    computes left cholesky matrix. Advantage of this matrix over np.linalg.cholesky\n",
    "    is that first few observation of S matrix is not positive definite which creates\n",
    "    an error message.\n",
    "    \"\"\"\n",
    "    L = np.eye(3)\n",
    "    L[1:,0]=-S[5][1:,0]/S[5][0,0]\n",
    "    tmp = np.matmul(L,S[5])\n",
    "    L2 = np.eye(3)\n",
    "    L2[2,1] = -tmp[2,1]/tmp[1,1]\n",
    "    diag = np.sqrt(np.matmul(np.matmul(np.matmul(L2,tmp),L.T),L2.T))\n",
    "    Linv=np.eye(3)\n",
    "    Linv[1:,0] = -L[1:,0]/L[0,0]\n",
    "    L2inv=np.eye(3)\n",
    "    L2inv[2,1] = -L2[2,1]/L2[1,1]\n",
    "    Left = np.matmul(np.matmul(Linv,L2inv),diag)\n",
    "    return Left"
   ]
  },
  {
   "cell_type": "code",
   "execution_count": 674,
   "metadata": {},
   "outputs": [],
   "source": [
    "# Write Gurobi Script below: Modify the sample."
   ]
  },
  {
   "cell_type": "code",
   "execution_count": 698,
   "metadata": {},
   "outputs": [
    {
     "data": {
      "text/plain": [
       "array([[ 0.0083659 , -0.00125391, -0.00166553],\n",
       "       [ 0.        ,  0.00749668,  0.00284972],\n",
       "       [ 0.        ,  0.        ,  0.01401753]])"
      ]
     },
     "execution_count": 698,
     "metadata": {},
     "output_type": "execute_result"
    }
   ],
   "source": [
    "R = cholesky(S[10]).T\n",
    "R"
   ]
  },
  {
   "cell_type": "code",
   "execution_count": 706,
   "metadata": {},
   "outputs": [
    {
     "name": "stdout",
     "output_type": "stream",
     "text": [
      "Optimize a model with 0 rows, 3 columns and 0 nonzeros\n",
      "Model has 1 quadratic constraint\n",
      "Coefficient statistics:\n",
      "  Matrix range     [0e+00, 0e+00]\n",
      "  QMatrix range    [2e-05, 2e-04]\n",
      "  Objective range  [5e-01, 8e-01]\n",
      "  Bounds range     [0e+00, 0e+00]\n",
      "  RHS range        [0e+00, 0e+00]\n",
      "  QRHS range       [1e-09, 1e-09]\n",
      "Presolve time: 0.01s\n",
      "Presolved: 4 rows, 7 columns, 10 nonzeros\n",
      "Presolved model has 1 second-order cone constraint\n",
      "Ordering time: 0.00s\n",
      "\n",
      "Barrier statistics:\n",
      " AA' NZ     : 6.000e+00\n",
      " Factor NZ  : 1.000e+01\n",
      " Factor Ops : 3.000e+01 (less than 1 second per iteration)\n",
      " Threads    : 1\n",
      "\n",
      "                  Objective                Residual\n",
      "Iter       Primal          Dual         Primal    Dual     Compl     Time\n",
      "   0   7.34674688e+00 -0.00000000e+00  1.11e-01 1.30e+02  7.27e+00     0s\n",
      "   1   3.77674443e+00  6.25537811e-03  4.71e-02 1.43e-04  1.45e+00     0s\n",
      "   2   5.75272712e-03  6.25222234e-03  4.41e-05 1.58e-10  1.91e-03     0s\n",
      "   3   2.54708533e-03  4.28666559e-03  2.95e-11 1.42e-13  2.17e-04     0s\n",
      "   4   3.27922178e-03  3.56810631e-03  3.24e-17 7.11e-14  3.61e-05     0s\n",
      "   5   3.32771213e-03  3.36340900e-03  5.39e-19 2.27e-13  4.46e-06     0s\n",
      "   6   3.34089810e-03  3.34964755e-03  6.08e-18 1.71e-13  1.09e-06     0s\n",
      "   7   3.34460049e-03  3.34464813e-03  8.27e-19 5.68e-14  5.96e-09     0s\n",
      "\n",
      "Barrier solved model in 7 iterations and 0.03 seconds\n",
      "Optimal objective 3.34460049e-03\n",
      "\n",
      "u1 7.84415e-10\n",
      "u2 0.00425929\n",
      "u3 0.000250384\n",
      "Obj: 0.0033446\n"
     ]
    }
   ],
   "source": [
    "from gurobipy import *\n",
    "\n",
    "# Create a new model\n",
    "model = Model(\"qcp\")\n",
    "\n",
    "# Create variables\n",
    "u1 = model.addVar(name=\"u1\")\n",
    "u2 = model.addVar(name=\"u2\")\n",
    "u3 = model.addVar(name=\"u3\")\n",
    "\n",
    "# Set objective: x\n",
    "obj = m[10][0][0]*u1 + m[10][1][0]*u2 + m[10][2][0]*u3 \n",
    "model.setObjective(obj, GRB.MAXIMIZE)\n",
    "\n",
    "# Add constraint: u1 + u2 + u3  =< -0.5\n",
    "# model.addConstr(u1 + u2 + u3 == -0.5, \"c0\")\n",
    "\n",
    "# model.addConstr( -u1  <= w_bench[0] -w_LB[0], \"c2\")\n",
    "\n",
    "# model.addConstr( -u2  <= w_bench[1] -w_LB[1], \"c3\")\n",
    "\n",
    "# model.addConstr( -u3  <= w_bench[2] -w_LB[2], \"c4\")\n",
    "\n",
    "# Add second-order cone: \n",
    "model.addConstr( (R[0,0]*u1 + R[0,1]*u2 + R[0,2]*u3)*(R[0,0]*u1 + R[0,1]*u2 + R[0,2]*u3)\n",
    "                + ( R[1,1]*u2 + R[1,2]*u3)*( R[1,1]*u2 + R[1,2]*u3)\n",
    "                + (R[2,2]*u3)*(R[2,2]*u3)\n",
    "                <= (TE**2 *(1/12))*(TE**2 *(1/12)), \"qc0\")\n",
    "model.optimize()\n",
    "\n",
    "for v in model.getVars():\n",
    "    print('%s %g' % (v.varName, v.x))\n",
    "\n",
    "print('Obj: %g' % obj.getValue())"
   ]
  },
  {
   "cell_type": "code",
   "execution_count": null,
   "metadata": {},
   "outputs": [],
   "source": []
  },
  {
   "cell_type": "code",
   "execution_count": null,
   "metadata": {},
   "outputs": [],
   "source": []
  }
 ],
 "metadata": {
  "kernelspec": {
   "display_name": "Python 3",
   "language": "python",
   "name": "python3"
  },
  "language_info": {
   "codemirror_mode": {
    "name": "ipython",
    "version": 3
   },
   "file_extension": ".py",
   "mimetype": "text/x-python",
   "name": "python",
   "nbconvert_exporter": "python",
   "pygments_lexer": "ipython3",
   "version": "3.7.2"
  }
 },
 "nbformat": 4,
 "nbformat_minor": 2
}
