{
 "cells": [
  {
   "cell_type": "code",
   "execution_count": 27,
   "metadata": {},
   "outputs": [],
   "source": [
    "import numpy as np"
   ]
  },
  {
   "cell_type": "markdown",
   "metadata": {},
   "source": [
    "### Experimentation 1:\n",
    "If there is a perfect multi-collinearity, will the smallest eigenvalues (i.e. singular values) of the Singular Value Decomposition be close to zero?"
   ]
  },
  {
   "cell_type": "markdown",
   "metadata": {},
   "source": [
    "Initially, I show that if there is no multi-collinearity, eigenvalues or singular values will not be close to zero."
   ]
  },
  {
   "cell_type": "code",
   "execution_count": 287,
   "metadata": {},
   "outputs": [
    {
     "data": {
      "text/plain": [
       "19.524472155065354"
      ]
     },
     "execution_count": 287,
     "metadata": {},
     "output_type": "execute_result"
    }
   ],
   "source": [
    "n=10000\n",
    "min_eig_list = []\n",
    "for i in range(n):\n",
    "\n",
    "    A = np.random.randint(-100,100,size=(5,5))\n",
    "    U,S,V = np.linalg.svd(A)\n",
    "    min_eig_list+=[S.min()]\n",
    "\n",
    "np.array(min_eig_list).mean()\n"
   ]
  },
  {
   "cell_type": "markdown",
   "metadata": {},
   "source": [
    "Then, I try to show that if there is a perfect multi-collinearity, the minimum eigenvalue or singular value will be zero."
   ]
  },
  {
   "cell_type": "markdown",
   "metadata": {},
   "source": [
    "To empirically show that this is the case, I created matrix of the following forms"
   ]
  },
  {
   "cell_type": "code",
   "execution_count": 289,
   "metadata": {},
   "outputs": [
    {
     "data": {
      "text/plain": [
       "array([[-80, -56, -19,  -2,  79],\n",
       "       [ -4,  61,  -2, -20,  13],\n",
       "       [ 40,   4,  34, -18,  13],\n",
       "       [ -8, -54, -34, -34, -69],\n",
       "       [ -8, -54, -34, -34, -69]])"
      ]
     },
     "execution_count": 289,
     "metadata": {},
     "output_type": "execute_result"
    }
   ],
   "source": [
    "A = np.random.randint(-100,100,size=(5,5))\n",
    "A[4,:]=A[3,:]\n",
    "A"
   ]
  },
  {
   "cell_type": "markdown",
   "metadata": {},
   "source": [
    "I will obtain the sum of the smallest eigenvalue (singular value) for `n` iterations."
   ]
  },
  {
   "cell_type": "code",
   "execution_count": 290,
   "metadata": {},
   "outputs": [
    {
     "data": {
      "text/plain": [
       "1.2549051759416348e-11"
      ]
     },
     "execution_count": 290,
     "metadata": {},
     "output_type": "execute_result"
    }
   ],
   "source": [
    "n=10000\n",
    "min_eig_list = []\n",
    "for i in range(n):\n",
    "\n",
    "    A = np.random.randint(-100,100,size=(5,5))\n",
    "    A[4,:]=A[3,:]\n",
    "    U,S,V = np.linalg.svd(A)\n",
    "    min_eig_list+=[S.min()]\n",
    "\n",
    "np.array(min_eig_list).sum()"
   ]
  },
  {
   "cell_type": "markdown",
   "metadata": {},
   "source": [
    "As expected, the sum of the 10000 smallest eigenvalues are zero."
   ]
  },
  {
   "cell_type": "markdown",
   "metadata": {},
   "source": [
    "### Experimentation 2:\n",
    "If there is a non-perfect multi-collinearity, will the smallest eigenvalues (i.e. singular values) of the Singular Value Decomposition be close to zero?"
   ]
  },
  {
   "cell_type": "markdown",
   "metadata": {},
   "source": [
    "To test this result, I perturbed the last row from the types of matrix I used earlier."
   ]
  },
  {
   "cell_type": "code",
   "execution_count": 294,
   "metadata": {},
   "outputs": [
    {
     "data": {
      "text/plain": [
       "array([[ -22,   38,   96,  -25,   27],\n",
       "       [ -79,  -78,  -89,  -70,  -85],\n",
       "       [  32,   -6,  -81,   33, -100],\n",
       "       [   3,  -25,  -99,  -33,  -16],\n",
       "       [   3,  -24,  -98,  -32,  -15]])"
      ]
     },
     "execution_count": 294,
     "metadata": {},
     "output_type": "execute_result"
    }
   ],
   "source": [
    "delta = np.random.random(5)\n",
    "A = np.random.randint(-100,100,size=(5,5))\n",
    "A[4,:]=A[3,:] + delta\n",
    "A"
   ]
  },
  {
   "cell_type": "code",
   "execution_count": 296,
   "metadata": {},
   "outputs": [
    {
     "data": {
      "text/plain": [
       "0.32257996972192665"
      ]
     },
     "execution_count": 296,
     "metadata": {},
     "output_type": "execute_result"
    }
   ],
   "source": [
    "n=10000\n",
    "min_eig_list = []\n",
    "for i in range(n):\n",
    "    delta = np.random.random(5)\n",
    "    A = np.random.randint(-100,100,size=(5,5))\n",
    "    A[4,:]=A[3,:] + delta\n",
    "    U,S,V = np.linalg.svd(A)\n",
    "    min_eig_list+=[S.min()]\n",
    "\n",
    "np.array(min_eig_list).mean()"
   ]
  },
  {
   "cell_type": "markdown",
   "metadata": {},
   "source": [
    "As expected, the minimum eigenvalue or singular value is close to zero."
   ]
  },
  {
   "cell_type": "code",
   "execution_count": null,
   "metadata": {},
   "outputs": [],
   "source": []
  },
  {
   "cell_type": "code",
   "execution_count": null,
   "metadata": {},
   "outputs": [],
   "source": []
  }
 ],
 "metadata": {
  "kernelspec": {
   "display_name": "Python (python3_cooking)\n",
   "language": "python",
   "name": "python3_cooking"
  },
  "language_info": {
   "codemirror_mode": {
    "name": "ipython",
    "version": 3
   },
   "file_extension": ".py",
   "mimetype": "text/x-python",
   "name": "python",
   "nbconvert_exporter": "python",
   "pygments_lexer": "ipython3",
   "version": "3.7.2"
  }
 },
 "nbformat": 4,
 "nbformat_minor": 2
}
