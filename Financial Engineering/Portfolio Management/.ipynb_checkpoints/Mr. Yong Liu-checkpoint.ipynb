{
 "cells": [
  {
   "cell_type": "code",
   "execution_count": 2,
   "metadata": {},
   "outputs": [],
   "source": [
    "import numpy as np"
   ]
  },
  {
   "cell_type": "markdown",
   "metadata": {},
   "source": [
    "### Notations"
   ]
  },
  {
   "cell_type": "markdown",
   "metadata": {},
   "source": [
    "Suppose $X_{n}$ is the probability that the `person A` reaches $N$ before it reaches $-N$ when the `person A` is currently positioned at $n$.\n",
    "<br>\n",
    "And, $p_u,p_d,p_n$ refers to the probability that the `person A` moves up, moves down and stay at the current position, respectively.\n",
    "<br/>\n",
    "\n",
    "<br>\n",
    "Then, as discussed during the interview, the following relationship holds.\n",
    "<br/>\n",
    "$$\\underset{=A}{\\underbrace{\\begin{pmatrix}\n",
    "1 & \\frac{-p_d}{1-p_n} &  &  & \\\\ \n",
    " \\frac{-p_u}{1-p_n}&  1& \\frac{-p_d}{1-p_n} &  & \\\\ \n",
    " &  \\ddots &  \\ddots &  \\ddots& \\\\ \n",
    " &  &  \\frac{-p_u}{1-p_n}&  1& \\frac{-p_d}{1-p_n}\\\\ \n",
    " &  &  & \\frac{-p_u}{1-p_n} & 1\n",
    "\\end{pmatrix}}}\n",
    "\\begin{pmatrix}\n",
    "X_{N-1}\\\\ \n",
    "X_{N-2}\\\\ \n",
    "\\vdots \\\\ \n",
    "X_{-N+2}\\\\ \n",
    "X_{-N+1}\n",
    "\\end{pmatrix}\n",
    "=\n",
    "\\underset{=y}{\\underbrace{\\begin{pmatrix}\n",
    " \\frac{-p_u}{1-p_n}\\\\ \n",
    "0\\\\ \n",
    "\\vdots \\\\ \n",
    "0\\\\ \n",
    "0\n",
    "\\end{pmatrix}}}$$\n"
   ]
  },
  {
   "cell_type": "code",
   "execution_count": 11,
   "metadata": {},
   "outputs": [
    {
     "name": "stdout",
     "output_type": "stream",
     "text": [
      "matrix A: \n",
      " [[ 1.  -0.2  0. ]\n",
      " [-0.8  1.  -0.2]\n",
      " [ 0.  -0.8  1. ]]\n",
      "y:  \n",
      " [0.8 0.  0. ]\n"
     ]
    }
   ],
   "source": [
    "N=2\n",
    "\n",
    "p_u=0.4\n",
    "p_d=0.1\n",
    "p_n=1-p_u-p_d\n",
    "A=np.zeros((2*N-1,2*N-1))\n",
    "A+=np.diag(-p_d/(1-p_n)*np.ones(2*N-2),1)\n",
    "A+=np.diag(-p_u/(1-p_n)*np.ones(2*N-2),-1)\n",
    "A+=np.eye(2*N-1)\n",
    "print('matrix A: \\n',A)\n",
    "y=np.zeros(2*N-1)\n",
    "y[0] = p_u/(1-p_n)\n",
    "print('y:  \\n', y)"
   ]
  },
  {
   "cell_type": "markdown",
   "metadata": {},
   "source": [
    "### 1. Matrix inverse using Numpy:"
   ]
  },
  {
   "cell_type": "code",
   "execution_count": 12,
   "metadata": {},
   "outputs": [
    {
     "data": {
      "text/plain": [
       "array([0.98823529, 0.94117647, 0.75294118])"
      ]
     },
     "execution_count": 12,
     "metadata": {},
     "output_type": "execute_result"
    }
   ],
   "source": [
    "np.matmul(np.linalg.inv(A),y)"
   ]
  },
  {
   "cell_type": "code",
   "execution_count": 13,
   "metadata": {},
   "outputs": [
    {
     "data": {
      "text/plain": [
       "1.1102230246251565e-16"
      ]
     },
     "execution_count": 13,
     "metadata": {},
     "output_type": "execute_result"
    }
   ],
   "source": [
    "np.matmul(np.linalg.inv(A),y)[1] - 64/68"
   ]
  },
  {
   "cell_type": "markdown",
   "metadata": {},
   "source": [
    "The result is consistent with the value obtained at the interview."
   ]
  },
  {
   "cell_type": "markdown",
   "metadata": {},
   "source": [
    "### 2. Matrix inverse using Tridiagonal LU"
   ]
  },
  {
   "cell_type": "code",
   "execution_count": 14,
   "metadata": {},
   "outputs": [],
   "source": [
    "def tridLU(a,b,c,N):\n",
    "    u=[b]\n",
    "    l=[]\n",
    "    for i in range(2*N-2):\n",
    "        l+=[a/u[i]]\n",
    "        u+=[b-l[i]*c]\n",
    "    U=np.diag(u)\n",
    "    U+=np.diag(c*np.ones(2*N-2),k=1)\n",
    "    L=np.diag(l,k=-1)\n",
    "    L+=np.eye(2*N-1)\n",
    "    return L,U  "
   ]
  },
  {
   "cell_type": "code",
   "execution_count": 15,
   "metadata": {},
   "outputs": [],
   "source": [
    "def tridsolve(L_vec,U_vec,c_vec,rhs):\n",
    "    y=np.zeros(len(rhs))\n",
    "    y[0]=rhs[0]\n",
    "    for i in range(1,len(y)):\n",
    "        y[i]=rhs[i]-L_vec[i-1]*y[i-1]\n",
    "    x=np.zeros(len(y))\n",
    "    x[len(rhs)-1]=y[len(rhs)-1]/U_vec[len(rhs)-1]\n",
    "    for i in range(len(y)-2,-1,-1):\n",
    "        x[i]=(y[i]-c_vec[i]*x[i+1])/U_vec[i]\n",
    " \n",
    "    return x\n"
   ]
  },
  {
   "cell_type": "code",
   "execution_count": 16,
   "metadata": {},
   "outputs": [
    {
     "data": {
      "text/plain": [
       "array([0.98823529, 0.94117647, 0.75294118])"
      ]
     },
     "execution_count": 16,
     "metadata": {},
     "output_type": "execute_result"
    }
   ],
   "source": [
    "L,U = tridLU(-p_u/(1-p_n),1,-p_d/(1-p_n),N)\n",
    "L_vector=np.diag(L,k=-1)\n",
    "c_vector=np.diag(U,k=1)\n",
    "U_vector=np.diag(U)\n",
    "tridsolve(L_vector,U_vector,c_vector,y)"
   ]
  },
  {
   "cell_type": "markdown",
   "metadata": {},
   "source": [
    "### 3. Speed Comparison"
   ]
  },
  {
   "cell_type": "markdown",
   "metadata": {},
   "source": [
    "I was curious about whether obtaining the matrix inverse using the built-in inverse method is efficient for a sparse matrix. The test result seems that the built-in method is much more efficient than the custom Tridiagonal LU solver."
   ]
  },
  {
   "cell_type": "markdown",
   "metadata": {},
   "source": [
    "### 3.1 Numpy Built-in Matrix Inverse"
   ]
  },
  {
   "cell_type": "code",
   "execution_count": 17,
   "metadata": {},
   "outputs": [
    {
     "name": "stdout",
     "output_type": "stream",
     "text": [
      "13.7 µs ± 104 ns per loop (mean ± std. dev. of 7 runs, 100000 loops each)\n"
     ]
    }
   ],
   "source": [
    "%%timeit\n",
    "np.matmul(np.linalg.inv(A),y)"
   ]
  },
  {
   "cell_type": "markdown",
   "metadata": {},
   "source": [
    "### 3.1 Tridiagonal LU Matrix Inverse"
   ]
  },
  {
   "cell_type": "code",
   "execution_count": 18,
   "metadata": {},
   "outputs": [
    {
     "name": "stdout",
     "output_type": "stream",
     "text": [
      "40.8 µs ± 1.61 µs per loop (mean ± std. dev. of 7 runs, 10000 loops each)\n"
     ]
    }
   ],
   "source": [
    "%%timeit\n",
    "L,U = tridLU(-p_u/(1-p_n),1,-p_d/(1-p_n),N)\n",
    "L_vector=np.diag(L,k=-1)\n",
    "c_vector=np.diag(U,k=1)\n",
    "U_vector=np.diag(U)\n",
    "tridsolve(L_vector,U_vector,c_vector,y)"
   ]
  },
  {
   "cell_type": "code",
   "execution_count": null,
   "metadata": {},
   "outputs": [],
   "source": []
  },
  {
   "cell_type": "code",
   "execution_count": null,
   "metadata": {},
   "outputs": [],
   "source": []
  },
  {
   "cell_type": "code",
   "execution_count": null,
   "metadata": {},
   "outputs": [],
   "source": []
  },
  {
   "cell_type": "code",
   "execution_count": null,
   "metadata": {},
   "outputs": [],
   "source": []
  },
  {
   "cell_type": "code",
   "execution_count": null,
   "metadata": {},
   "outputs": [],
   "source": []
  },
  {
   "cell_type": "code",
   "execution_count": null,
   "metadata": {},
   "outputs": [],
   "source": []
  },
  {
   "cell_type": "code",
   "execution_count": null,
   "metadata": {},
   "outputs": [],
   "source": []
  },
  {
   "cell_type": "code",
   "execution_count": null,
   "metadata": {},
   "outputs": [],
   "source": []
  }
 ],
 "metadata": {
  "kernelspec": {
   "display_name": "Python (python3_cooking)\n",
   "language": "python",
   "name": "python3_cooking"
  },
  "language_info": {
   "codemirror_mode": {
    "name": "ipython",
    "version": 3
   },
   "file_extension": ".py",
   "mimetype": "text/x-python",
   "name": "python",
   "nbconvert_exporter": "python",
   "pygments_lexer": "ipython3",
   "version": "3.7.2"
  }
 },
 "nbformat": 4,
 "nbformat_minor": 2
}
