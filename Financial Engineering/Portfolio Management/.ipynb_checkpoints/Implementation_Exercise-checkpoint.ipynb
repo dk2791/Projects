{
 "cells": [
  {
   "cell_type": "markdown",
   "metadata": {},
   "source": [
    "# Implementation Exercise:\n",
    "### _Return Predictability and Dynamic Asset Allocation: How Often Should Investors Rebalance?_\n",
    "by _Himanshu Almadi, David E. Rapach, and Anil Suri_"
   ]
  },
  {
   "cell_type": "markdown",
   "metadata": {},
   "source": [
    "## 1. Processing data from Bloomberg Terminal"
   ]
  },
  {
   "cell_type": "code",
   "execution_count": 227,
   "metadata": {},
   "outputs": [],
   "source": [
    "import pandas as pd\n",
    "import numpy as np\n",
    "import matplotlib.pyplot as plt\n",
    "import multiprocessing\n",
    "from cvxopt import matrix, solvers\n",
    "from gurobipy import *"
   ]
  },
  {
   "cell_type": "code",
   "execution_count": 228,
   "metadata": {},
   "outputs": [],
   "source": [
    "def process_xlsx(filename,filetype = 'Bloomberg'):\n",
    "    \"\"\"\n",
    "    process .xlsx files downloaded from Bloomberg and Factset\n",
    "    \"\"\"\n",
    "    file = './data/' + filename\n",
    "    if filetype == 'Bloomberg':\n",
    "        df = pd.read_excel(file,header=5)\n",
    "        df.rename(columns = {'Unnamed: 0':'dates'},inplace=True)\n",
    "        df.loc[:,'Dates']=pd.to_datetime(df['Dates'])\n",
    "    if filetype == 'Bonds':\n",
    "        df = pd.read_excel(file,header=3,parser='Date')\n",
    "    if filetype == 'Bills':\n",
    "        df = pd.read_excel(file,header=20,parser='Date')\n",
    "    return df.reset_index(drop=True)"
   ]
  },
  {
   "cell_type": "code",
   "execution_count": 229,
   "metadata": {},
   "outputs": [
    {
     "data": {
      "text/html": [
       "<div>\n",
       "<style scoped>\n",
       "    .dataframe tbody tr th:only-of-type {\n",
       "        vertical-align: middle;\n",
       "    }\n",
       "\n",
       "    .dataframe tbody tr th {\n",
       "        vertical-align: top;\n",
       "    }\n",
       "\n",
       "    .dataframe thead th {\n",
       "        text-align: right;\n",
       "    }\n",
       "</style>\n",
       "<table border=\"1\" class=\"dataframe\">\n",
       "  <thead>\n",
       "    <tr style=\"text-align: right;\">\n",
       "      <th></th>\n",
       "      <th>Dates</th>\n",
       "      <th>SPX Index</th>\n",
       "      <th>SPXDIV Index</th>\n",
       "      <th>CPI INDX Index</th>\n",
       "      <th>CT10 Govt</th>\n",
       "      <th>CB3 Govt</th>\n",
       "      <th>MOODCBAA Index</th>\n",
       "      <th>MOODCAAA Index</th>\n",
       "      <th>IP Index</th>\n",
       "    </tr>\n",
       "  </thead>\n",
       "  <tbody>\n",
       "    <tr>\n",
       "      <th>0</th>\n",
       "      <td>NaT</td>\n",
       "      <td>329.08</td>\n",
       "      <td>NaN</td>\n",
       "      <td>NaN</td>\n",
       "      <td>NaN</td>\n",
       "      <td>NaN</td>\n",
       "      <td>NaN</td>\n",
       "      <td>NaN</td>\n",
       "      <td>NaN</td>\n",
       "    </tr>\n",
       "    <tr>\n",
       "      <th>1</th>\n",
       "      <td>1990-02-28</td>\n",
       "      <td>331.89</td>\n",
       "      <td>NaN</td>\n",
       "      <td>128.0</td>\n",
       "      <td>NaN</td>\n",
       "      <td>NaN</td>\n",
       "      <td>10.14</td>\n",
       "      <td>9.22</td>\n",
       "      <td>64.0446</td>\n",
       "    </tr>\n",
       "    <tr>\n",
       "      <th>2</th>\n",
       "      <td>1990-03-30</td>\n",
       "      <td>339.94</td>\n",
       "      <td>0.31</td>\n",
       "      <td>128.6</td>\n",
       "      <td>NaN</td>\n",
       "      <td>NaN</td>\n",
       "      <td>10.21</td>\n",
       "      <td>9.37</td>\n",
       "      <td>64.3580</td>\n",
       "    </tr>\n",
       "    <tr>\n",
       "      <th>3</th>\n",
       "      <td>1990-04-30</td>\n",
       "      <td>330.80</td>\n",
       "      <td>0.98</td>\n",
       "      <td>128.9</td>\n",
       "      <td>NaN</td>\n",
       "      <td>NaN</td>\n",
       "      <td>10.30</td>\n",
       "      <td>9.46</td>\n",
       "      <td>64.2602</td>\n",
       "    </tr>\n",
       "    <tr>\n",
       "      <th>4</th>\n",
       "      <td>1990-05-31</td>\n",
       "      <td>361.23</td>\n",
       "      <td>2.74</td>\n",
       "      <td>129.1</td>\n",
       "      <td>NaN</td>\n",
       "      <td>NaN</td>\n",
       "      <td>10.41</td>\n",
       "      <td>9.47</td>\n",
       "      <td>64.3973</td>\n",
       "    </tr>\n",
       "  </tbody>\n",
       "</table>\n",
       "</div>"
      ],
      "text/plain": [
       "       Dates  SPX Index  SPXDIV Index  CPI INDX Index  CT10 Govt  CB3 Govt  \\\n",
       "0        NaT     329.08           NaN             NaN        NaN       NaN   \n",
       "1 1990-02-28     331.89           NaN           128.0        NaN       NaN   \n",
       "2 1990-03-30     339.94          0.31           128.6        NaN       NaN   \n",
       "3 1990-04-30     330.80          0.98           128.9        NaN       NaN   \n",
       "4 1990-05-31     361.23          2.74           129.1        NaN       NaN   \n",
       "\n",
       "   MOODCBAA Index  MOODCAAA Index  IP Index  \n",
       "0             NaN             NaN       NaN  \n",
       "1           10.14            9.22   64.0446  \n",
       "2           10.21            9.37   64.3580  \n",
       "3           10.30            9.46   64.2602  \n",
       "4           10.41            9.47   64.3973  "
      ]
     },
     "execution_count": 229,
     "metadata": {},
     "output_type": "execute_result"
    }
   ],
   "source": [
    "other_df = process_xlsx('others.xlsx')\n",
    "other_df.head()"
   ]
  },
  {
   "cell_type": "code",
   "execution_count": 230,
   "metadata": {},
   "outputs": [
    {
     "data": {
      "text/html": [
       "<div>\n",
       "<style scoped>\n",
       "    .dataframe tbody tr th:only-of-type {\n",
       "        vertical-align: middle;\n",
       "    }\n",
       "\n",
       "    .dataframe tbody tr th {\n",
       "        vertical-align: top;\n",
       "    }\n",
       "\n",
       "    .dataframe thead th {\n",
       "        text-align: right;\n",
       "    }\n",
       "</style>\n",
       "<table border=\"1\" class=\"dataframe\">\n",
       "  <thead>\n",
       "    <tr style=\"text-align: right;\">\n",
       "      <th></th>\n",
       "      <th>Date</th>\n",
       "      <th>Close</th>\n",
       "      <th>Volume</th>\n",
       "      <th>Change</th>\n",
       "      <th>% Change</th>\n",
       "      <th>Total Return (Gross)</th>\n",
       "      <th>Cumulative Return %</th>\n",
       "      <th>Open</th>\n",
       "      <th>High</th>\n",
       "      <th>Low</th>\n",
       "    </tr>\n",
       "  </thead>\n",
       "  <tbody>\n",
       "    <tr>\n",
       "      <th>0</th>\n",
       "      <td>1990-01-31</td>\n",
       "      <td>8.43</td>\n",
       "      <td>NaN</td>\n",
       "      <td>NaN</td>\n",
       "      <td>NaN</td>\n",
       "      <td>8.43</td>\n",
       "      <td>0.000000</td>\n",
       "      <td>NaN</td>\n",
       "      <td>NaN</td>\n",
       "      <td>NaN</td>\n",
       "    </tr>\n",
       "    <tr>\n",
       "      <th>1</th>\n",
       "      <td>1990-02-28</td>\n",
       "      <td>8.51</td>\n",
       "      <td>NaN</td>\n",
       "      <td>0.080000</td>\n",
       "      <td>0.948991</td>\n",
       "      <td>8.51</td>\n",
       "      <td>0.948992</td>\n",
       "      <td>NaN</td>\n",
       "      <td>NaN</td>\n",
       "      <td>NaN</td>\n",
       "    </tr>\n",
       "    <tr>\n",
       "      <th>2</th>\n",
       "      <td>1990-03-30</td>\n",
       "      <td>8.65</td>\n",
       "      <td>NaN</td>\n",
       "      <td>0.139999</td>\n",
       "      <td>1.645116</td>\n",
       "      <td>8.65</td>\n",
       "      <td>2.609727</td>\n",
       "      <td>NaN</td>\n",
       "      <td>NaN</td>\n",
       "      <td>NaN</td>\n",
       "    </tr>\n",
       "    <tr>\n",
       "      <th>3</th>\n",
       "      <td>1990-04-30</td>\n",
       "      <td>9.04</td>\n",
       "      <td>NaN</td>\n",
       "      <td>0.390000</td>\n",
       "      <td>4.508675</td>\n",
       "      <td>9.04</td>\n",
       "      <td>7.236062</td>\n",
       "      <td>NaN</td>\n",
       "      <td>NaN</td>\n",
       "      <td>NaN</td>\n",
       "    </tr>\n",
       "    <tr>\n",
       "      <th>4</th>\n",
       "      <td>1990-05-31</td>\n",
       "      <td>8.60</td>\n",
       "      <td>NaN</td>\n",
       "      <td>-0.440000</td>\n",
       "      <td>-4.867252</td>\n",
       "      <td>8.60</td>\n",
       "      <td>2.016607</td>\n",
       "      <td>NaN</td>\n",
       "      <td>NaN</td>\n",
       "      <td>NaN</td>\n",
       "    </tr>\n",
       "  </tbody>\n",
       "</table>\n",
       "</div>"
      ],
      "text/plain": [
       "        Date  Close  Volume    Change  % Change  Total Return (Gross)  \\\n",
       "0 1990-01-31   8.43     NaN       NaN       NaN                  8.43   \n",
       "1 1990-02-28   8.51     NaN  0.080000  0.948991                  8.51   \n",
       "2 1990-03-30   8.65     NaN  0.139999  1.645116                  8.65   \n",
       "3 1990-04-30   9.04     NaN  0.390000  4.508675                  9.04   \n",
       "4 1990-05-31   8.60     NaN -0.440000 -4.867252                  8.60   \n",
       "\n",
       "   Cumulative Return %  Open  High  Low  \n",
       "0             0.000000   NaN   NaN  NaN  \n",
       "1             0.948992   NaN   NaN  NaN  \n",
       "2             2.609727   NaN   NaN  NaN  \n",
       "3             7.236062   NaN   NaN  NaN  \n",
       "4             2.016607   NaN   NaN  NaN  "
      ]
     },
     "execution_count": 230,
     "metadata": {},
     "output_type": "execute_result"
    }
   ],
   "source": [
    "df_bonds = process_xlsx('./facset/US10YY-TU1.xlsx','Bonds')\n",
    "df_bonds.head()"
   ]
  },
  {
   "cell_type": "code",
   "execution_count": 231,
   "metadata": {},
   "outputs": [
    {
     "data": {
      "text/html": [
       "<div>\n",
       "<style scoped>\n",
       "    .dataframe tbody tr th:only-of-type {\n",
       "        vertical-align: middle;\n",
       "    }\n",
       "\n",
       "    .dataframe tbody tr th {\n",
       "        vertical-align: top;\n",
       "    }\n",
       "\n",
       "    .dataframe thead th {\n",
       "        text-align: right;\n",
       "    }\n",
       "</style>\n",
       "<table border=\"1\" class=\"dataframe\">\n",
       "  <thead>\n",
       "    <tr style=\"text-align: right;\">\n",
       "      <th></th>\n",
       "      <th>Date</th>\n",
       "      <th>Close</th>\n",
       "      <th>Volume</th>\n",
       "      <th>Change</th>\n",
       "      <th>% Change</th>\n",
       "      <th>Total Return (Gross)</th>\n",
       "      <th>Cumulative Return %</th>\n",
       "      <th>Open</th>\n",
       "      <th>High</th>\n",
       "      <th>Low</th>\n",
       "    </tr>\n",
       "  </thead>\n",
       "  <tbody>\n",
       "    <tr>\n",
       "      <th>0</th>\n",
       "      <td>1990-01-31</td>\n",
       "      <td>7.74</td>\n",
       "      <td>NaN</td>\n",
       "      <td>NaN</td>\n",
       "      <td>NaN</td>\n",
       "      <td>7.74</td>\n",
       "      <td>0.000000</td>\n",
       "      <td>NaN</td>\n",
       "      <td>NaN</td>\n",
       "      <td>NaN</td>\n",
       "    </tr>\n",
       "    <tr>\n",
       "      <th>1</th>\n",
       "      <td>1990-02-28</td>\n",
       "      <td>7.77</td>\n",
       "      <td>NaN</td>\n",
       "      <td>0.03</td>\n",
       "      <td>0.387600</td>\n",
       "      <td>7.77</td>\n",
       "      <td>0.387597</td>\n",
       "      <td>NaN</td>\n",
       "      <td>NaN</td>\n",
       "      <td>NaN</td>\n",
       "    </tr>\n",
       "    <tr>\n",
       "      <th>2</th>\n",
       "      <td>1990-03-30</td>\n",
       "      <td>7.80</td>\n",
       "      <td>NaN</td>\n",
       "      <td>0.03</td>\n",
       "      <td>0.386103</td>\n",
       "      <td>7.80</td>\n",
       "      <td>0.775194</td>\n",
       "      <td>NaN</td>\n",
       "      <td>NaN</td>\n",
       "      <td>NaN</td>\n",
       "    </tr>\n",
       "    <tr>\n",
       "      <th>3</th>\n",
       "      <td>1990-04-30</td>\n",
       "      <td>7.79</td>\n",
       "      <td>NaN</td>\n",
       "      <td>-0.01</td>\n",
       "      <td>-0.128208</td>\n",
       "      <td>7.79</td>\n",
       "      <td>0.645995</td>\n",
       "      <td>NaN</td>\n",
       "      <td>NaN</td>\n",
       "      <td>NaN</td>\n",
       "    </tr>\n",
       "    <tr>\n",
       "      <th>4</th>\n",
       "      <td>1990-05-31</td>\n",
       "      <td>7.75</td>\n",
       "      <td>NaN</td>\n",
       "      <td>-0.04</td>\n",
       "      <td>-0.513478</td>\n",
       "      <td>7.75</td>\n",
       "      <td>0.129199</td>\n",
       "      <td>NaN</td>\n",
       "      <td>NaN</td>\n",
       "      <td>NaN</td>\n",
       "    </tr>\n",
       "  </tbody>\n",
       "</table>\n",
       "</div>"
      ],
      "text/plain": [
       "        Date  Close  Volume  Change  % Change  Total Return (Gross)  \\\n",
       "0 1990-01-31   7.74     NaN     NaN       NaN                  7.74   \n",
       "1 1990-02-28   7.77     NaN    0.03  0.387600                  7.77   \n",
       "2 1990-03-30   7.80     NaN    0.03  0.386103                  7.80   \n",
       "3 1990-04-30   7.79     NaN   -0.01 -0.128208                  7.79   \n",
       "4 1990-05-31   7.75     NaN   -0.04 -0.513478                  7.75   \n",
       "\n",
       "   Cumulative Return %  Open  High  Low  \n",
       "0             0.000000   NaN   NaN  NaN  \n",
       "1             0.387597   NaN   NaN  NaN  \n",
       "2             0.775194   NaN   NaN  NaN  \n",
       "3             0.645995   NaN   NaN  NaN  \n",
       "4             0.129199   NaN   NaN  NaN  "
      ]
     },
     "execution_count": 231,
     "metadata": {},
     "output_type": "execute_result"
    }
   ],
   "source": [
    "df_bill = process_xlsx('./facset/TRYUS3M-FDS.xlsx','Bills')\n",
    "df_bill.head()"
   ]
  },
  {
   "cell_type": "markdown",
   "metadata": {},
   "source": [
    "## 2. Processing Explanatory Variables"
   ]
  },
  {
   "cell_type": "markdown",
   "metadata": {},
   "source": [
    "### 2.1 log(D/P)"
   ]
  },
  {
   "cell_type": "markdown",
   "metadata": {},
   "source": [
    "More specifically, I am computing the following:\n",
    "$$ log(\\sum_{s=1}^{12} D_{t-(s-1)}) - log(P_{t}) $$\n",
    "where `D` stands for dividens paid by `SP500` constituents at time t. \n",
    "And `P` stands for `SP500` at time t.\n"
   ]
  },
  {
   "cell_type": "markdown",
   "metadata": {},
   "source": [
    "As a sanity check, I wanted to check there are only two `NaN` values for `SPXDIV Index`"
   ]
  },
  {
   "cell_type": "code",
   "execution_count": 232,
   "metadata": {},
   "outputs": [
    {
     "data": {
      "text/plain": [
       "2"
      ]
     },
     "execution_count": 232,
     "metadata": {},
     "output_type": "execute_result"
    }
   ],
   "source": [
    "other_df['SPXDIV Index'].isna().sum()"
   ]
  },
  {
   "cell_type": "code",
   "execution_count": 233,
   "metadata": {},
   "outputs": [
    {
     "data": {
      "text/html": [
       "<div>\n",
       "<style scoped>\n",
       "    .dataframe tbody tr th:only-of-type {\n",
       "        vertical-align: middle;\n",
       "    }\n",
       "\n",
       "    .dataframe tbody tr th {\n",
       "        vertical-align: top;\n",
       "    }\n",
       "\n",
       "    .dataframe thead th {\n",
       "        text-align: right;\n",
       "    }\n",
       "</style>\n",
       "<table border=\"1\" class=\"dataframe\">\n",
       "  <thead>\n",
       "    <tr style=\"text-align: right;\">\n",
       "      <th></th>\n",
       "      <th>Dates</th>\n",
       "      <th>SPX Index</th>\n",
       "      <th>SPXDIV Index</th>\n",
       "      <th>CPI INDX Index</th>\n",
       "      <th>CT10 Govt</th>\n",
       "      <th>CB3 Govt</th>\n",
       "      <th>MOODCBAA Index</th>\n",
       "      <th>MOODCAAA Index</th>\n",
       "      <th>IP Index</th>\n",
       "    </tr>\n",
       "  </thead>\n",
       "  <tbody>\n",
       "    <tr>\n",
       "      <th>0</th>\n",
       "      <td>NaT</td>\n",
       "      <td>329.08</td>\n",
       "      <td>NaN</td>\n",
       "      <td>NaN</td>\n",
       "      <td>NaN</td>\n",
       "      <td>NaN</td>\n",
       "      <td>NaN</td>\n",
       "      <td>NaN</td>\n",
       "      <td>NaN</td>\n",
       "    </tr>\n",
       "    <tr>\n",
       "      <th>1</th>\n",
       "      <td>1990-02-28</td>\n",
       "      <td>331.89</td>\n",
       "      <td>NaN</td>\n",
       "      <td>128.0</td>\n",
       "      <td>NaN</td>\n",
       "      <td>NaN</td>\n",
       "      <td>10.14</td>\n",
       "      <td>9.22</td>\n",
       "      <td>64.0446</td>\n",
       "    </tr>\n",
       "    <tr>\n",
       "      <th>2</th>\n",
       "      <td>1990-03-30</td>\n",
       "      <td>339.94</td>\n",
       "      <td>0.31</td>\n",
       "      <td>128.6</td>\n",
       "      <td>NaN</td>\n",
       "      <td>NaN</td>\n",
       "      <td>10.21</td>\n",
       "      <td>9.37</td>\n",
       "      <td>64.3580</td>\n",
       "    </tr>\n",
       "    <tr>\n",
       "      <th>3</th>\n",
       "      <td>1990-04-30</td>\n",
       "      <td>330.80</td>\n",
       "      <td>0.98</td>\n",
       "      <td>128.9</td>\n",
       "      <td>NaN</td>\n",
       "      <td>NaN</td>\n",
       "      <td>10.30</td>\n",
       "      <td>9.46</td>\n",
       "      <td>64.2602</td>\n",
       "    </tr>\n",
       "    <tr>\n",
       "      <th>4</th>\n",
       "      <td>1990-05-31</td>\n",
       "      <td>361.23</td>\n",
       "      <td>2.74</td>\n",
       "      <td>129.1</td>\n",
       "      <td>NaN</td>\n",
       "      <td>NaN</td>\n",
       "      <td>10.41</td>\n",
       "      <td>9.47</td>\n",
       "      <td>64.3973</td>\n",
       "    </tr>\n",
       "  </tbody>\n",
       "</table>\n",
       "</div>"
      ],
      "text/plain": [
       "       Dates  SPX Index  SPXDIV Index  CPI INDX Index  CT10 Govt  CB3 Govt  \\\n",
       "0        NaT     329.08           NaN             NaN        NaN       NaN   \n",
       "1 1990-02-28     331.89           NaN           128.0        NaN       NaN   \n",
       "2 1990-03-30     339.94          0.31           128.6        NaN       NaN   \n",
       "3 1990-04-30     330.80          0.98           128.9        NaN       NaN   \n",
       "4 1990-05-31     361.23          2.74           129.1        NaN       NaN   \n",
       "\n",
       "   MOODCBAA Index  MOODCAAA Index  IP Index  \n",
       "0             NaN             NaN       NaN  \n",
       "1           10.14            9.22   64.0446  \n",
       "2           10.21            9.37   64.3580  \n",
       "3           10.30            9.46   64.2602  \n",
       "4           10.41            9.47   64.3973  "
      ]
     },
     "execution_count": 233,
     "metadata": {},
     "output_type": "execute_result"
    }
   ],
   "source": [
    "other_df.head()"
   ]
  },
  {
   "cell_type": "code",
   "execution_count": 234,
   "metadata": {},
   "outputs": [],
   "source": [
    "df = pd.DataFrame([])\n",
    "df['Dates'] = other_df['Dates']\n",
    "df['log_DP'] = (other_df['SPXDIV Index'].rolling(12).sum().apply('log').shift()\n",
    "                - other_df['SPX Index'].apply('log'))"
   ]
  },
  {
   "cell_type": "code",
   "execution_count": 235,
   "metadata": {},
   "outputs": [
    {
     "data": {
      "text/html": [
       "<div>\n",
       "<style scoped>\n",
       "    .dataframe tbody tr th:only-of-type {\n",
       "        vertical-align: middle;\n",
       "    }\n",
       "\n",
       "    .dataframe tbody tr th {\n",
       "        vertical-align: top;\n",
       "    }\n",
       "\n",
       "    .dataframe thead th {\n",
       "        text-align: right;\n",
       "    }\n",
       "</style>\n",
       "<table border=\"1\" class=\"dataframe\">\n",
       "  <thead>\n",
       "    <tr style=\"text-align: right;\">\n",
       "      <th></th>\n",
       "      <th>Dates</th>\n",
       "      <th>log_DP</th>\n",
       "    </tr>\n",
       "  </thead>\n",
       "  <tbody>\n",
       "    <tr>\n",
       "      <th>13</th>\n",
       "      <td>1991-02-28</td>\n",
       "      <td>NaN</td>\n",
       "    </tr>\n",
       "    <tr>\n",
       "      <th>14</th>\n",
       "      <td>1991-03-29</td>\n",
       "      <td>-3.184739</td>\n",
       "    </tr>\n",
       "    <tr>\n",
       "      <th>15</th>\n",
       "      <td>1991-04-30</td>\n",
       "      <td>-3.187664</td>\n",
       "    </tr>\n",
       "    <tr>\n",
       "      <th>16</th>\n",
       "      <td>1991-05-31</td>\n",
       "      <td>-3.221650</td>\n",
       "    </tr>\n",
       "    <tr>\n",
       "      <th>17</th>\n",
       "      <td>1991-06-28</td>\n",
       "      <td>-3.175793</td>\n",
       "    </tr>\n",
       "  </tbody>\n",
       "</table>\n",
       "</div>"
      ],
      "text/plain": [
       "        Dates    log_DP\n",
       "13 1991-02-28       NaN\n",
       "14 1991-03-29 -3.184739\n",
       "15 1991-04-30 -3.187664\n",
       "16 1991-05-31 -3.221650\n",
       "17 1991-06-28 -3.175793"
      ]
     },
     "execution_count": 235,
     "metadata": {},
     "output_type": "execute_result"
    }
   ],
   "source": [
    "df[['Dates','log_DP']][13:].head()"
   ]
  },
  {
   "cell_type": "markdown",
   "metadata": {},
   "source": [
    "Compare 14th row with following for sanity check:"
   ]
  },
  {
   "cell_type": "code",
   "execution_count": 236,
   "metadata": {},
   "outputs": [
    {
     "data": {
      "text/plain": [
       "-3.1847388834548687"
      ]
     },
     "execution_count": 236,
     "metadata": {},
     "output_type": "execute_result"
    }
   ],
   "source": [
    "np.log(sum(other_df['SPXDIV Index'][2:14])) \\\n",
    "- np.log(other_df['SPX Index'][14])"
   ]
  },
  {
   "cell_type": "markdown",
   "metadata": {},
   "source": [
    "### 2.2 Inflation"
   ]
  },
  {
   "cell_type": "markdown",
   "metadata": {},
   "source": [
    "Inflation is calculated by CPI Index. The research paper writes following: \n",
    "<br>\n",
    "_We account for the delay in the release of monthly CPI data when computing the forecast_\n",
    "<br>\n",
    "My susequent search suggested that  CPI Index is released with lag of 1 month.\n",
    "<br>\n",
    "Thus, I adjust for the issue by shifting CPI Index level by 1.\n",
    "$$ inflation_{t} = \\frac{CPI_{t}}{CPI_{t-1}}$$\n",
    "However, at time t, the most recent available inflation rate is that of time t-1.\n"
   ]
  },
  {
   "cell_type": "code",
   "execution_count": 237,
   "metadata": {},
   "outputs": [],
   "source": [
    "df['inflation'] = other_df['CPI INDX Index'].pct_change().shift()"
   ]
  },
  {
   "cell_type": "code",
   "execution_count": 238,
   "metadata": {},
   "outputs": [
    {
     "data": {
      "text/html": [
       "<div>\n",
       "<style scoped>\n",
       "    .dataframe tbody tr th:only-of-type {\n",
       "        vertical-align: middle;\n",
       "    }\n",
       "\n",
       "    .dataframe tbody tr th {\n",
       "        vertical-align: top;\n",
       "    }\n",
       "\n",
       "    .dataframe thead th {\n",
       "        text-align: right;\n",
       "    }\n",
       "</style>\n",
       "<table border=\"1\" class=\"dataframe\">\n",
       "  <thead>\n",
       "    <tr style=\"text-align: right;\">\n",
       "      <th></th>\n",
       "      <th>Dates</th>\n",
       "      <th>inflation</th>\n",
       "    </tr>\n",
       "  </thead>\n",
       "  <tbody>\n",
       "    <tr>\n",
       "      <th>0</th>\n",
       "      <td>NaT</td>\n",
       "      <td>NaN</td>\n",
       "    </tr>\n",
       "    <tr>\n",
       "      <th>1</th>\n",
       "      <td>1990-02-28</td>\n",
       "      <td>NaN</td>\n",
       "    </tr>\n",
       "    <tr>\n",
       "      <th>2</th>\n",
       "      <td>1990-03-30</td>\n",
       "      <td>NaN</td>\n",
       "    </tr>\n",
       "    <tr>\n",
       "      <th>3</th>\n",
       "      <td>1990-04-30</td>\n",
       "      <td>0.004687</td>\n",
       "    </tr>\n",
       "    <tr>\n",
       "      <th>4</th>\n",
       "      <td>1990-05-31</td>\n",
       "      <td>0.002333</td>\n",
       "    </tr>\n",
       "  </tbody>\n",
       "</table>\n",
       "</div>"
      ],
      "text/plain": [
       "       Dates  inflation\n",
       "0        NaT        NaN\n",
       "1 1990-02-28        NaN\n",
       "2 1990-03-30        NaN\n",
       "3 1990-04-30   0.004687\n",
       "4 1990-05-31   0.002333"
      ]
     },
     "execution_count": 238,
     "metadata": {},
     "output_type": "execute_result"
    }
   ],
   "source": [
    "df[['Dates','inflation']].head()"
   ]
  },
  {
   "cell_type": "markdown",
   "metadata": {},
   "source": [
    "Following is a sanity check. inflation rate for 2nd row is consistent with third row of inflation columns. The rationale for this is explained at the Markdown Cell above"
   ]
  },
  {
   "cell_type": "code",
   "execution_count": 239,
   "metadata": {},
   "outputs": [
    {
     "data": {
      "text/plain": [
       "0.004687499999999956"
      ]
     },
     "execution_count": 239,
     "metadata": {},
     "output_type": "execute_result"
    }
   ],
   "source": [
    "(other_df['CPI INDX Index'][2]/other_df['CPI INDX Index'][1] -1)"
   ]
  },
  {
   "cell_type": "markdown",
   "metadata": {},
   "source": [
    "### 2.3 Term Spread"
   ]
  },
  {
   "cell_type": "markdown",
   "metadata": {},
   "source": [
    "Term spread refers to the difference between 10-year Treasury bond yield and the three-month Treasury bill yield.\n"
   ]
  },
  {
   "cell_type": "code",
   "execution_count": 240,
   "metadata": {},
   "outputs": [],
   "source": [
    "df['Term_Spread'] = df_bonds['Close'] - df_bill['Close']"
   ]
  },
  {
   "cell_type": "code",
   "execution_count": 241,
   "metadata": {},
   "outputs": [
    {
     "data": {
      "text/html": [
       "<div>\n",
       "<style scoped>\n",
       "    .dataframe tbody tr th:only-of-type {\n",
       "        vertical-align: middle;\n",
       "    }\n",
       "\n",
       "    .dataframe tbody tr th {\n",
       "        vertical-align: top;\n",
       "    }\n",
       "\n",
       "    .dataframe thead th {\n",
       "        text-align: right;\n",
       "    }\n",
       "</style>\n",
       "<table border=\"1\" class=\"dataframe\">\n",
       "  <thead>\n",
       "    <tr style=\"text-align: right;\">\n",
       "      <th></th>\n",
       "      <th>Dates</th>\n",
       "      <th>Term_Spread</th>\n",
       "    </tr>\n",
       "  </thead>\n",
       "  <tbody>\n",
       "    <tr>\n",
       "      <th>0</th>\n",
       "      <td>NaT</td>\n",
       "      <td>0.690001</td>\n",
       "    </tr>\n",
       "    <tr>\n",
       "      <th>1</th>\n",
       "      <td>1990-02-28</td>\n",
       "      <td>0.740000</td>\n",
       "    </tr>\n",
       "    <tr>\n",
       "      <th>2</th>\n",
       "      <td>1990-03-30</td>\n",
       "      <td>0.849999</td>\n",
       "    </tr>\n",
       "    <tr>\n",
       "      <th>3</th>\n",
       "      <td>1990-04-30</td>\n",
       "      <td>1.250000</td>\n",
       "    </tr>\n",
       "    <tr>\n",
       "      <th>4</th>\n",
       "      <td>1990-05-31</td>\n",
       "      <td>0.850000</td>\n",
       "    </tr>\n",
       "  </tbody>\n",
       "</table>\n",
       "</div>"
      ],
      "text/plain": [
       "       Dates  Term_Spread\n",
       "0        NaT     0.690001\n",
       "1 1990-02-28     0.740000\n",
       "2 1990-03-30     0.849999\n",
       "3 1990-04-30     1.250000\n",
       "4 1990-05-31     0.850000"
      ]
     },
     "execution_count": 241,
     "metadata": {},
     "output_type": "execute_result"
    }
   ],
   "source": [
    "df[['Dates','Term_Spread']].head()"
   ]
  },
  {
   "cell_type": "markdown",
   "metadata": {},
   "source": [
    "### 2.4 Default Spread"
   ]
  },
  {
   "cell_type": "markdown",
   "metadata": {},
   "source": [
    "The difference between Moody's BAA and AAA rated corporate Bond yields"
   ]
  },
  {
   "cell_type": "code",
   "execution_count": 242,
   "metadata": {},
   "outputs": [],
   "source": [
    "df['Default_Spread']=other_df['MOODCBAA Index'] \\\n",
    "                        - other_df['MOODCAAA Index']"
   ]
  },
  {
   "cell_type": "code",
   "execution_count": 243,
   "metadata": {},
   "outputs": [
    {
     "data": {
      "text/html": [
       "<div>\n",
       "<style scoped>\n",
       "    .dataframe tbody tr th:only-of-type {\n",
       "        vertical-align: middle;\n",
       "    }\n",
       "\n",
       "    .dataframe tbody tr th {\n",
       "        vertical-align: top;\n",
       "    }\n",
       "\n",
       "    .dataframe thead th {\n",
       "        text-align: right;\n",
       "    }\n",
       "</style>\n",
       "<table border=\"1\" class=\"dataframe\">\n",
       "  <thead>\n",
       "    <tr style=\"text-align: right;\">\n",
       "      <th></th>\n",
       "      <th>Dates</th>\n",
       "      <th>Default_Spread</th>\n",
       "    </tr>\n",
       "  </thead>\n",
       "  <tbody>\n",
       "    <tr>\n",
       "      <th>0</th>\n",
       "      <td>NaT</td>\n",
       "      <td>NaN</td>\n",
       "    </tr>\n",
       "    <tr>\n",
       "      <th>1</th>\n",
       "      <td>1990-02-28</td>\n",
       "      <td>0.92</td>\n",
       "    </tr>\n",
       "    <tr>\n",
       "      <th>2</th>\n",
       "      <td>1990-03-30</td>\n",
       "      <td>0.84</td>\n",
       "    </tr>\n",
       "    <tr>\n",
       "      <th>3</th>\n",
       "      <td>1990-04-30</td>\n",
       "      <td>0.84</td>\n",
       "    </tr>\n",
       "    <tr>\n",
       "      <th>4</th>\n",
       "      <td>1990-05-31</td>\n",
       "      <td>0.94</td>\n",
       "    </tr>\n",
       "  </tbody>\n",
       "</table>\n",
       "</div>"
      ],
      "text/plain": [
       "       Dates  Default_Spread\n",
       "0        NaT             NaN\n",
       "1 1990-02-28            0.92\n",
       "2 1990-03-30            0.84\n",
       "3 1990-04-30            0.84\n",
       "4 1990-05-31            0.94"
      ]
     },
     "execution_count": 243,
     "metadata": {},
     "output_type": "execute_result"
    }
   ],
   "source": [
    "df[['Dates','Default_Spread']].head()"
   ]
  },
  {
   "cell_type": "markdown",
   "metadata": {},
   "source": [
    "As with `term spread`, a few observation would be sufficient for a sanity check as it only requires a subtraction"
   ]
  },
  {
   "cell_type": "code",
   "execution_count": 244,
   "metadata": {},
   "outputs": [
    {
     "data": {
      "text/html": [
       "<div>\n",
       "<style scoped>\n",
       "    .dataframe tbody tr th:only-of-type {\n",
       "        vertical-align: middle;\n",
       "    }\n",
       "\n",
       "    .dataframe tbody tr th {\n",
       "        vertical-align: top;\n",
       "    }\n",
       "\n",
       "    .dataframe thead th {\n",
       "        text-align: right;\n",
       "    }\n",
       "</style>\n",
       "<table border=\"1\" class=\"dataframe\">\n",
       "  <thead>\n",
       "    <tr style=\"text-align: right;\">\n",
       "      <th></th>\n",
       "      <th>Dates</th>\n",
       "      <th>MOODCBAA Index</th>\n",
       "      <th>MOODCAAA Index</th>\n",
       "    </tr>\n",
       "  </thead>\n",
       "  <tbody>\n",
       "    <tr>\n",
       "      <th>0</th>\n",
       "      <td>NaT</td>\n",
       "      <td>NaN</td>\n",
       "      <td>NaN</td>\n",
       "    </tr>\n",
       "    <tr>\n",
       "      <th>1</th>\n",
       "      <td>1990-02-28</td>\n",
       "      <td>10.14</td>\n",
       "      <td>9.22</td>\n",
       "    </tr>\n",
       "    <tr>\n",
       "      <th>2</th>\n",
       "      <td>1990-03-30</td>\n",
       "      <td>10.21</td>\n",
       "      <td>9.37</td>\n",
       "    </tr>\n",
       "    <tr>\n",
       "      <th>3</th>\n",
       "      <td>1990-04-30</td>\n",
       "      <td>10.30</td>\n",
       "      <td>9.46</td>\n",
       "    </tr>\n",
       "    <tr>\n",
       "      <th>4</th>\n",
       "      <td>1990-05-31</td>\n",
       "      <td>10.41</td>\n",
       "      <td>9.47</td>\n",
       "    </tr>\n",
       "  </tbody>\n",
       "</table>\n",
       "</div>"
      ],
      "text/plain": [
       "       Dates  MOODCBAA Index  MOODCAAA Index\n",
       "0        NaT             NaN             NaN\n",
       "1 1990-02-28           10.14            9.22\n",
       "2 1990-03-30           10.21            9.37\n",
       "3 1990-04-30           10.30            9.46\n",
       "4 1990-05-31           10.41            9.47"
      ]
     },
     "execution_count": 244,
     "metadata": {},
     "output_type": "execute_result"
    }
   ],
   "source": [
    "other_df[['Dates','MOODCBAA Index','MOODCAAA Index']].head()"
   ]
  },
  {
   "cell_type": "markdown",
   "metadata": {},
   "source": [
    "### 2.5  Moving Averages"
   ]
  },
  {
   "cell_type": "markdown",
   "metadata": {},
   "source": [
    "Average of `SPX Index` for the past 12-months.\n",
    "<br>\n",
    "$$ MA_{t} = \\frac{\\sum_{i=0}^{11} SPX_{t-i}}{12}$$"
   ]
  },
  {
   "cell_type": "code",
   "execution_count": 245,
   "metadata": {},
   "outputs": [],
   "source": [
    "Moving_Average_12 = other_df['SPX Index'].rolling(12).mean()"
   ]
  },
  {
   "cell_type": "code",
   "execution_count": 246,
   "metadata": {},
   "outputs": [
    {
     "data": {
      "text/plain": [
       "10           NaN\n",
       "11    332.680000\n",
       "12    333.917500\n",
       "13    336.849167\n",
       "14    339.789167\n",
       "Name: SPX Index, dtype: float64"
      ]
     },
     "execution_count": 246,
     "metadata": {},
     "output_type": "execute_result"
    }
   ],
   "source": [
    "Moving_Average_12[10:].head()"
   ]
  },
  {
   "cell_type": "markdown",
   "metadata": {},
   "source": [
    "As a sanity check: the moving average of first 12 numbers are as following:"
   ]
  },
  {
   "cell_type": "code",
   "execution_count": 247,
   "metadata": {},
   "outputs": [
    {
     "data": {
      "text/plain": [
       "332.68000000000006"
      ]
     },
     "execution_count": 247,
     "metadata": {},
     "output_type": "execute_result"
    }
   ],
   "source": [
    "np.mean(other_df['SPX Index'][:12])"
   ]
  },
  {
   "cell_type": "code",
   "execution_count": 248,
   "metadata": {},
   "outputs": [],
   "source": [
    "Moving_Average_2 = other_df['SPX Index'].rolling(2).mean()"
   ]
  },
  {
   "cell_type": "code",
   "execution_count": 249,
   "metadata": {},
   "outputs": [
    {
     "data": {
      "text/plain": [
       "0        NaN\n",
       "1    330.485\n",
       "2    335.915\n",
       "3    335.370\n",
       "4    346.015\n",
       "Name: SPX Index, dtype: float64"
      ]
     },
     "execution_count": 249,
     "metadata": {},
     "output_type": "execute_result"
    }
   ],
   "source": [
    "Moving_Average_2.head()"
   ]
  },
  {
   "cell_type": "markdown",
   "metadata": {},
   "source": [
    "As a sanity check: the moving average of first 12 numbers are as following:"
   ]
  },
  {
   "cell_type": "code",
   "execution_count": 250,
   "metadata": {},
   "outputs": [
    {
     "data": {
      "text/plain": [
       "330.485"
      ]
     },
     "execution_count": 250,
     "metadata": {},
     "output_type": "execute_result"
    }
   ],
   "source": [
    "np.mean(other_df['SPX Index'][:2])"
   ]
  },
  {
   "cell_type": "code",
   "execution_count": 251,
   "metadata": {},
   "outputs": [],
   "source": [
    "Bond_Moving_Average_12 = df_bonds['Close'].rolling(12).mean()"
   ]
  },
  {
   "cell_type": "code",
   "execution_count": 252,
   "metadata": {},
   "outputs": [
    {
     "data": {
      "text/plain": [
       "10         NaN\n",
       "11    8.557500\n",
       "12    8.524167\n",
       "13    8.483333\n",
       "14    8.433333\n",
       "Name: Close, dtype: float64"
      ]
     },
     "execution_count": 252,
     "metadata": {},
     "output_type": "execute_result"
    }
   ],
   "source": [
    "Bond_Moving_Average_12[10:].head()"
   ]
  },
  {
   "cell_type": "markdown",
   "metadata": {},
   "source": [
    "As a sanity check: the moving average of first 12 numbers are as following:"
   ]
  },
  {
   "cell_type": "code",
   "execution_count": 253,
   "metadata": {},
   "outputs": [
    {
     "data": {
      "text/plain": [
       "8.557499965031942"
      ]
     },
     "execution_count": 253,
     "metadata": {},
     "output_type": "execute_result"
    }
   ],
   "source": [
    "df_bonds['Close'][:12].mean()"
   ]
  },
  {
   "cell_type": "code",
   "execution_count": 254,
   "metadata": {},
   "outputs": [],
   "source": [
    "Bond_Moving_Average_6 = df_bonds['Close'].rolling(6).mean()"
   ]
  },
  {
   "cell_type": "code",
   "execution_count": 255,
   "metadata": {},
   "outputs": [
    {
     "data": {
      "text/plain": [
       "5    8.610000\n",
       "6    8.598333\n",
       "7    8.656667\n",
       "8    8.685000\n",
       "9    8.620000\n",
       "Name: Close, dtype: float64"
      ]
     },
     "execution_count": 255,
     "metadata": {},
     "output_type": "execute_result"
    }
   ],
   "source": [
    "Bond_Moving_Average_6[5:].head()"
   ]
  },
  {
   "cell_type": "code",
   "execution_count": 256,
   "metadata": {},
   "outputs": [
    {
     "data": {
      "text/plain": [
       "8.610000133514404"
      ]
     },
     "execution_count": 256,
     "metadata": {},
     "output_type": "execute_result"
    }
   ],
   "source": [
    "np.mean(df_bonds['Close'][:6])"
   ]
  },
  {
   "cell_type": "markdown",
   "metadata": {},
   "source": [
    "### 2.5.1 MA(1,12) "
   ]
  },
  {
   "cell_type": "markdown",
   "metadata": {},
   "source": [
    "It is a dummy variable based on `SPX Index` level and `Moving_Average_12`\n",
    "<br>\n",
    "If `SPX Index` value is greater than its 12 months moving average, then assign 1. Otherwise assign 0."
   ]
  },
  {
   "cell_type": "code",
   "execution_count": 257,
   "metadata": {},
   "outputs": [],
   "source": [
    "MA_nan = ((other_df['SPX Index']-Moving_Average_12)\n",
    "          .apply(lambda x: np.nan if np.isnan(x) else 0))"
   ]
  },
  {
   "cell_type": "code",
   "execution_count": 258,
   "metadata": {},
   "outputs": [],
   "source": [
    "df['MA_1_12']=((other_df['SPX Index']-Moving_Average_12)\n",
    "               .apply(lambda x: 1 if x>0 else 0) + MA_nan)"
   ]
  },
  {
   "cell_type": "code",
   "execution_count": 259,
   "metadata": {},
   "outputs": [
    {
     "data": {
      "text/html": [
       "<div>\n",
       "<style scoped>\n",
       "    .dataframe tbody tr th:only-of-type {\n",
       "        vertical-align: middle;\n",
       "    }\n",
       "\n",
       "    .dataframe tbody tr th {\n",
       "        vertical-align: top;\n",
       "    }\n",
       "\n",
       "    .dataframe thead th {\n",
       "        text-align: right;\n",
       "    }\n",
       "</style>\n",
       "<table border=\"1\" class=\"dataframe\">\n",
       "  <thead>\n",
       "    <tr style=\"text-align: right;\">\n",
       "      <th></th>\n",
       "      <th>Dates</th>\n",
       "      <th>MA_1_12</th>\n",
       "    </tr>\n",
       "  </thead>\n",
       "  <tbody>\n",
       "    <tr>\n",
       "      <th>9</th>\n",
       "      <td>1990-10-31</td>\n",
       "      <td>NaN</td>\n",
       "    </tr>\n",
       "    <tr>\n",
       "      <th>10</th>\n",
       "      <td>1990-11-30</td>\n",
       "      <td>NaN</td>\n",
       "    </tr>\n",
       "    <tr>\n",
       "      <th>11</th>\n",
       "      <td>1990-12-31</td>\n",
       "      <td>0.0</td>\n",
       "    </tr>\n",
       "    <tr>\n",
       "      <th>12</th>\n",
       "      <td>1991-01-31</td>\n",
       "      <td>1.0</td>\n",
       "    </tr>\n",
       "    <tr>\n",
       "      <th>13</th>\n",
       "      <td>1991-02-28</td>\n",
       "      <td>1.0</td>\n",
       "    </tr>\n",
       "  </tbody>\n",
       "</table>\n",
       "</div>"
      ],
      "text/plain": [
       "        Dates  MA_1_12\n",
       "9  1990-10-31      NaN\n",
       "10 1990-11-30      NaN\n",
       "11 1990-12-31      0.0\n",
       "12 1991-01-31      1.0\n",
       "13 1991-02-28      1.0"
      ]
     },
     "execution_count": 259,
     "metadata": {},
     "output_type": "execute_result"
    }
   ],
   "source": [
    "df[['Dates','MA_1_12']][9:].head()"
   ]
  },
  {
   "cell_type": "markdown",
   "metadata": {},
   "source": [
    "As a sanity check, since Moving_Average_12 is already checked, following shows that lambda function performs as expected."
   ]
  },
  {
   "cell_type": "code",
   "execution_count": 260,
   "metadata": {},
   "outputs": [
    {
     "data": {
      "text/plain": [
       "9           NaN\n",
       "10          NaN\n",
       "11    -2.460000\n",
       "12    10.012500\n",
       "13    30.220833\n",
       "Name: SPX Index, dtype: float64"
      ]
     },
     "execution_count": 260,
     "metadata": {},
     "output_type": "execute_result"
    }
   ],
   "source": [
    "(other_df['SPX Index']-Moving_Average_12)[9:].head()"
   ]
  },
  {
   "cell_type": "markdown",
   "metadata": {},
   "source": [
    "### 2.5.2 MA(2,12) "
   ]
  },
  {
   "cell_type": "markdown",
   "metadata": {},
   "source": [
    "It is a dummy variable based on `Moving_Average_2`  and `Moving_Average_12`\n",
    "<br>\n",
    "If `Moving_Average_2` value is greater than `Moving_Average_12` value, then assign 1. Otherwise assign 0."
   ]
  },
  {
   "cell_type": "code",
   "execution_count": 261,
   "metadata": {},
   "outputs": [],
   "source": [
    "df['MA_2_12']=((Moving_Average_2-Moving_Average_12)\n",
    "               .apply(lambda x: 1 if x>0 else 0) + MA_nan)"
   ]
  },
  {
   "cell_type": "code",
   "execution_count": 262,
   "metadata": {},
   "outputs": [
    {
     "data": {
      "text/html": [
       "<div>\n",
       "<style scoped>\n",
       "    .dataframe tbody tr th:only-of-type {\n",
       "        vertical-align: middle;\n",
       "    }\n",
       "\n",
       "    .dataframe tbody tr th {\n",
       "        vertical-align: top;\n",
       "    }\n",
       "\n",
       "    .dataframe thead th {\n",
       "        text-align: right;\n",
       "    }\n",
       "</style>\n",
       "<table border=\"1\" class=\"dataframe\">\n",
       "  <thead>\n",
       "    <tr style=\"text-align: right;\">\n",
       "      <th></th>\n",
       "      <th>Dates</th>\n",
       "      <th>MA_2_12</th>\n",
       "    </tr>\n",
       "  </thead>\n",
       "  <tbody>\n",
       "    <tr>\n",
       "      <th>9</th>\n",
       "      <td>1990-10-31</td>\n",
       "      <td>NaN</td>\n",
       "    </tr>\n",
       "    <tr>\n",
       "      <th>10</th>\n",
       "      <td>1990-11-30</td>\n",
       "      <td>NaN</td>\n",
       "    </tr>\n",
       "    <tr>\n",
       "      <th>11</th>\n",
       "      <td>1990-12-31</td>\n",
       "      <td>0.0</td>\n",
       "    </tr>\n",
       "    <tr>\n",
       "      <th>12</th>\n",
       "      <td>1991-01-31</td>\n",
       "      <td>1.0</td>\n",
       "    </tr>\n",
       "    <tr>\n",
       "      <th>13</th>\n",
       "      <td>1991-02-28</td>\n",
       "      <td>1.0</td>\n",
       "    </tr>\n",
       "  </tbody>\n",
       "</table>\n",
       "</div>"
      ],
      "text/plain": [
       "        Dates  MA_2_12\n",
       "9  1990-10-31      NaN\n",
       "10 1990-11-30      NaN\n",
       "11 1990-12-31      0.0\n",
       "12 1991-01-31      1.0\n",
       "13 1991-02-28      1.0"
      ]
     },
     "execution_count": 262,
     "metadata": {},
     "output_type": "execute_result"
    }
   ],
   "source": [
    "df[['Dates','MA_2_12']][9:].head()"
   ]
  },
  {
   "cell_type": "markdown",
   "metadata": {},
   "source": [
    "### 2.5.3 MOMBY(6) "
   ]
  },
  {
   "cell_type": "markdown",
   "metadata": {},
   "source": [
    "It is a dummy variable based on `Bond_Moving_Average_6`  and the current bond yield.\n",
    "<br>\n",
    "If the bond yield is greater than `Bond_Moving_Average_6` by more than 5 basis points, assign -1. \n",
    "<br>\n",
    "Else if the bond yield is less than `Bond_Moving_Average_6` by more than 5 basis points, assign 1.\n",
    "<br>\n",
    "Otherwie, assign 0."
   ]
  },
  {
   "cell_type": "code",
   "execution_count": 263,
   "metadata": {},
   "outputs": [],
   "source": [
    "MOMBY_6_nan = (df_bonds['Close']-Bond_Moving_Average_6\n",
    "              ).apply(lambda x: np.nan if np.isnan(x) else 0)"
   ]
  },
  {
   "cell_type": "code",
   "execution_count": 264,
   "metadata": {},
   "outputs": [],
   "source": [
    "df['MOMBY_6']=((df_bonds['Close']-Bond_Moving_Average_6\n",
    "              ).apply(lambda x: -1 if x>0.05 else (1 if x<0.05 else 0)) \n",
    "               + MOMBY_6_nan)"
   ]
  },
  {
   "cell_type": "code",
   "execution_count": 265,
   "metadata": {},
   "outputs": [
    {
     "data": {
      "text/html": [
       "<div>\n",
       "<style scoped>\n",
       "    .dataframe tbody tr th:only-of-type {\n",
       "        vertical-align: middle;\n",
       "    }\n",
       "\n",
       "    .dataframe tbody tr th {\n",
       "        vertical-align: top;\n",
       "    }\n",
       "\n",
       "    .dataframe thead th {\n",
       "        text-align: right;\n",
       "    }\n",
       "</style>\n",
       "<table border=\"1\" class=\"dataframe\">\n",
       "  <thead>\n",
       "    <tr style=\"text-align: right;\">\n",
       "      <th></th>\n",
       "      <th>Dates</th>\n",
       "      <th>MOMBY_6</th>\n",
       "    </tr>\n",
       "  </thead>\n",
       "  <tbody>\n",
       "    <tr>\n",
       "      <th>5</th>\n",
       "      <td>1990-06-29</td>\n",
       "      <td>1.0</td>\n",
       "    </tr>\n",
       "    <tr>\n",
       "      <th>6</th>\n",
       "      <td>1990-07-31</td>\n",
       "      <td>1.0</td>\n",
       "    </tr>\n",
       "    <tr>\n",
       "      <th>7</th>\n",
       "      <td>1990-08-31</td>\n",
       "      <td>-1.0</td>\n",
       "    </tr>\n",
       "    <tr>\n",
       "      <th>8</th>\n",
       "      <td>1990-09-28</td>\n",
       "      <td>-1.0</td>\n",
       "    </tr>\n",
       "    <tr>\n",
       "      <th>9</th>\n",
       "      <td>1990-10-31</td>\n",
       "      <td>1.0</td>\n",
       "    </tr>\n",
       "  </tbody>\n",
       "</table>\n",
       "</div>"
      ],
      "text/plain": [
       "       Dates  MOMBY_6\n",
       "5 1990-06-29      1.0\n",
       "6 1990-07-31      1.0\n",
       "7 1990-08-31     -1.0\n",
       "8 1990-09-28     -1.0\n",
       "9 1990-10-31      1.0"
      ]
     },
     "execution_count": 265,
     "metadata": {},
     "output_type": "execute_result"
    }
   ],
   "source": [
    "df[['Dates','MOMBY_6']][5:].head()"
   ]
  },
  {
   "cell_type": "markdown",
   "metadata": {},
   "source": [
    "### 2.5.3 MOMBY(12) "
   ]
  },
  {
   "cell_type": "code",
   "execution_count": 266,
   "metadata": {},
   "outputs": [],
   "source": [
    "MOMBY_12_nan = (df_bonds['Close']-Bond_Moving_Average_12\n",
    "              ).apply(lambda x: np.nan if np.isnan(x) else 0)"
   ]
  },
  {
   "cell_type": "code",
   "execution_count": 267,
   "metadata": {},
   "outputs": [],
   "source": [
    "df['MOMBY_12']=((df_bonds['Close']-Bond_Moving_Average_12)\n",
    "                .apply(lambda x: -1 if x>0.05 else (1 if x<0.05 else 0))\n",
    "                + MOMBY_12_nan)"
   ]
  },
  {
   "cell_type": "code",
   "execution_count": 268,
   "metadata": {},
   "outputs": [
    {
     "data": {
      "text/html": [
       "<div>\n",
       "<style scoped>\n",
       "    .dataframe tbody tr th:only-of-type {\n",
       "        vertical-align: middle;\n",
       "    }\n",
       "\n",
       "    .dataframe tbody tr th {\n",
       "        vertical-align: top;\n",
       "    }\n",
       "\n",
       "    .dataframe thead th {\n",
       "        text-align: right;\n",
       "    }\n",
       "</style>\n",
       "<table border=\"1\" class=\"dataframe\">\n",
       "  <thead>\n",
       "    <tr style=\"text-align: right;\">\n",
       "      <th></th>\n",
       "      <th>Dates</th>\n",
       "      <th>MOMBY_12</th>\n",
       "    </tr>\n",
       "  </thead>\n",
       "  <tbody>\n",
       "    <tr>\n",
       "      <th>11</th>\n",
       "      <td>1990-12-31</td>\n",
       "      <td>1.0</td>\n",
       "    </tr>\n",
       "    <tr>\n",
       "      <th>12</th>\n",
       "      <td>1991-01-31</td>\n",
       "      <td>1.0</td>\n",
       "    </tr>\n",
       "    <tr>\n",
       "      <th>13</th>\n",
       "      <td>1991-02-28</td>\n",
       "      <td>1.0</td>\n",
       "    </tr>\n",
       "    <tr>\n",
       "      <th>14</th>\n",
       "      <td>1991-03-29</td>\n",
       "      <td>1.0</td>\n",
       "    </tr>\n",
       "    <tr>\n",
       "      <th>15</th>\n",
       "      <td>1991-04-30</td>\n",
       "      <td>1.0</td>\n",
       "    </tr>\n",
       "  </tbody>\n",
       "</table>\n",
       "</div>"
      ],
      "text/plain": [
       "        Dates  MOMBY_12\n",
       "11 1990-12-31       1.0\n",
       "12 1991-01-31       1.0\n",
       "13 1991-02-28       1.0\n",
       "14 1991-03-29       1.0\n",
       "15 1991-04-30       1.0"
      ]
     },
     "execution_count": 268,
     "metadata": {},
     "output_type": "execute_result"
    }
   ],
   "source": [
    "df[['Dates','MOMBY_12']][11:].head()"
   ]
  },
  {
   "cell_type": "markdown",
   "metadata": {},
   "source": [
    "### 2.6 MOM"
   ]
  },
  {
   "cell_type": "markdown",
   "metadata": {},
   "source": [
    "It is a dummy variable that depends on `SPX Index` and its lagged values."
   ]
  },
  {
   "cell_type": "markdown",
   "metadata": {},
   "source": [
    "### 2.6.1 MOM(9)\n",
    "If the difference between `SPX Index` and its 9 months lagged value is positive then assign 1. Otherwise assign 0."
   ]
  },
  {
   "cell_type": "code",
   "execution_count": 269,
   "metadata": {},
   "outputs": [],
   "source": [
    "MOM_9_nan = (other_df['SPX Index']-other_df['SPX Index'].shift(9)\n",
    "            ).apply(lambda x: np.nan if np.isnan(x) else 0)\n",
    "df['MOM_9']=(other_df['SPX Index']-other_df['SPX Index'].shift(9)\n",
    "            ).apply(lambda x: 1 if x>0 else 0) + MOM_9_nan"
   ]
  },
  {
   "cell_type": "code",
   "execution_count": 270,
   "metadata": {},
   "outputs": [
    {
     "data": {
      "text/html": [
       "<div>\n",
       "<style scoped>\n",
       "    .dataframe tbody tr th:only-of-type {\n",
       "        vertical-align: middle;\n",
       "    }\n",
       "\n",
       "    .dataframe tbody tr th {\n",
       "        vertical-align: top;\n",
       "    }\n",
       "\n",
       "    .dataframe thead th {\n",
       "        text-align: right;\n",
       "    }\n",
       "</style>\n",
       "<table border=\"1\" class=\"dataframe\">\n",
       "  <thead>\n",
       "    <tr style=\"text-align: right;\">\n",
       "      <th></th>\n",
       "      <th>Dates</th>\n",
       "      <th>MOM_9</th>\n",
       "    </tr>\n",
       "  </thead>\n",
       "  <tbody>\n",
       "    <tr>\n",
       "      <th>8</th>\n",
       "      <td>1990-09-28</td>\n",
       "      <td>NaN</td>\n",
       "    </tr>\n",
       "    <tr>\n",
       "      <th>9</th>\n",
       "      <td>1990-10-31</td>\n",
       "      <td>0.0</td>\n",
       "    </tr>\n",
       "    <tr>\n",
       "      <th>10</th>\n",
       "      <td>1990-11-30</td>\n",
       "      <td>0.0</td>\n",
       "    </tr>\n",
       "    <tr>\n",
       "      <th>11</th>\n",
       "      <td>1990-12-31</td>\n",
       "      <td>0.0</td>\n",
       "    </tr>\n",
       "    <tr>\n",
       "      <th>12</th>\n",
       "      <td>1991-01-31</td>\n",
       "      <td>1.0</td>\n",
       "    </tr>\n",
       "  </tbody>\n",
       "</table>\n",
       "</div>"
      ],
      "text/plain": [
       "        Dates  MOM_9\n",
       "8  1990-09-28    NaN\n",
       "9  1990-10-31    0.0\n",
       "10 1990-11-30    0.0\n",
       "11 1990-12-31    0.0\n",
       "12 1991-01-31    1.0"
      ]
     },
     "execution_count": 270,
     "metadata": {},
     "output_type": "execute_result"
    }
   ],
   "source": [
    "df[['Dates','MOM_9']][8:].head()"
   ]
  },
  {
   "cell_type": "markdown",
   "metadata": {},
   "source": [
    "Following checks the result"
   ]
  },
  {
   "cell_type": "code",
   "execution_count": 271,
   "metadata": {},
   "outputs": [
    {
     "data": {
      "text/plain": [
       "8       NaN\n",
       "9    -25.08\n",
       "10    -9.67\n",
       "11    -9.72\n",
       "12    13.13\n",
       "Name: SPX Index, dtype: float64"
      ]
     },
     "execution_count": 271,
     "metadata": {},
     "output_type": "execute_result"
    }
   ],
   "source": [
    "(other_df['SPX Index']-other_df['SPX Index'].shift(9))[8:].head()"
   ]
  },
  {
   "cell_type": "markdown",
   "metadata": {},
   "source": [
    "### 2.6.2 MOM(12)\n",
    "If the difference between `SPX Index` and its 12 months lagged value is positive then assign 1. Otherwise assign 0."
   ]
  },
  {
   "cell_type": "code",
   "execution_count": 272,
   "metadata": {},
   "outputs": [],
   "source": [
    "MOM_12_nan = (other_df['SPX Index']-other_df['SPX Index'].shift(12)\n",
    "            ).apply(lambda x: np.nan if np.isnan(x) else 0)\n",
    "df['MOM_12']=(other_df['SPX Index']-other_df['SPX Index'].shift(12)\n",
    "            ).apply(lambda x: 1 if x>0 else 0) + MOM_12_nan"
   ]
  },
  {
   "cell_type": "code",
   "execution_count": 273,
   "metadata": {},
   "outputs": [
    {
     "data": {
      "text/html": [
       "<div>\n",
       "<style scoped>\n",
       "    .dataframe tbody tr th:only-of-type {\n",
       "        vertical-align: middle;\n",
       "    }\n",
       "\n",
       "    .dataframe tbody tr th {\n",
       "        vertical-align: top;\n",
       "    }\n",
       "\n",
       "    .dataframe thead th {\n",
       "        text-align: right;\n",
       "    }\n",
       "</style>\n",
       "<table border=\"1\" class=\"dataframe\">\n",
       "  <thead>\n",
       "    <tr style=\"text-align: right;\">\n",
       "      <th></th>\n",
       "      <th>Dates</th>\n",
       "      <th>MOM_12</th>\n",
       "    </tr>\n",
       "  </thead>\n",
       "  <tbody>\n",
       "    <tr>\n",
       "      <th>11</th>\n",
       "      <td>1990-12-31</td>\n",
       "      <td>NaN</td>\n",
       "    </tr>\n",
       "    <tr>\n",
       "      <th>12</th>\n",
       "      <td>1991-01-31</td>\n",
       "      <td>1.0</td>\n",
       "    </tr>\n",
       "    <tr>\n",
       "      <th>13</th>\n",
       "      <td>1991-02-28</td>\n",
       "      <td>1.0</td>\n",
       "    </tr>\n",
       "    <tr>\n",
       "      <th>14</th>\n",
       "      <td>1991-03-29</td>\n",
       "      <td>1.0</td>\n",
       "    </tr>\n",
       "    <tr>\n",
       "      <th>15</th>\n",
       "      <td>1991-04-30</td>\n",
       "      <td>1.0</td>\n",
       "    </tr>\n",
       "  </tbody>\n",
       "</table>\n",
       "</div>"
      ],
      "text/plain": [
       "        Dates  MOM_12\n",
       "11 1990-12-31     NaN\n",
       "12 1991-01-31     1.0\n",
       "13 1991-02-28     1.0\n",
       "14 1991-03-29     1.0\n",
       "15 1991-04-30     1.0"
      ]
     },
     "execution_count": 273,
     "metadata": {},
     "output_type": "execute_result"
    }
   ],
   "source": [
    "df[['Dates','MOM_12']][11:].head()"
   ]
  },
  {
   "cell_type": "markdown",
   "metadata": {},
   "source": [
    "### 2.7 Output Gap"
   ]
  },
  {
   "cell_type": "markdown",
   "metadata": {},
   "source": [
    "The deviation of the log of industrial production from a quadratic trend.\n",
    "<br>\n",
    "I believe this data is available from Bloomberg Terminal. \n",
    "However, it is simple to compute. Therefore, I decided to simply compute it.\n",
    "<br>\n",
    "A quadratic trend is of the following form:\n",
    "<br>\n",
    "$$ y_{t} = \\beta_{0} + \\beta_{0}x_{t} + \\beta_{0}x_{t}^2 +\\epsilon_{t} $$\n",
    "<br>\n",
    "$\\widehat{\\beta}$ is estimated by $$\\widehat{\\beta} = (X^{T}X)^{-1}X^{T}y  $$\n",
    "\n",
    "following provides an illustration of this estimation procedure.\n",
    "\n"
   ]
  },
  {
   "cell_type": "code",
   "execution_count": 274,
   "metadata": {},
   "outputs": [],
   "source": [
    "def beta_est(obs):\n",
    "    \"\"\"\n",
    "    estimates beta of ols to minimize l2 norm\n",
    "    \"\"\"\n",
    "    y = np.log(other_df['IP Index'].dropna())[:obs]\n",
    "    X = np.concatenate((np.ones(obs).reshape(-1,1),\n",
    "                        np.arange(obs).reshape(-1,1)),\n",
    "                       axis=1)\n",
    "    X = np.concatenate((X,(np.arange(obs)**2)\n",
    "                        .reshape(-1,1)),\n",
    "                       axis=1)\n",
    "    beta_hat = np.dot(\n",
    "                  np.matmul(\n",
    "                      np.linalg.inv(\n",
    "                          1e-6 *np.eye(3) \n",
    "                          + np.matmul(X.transpose(),X)),\n",
    "                            X.transpose()),\n",
    "                  y.values.reshape(-1,1))\n",
    "    return beta_hat"
   ]
  },
  {
   "cell_type": "code",
   "execution_count": 275,
   "metadata": {},
   "outputs": [
    {
     "data": {
      "text/plain": [
       "<matplotlib.legend.Legend at 0x11445fa20>"
      ]
     },
     "execution_count": 275,
     "metadata": {},
     "output_type": "execute_result"
    },
    {
     "data": {
      "image/png": "[encoded data removed]",
      "text/plain": [
       "<Figure size 432x288 with 1 Axes>"
      ]
     },
     "metadata": {
      "needs_background": "light"
     },
     "output_type": "display_data"
    }
   ],
   "source": [
    "n = len(np.log(other_df['IP Index'].dropna()))\n",
    "X = np.concatenate((np.ones(n).reshape(-1,1)\n",
    "                    ,np.arange(n).reshape(-1,1)),\n",
    "                   axis=1)\n",
    "X = np.concatenate((X,(np.arange(n)**2)\n",
    "                    .reshape(-1,1)),\n",
    "                   axis=1)\n",
    "beta_hat = beta_est(n)\n",
    "y_pred = np.matmul(X,beta_hat)\n",
    "y = np.log(other_df['IP Index'].dropna())\n",
    "plot_df = np.concatenate((np.arange(n)\n",
    "                          .reshape(-1,1),\n",
    "                          y.values.reshape(-1,1),\n",
    "                          y_pred),\n",
    "                         axis=1)\n",
    "plot_df = pd.DataFrame(plot_df)\n",
    "plot_df.columns = ['obs','log(IP)','predicted log(IP)']\n",
    "plt.plot('obs','log(IP)',data=plot_df)\n",
    "plt.plot('obs','predicted log(IP)',data=plot_df)\n",
    "plt.legend()"
   ]
  },
  {
   "cell_type": "markdown",
   "metadata": {},
   "source": [
    "However, the research estimates $\\widehat{\\beta}$ from data available up to each point in time. Thus, I will repeat the calculation above to every time step."
   ]
  },
  {
   "cell_type": "code",
   "execution_count": 276,
   "metadata": {},
   "outputs": [],
   "source": [
    "def output_gap_computer(obs):\n",
    "    \"\"\"\n",
    "    computes the deviation of the log of industrial \n",
    "    production from a quadratic trend.\n",
    "    \"\"\"\n",
    "    return y[obs]-np.dot(X[:obs],beta_est(obs))[-1]"
   ]
  },
  {
   "cell_type": "code",
   "execution_count": 277,
   "metadata": {},
   "outputs": [],
   "source": [
    "# Next Cell parallelize for loop. It is equivalent to\n",
    "\n",
    "# output_gap2 = []\n",
    "# for i in range(1,n+1):\n",
    "#     output_gap2 += [output_gap_computer(i)]"
   ]
  },
  {
   "cell_type": "code",
   "execution_count": 278,
   "metadata": {},
   "outputs": [],
   "source": [
    "pool = multiprocessing.Pool(4)\n",
    "output_gap =[*pool.map(output_gap_computer, range(1, n+1))]"
   ]
  },
  {
   "cell_type": "code",
   "execution_count": 279,
   "metadata": {},
   "outputs": [],
   "source": [
    "df['output_gap']=np.concatenate(([np.nan],\n",
    "                                 np.array(output_gap)\n",
    "                                 .reshape(-1)))"
   ]
  },
  {
   "cell_type": "code",
   "execution_count": 280,
   "metadata": {},
   "outputs": [
    {
     "data": {
      "text/html": [
       "<div>\n",
       "<style scoped>\n",
       "    .dataframe tbody tr th:only-of-type {\n",
       "        vertical-align: middle;\n",
       "    }\n",
       "\n",
       "    .dataframe tbody tr th {\n",
       "        vertical-align: top;\n",
       "    }\n",
       "\n",
       "    .dataframe thead th {\n",
       "        text-align: right;\n",
       "    }\n",
       "</style>\n",
       "<table border=\"1\" class=\"dataframe\">\n",
       "  <thead>\n",
       "    <tr style=\"text-align: right;\">\n",
       "      <th></th>\n",
       "      <th>Dates</th>\n",
       "      <th>output_gap</th>\n",
       "    </tr>\n",
       "  </thead>\n",
       "  <tbody>\n",
       "    <tr>\n",
       "      <th>0</th>\n",
       "      <td>NaT</td>\n",
       "      <td>NaN</td>\n",
       "    </tr>\n",
       "    <tr>\n",
       "      <th>1</th>\n",
       "      <td>1990-02-28</td>\n",
       "      <td>4.159576e-06</td>\n",
       "    </tr>\n",
       "    <tr>\n",
       "      <th>2</th>\n",
       "      <td>1990-03-30</td>\n",
       "      <td>2.422823e-09</td>\n",
       "    </tr>\n",
       "    <tr>\n",
       "      <th>3</th>\n",
       "      <td>1990-04-30</td>\n",
       "      <td>-5.646037e-09</td>\n",
       "    </tr>\n",
       "    <tr>\n",
       "      <th>4</th>\n",
       "      <td>1990-05-31</td>\n",
       "      <td>5.029228e-04</td>\n",
       "    </tr>\n",
       "  </tbody>\n",
       "</table>\n",
       "</div>"
      ],
      "text/plain": [
       "       Dates    output_gap\n",
       "0        NaT           NaN\n",
       "1 1990-02-28  4.159576e-06\n",
       "2 1990-03-30  2.422823e-09\n",
       "3 1990-04-30 -5.646037e-09\n",
       "4 1990-05-31  5.029228e-04"
      ]
     },
     "execution_count": 280,
     "metadata": {},
     "output_type": "execute_result"
    }
   ],
   "source": [
    "df[['Dates','output_gap']].head()"
   ]
  },
  {
   "cell_type": "markdown",
   "metadata": {},
   "source": [
    "### 2.7 SPX Index return\n"
   ]
  },
  {
   "cell_type": "code",
   "execution_count": 281,
   "metadata": {},
   "outputs": [
    {
     "data": {
      "text/html": [
       "<div>\n",
       "<style scoped>\n",
       "    .dataframe tbody tr th:only-of-type {\n",
       "        vertical-align: middle;\n",
       "    }\n",
       "\n",
       "    .dataframe tbody tr th {\n",
       "        vertical-align: top;\n",
       "    }\n",
       "\n",
       "    .dataframe thead th {\n",
       "        text-align: right;\n",
       "    }\n",
       "</style>\n",
       "<table border=\"1\" class=\"dataframe\">\n",
       "  <thead>\n",
       "    <tr style=\"text-align: right;\">\n",
       "      <th></th>\n",
       "      <th>Dates</th>\n",
       "      <th>r_SPX</th>\n",
       "    </tr>\n",
       "  </thead>\n",
       "  <tbody>\n",
       "    <tr>\n",
       "      <th>0</th>\n",
       "      <td>NaT</td>\n",
       "      <td>0.008539</td>\n",
       "    </tr>\n",
       "    <tr>\n",
       "      <th>1</th>\n",
       "      <td>1990-02-28</td>\n",
       "      <td>0.024255</td>\n",
       "    </tr>\n",
       "    <tr>\n",
       "      <th>2</th>\n",
       "      <td>1990-03-30</td>\n",
       "      <td>-0.026887</td>\n",
       "    </tr>\n",
       "    <tr>\n",
       "      <th>3</th>\n",
       "      <td>1990-04-30</td>\n",
       "      <td>0.091989</td>\n",
       "    </tr>\n",
       "    <tr>\n",
       "      <th>4</th>\n",
       "      <td>1990-05-31</td>\n",
       "      <td>-0.008886</td>\n",
       "    </tr>\n",
       "  </tbody>\n",
       "</table>\n",
       "</div>"
      ],
      "text/plain": [
       "       Dates     r_SPX\n",
       "0        NaT  0.008539\n",
       "1 1990-02-28  0.024255\n",
       "2 1990-03-30 -0.026887\n",
       "3 1990-04-30  0.091989\n",
       "4 1990-05-31 -0.008886"
      ]
     },
     "execution_count": 281,
     "metadata": {},
     "output_type": "execute_result"
    }
   ],
   "source": [
    "df['r_SPX'] = other_df['SPX Index'].pct_change().shift(-1)\n",
    "df[['Dates','r_SPX']].head()"
   ]
  },
  {
   "cell_type": "markdown",
   "metadata": {},
   "source": [
    "### 2.8 Bond return and yield"
   ]
  },
  {
   "cell_type": "code",
   "execution_count": 282,
   "metadata": {},
   "outputs": [],
   "source": [
    "def compound_return(cum_return):\n",
    "    sol = (cum_return.values/100 + 1)\n",
    "    for i in range(2,len(sol)):\n",
    "       sol[i] = sol[i]/(cum_return.values/100 + 1)[i-1]\n",
    "    return sol - 1\n"
   ]
  },
  {
   "cell_type": "code",
   "execution_count": 283,
   "metadata": {},
   "outputs": [
    {
     "data": {
      "text/html": [
       "<div>\n",
       "<style scoped>\n",
       "    .dataframe tbody tr th:only-of-type {\n",
       "        vertical-align: middle;\n",
       "    }\n",
       "\n",
       "    .dataframe tbody tr th {\n",
       "        vertical-align: top;\n",
       "    }\n",
       "\n",
       "    .dataframe thead th {\n",
       "        text-align: right;\n",
       "    }\n",
       "</style>\n",
       "<table border=\"1\" class=\"dataframe\">\n",
       "  <thead>\n",
       "    <tr style=\"text-align: right;\">\n",
       "      <th></th>\n",
       "      <th>Dates</th>\n",
       "      <th>y_bond</th>\n",
       "    </tr>\n",
       "  </thead>\n",
       "  <tbody>\n",
       "    <tr>\n",
       "      <th>0</th>\n",
       "      <td>NaT</td>\n",
       "      <td>0.0843</td>\n",
       "    </tr>\n",
       "    <tr>\n",
       "      <th>1</th>\n",
       "      <td>1990-02-28</td>\n",
       "      <td>0.0851</td>\n",
       "    </tr>\n",
       "    <tr>\n",
       "      <th>2</th>\n",
       "      <td>1990-03-30</td>\n",
       "      <td>0.0865</td>\n",
       "    </tr>\n",
       "    <tr>\n",
       "      <th>3</th>\n",
       "      <td>1990-04-30</td>\n",
       "      <td>0.0904</td>\n",
       "    </tr>\n",
       "    <tr>\n",
       "      <th>4</th>\n",
       "      <td>1990-05-31</td>\n",
       "      <td>0.0860</td>\n",
       "    </tr>\n",
       "  </tbody>\n",
       "</table>\n",
       "</div>"
      ],
      "text/plain": [
       "       Dates  y_bond\n",
       "0        NaT  0.0843\n",
       "1 1990-02-28  0.0851\n",
       "2 1990-03-30  0.0865\n",
       "3 1990-04-30  0.0904\n",
       "4 1990-05-31  0.0860"
      ]
     },
     "execution_count": 283,
     "metadata": {},
     "output_type": "execute_result"
    }
   ],
   "source": [
    "df['y_bond'] = df_bonds['Close']/100\n",
    "df[['Dates','y_bond']].head()"
   ]
  },
  {
   "cell_type": "code",
   "execution_count": 284,
   "metadata": {},
   "outputs": [
    {
     "data": {
      "text/html": [
       "<div>\n",
       "<style scoped>\n",
       "    .dataframe tbody tr th:only-of-type {\n",
       "        vertical-align: middle;\n",
       "    }\n",
       "\n",
       "    .dataframe tbody tr th {\n",
       "        vertical-align: top;\n",
       "    }\n",
       "\n",
       "    .dataframe thead th {\n",
       "        text-align: right;\n",
       "    }\n",
       "</style>\n",
       "<table border=\"1\" class=\"dataframe\">\n",
       "  <thead>\n",
       "    <tr style=\"text-align: right;\">\n",
       "      <th></th>\n",
       "      <th>Dates</th>\n",
       "      <th>r_bond</th>\n",
       "    </tr>\n",
       "  </thead>\n",
       "  <tbody>\n",
       "    <tr>\n",
       "      <th>0</th>\n",
       "      <td>NaT</td>\n",
       "      <td>0.009490</td>\n",
       "    </tr>\n",
       "    <tr>\n",
       "      <th>1</th>\n",
       "      <td>1990-02-28</td>\n",
       "      <td>0.026097</td>\n",
       "    </tr>\n",
       "    <tr>\n",
       "      <th>2</th>\n",
       "      <td>1990-03-30</td>\n",
       "      <td>0.045087</td>\n",
       "    </tr>\n",
       "    <tr>\n",
       "      <th>3</th>\n",
       "      <td>1990-04-30</td>\n",
       "      <td>-0.048673</td>\n",
       "    </tr>\n",
       "    <tr>\n",
       "      <th>4</th>\n",
       "      <td>1990-05-31</td>\n",
       "      <td>-0.019767</td>\n",
       "    </tr>\n",
       "  </tbody>\n",
       "</table>\n",
       "</div>"
      ],
      "text/plain": [
       "       Dates    r_bond\n",
       "0        NaT  0.009490\n",
       "1 1990-02-28  0.026097\n",
       "2 1990-03-30  0.045087\n",
       "3 1990-04-30 -0.048673\n",
       "4 1990-05-31 -0.019767"
      ]
     },
     "execution_count": 284,
     "metadata": {},
     "output_type": "execute_result"
    }
   ],
   "source": [
    "df['r_bond'] = (compound_return(\n",
    "                    df_bonds['Cumulative Return %'].shift(-1)))\n",
    "df[['Dates','r_bond']].head()"
   ]
  },
  {
   "cell_type": "markdown",
   "metadata": {},
   "source": [
    "To check the compound_return function indeed takes cumulative return as input and computes the compounding rate of return: I will manually compute `r_bond` on `1990-03-30`. The numbers correspond to cumulative returns as can be seen from the cell below:\n",
    "<br>\n",
    "$$ (1.026097) = (1.009490)(1 + r) \\Rightarrow r = 0.016451$$\n",
    "$$ (1.072361) = (1.009490)(1.016451)(1 + r) \\Rightarrow r = 0.045087 $$\n",
    "\n"
   ]
  },
  {
   "cell_type": "code",
   "execution_count": 285,
   "metadata": {},
   "outputs": [
    {
     "data": {
      "text/plain": [
       "0    1.000000\n",
       "1    1.009490\n",
       "2    1.026097\n",
       "3    1.072361\n",
       "4    1.020166\n",
       "Name: Cumulative Return %, dtype: float64"
      ]
     },
     "execution_count": 285,
     "metadata": {},
     "output_type": "execute_result"
    }
   ],
   "source": [
    "(df_bonds['Cumulative Return %']/100 + 1).head()"
   ]
  },
  {
   "cell_type": "markdown",
   "metadata": {},
   "source": [
    "### 2. Bill return and yield"
   ]
  },
  {
   "cell_type": "code",
   "execution_count": 286,
   "metadata": {},
   "outputs": [
    {
     "data": {
      "text/html": [
       "<div>\n",
       "<style scoped>\n",
       "    .dataframe tbody tr th:only-of-type {\n",
       "        vertical-align: middle;\n",
       "    }\n",
       "\n",
       "    .dataframe tbody tr th {\n",
       "        vertical-align: top;\n",
       "    }\n",
       "\n",
       "    .dataframe thead th {\n",
       "        text-align: right;\n",
       "    }\n",
       "</style>\n",
       "<table border=\"1\" class=\"dataframe\">\n",
       "  <thead>\n",
       "    <tr style=\"text-align: right;\">\n",
       "      <th></th>\n",
       "      <th>Dates</th>\n",
       "      <th>y_bill</th>\n",
       "    </tr>\n",
       "  </thead>\n",
       "  <tbody>\n",
       "    <tr>\n",
       "      <th>0</th>\n",
       "      <td>NaT</td>\n",
       "      <td>0.0774</td>\n",
       "    </tr>\n",
       "    <tr>\n",
       "      <th>1</th>\n",
       "      <td>1990-02-28</td>\n",
       "      <td>0.0777</td>\n",
       "    </tr>\n",
       "    <tr>\n",
       "      <th>2</th>\n",
       "      <td>1990-03-30</td>\n",
       "      <td>0.0780</td>\n",
       "    </tr>\n",
       "    <tr>\n",
       "      <th>3</th>\n",
       "      <td>1990-04-30</td>\n",
       "      <td>0.0779</td>\n",
       "    </tr>\n",
       "    <tr>\n",
       "      <th>4</th>\n",
       "      <td>1990-05-31</td>\n",
       "      <td>0.0775</td>\n",
       "    </tr>\n",
       "  </tbody>\n",
       "</table>\n",
       "</div>"
      ],
      "text/plain": [
       "       Dates  y_bill\n",
       "0        NaT  0.0774\n",
       "1 1990-02-28  0.0777\n",
       "2 1990-03-30  0.0780\n",
       "3 1990-04-30  0.0779\n",
       "4 1990-05-31  0.0775"
      ]
     },
     "execution_count": 286,
     "metadata": {},
     "output_type": "execute_result"
    }
   ],
   "source": [
    "df['y_bill'] = df_bill['Close']/100\n",
    "df[['Dates','y_bill']].head()"
   ]
  },
  {
   "cell_type": "code",
   "execution_count": 287,
   "metadata": {},
   "outputs": [
    {
     "data": {
      "text/html": [
       "<div>\n",
       "<style scoped>\n",
       "    .dataframe tbody tr th:only-of-type {\n",
       "        vertical-align: middle;\n",
       "    }\n",
       "\n",
       "    .dataframe tbody tr th {\n",
       "        vertical-align: top;\n",
       "    }\n",
       "\n",
       "    .dataframe thead th {\n",
       "        text-align: right;\n",
       "    }\n",
       "</style>\n",
       "<table border=\"1\" class=\"dataframe\">\n",
       "  <thead>\n",
       "    <tr style=\"text-align: right;\">\n",
       "      <th></th>\n",
       "      <th>Dates</th>\n",
       "      <th>r_bill</th>\n",
       "    </tr>\n",
       "  </thead>\n",
       "  <tbody>\n",
       "    <tr>\n",
       "      <th>0</th>\n",
       "      <td>NaT</td>\n",
       "      <td>0.003876</td>\n",
       "    </tr>\n",
       "    <tr>\n",
       "      <th>1</th>\n",
       "      <td>1990-02-28</td>\n",
       "      <td>0.007752</td>\n",
       "    </tr>\n",
       "    <tr>\n",
       "      <th>2</th>\n",
       "      <td>1990-03-30</td>\n",
       "      <td>-0.001282</td>\n",
       "    </tr>\n",
       "    <tr>\n",
       "      <th>3</th>\n",
       "      <td>1990-04-30</td>\n",
       "      <td>-0.005135</td>\n",
       "    </tr>\n",
       "    <tr>\n",
       "      <th>4</th>\n",
       "      <td>1990-05-31</td>\n",
       "      <td>-0.001290</td>\n",
       "    </tr>\n",
       "  </tbody>\n",
       "</table>\n",
       "</div>"
      ],
      "text/plain": [
       "       Dates    r_bill\n",
       "0        NaT  0.003876\n",
       "1 1990-02-28  0.007752\n",
       "2 1990-03-30 -0.001282\n",
       "3 1990-04-30 -0.005135\n",
       "4 1990-05-31 -0.001290"
      ]
     },
     "execution_count": 287,
     "metadata": {},
     "output_type": "execute_result"
    },
    {
     "data": {
      "image/png": "[encoded data removed]",
      "text/plain": [
       "<Figure size 432x288 with 1 Axes>"
      ]
     },
     "metadata": {
      "needs_background": "light"
     },
     "output_type": "display_data"
    }
   ],
   "source": [
    "df['r_bill'] = compound_return(\\\n",
    "                    df_bill['Cumulative Return %'].shift(-1))\n",
    "plt.plot(df['r_bill'])\n",
    "df[['Dates','r_bill']].head()"
   ]
  },
  {
   "cell_type": "markdown",
   "metadata": {},
   "source": [
    "To check the compound_return function indeed takes cumulative return as input and computes the compounding rate of return: I will manually compute `r_bill` on `1990-03-30`. The numbers correspond to cumulative returns as can be seen from the cell below:\n",
    "<br>\n",
    "$$ (1+ 0.007752) = (1 + 0.003876)(1 + r) \\Rightarrow r = 0.003861$$\n",
    "$$ (1 + 0.006460) = (1 + 0.003876)(1 + 0.003861)(1 + r) \\Rightarrow r = -0.001282 $$\n",
    "\n"
   ]
  },
  {
   "cell_type": "code",
   "execution_count": 288,
   "metadata": {},
   "outputs": [
    {
     "data": {
      "text/plain": [
       "0    1.000000\n",
       "1    1.003876\n",
       "2    1.007752\n",
       "3    1.006460\n",
       "4    1.001292\n",
       "Name: Cumulative Return %, dtype: float64"
      ]
     },
     "execution_count": 288,
     "metadata": {},
     "output_type": "execute_result"
    }
   ],
   "source": [
    "(df_bill['Cumulative Return %']/100 + 1).head()"
   ]
  },
  {
   "cell_type": "code",
   "execution_count": 289,
   "metadata": {},
   "outputs": [
    {
     "data": {
      "text/plain": [
       "-0.001282027007208475"
      ]
     },
     "execution_count": 289,
     "metadata": {},
     "output_type": "execute_result"
    }
   ],
   "source": [
    "1.006460/((1+0.003861)*(1+0.003876)) -1"
   ]
  },
  {
   "cell_type": "markdown",
   "metadata": {},
   "source": [
    "## 3. Return Forecasts"
   ]
  },
  {
   "cell_type": "markdown",
   "metadata": {},
   "source": [
    "After preprocessing available data is from 1991-03-29 to 2019-07-31"
   ]
  },
  {
   "cell_type": "code",
   "execution_count": 290,
   "metadata": {},
   "outputs": [
    {
     "data": {
      "text/html": [
       "<div>\n",
       "<style scoped>\n",
       "    .dataframe tbody tr th:only-of-type {\n",
       "        vertical-align: middle;\n",
       "    }\n",
       "\n",
       "    .dataframe tbody tr th {\n",
       "        vertical-align: top;\n",
       "    }\n",
       "\n",
       "    .dataframe thead th {\n",
       "        text-align: right;\n",
       "    }\n",
       "</style>\n",
       "<table border=\"1\" class=\"dataframe\">\n",
       "  <thead>\n",
       "    <tr style=\"text-align: right;\">\n",
       "      <th></th>\n",
       "      <th>Dates</th>\n",
       "      <th>log_DP</th>\n",
       "      <th>inflation</th>\n",
       "      <th>Term_Spread</th>\n",
       "      <th>Default_Spread</th>\n",
       "      <th>MA_1_12</th>\n",
       "      <th>MA_2_12</th>\n",
       "      <th>MOMBY_6</th>\n",
       "      <th>MOMBY_12</th>\n",
       "      <th>MOM_9</th>\n",
       "      <th>MOM_12</th>\n",
       "      <th>output_gap</th>\n",
       "      <th>r_SPX</th>\n",
       "      <th>y_bond</th>\n",
       "      <th>r_bond</th>\n",
       "      <th>y_bill</th>\n",
       "      <th>r_bill</th>\n",
       "    </tr>\n",
       "  </thead>\n",
       "  <tbody>\n",
       "    <tr>\n",
       "      <th>335</th>\n",
       "      <td>2019-02-28</td>\n",
       "      <td>-3.780938</td>\n",
       "      <td>-0.000198</td>\n",
       "      <td>0.3123</td>\n",
       "      <td>1.16</td>\n",
       "      <td>1.0</td>\n",
       "      <td>1.0</td>\n",
       "      <td>1.0</td>\n",
       "      <td>1.0</td>\n",
       "      <td>1.0</td>\n",
       "      <td>1.0</td>\n",
       "      <td>0.083610</td>\n",
       "      <td>0.017924</td>\n",
       "      <td>0.027123</td>\n",
       "      <td>-0.109354</td>\n",
       "      <td>0.0240</td>\n",
       "      <td>-0.020833</td>\n",
       "    </tr>\n",
       "    <tr>\n",
       "      <th>336</th>\n",
       "      <td>2019-03-29</td>\n",
       "      <td>-3.785870</td>\n",
       "      <td>0.001741</td>\n",
       "      <td>0.0657</td>\n",
       "      <td>1.07</td>\n",
       "      <td>1.0</td>\n",
       "      <td>1.0</td>\n",
       "      <td>1.0</td>\n",
       "      <td>1.0</td>\n",
       "      <td>1.0</td>\n",
       "      <td>1.0</td>\n",
       "      <td>0.083278</td>\n",
       "      <td>0.039313</td>\n",
       "      <td>0.024157</td>\n",
       "      <td>0.035393</td>\n",
       "      <td>0.0235</td>\n",
       "      <td>0.012766</td>\n",
       "    </tr>\n",
       "    <tr>\n",
       "      <th>337</th>\n",
       "      <td>2019-04-30</td>\n",
       "      <td>-3.818848</td>\n",
       "      <td>0.004089</td>\n",
       "      <td>0.1212</td>\n",
       "      <td>1.01</td>\n",
       "      <td>1.0</td>\n",
       "      <td>1.0</td>\n",
       "      <td>1.0</td>\n",
       "      <td>1.0</td>\n",
       "      <td>1.0</td>\n",
       "      <td>1.0</td>\n",
       "      <td>0.075730</td>\n",
       "      <td>-0.065778</td>\n",
       "      <td>0.025012</td>\n",
       "      <td>-0.143651</td>\n",
       "      <td>0.0238</td>\n",
       "      <td>-0.033613</td>\n",
       "    </tr>\n",
       "    <tr>\n",
       "      <th>338</th>\n",
       "      <td>2019-05-31</td>\n",
       "      <td>-3.740195</td>\n",
       "      <td>0.003187</td>\n",
       "      <td>-0.1581</td>\n",
       "      <td>0.96</td>\n",
       "      <td>0.0</td>\n",
       "      <td>1.0</td>\n",
       "      <td>1.0</td>\n",
       "      <td>1.0</td>\n",
       "      <td>0.0</td>\n",
       "      <td>1.0</td>\n",
       "      <td>0.076963</td>\n",
       "      <td>0.068930</td>\n",
       "      <td>0.021419</td>\n",
       "      <td>-0.066997</td>\n",
       "      <td>0.0230</td>\n",
       "      <td>-0.095652</td>\n",
       "    </tr>\n",
       "    <tr>\n",
       "      <th>339</th>\n",
       "      <td>2019-06-28</td>\n",
       "      <td>-3.792573</td>\n",
       "      <td>0.000773</td>\n",
       "      <td>-0.0816</td>\n",
       "      <td>1.04</td>\n",
       "      <td>1.0</td>\n",
       "      <td>1.0</td>\n",
       "      <td>1.0</td>\n",
       "      <td>1.0</td>\n",
       "      <td>1.0</td>\n",
       "      <td>1.0</td>\n",
       "      <td>0.077539</td>\n",
       "      <td>0.013128</td>\n",
       "      <td>0.019984</td>\n",
       "      <td>0.010308</td>\n",
       "      <td>0.0208</td>\n",
       "      <td>-0.019231</td>\n",
       "    </tr>\n",
       "  </tbody>\n",
       "</table>\n",
       "</div>"
      ],
      "text/plain": [
       "         Dates    log_DP  inflation  Term_Spread  Default_Spread  MA_1_12  \\\n",
       "335 2019-02-28 -3.780938  -0.000198       0.3123            1.16      1.0   \n",
       "336 2019-03-29 -3.785870   0.001741       0.0657            1.07      1.0   \n",
       "337 2019-04-30 -3.818848   0.004089       0.1212            1.01      1.0   \n",
       "338 2019-05-31 -3.740195   0.003187      -0.1581            0.96      0.0   \n",
       "339 2019-06-28 -3.792573   0.000773      -0.0816            1.04      1.0   \n",
       "\n",
       "     MA_2_12  MOMBY_6  MOMBY_12  MOM_9  MOM_12  output_gap     r_SPX  \\\n",
       "335      1.0      1.0       1.0    1.0     1.0    0.083610  0.017924   \n",
       "336      1.0      1.0       1.0    1.0     1.0    0.083278  0.039313   \n",
       "337      1.0      1.0       1.0    1.0     1.0    0.075730 -0.065778   \n",
       "338      1.0      1.0       1.0    0.0     1.0    0.076963  0.068930   \n",
       "339      1.0      1.0       1.0    1.0     1.0    0.077539  0.013128   \n",
       "\n",
       "       y_bond    r_bond  y_bill    r_bill  \n",
       "335  0.027123 -0.109354  0.0240 -0.020833  \n",
       "336  0.024157  0.035393  0.0235  0.012766  \n",
       "337  0.025012 -0.143651  0.0238 -0.033613  \n",
       "338  0.021419 -0.066997  0.0230 -0.095652  \n",
       "339  0.019984  0.010308  0.0208 -0.019231  "
      ]
     },
     "execution_count": 290,
     "metadata": {},
     "output_type": "execute_result"
    }
   ],
   "source": [
    "processed_df = df.loc[14:353].reset_index(drop=True)\n",
    "processed_df.tail()"
   ]
  },
  {
   "cell_type": "markdown",
   "metadata": {},
   "source": [
    "### 3.1 Stock Returns"
   ]
  },
  {
   "cell_type": "markdown",
   "metadata": {},
   "source": [
    "First step is to find truncated PCA for different number of eigenvalues.\n",
    "<br>\n",
    "PCA is implemented on the following matrix. Each variable corresponds to a set of observations and hence is a column vector.\n",
    "<br>\n",
    "[ $log(\\frac{D}{P})$, Inflation, Term Spread, Default Spread, Output Gap, MA(1,12), MA(2,12), MOM(9), MOM(12) ] \n",
    "<br>"
   ]
  },
  {
   "cell_type": "markdown",
   "metadata": {},
   "source": [
    "Second step is to come up with a decision rule on how to truncate eigenvalues.\n",
    "The research paper utilizes (1) out-of-sample $R^2$ denoted as $R_{OS}^2$ and (2) Clark and West statistic.\n",
    "<br>\n",
    "where \n",
    "$$R_{OS}^2 = 1 - \\frac{\\sum_{t=1}^T (r_{t} - \\widehat{r}_{t})}{\\sum_{t=1}^T (r_{t} - \\overline{r}_{t-1})} $$\n",
    "and\n",
    "<br>\n",
    "<br>\n",
    "$\\widehat{r}_{t}$ is the fitted value using data up to t-1\n",
    "<br>\n",
    "$\\overline{r}_{t-1}$ is the historal average using data upto t-1\n",
    "<br>\n",
    "<br>\n",
    "Apart from $R_{OS}^2$, the paper utilizes Clark and West (2007) test. \n",
    "<br> Refer: Approximately Normal Tests for Equal Predictive Accuracy in Nested Models.\n",
    "<br> Clark and West claims that test of mean squared prediction error (MSPE) typically exhibits a stylised pattern. That is, `the MSPE under Null (parsimonious model) is relatively smaller than it is expected to be because of the efficiency of parsimonious model and noises from estimating more parameters`. Therefore, authors propose an alternative hypothesis test as following:\n",
    "<br>\n",
    "For the hypothesis testing <br>H0: Parsimonious model (constant) MSPE is equal to or better than that of the larger model, H1: Larger model is better.\n",
    "$$ \\hat{f}_{t+1} = (y_{t+1} - \\hat{y}_{\\text{pars:} t,t+1})^2 - [(y_{t+1} - \\hat{y}_{\\text{large:} t,t+1})^2 - (\\hat{y}_{\\text{pars:} t,t+1} - \\hat{y}_{\\text{large:} t,t+1})^2] $$\n",
    "$$ \\overline{f} = \\frac{1}{T}\\sum_{t=1}^{T}\\hat{f}_{t+1}$$\n",
    "$$ s_{\\hat{f}-\\overline{f}}^2 = \\frac{1}{T-1}\\sum_{t=1}^{T}(\\hat{f}_{t+1}-\\overline{f})^2 $$\n",
    "\n",
    "<br>Test statistics is: $$ CW = \\frac{\\overline{f}}{s_{\\hat{f}-\\overline{f}}/\\sqrt{T}}$$ <br> the mean of $\\hat{f}_{t+\\tau}$ denoted as $\\overline{\\hat{f}_{t+\\tau}}$ . With 10% significance level, reject null if $\\overline{\\hat{f}_{t+\\tau}}$ > 1.282. With 5% significance level, reject null if $\\overline{\\hat{f}_{t+\\tau}}$ > 1.645. For one step forecast errors, the usual least squares standard errors can be used. For autocorrelated forecast errors, an autocorrelation consistent standard error should be used."
   ]
  },
  {
   "cell_type": "code",
   "execution_count": 291,
   "metadata": {},
   "outputs": [],
   "source": [
    "def truncated_PC(X,dim):\n",
    "    eig, V = np.linalg.eig(np.matmul(X.transpose(),X))\n",
    "    approx_X =  np.matmul(X,V[:,:dim])\n",
    "    return approx_X"
   ]
  },
  {
   "cell_type": "code",
   "execution_count": 292,
   "metadata": {},
   "outputs": [],
   "source": [
    "def PC_approx_error(X,dim):\n",
    "    \"\"\"\n",
    "    PC approximation errors in terms of frobenius norms\n",
    "    \"\"\"\n",
    "    eig, V = np.linalg.eig(np.matmul(X.transpose(),X))\n",
    "    approx_A =  np.matmul(np.matmul(V[:,:dim],\n",
    "                            np.diag(eig[:dim])),\n",
    "                            V[:,:dim].transpose())\n",
    "    error = np.linalg.norm(approx_A - np.matmul(\\\n",
    "                                X.transpose(),X), ord='fro')\n",
    "    return error"
   ]
  },
  {
   "cell_type": "code",
   "execution_count": 293,
   "metadata": {},
   "outputs": [],
   "source": [
    "def PC_fit(X,r,dim):\n",
    "    \"\"\"\n",
    "    estimates SPX Index return in a way that minimizes l2 norm\n",
    "    \"\"\"\n",
    "    X = np.concatenate((np.ones(X.shape[0])\n",
    "                        .reshape(-1,1),\n",
    "                        X),\n",
    "                       axis=1)\n",
    "    beta = \\\n",
    "    np.matmul(\n",
    "        np.linalg.inv(\\\n",
    "            1e-6*np.eye(dim+1) + np.matmul(X.transpose(),X)),\n",
    "        np.matmul(X.transpose(),r))\n",
    "    return beta"
   ]
  },
  {
   "cell_type": "markdown",
   "metadata": {},
   "source": [
    "### 3.1.1 Principle Component Regression"
   ]
  },
  {
   "cell_type": "code",
   "execution_count": 294,
   "metadata": {},
   "outputs": [],
   "source": [
    "stock_explanatory_variables = \\\n",
    "            ['log_DP','inflation','Term_Spread','Default_Spread',\\\n",
    "            'output_gap','MA_1_12','MA_2_12','MOM_9','MOM_12']\n",
    "X = processed_df[stock_explanatory_variables].values"
   ]
  },
  {
   "cell_type": "markdown",
   "metadata": {},
   "source": [
    "The plot of PC approximation errors in terms of frobenius norm is as following:"
   ]
  },
  {
   "cell_type": "code",
   "execution_count": 295,
   "metadata": {},
   "outputs": [
    {
     "data": {
      "text/plain": [
       "<matplotlib.legend.Legend at 0x11456b3c8>"
      ]
     },
     "execution_count": 295,
     "metadata": {},
     "output_type": "execute_result"
    },
    {
     "data": {
      "image/png": "[encoded data removed]",
      "text/plain": [
       "<Figure size 432x288 with 1 Axes>"
      ]
     },
     "metadata": {
      "needs_background": "light"
     },
     "output_type": "display_data"
    }
   ],
   "source": [
    "PC_plot_df = pd.DataFrame([])\n",
    "PC_plot_df['dim'] = range(3,X.shape[1]+1) \n",
    "PC_plot_df['approx_error'] = [PC_approx_error(X,dim) for dim \\\n",
    "                               in range(3,X.shape[1]+1)]\n",
    "plt.plot('dim','approx_error',data=PC_plot_df)\n",
    "plt.title(\"Principle Component Approximation of X'X\")\n",
    "plt.legend()"
   ]
  },
  {
   "cell_type": "markdown",
   "metadata": {},
   "source": [
    "Above plot confirms that the principle component approximation works as expected"
   ]
  },
  {
   "cell_type": "markdown",
   "metadata": {},
   "source": [
    "Following figures compare actual return with estimated return based on PC regression."
   ]
  },
  {
   "cell_type": "code",
   "execution_count": 296,
   "metadata": {},
   "outputs": [
    {
     "data": {
      "image/png": "[encoded data removed]",
      "text/plain": [
       "<Figure size 432x288 with 1 Axes>"
      ]
     },
     "metadata": {
      "needs_background": "light"
     },
     "output_type": "display_data"
    },
    {
     "data": {
      "image/png": "[encoded data removed]",
      "text/plain": [
       "<Figure size 432x288 with 1 Axes>"
      ]
     },
     "metadata": {
      "needs_background": "light"
     },
     "output_type": "display_data"
    },
    {
     "data": {
      "image/png": "[encoded data removed]",
      "text/plain": [
       "<Figure size 432x288 with 1 Axes>"
      ]
     },
     "metadata": {
      "needs_background": "light"
     },
     "output_type": "display_data"
    }
   ],
   "source": [
    "for i in range(7,10):\n",
    "    dim = i\n",
    "    r = processed_df['r_SPX'].values\n",
    "    X_PCA = truncated_PC(X,dim)\n",
    "    w = PC_fit(X_PCA,r,dim)\n",
    "    X_PCA_intercept = np.concatenate(\n",
    "                        (np.ones(X_PCA.shape[0])\n",
    "                         .reshape(-1,1),\n",
    "                         X_PCA),axis=1)\n",
    "    r_hat = np.matmul(X_PCA_intercept,w)\n",
    "    plt.figure(i)\n",
    "    PC_plot_df2 = pd.DataFrame([])\n",
    "    PC_plot_df2['r_hat'] = r_hat\n",
    "    PC_plot_df2['r'] = r\n",
    "    plt.plot('r',data=PC_plot_df2)\n",
    "    plt.plot('r_hat',data=PC_plot_df2)\n",
    "    plt.title(f'Estimated return based on PCA with dimension: {dim}')\n",
    "    plt.legend()\n"
   ]
  },
  {
   "cell_type": "markdown",
   "metadata": {},
   "source": [
    "### 3.1.2  $R_{OS}^2$ Computation"
   ]
  },
  {
   "cell_type": "markdown",
   "metadata": {},
   "source": [
    "Following the logic of the original paper, I will compute $R_{OS}^2$ for monthly (h=1), quartherly (h=3), semi-annual (h=6), and annual (h=12). And out-of-sample forecasts are estimated by recursive estimation windows. For example, for monthly estimation, initial 200 samples are used exclusively for fitting the model. The 201$^{\\text{st}}$ sample is forecasted by the model fitted by 200 samples. The 202$^{\\text{nd}}$ sample is estimated by the model fitted using 201 samples. And so on.\n",
    "<br>\n",
    "<br>\n",
    "Below illustrations show that monthly $R_{OS}^2$ gives the highest value range. This is consistent with the original paper. "
   ]
  },
  {
   "cell_type": "code",
   "execution_count": 297,
   "metadata": {},
   "outputs": [
    {
     "data": {
      "text/plain": [
       "(200, 9)"
      ]
     },
     "execution_count": 297,
     "metadata": {},
     "output_type": "execute_result"
    }
   ],
   "source": [
    "X[:200].shape"
   ]
  },
  {
   "cell_type": "code",
   "execution_count": 298,
   "metadata": {},
   "outputs": [],
   "source": [
    "def Rsquared_OS(X,r,dim,OS_start):\n",
    "    \"\"\"\n",
    "    computes out-of-sample rsquared.\n",
    "    First computes PCA only using explanatory variables \n",
    "    without augmenting the data with a constant = 1.\n",
    "    For regression result, added a constant to capture \n",
    "    the y-intercept. \n",
    "    PCA_fit by default adds the constant column. \n",
    "    Therefore, I only add the constant column to obtain\n",
    "    one step ahead forecast using the weights obtained \n",
    "    by the PCA_fit\n",
    "    \"\"\"\n",
    "    numerator = 0\n",
    "    denominator = 0\n",
    "    for i in range(OS_start,len(r)):\n",
    "        X_PCA = truncated_PC(X[:i],dim)\n",
    "        w = PC_fit(X_PCA,r[:i],dim) \n",
    "        X_PCA_OS = truncated_PC(X[:i+1],dim)\n",
    "        X_PCA_OS_intercept = np.concatenate(\n",
    "            (np.ones(X_PCA_OS.shape[0])\n",
    "             .reshape(-1,1),\n",
    "             X_PCA_OS),\n",
    "            axis=1)\n",
    "        r_hat = np.matmul(X_PCA_OS_intercept[-1],w)\n",
    "        numerator += (r[i] - r_hat)**2\n",
    "        denominator += (r[i]-r[:i].mean())**2\n",
    "    R_squared_OS = 1 - numerator/(denominator + 1e-6)\n",
    "    return R_squared_OS"
   ]
  },
  {
   "cell_type": "markdown",
   "metadata": {},
   "source": [
    "### 3.1.2.1 Month $R_{OS}^2$ "
   ]
  },
  {
   "cell_type": "code",
   "execution_count": 299,
   "metadata": {},
   "outputs": [
    {
     "data": {
      "text/plain": [
       "Text(0.5, 1.0, 'Month out-of-sample R-squared')"
      ]
     },
     "execution_count": 299,
     "metadata": {},
     "output_type": "execute_result"
    },
    {
     "data": {
      "image/png": "[encoded data removed]",
      "text/plain": [
       "<Figure size 432x288 with 1 Axes>"
      ]
     },
     "metadata": {
      "needs_background": "light"
     },
     "output_type": "display_data"
    }
   ],
   "source": [
    "plt.plot([Rsquared_OS(X,r,i,200) for i in range(1,X.shape[1]+1)])\n",
    "plt.xlabel('Rank of Principle Component Approximation')\n",
    "plt.ylabel('Out-of-sample R-squared')\n",
    "plt.title('Month out-of-sample R-squared')"
   ]
  },
  {
   "cell_type": "markdown",
   "metadata": {},
   "source": [
    "### 3.1.2.2  Quarter $R_{OS}^2$"
   ]
  },
  {
   "cell_type": "markdown",
   "metadata": {},
   "source": [
    "For consistency, I utilized 66 quarterly observations exclusively for fitting the model. Following dataframe shows that 66$^{\\text{th}}$ quarterly observation corresponds to 200$^{\\text{th}}$ monthly observation."
   ]
  },
  {
   "cell_type": "code",
   "execution_count": 300,
   "metadata": {},
   "outputs": [
    {
     "data": {
      "text/html": [
       "<div>\n",
       "<style scoped>\n",
       "    .dataframe tbody tr th:only-of-type {\n",
       "        vertical-align: middle;\n",
       "    }\n",
       "\n",
       "    .dataframe tbody tr th {\n",
       "        vertical-align: top;\n",
       "    }\n",
       "\n",
       "    .dataframe thead th {\n",
       "        text-align: right;\n",
       "    }\n",
       "</style>\n",
       "<table border=\"1\" class=\"dataframe\">\n",
       "  <thead>\n",
       "    <tr style=\"text-align: right;\">\n",
       "      <th></th>\n",
       "      <th>Dates</th>\n",
       "      <th>index</th>\n",
       "      <th>log_DP</th>\n",
       "      <th>inflation</th>\n",
       "      <th>Term_Spread</th>\n",
       "      <th>Default_Spread</th>\n",
       "      <th>MA_1_12</th>\n",
       "      <th>MA_2_12</th>\n",
       "      <th>MOMBY_6</th>\n",
       "      <th>MOMBY_12</th>\n",
       "      <th>MOM_9</th>\n",
       "      <th>MOM_12</th>\n",
       "      <th>output_gap</th>\n",
       "      <th>r_SPX</th>\n",
       "      <th>y_bond</th>\n",
       "      <th>r_bond</th>\n",
       "      <th>y_bill</th>\n",
       "      <th>r_bill</th>\n",
       "    </tr>\n",
       "  </thead>\n",
       "  <tbody>\n",
       "    <tr>\n",
       "      <th>64</th>\n",
       "      <td>2007-05-31</td>\n",
       "      <td>194</td>\n",
       "      <td>-3.843610</td>\n",
       "      <td>0.003001</td>\n",
       "      <td>0.2994</td>\n",
       "      <td>0.92</td>\n",
       "      <td>1.0</td>\n",
       "      <td>1.0</td>\n",
       "      <td>-1.0</td>\n",
       "      <td>-1.0</td>\n",
       "      <td>1.0</td>\n",
       "      <td>1.0</td>\n",
       "      <td>0.021707</td>\n",
       "      <td>-0.017816</td>\n",
       "      <td>0.048994</td>\n",
       "      <td>0.025942</td>\n",
       "      <td>0.0460</td>\n",
       "      <td>0.017391</td>\n",
       "    </tr>\n",
       "    <tr>\n",
       "      <th>65</th>\n",
       "      <td>2007-08-31</td>\n",
       "      <td>197</td>\n",
       "      <td>-3.779418</td>\n",
       "      <td>0.001781</td>\n",
       "      <td>0.6221</td>\n",
       "      <td>0.86</td>\n",
       "      <td>1.0</td>\n",
       "      <td>1.0</td>\n",
       "      <td>1.0</td>\n",
       "      <td>1.0</td>\n",
       "      <td>1.0</td>\n",
       "      <td>1.0</td>\n",
       "      <td>0.018905</td>\n",
       "      <td>0.035794</td>\n",
       "      <td>0.045321</td>\n",
       "      <td>0.012886</td>\n",
       "      <td>0.0391</td>\n",
       "      <td>-0.048593</td>\n",
       "    </tr>\n",
       "    <tr>\n",
       "      <th>66</th>\n",
       "      <td>2007-11-30</td>\n",
       "      <td>200</td>\n",
       "      <td>-3.788723</td>\n",
       "      <td>0.003083</td>\n",
       "      <td>0.8589</td>\n",
       "      <td>0.96</td>\n",
       "      <td>1.0</td>\n",
       "      <td>1.0</td>\n",
       "      <td>1.0</td>\n",
       "      <td>1.0</td>\n",
       "      <td>1.0</td>\n",
       "      <td>1.0</td>\n",
       "      <td>0.019589</td>\n",
       "      <td>-0.008628</td>\n",
       "      <td>0.039389</td>\n",
       "      <td>0.034807</td>\n",
       "      <td>0.0308</td>\n",
       "      <td>0.068182</td>\n",
       "    </tr>\n",
       "    <tr>\n",
       "      <th>67</th>\n",
       "      <td>2008-02-29</td>\n",
       "      <td>203</td>\n",
       "      <td>-3.710938</td>\n",
       "      <td>0.003448</td>\n",
       "      <td>1.7002</td>\n",
       "      <td>1.29</td>\n",
       "      <td>0.0</td>\n",
       "      <td>0.0</td>\n",
       "      <td>1.0</td>\n",
       "      <td>1.0</td>\n",
       "      <td>0.0</td>\n",
       "      <td>0.0</td>\n",
       "      <td>0.009492</td>\n",
       "      <td>-0.005960</td>\n",
       "      <td>0.035102</td>\n",
       "      <td>-0.027862</td>\n",
       "      <td>0.0181</td>\n",
       "      <td>-0.248619</td>\n",
       "    </tr>\n",
       "    <tr>\n",
       "      <th>68</th>\n",
       "      <td>2008-05-31</td>\n",
       "      <td>206</td>\n",
       "      <td>-3.774398</td>\n",
       "      <td>0.002314</td>\n",
       "      <td>2.2153</td>\n",
       "      <td>1.36</td>\n",
       "      <td>0.0</td>\n",
       "      <td>0.0</td>\n",
       "      <td>-1.0</td>\n",
       "      <td>1.0</td>\n",
       "      <td>0.0</td>\n",
       "      <td>0.0</td>\n",
       "      <td>-0.008239</td>\n",
       "      <td>-0.085962</td>\n",
       "      <td>0.040653</td>\n",
       "      <td>-0.023442</td>\n",
       "      <td>0.0185</td>\n",
       "      <td>0.010811</td>\n",
       "    </tr>\n",
       "  </tbody>\n",
       "</table>\n",
       "</div>"
      ],
      "text/plain": [
       "        Dates  index    log_DP  inflation  Term_Spread  Default_Spread  \\\n",
       "64 2007-05-31    194 -3.843610   0.003001       0.2994            0.92   \n",
       "65 2007-08-31    197 -3.779418   0.001781       0.6221            0.86   \n",
       "66 2007-11-30    200 -3.788723   0.003083       0.8589            0.96   \n",
       "67 2008-02-29    203 -3.710938   0.003448       1.7002            1.29   \n",
       "68 2008-05-31    206 -3.774398   0.002314       2.2153            1.36   \n",
       "\n",
       "    MA_1_12  MA_2_12  MOMBY_6  MOMBY_12  MOM_9  MOM_12  output_gap     r_SPX  \\\n",
       "64      1.0      1.0     -1.0      -1.0    1.0     1.0    0.021707 -0.017816   \n",
       "65      1.0      1.0      1.0       1.0    1.0     1.0    0.018905  0.035794   \n",
       "66      1.0      1.0      1.0       1.0    1.0     1.0    0.019589 -0.008628   \n",
       "67      0.0      0.0      1.0       1.0    0.0     0.0    0.009492 -0.005960   \n",
       "68      0.0      0.0     -1.0       1.0    0.0     0.0   -0.008239 -0.085962   \n",
       "\n",
       "      y_bond    r_bond  y_bill    r_bill  \n",
       "64  0.048994  0.025942  0.0460  0.017391  \n",
       "65  0.045321  0.012886  0.0391 -0.048593  \n",
       "66  0.039389  0.034807  0.0308  0.068182  \n",
       "67  0.035102 -0.027862  0.0181 -0.248619  \n",
       "68  0.040653 -0.023442  0.0185  0.010811  "
      ]
     },
     "execution_count": 300,
     "metadata": {},
     "output_type": "execute_result"
    }
   ],
   "source": [
    "(processed_df[2:].reset_index()\n",
    "                 .set_index('Dates')\n",
    "                 .resample('3M')\n",
    "                 .agg('last')\n",
    "                 .reset_index()[64:].head())"
   ]
  },
  {
   "cell_type": "code",
   "execution_count": 301,
   "metadata": {},
   "outputs": [
    {
     "data": {
      "text/plain": [
       "Text(0.5, 1.0, 'Quarter out-of-sample R-squared')"
      ]
     },
     "execution_count": 301,
     "metadata": {},
     "output_type": "execute_result"
    },
    {
     "data": {
      "image/png": "[encoded data removed]",
      "text/plain": [
       "<Figure size 432x288 with 1 Axes>"
      ]
     },
     "metadata": {
      "needs_background": "light"
     },
     "output_type": "display_data"
    }
   ],
   "source": [
    "X_quarter = (processed_df[2:]\n",
    "             .set_index('Dates')\n",
    "             .resample('3M')\n",
    "             .agg('last')[stock_explanatory_variables].values)\n",
    "r_quarter = (processed_df[2:]\n",
    "             .set_index('Dates')\n",
    "             .resample('3M')\n",
    "             .agg('last')['r_SPX'].values)\n",
    "plt.plot([Rsquared_OS(X_quarter,r_quarter,i,66) \n",
    "          for i in range(X.shape[1]+1)])\n",
    "plt.xlabel('Rank of Principle Component Approximation')\n",
    "plt.ylabel('Out-of-sample R-squared')\n",
    "plt.title('Quarter out-of-sample R-squared')"
   ]
  },
  {
   "cell_type": "markdown",
   "metadata": {},
   "source": [
    "### 3.1.2.3  Semi-annual $R_{OS}^2$"
   ]
  },
  {
   "cell_type": "markdown",
   "metadata": {},
   "source": [
    "For consistency, I utilized 33 semi-annually observations exclusively for fitting the model. Following dataframe shows that 33$^{\\text{rd}}$ quarterly observation corresponds to 200$^{\\text{th}}$ monthly observation."
   ]
  },
  {
   "cell_type": "code",
   "execution_count": 302,
   "metadata": {},
   "outputs": [
    {
     "data": {
      "text/html": [
       "<div>\n",
       "<style scoped>\n",
       "    .dataframe tbody tr th:only-of-type {\n",
       "        vertical-align: middle;\n",
       "    }\n",
       "\n",
       "    .dataframe tbody tr th {\n",
       "        vertical-align: top;\n",
       "    }\n",
       "\n",
       "    .dataframe thead th {\n",
       "        text-align: right;\n",
       "    }\n",
       "</style>\n",
       "<table border=\"1\" class=\"dataframe\">\n",
       "  <thead>\n",
       "    <tr style=\"text-align: right;\">\n",
       "      <th></th>\n",
       "      <th>Dates</th>\n",
       "      <th>index</th>\n",
       "      <th>log_DP</th>\n",
       "      <th>inflation</th>\n",
       "      <th>Term_Spread</th>\n",
       "      <th>Default_Spread</th>\n",
       "      <th>MA_1_12</th>\n",
       "      <th>MA_2_12</th>\n",
       "      <th>MOMBY_6</th>\n",
       "      <th>MOMBY_12</th>\n",
       "      <th>MOM_9</th>\n",
       "      <th>MOM_12</th>\n",
       "      <th>output_gap</th>\n",
       "      <th>r_SPX</th>\n",
       "      <th>y_bond</th>\n",
       "      <th>r_bond</th>\n",
       "      <th>y_bill</th>\n",
       "      <th>r_bill</th>\n",
       "    </tr>\n",
       "  </thead>\n",
       "  <tbody>\n",
       "    <tr>\n",
       "      <th>32</th>\n",
       "      <td>2007-05-31</td>\n",
       "      <td>194</td>\n",
       "      <td>-3.843610</td>\n",
       "      <td>0.003001</td>\n",
       "      <td>0.2994</td>\n",
       "      <td>0.92</td>\n",
       "      <td>1.0</td>\n",
       "      <td>1.0</td>\n",
       "      <td>-1.0</td>\n",
       "      <td>-1.0</td>\n",
       "      <td>1.0</td>\n",
       "      <td>1.0</td>\n",
       "      <td>0.021707</td>\n",
       "      <td>-0.017816</td>\n",
       "      <td>0.048994</td>\n",
       "      <td>0.025942</td>\n",
       "      <td>0.0460</td>\n",
       "      <td>0.017391</td>\n",
       "    </tr>\n",
       "    <tr>\n",
       "      <th>33</th>\n",
       "      <td>2007-11-30</td>\n",
       "      <td>200</td>\n",
       "      <td>-3.788723</td>\n",
       "      <td>0.003083</td>\n",
       "      <td>0.8589</td>\n",
       "      <td>0.96</td>\n",
       "      <td>1.0</td>\n",
       "      <td>1.0</td>\n",
       "      <td>1.0</td>\n",
       "      <td>1.0</td>\n",
       "      <td>1.0</td>\n",
       "      <td>1.0</td>\n",
       "      <td>0.019589</td>\n",
       "      <td>-0.008628</td>\n",
       "      <td>0.039389</td>\n",
       "      <td>0.034807</td>\n",
       "      <td>0.0308</td>\n",
       "      <td>0.068182</td>\n",
       "    </tr>\n",
       "    <tr>\n",
       "      <th>34</th>\n",
       "      <td>2008-05-31</td>\n",
       "      <td>206</td>\n",
       "      <td>-3.774398</td>\n",
       "      <td>0.002314</td>\n",
       "      <td>2.2153</td>\n",
       "      <td>1.36</td>\n",
       "      <td>0.0</td>\n",
       "      <td>0.0</td>\n",
       "      <td>-1.0</td>\n",
       "      <td>1.0</td>\n",
       "      <td>0.0</td>\n",
       "      <td>0.0</td>\n",
       "      <td>-0.008239</td>\n",
       "      <td>-0.085962</td>\n",
       "      <td>0.040653</td>\n",
       "      <td>-0.023442</td>\n",
       "      <td>0.0185</td>\n",
       "      <td>0.010811</td>\n",
       "    </tr>\n",
       "    <tr>\n",
       "      <th>35</th>\n",
       "      <td>2008-11-30</td>\n",
       "      <td>212</td>\n",
       "      <td>-3.339371</td>\n",
       "      <td>-0.008598</td>\n",
       "      <td>2.9100</td>\n",
       "      <td>3.09</td>\n",
       "      <td>0.0</td>\n",
       "      <td>0.0</td>\n",
       "      <td>1.0</td>\n",
       "      <td>1.0</td>\n",
       "      <td>0.0</td>\n",
       "      <td>0.0</td>\n",
       "      <td>-0.071761</td>\n",
       "      <td>0.007822</td>\n",
       "      <td>0.029200</td>\n",
       "      <td>-0.295240</td>\n",
       "      <td>0.0001</td>\n",
       "      <td>10.000000</td>\n",
       "    </tr>\n",
       "    <tr>\n",
       "      <th>36</th>\n",
       "      <td>2009-05-31</td>\n",
       "      <td>218</td>\n",
       "      <td>-3.346824</td>\n",
       "      <td>0.001007</td>\n",
       "      <td>3.3204</td>\n",
       "      <td>2.52</td>\n",
       "      <td>0.0</td>\n",
       "      <td>0.0</td>\n",
       "      <td>-1.0</td>\n",
       "      <td>-1.0</td>\n",
       "      <td>0.0</td>\n",
       "      <td>0.0</td>\n",
       "      <td>-0.137647</td>\n",
       "      <td>0.000196</td>\n",
       "      <td>0.034604</td>\n",
       "      <td>0.020894</td>\n",
       "      <td>0.0014</td>\n",
       "      <td>0.357143</td>\n",
       "    </tr>\n",
       "  </tbody>\n",
       "</table>\n",
       "</div>"
      ],
      "text/plain": [
       "        Dates  index    log_DP  inflation  Term_Spread  Default_Spread  \\\n",
       "32 2007-05-31    194 -3.843610   0.003001       0.2994            0.92   \n",
       "33 2007-11-30    200 -3.788723   0.003083       0.8589            0.96   \n",
       "34 2008-05-31    206 -3.774398   0.002314       2.2153            1.36   \n",
       "35 2008-11-30    212 -3.339371  -0.008598       2.9100            3.09   \n",
       "36 2009-05-31    218 -3.346824   0.001007       3.3204            2.52   \n",
       "\n",
       "    MA_1_12  MA_2_12  MOMBY_6  MOMBY_12  MOM_9  MOM_12  output_gap     r_SPX  \\\n",
       "32      1.0      1.0     -1.0      -1.0    1.0     1.0    0.021707 -0.017816   \n",
       "33      1.0      1.0      1.0       1.0    1.0     1.0    0.019589 -0.008628   \n",
       "34      0.0      0.0     -1.0       1.0    0.0     0.0   -0.008239 -0.085962   \n",
       "35      0.0      0.0      1.0       1.0    0.0     0.0   -0.071761  0.007822   \n",
       "36      0.0      0.0     -1.0      -1.0    0.0     0.0   -0.137647  0.000196   \n",
       "\n",
       "      y_bond    r_bond  y_bill     r_bill  \n",
       "32  0.048994  0.025942  0.0460   0.017391  \n",
       "33  0.039389  0.034807  0.0308   0.068182  \n",
       "34  0.040653 -0.023442  0.0185   0.010811  \n",
       "35  0.029200 -0.295240  0.0001  10.000000  \n",
       "36  0.034604  0.020894  0.0014   0.357143  "
      ]
     },
     "execution_count": 302,
     "metadata": {},
     "output_type": "execute_result"
    }
   ],
   "source": [
    "(processed_df[2:].reset_index()\n",
    "                 .set_index('Dates')\n",
    "                 .resample('6M')\n",
    "                 .agg('last')\n",
    "                 .reset_index()[32:].head())"
   ]
  },
  {
   "cell_type": "code",
   "execution_count": 303,
   "metadata": {},
   "outputs": [
    {
     "data": {
      "text/plain": [
       "Text(0.5, 1.0, 'Semi-annual out-of-sample R-squared')"
      ]
     },
     "execution_count": 303,
     "metadata": {},
     "output_type": "execute_result"
    },
    {
     "data": {
      "image/png": "[encoded data removed]",
      "text/plain": [
       "<Figure size 432x288 with 1 Axes>"
      ]
     },
     "metadata": {
      "needs_background": "light"
     },
     "output_type": "display_data"
    }
   ],
   "source": [
    "X_semi = (processed_df[2:]\n",
    "          .set_index('Dates')\n",
    "          .resample('6M')\n",
    "          .agg('last')[stock_explanatory_variables].values)\n",
    "r_semi = (processed_df[2:]\n",
    "          .set_index('Dates')\n",
    "          .resample('6M')\n",
    "          .agg('last')['r_SPX'].values)\n",
    "plt.plot([Rsquared_OS(X_semi,r_semi,i,33) \n",
    "          for i in range(X.shape[1]+1)])\n",
    "plt.xlabel('Rank of Principle Component Approximation')\n",
    "plt.ylabel('Out-of-sample R-squared')\n",
    "plt.title('Semi-annual out-of-sample R-squared')"
   ]
  },
  {
   "cell_type": "markdown",
   "metadata": {},
   "source": [
    "### 3.1.2.4  Annual $R_{OS}^2$"
   ]
  },
  {
   "cell_type": "markdown",
   "metadata": {},
   "source": [
    "For consistency, I utilized 33 semi-annually observations exclusively for fitting the model. Following dataframe shows that 33$^{\\text{rd}}$ quarterly observation corresponds to 200$^{\\text{th}}$ monthly observation."
   ]
  },
  {
   "cell_type": "code",
   "execution_count": 304,
   "metadata": {
    "scrolled": true
   },
   "outputs": [
    {
     "data": {
      "text/html": [
       "<div>\n",
       "<style scoped>\n",
       "    .dataframe tbody tr th:only-of-type {\n",
       "        vertical-align: middle;\n",
       "    }\n",
       "\n",
       "    .dataframe tbody tr th {\n",
       "        vertical-align: top;\n",
       "    }\n",
       "\n",
       "    .dataframe thead th {\n",
       "        text-align: right;\n",
       "    }\n",
       "</style>\n",
       "<table border=\"1\" class=\"dataframe\">\n",
       "  <thead>\n",
       "    <tr style=\"text-align: right;\">\n",
       "      <th></th>\n",
       "      <th>Dates</th>\n",
       "      <th>index</th>\n",
       "      <th>log_DP</th>\n",
       "      <th>inflation</th>\n",
       "      <th>Term_Spread</th>\n",
       "      <th>Default_Spread</th>\n",
       "      <th>MA_1_12</th>\n",
       "      <th>MA_2_12</th>\n",
       "      <th>MOMBY_6</th>\n",
       "      <th>MOMBY_12</th>\n",
       "      <th>MOM_9</th>\n",
       "      <th>MOM_12</th>\n",
       "      <th>output_gap</th>\n",
       "      <th>r_SPX</th>\n",
       "      <th>y_bond</th>\n",
       "      <th>r_bond</th>\n",
       "      <th>y_bill</th>\n",
       "      <th>r_bill</th>\n",
       "    </tr>\n",
       "  </thead>\n",
       "  <tbody>\n",
       "    <tr>\n",
       "      <th>15</th>\n",
       "      <td>2006-12-31</td>\n",
       "      <td>188</td>\n",
       "      <td>-3.814893</td>\n",
       "      <td>-0.004438</td>\n",
       "      <td>-0.4390</td>\n",
       "      <td>0.87</td>\n",
       "      <td>1.0</td>\n",
       "      <td>1.0</td>\n",
       "      <td>1.0</td>\n",
       "      <td>1.0</td>\n",
       "      <td>1.0</td>\n",
       "      <td>1.0</td>\n",
       "      <td>0.006390</td>\n",
       "      <td>0.012616</td>\n",
       "      <td>0.044610</td>\n",
       "      <td>0.050482</td>\n",
       "      <td>0.0490</td>\n",
       "      <td>-0.002041</td>\n",
       "    </tr>\n",
       "    <tr>\n",
       "      <th>16</th>\n",
       "      <td>2007-12-31</td>\n",
       "      <td>200</td>\n",
       "      <td>-3.788723</td>\n",
       "      <td>0.003083</td>\n",
       "      <td>0.8589</td>\n",
       "      <td>0.96</td>\n",
       "      <td>1.0</td>\n",
       "      <td>1.0</td>\n",
       "      <td>1.0</td>\n",
       "      <td>1.0</td>\n",
       "      <td>1.0</td>\n",
       "      <td>1.0</td>\n",
       "      <td>0.019589</td>\n",
       "      <td>-0.008628</td>\n",
       "      <td>0.039389</td>\n",
       "      <td>0.034807</td>\n",
       "      <td>0.0308</td>\n",
       "      <td>0.068182</td>\n",
       "    </tr>\n",
       "    <tr>\n",
       "      <th>17</th>\n",
       "      <td>2008-12-31</td>\n",
       "      <td>212</td>\n",
       "      <td>-3.339371</td>\n",
       "      <td>-0.008598</td>\n",
       "      <td>2.9100</td>\n",
       "      <td>3.09</td>\n",
       "      <td>0.0</td>\n",
       "      <td>0.0</td>\n",
       "      <td>1.0</td>\n",
       "      <td>1.0</td>\n",
       "      <td>0.0</td>\n",
       "      <td>0.0</td>\n",
       "      <td>-0.071761</td>\n",
       "      <td>0.007822</td>\n",
       "      <td>0.029200</td>\n",
       "      <td>-0.295240</td>\n",
       "      <td>0.0001</td>\n",
       "      <td>10.000000</td>\n",
       "    </tr>\n",
       "    <tr>\n",
       "      <th>18</th>\n",
       "      <td>2009-12-31</td>\n",
       "      <td>224</td>\n",
       "      <td>-3.617410</td>\n",
       "      <td>0.003002</td>\n",
       "      <td>3.1402</td>\n",
       "      <td>1.13</td>\n",
       "      <td>1.0</td>\n",
       "      <td>1.0</td>\n",
       "      <td>1.0</td>\n",
       "      <td>-1.0</td>\n",
       "      <td>1.0</td>\n",
       "      <td>1.0</td>\n",
       "      <td>-0.077893</td>\n",
       "      <td>0.017771</td>\n",
       "      <td>0.032002</td>\n",
       "      <td>0.197863</td>\n",
       "      <td>0.0006</td>\n",
       "      <td>0.000000</td>\n",
       "    </tr>\n",
       "    <tr>\n",
       "      <th>19</th>\n",
       "      <td>2010-12-31</td>\n",
       "      <td>236</td>\n",
       "      <td>-3.755558</td>\n",
       "      <td>0.003482</td>\n",
       "      <td>2.6254</td>\n",
       "      <td>1.05</td>\n",
       "      <td>1.0</td>\n",
       "      <td>1.0</td>\n",
       "      <td>-1.0</td>\n",
       "      <td>1.0</td>\n",
       "      <td>1.0</td>\n",
       "      <td>1.0</td>\n",
       "      <td>-0.001713</td>\n",
       "      <td>0.065300</td>\n",
       "      <td>0.027954</td>\n",
       "      <td>0.176969</td>\n",
       "      <td>0.0017</td>\n",
       "      <td>-0.294118</td>\n",
       "    </tr>\n",
       "  </tbody>\n",
       "</table>\n",
       "</div>"
      ],
      "text/plain": [
       "        Dates  index    log_DP  inflation  Term_Spread  Default_Spread  \\\n",
       "15 2006-12-31    188 -3.814893  -0.004438      -0.4390            0.87   \n",
       "16 2007-12-31    200 -3.788723   0.003083       0.8589            0.96   \n",
       "17 2008-12-31    212 -3.339371  -0.008598       2.9100            3.09   \n",
       "18 2009-12-31    224 -3.617410   0.003002       3.1402            1.13   \n",
       "19 2010-12-31    236 -3.755558   0.003482       2.6254            1.05   \n",
       "\n",
       "    MA_1_12  MA_2_12  MOMBY_6  MOMBY_12  MOM_9  MOM_12  output_gap     r_SPX  \\\n",
       "15      1.0      1.0      1.0       1.0    1.0     1.0    0.006390  0.012616   \n",
       "16      1.0      1.0      1.0       1.0    1.0     1.0    0.019589 -0.008628   \n",
       "17      0.0      0.0      1.0       1.0    0.0     0.0   -0.071761  0.007822   \n",
       "18      1.0      1.0      1.0      -1.0    1.0     1.0   -0.077893  0.017771   \n",
       "19      1.0      1.0     -1.0       1.0    1.0     1.0   -0.001713  0.065300   \n",
       "\n",
       "      y_bond    r_bond  y_bill     r_bill  \n",
       "15  0.044610  0.050482  0.0490  -0.002041  \n",
       "16  0.039389  0.034807  0.0308   0.068182  \n",
       "17  0.029200 -0.295240  0.0001  10.000000  \n",
       "18  0.032002  0.197863  0.0006   0.000000  \n",
       "19  0.027954  0.176969  0.0017  -0.294118  "
      ]
     },
     "execution_count": 304,
     "metadata": {},
     "output_type": "execute_result"
    }
   ],
   "source": [
    "(processed_df.reset_index()\n",
    " .set_index('Dates')\n",
    " .resample('Y')\n",
    " .agg(lambda x: x[-2])\n",
    " .reset_index()[15:].head())"
   ]
  },
  {
   "cell_type": "code",
   "execution_count": 305,
   "metadata": {},
   "outputs": [
    {
     "data": {
      "text/plain": [
       "Text(0.5, 1.0, 'Annual out-of-sample R-squared')"
      ]
     },
     "execution_count": 305,
     "metadata": {},
     "output_type": "execute_result"
    },
    {
     "data": {
      "image/png": "[encoded data removed]",
      "text/plain": [
       "<Figure size 432x288 with 1 Axes>"
      ]
     },
     "metadata": {
      "needs_background": "light"
     },
     "output_type": "display_data"
    }
   ],
   "source": [
    "X_annual = (processed_df.set_index('Dates')\n",
    "            .resample('Y')\n",
    "            .agg(lambda x: x[-2])[stock_explanatory_variables]\n",
    "            .values)\n",
    "r_annual = (processed_df.set_index('Dates')\n",
    "            .resample('Y')\n",
    "            .agg(lambda x: x[-2])['r_SPX'].values)\n",
    "plt.plot([Rsquared_OS(X_annual,r_annual,i,16) \n",
    "          for i in range(X.shape[1]+1)])\n",
    "plt.xlabel('Rank of Principle Component Approximation')\n",
    "plt.ylabel('Out-of-sample R-squared')\n",
    "plt.title('Annual out-of-sample R-squared')"
   ]
  },
  {
   "cell_type": "markdown",
   "metadata": {},
   "source": [
    "### 3.1.3  Clark and Wald (2007) Test Statistics Computation"
   ]
  },
  {
   "cell_type": "code",
   "execution_count": 306,
   "metadata": {},
   "outputs": [],
   "source": [
    "def CW_test(X,r,dim,OS_start):\n",
    "    \"\"\"\n",
    "    computes Clark and Wald test statistics.\n",
    "    First computes PCA only using explanatory \n",
    "    variables without augmenting the data with \n",
    "    a constant = 1.\n",
    "    For regression result, added a constant to \n",
    "    capture the y-intercept. \n",
    "    PCA_fit by default adds the constant column. \n",
    "    Therefore, I only add the constant column to obtain\n",
    "    one step ahead forecast using the weights obtained \n",
    "    by the PCA_fit\n",
    "\n",
    "    \"\"\"\n",
    "    denom = len(r) - OS_start\n",
    "    num = []\n",
    "    for i in range(OS_start,len(r)):\n",
    "        X_PCA = truncated_PC(X[:i],dim)\n",
    "        w = PC_fit(X_PCA,r[:i],dim)\n",
    "        X_PCA_OS = truncated_PC(X[:i+1],dim)\n",
    "        X_PCA_OS_intercept = np.concatenate(\n",
    "            (np.ones(X_PCA_OS.shape[0])\n",
    "             .reshape(-1,1),X_PCA_OS),axis=1)\n",
    "        r_hat = np.matmul(X_PCA_OS_intercept[-1],w)\n",
    "        num += [(r[i]-r[:i].mean())**2 \n",
    "                - (r[i] - r_hat)**2  \n",
    "                + (r[:i].mean() - r_hat)**2]\n",
    "    f_bar = np.array(num).mean()\n",
    "    CW = np.sqrt(denom) * f_bar / \\\n",
    "         np.std(np.array(num) - f_bar,ddof=1)\n",
    "    return CW"
   ]
  },
  {
   "cell_type": "code",
   "execution_count": 307,
   "metadata": {},
   "outputs": [
    {
     "data": {
      "image/png": "[encoded data removed]",
      "text/plain": [
       "<Figure size 432x288 with 1 Axes>"
      ]
     },
     "metadata": {
      "needs_background": "light"
     },
     "output_type": "display_data"
    },
    {
     "data": {
      "image/png": "[encoded data removed]",
      "text/plain": [
       "<Figure size 432x288 with 1 Axes>"
      ]
     },
     "metadata": {
      "needs_background": "light"
     },
     "output_type": "display_data"
    },
    {
     "data": {
      "image/png": "[encoded data removed]",
      "text/plain": [
       "<Figure size 432x288 with 1 Axes>"
      ]
     },
     "metadata": {
      "needs_background": "light"
     },
     "output_type": "display_data"
    },
    {
     "data": {
      "image/png": "[encoded data removed]",
      "text/plain": [
       "<Figure size 432x288 with 1 Axes>"
      ]
     },
     "metadata": {
      "needs_background": "light"
     },
     "output_type": "display_data"
    }
   ],
   "source": [
    "my_dict = {'month':200,'quarter':66,'semi':33,'annual':16}\n",
    "\n",
    "i=0\n",
    "for item in my_dict.keys():\n",
    "    plt.figure(i)\n",
    "    if item == 'month':\n",
    "        plt.plot([CW_test(X,r,i,my_dict[item]) for i in range(X.shape[1]+1)])\n",
    "        plt.xlabel('Rank of Principle Component Approximation')\n",
    "        plt.ylabel('CW test statistics')\n",
    "        plt.title('Month Clark and Wald Test')\n",
    "    else:\n",
    "        eval(f'plt.plot([CW_test(X_{item},r_{item},i,my_dict[item]) for i in range(X.shape[1]+1)])')\n",
    "        plt.xlabel('Rank of Principle Component Approximation')\n",
    "        plt.ylabel('CW test statistics')\n",
    "        if item == 'semi':\n",
    "            plt.title(f'{item[0].upper()}{item[1:]}' + '-annual Clark and Wald Test')\n",
    "        else:\n",
    "            plt.title(f'{item[0].upper()}{item[1:]} Clark and Wald Test')\n",
    "    i+=1"
   ]
  },
  {
   "cell_type": "markdown",
   "metadata": {},
   "source": [
    "### 3.2 Bond Returns"
   ]
  },
  {
   "cell_type": "markdown",
   "metadata": {},
   "source": [
    "The logic of this section is equivalent to the stock returns. First section deals with principal component, the second section the $R_{OS}^2$ and the third section the Clark Wald test statistics."
   ]
  },
  {
   "cell_type": "code",
   "execution_count": 308,
   "metadata": {},
   "outputs": [],
   "source": [
    "bonds_explanatory_variables = ['y_bond','inflation','Term_Spread','Default_Spread',\\\n",
    "                               'output_gap','MOMBY_6','MOMBY_12']\n",
    "X = processed_df[bonds_explanatory_variables].values\n",
    "r = processed_df['r_bond'].values\n",
    "\n",
    "X_quarter = (processed_df[2:].set_index('Dates').resample('3M')\n",
    "             .agg('last')[bonds_explanatory_variables].values)\n",
    "y_quarter = (processed_df[2:].set_index('Dates')\n",
    "             .resample('3M').agg('last')['r_bond'].values)\n",
    "X_semi = (processed_df[2:].set_index('Dates').resample('6M')\n",
    "          .agg('last')[bonds_explanatory_variables].values)\n",
    "y_semi = (processed_df[2:].set_index('Dates')\n",
    "          .resample('6M').agg('last')['r_bond'].values)\n",
    "X_annual = (processed_df.set_index('Dates').resample('Y')\n",
    "        .agg(lambda x: x[-2])[bonds_explanatory_variables].values)\n",
    "y_annual = (processed_df.set_index('Dates').resample('Y')\n",
    "        .agg(lambda x: x[-2])['r_bond'].values)\n"
   ]
  },
  {
   "cell_type": "code",
   "execution_count": 309,
   "metadata": {},
   "outputs": [
    {
     "data": {
      "image/png": "[encoded data removed]",
      "text/plain": [
       "<Figure size 432x288 with 1 Axes>"
      ]
     },
     "metadata": {
      "needs_background": "light"
     },
     "output_type": "display_data"
    },
    {
     "data": {
      "image/png": "[encoded data removed]",
      "text/plain": [
       "<Figure size 432x288 with 1 Axes>"
      ]
     },
     "metadata": {
      "needs_background": "light"
     },
     "output_type": "display_data"
    },
    {
     "data": {
      "image/png": "[encoded data removed]",
      "text/plain": [
       "<Figure size 432x288 with 1 Axes>"
      ]
     },
     "metadata": {
      "needs_background": "light"
     },
     "output_type": "display_data"
    },
    {
     "data": {
      "image/png": "[encoded data removed]",
      "text/plain": [
       "<Figure size 432x288 with 1 Axes>"
      ]
     },
     "metadata": {
      "needs_background": "light"
     },
     "output_type": "display_data"
    }
   ],
   "source": [
    "my_dict = {'month':200,'quarter':66,'semi':33,'annual':16}\n",
    "\n",
    "i=0\n",
    "for item in my_dict.keys():\n",
    "    plt.figure(i)\n",
    "    if item == 'month':\n",
    "        plt.plot([Rsquared_OS(X,r,i,my_dict[item]) for i in range(X.shape[1]+1)])\n",
    "        plt.xlabel('Bond: Rank of Principle Component Approximation')\n",
    "        plt.ylabel('Bond: Out-of-sample R-squared')\n",
    "        plt.title('Bond: Month out-of-sample R-squared')\n",
    "    else:\n",
    "        eval(f'plt.plot([Rsquared_OS(X_{item},r_{item},i,my_dict[item]) for i in range(X.shape[1]+1)])')\n",
    "        plt.xlabel('Rank of Principle Component Approximation')\n",
    "        plt.ylabel('Bond: Out-of-sample R-squared')\n",
    "        if item == 'semi':\n",
    "            plt.title('Bond: '+f'{item[0].upper()}{item[1:]}' + '-annual out-of-sample R-squared')\n",
    "        else:\n",
    "            plt.title('Bond: '+ f'{item[0].upper()}{item[1:]} out-of-sample R-squared')\n",
    "    i+=1\n",
    "\n"
   ]
  },
  {
   "cell_type": "code",
   "execution_count": 310,
   "metadata": {},
   "outputs": [
    {
     "data": {
      "image/png": "[encoded data removed]",
      "text/plain": [
       "<Figure size 432x288 with 1 Axes>"
      ]
     },
     "metadata": {
      "needs_background": "light"
     },
     "output_type": "display_data"
    },
    {
     "data": {
      "image/png": "[encoded data removed]",
      "text/plain": [
       "<Figure size 432x288 with 1 Axes>"
      ]
     },
     "metadata": {
      "needs_background": "light"
     },
     "output_type": "display_data"
    },
    {
     "data": {
      "image/png": "[encoded data removed]",
      "text/plain": [
       "<Figure size 432x288 with 1 Axes>"
      ]
     },
     "metadata": {
      "needs_background": "light"
     },
     "output_type": "display_data"
    },
    {
     "data": {
      "image/png": "[encoded data removed]",
      "text/plain": [
       "<Figure size 432x288 with 1 Axes>"
      ]
     },
     "metadata": {
      "needs_background": "light"
     },
     "output_type": "display_data"
    }
   ],
   "source": [
    "my_dict = {'month':200,'quarter':66,'semi':33,'annual':16}\n",
    "\n",
    "i=0\n",
    "for item in my_dict.keys():\n",
    "    plt.figure(i)\n",
    "    if item == 'month':\n",
    "        plt.plot([CW_test(X,r,i,my_dict[item]) \n",
    "                  for i in range(X.shape[1]+1)])\n",
    "        plt.xlabel('Rank of Principle Component Approximation')\n",
    "        plt.ylabel('CW test statistics')\n",
    "        plt.title('Bond: Month Clark and Wald Test')\n",
    "    else:\n",
    "        ev_str = f'plt.plot([CW_test(X_{item},r_{item},i,my_dict[item])'\n",
    "        ev_str += 'for i in range(X.shape[1]+1)])'\n",
    "        eval(ev_str)\n",
    "        plt.xlabel('Rank of Principle Component Approximation')\n",
    "        plt.ylabel('Bond: CW test statistics')\n",
    "        if item == 'semi':\n",
    "            plt.title('Bond: '+f'{item[0].upper()}{item[1:]}' \n",
    "                      + '-annual Clark and Wald Test')\n",
    "        else:\n",
    "            plt.title('Bond: '+ \n",
    "                      f'{item[0].upper()}{item[1:]} Clark and Wald Test')\n",
    "    i+=1"
   ]
  },
  {
   "cell_type": "markdown",
   "metadata": {},
   "source": [
    "### 3.3 Bill Returns"
   ]
  },
  {
   "cell_type": "markdown",
   "metadata": {},
   "source": [
    "The result is not as expected for bill returns. I suspect that the compound return data provided by the Factset is not accurate. For visualization of the data, Please refer to the next cell. The data shows the 1-month return. However, the maximum return was 10.0 and minimum value was -9. Clearly, return of -9 does not make sense. As I have checked the function I used to compute the return, I should find another source to obtain the return data. However, I do not currently know where I can retrieve the data.\n"
   ]
  },
  {
   "cell_type": "code",
   "execution_count": 311,
   "metadata": {},
   "outputs": [
    {
     "data": {
      "text/plain": [
       "[<matplotlib.lines.Line2D at 0x11599a630>]"
      ]
     },
     "execution_count": 311,
     "metadata": {},
     "output_type": "execute_result"
    },
    {
     "data": {
      "image/png": "[encoded data removed]",
      "text/plain": [
       "<Figure size 432x288 with 1 Axes>"
      ]
     },
     "metadata": {
      "needs_background": "light"
     },
     "output_type": "display_data"
    }
   ],
   "source": [
    "plt.plot( processed_df['r_bill'].values)"
   ]
  },
  {
   "cell_type": "code",
   "execution_count": 312,
   "metadata": {},
   "outputs": [
    {
     "data": {
      "text/plain": [
       "-8.999999999997765"
      ]
     },
     "execution_count": 312,
     "metadata": {},
     "output_type": "execute_result"
    }
   ],
   "source": [
    "processed_df['r_bill'].values.min()"
   ]
  },
  {
   "cell_type": "code",
   "execution_count": 313,
   "metadata": {},
   "outputs": [],
   "source": [
    "X = processed_df['y_bill'].values.reshape(-1,1)\n",
    "r = processed_df['r_bill'].values\n",
    "\n",
    "X_quarter = (processed_df[2:].set_index('Dates').resample('3M')\n",
    "             .agg('last')[['y_bill']].values)\n",
    "y_quarter = (processed_df[2:].set_index('Dates')\n",
    "             .resample('3M').agg('last')['r_bill'].values)\n",
    "X_semi = (processed_df[2:].set_index('Dates').resample('6M')\n",
    "          .agg('last')[['y_bill']].values)\n",
    "y_semi = (processed_df[2:].set_index('Dates')\n",
    "          .resample('6M').agg('last')['r_bill'].values)\n",
    "X_annual = (processed_df.set_index('Dates').resample('Y')\n",
    "        .agg(lambda x: x[-2])[['y_bill']].values)\n",
    "y_annual = (processed_df.set_index('Dates').resample('Y')\n",
    "        .agg(lambda x: x[-2])['r_bill'].values)"
   ]
  },
  {
   "cell_type": "code",
   "execution_count": 314,
   "metadata": {},
   "outputs": [
    {
     "name": "stdout",
     "output_type": "stream",
     "text": [
      "Month Rsquared_OS:  -0.009179932272639357\n",
      "quarter  Rsquared_OS:  -0.10034942055336504\n",
      "semi  Rsquared_OS:  -0.036215348588125584\n",
      "annual  Rsquared_OS:  -0.025368552452170956\n"
     ]
    }
   ],
   "source": [
    "my_dict = {'month':200,'quarter':66,'semi':33,'annual':16}\n",
    "\n",
    "i=0\n",
    "for item in my_dict.keys():\n",
    "    if item=='month':\n",
    "        print('Month Rsquared_OS: ', Rsquared_OS(X,r,1,my_dict[item]))\n",
    "    else:\n",
    "        eval( f'print(item,\" Rsquared_OS: \",Rsquared_OS(X_{item},r_{item},1,my_dict[item]))')\n"
   ]
  },
  {
   "cell_type": "code",
   "execution_count": 315,
   "metadata": {},
   "outputs": [
    {
     "name": "stdout",
     "output_type": "stream",
     "text": [
      "Month Rsquared_OS:  -0.15740600529154933\n",
      "quarter  Rsquared_OS:  -0.5358886092568653\n",
      "semi  Rsquared_OS:  0.44965609947281726\n",
      "annual  Rsquared_OS:  0.0908765054611409\n"
     ]
    }
   ],
   "source": [
    "my_dict = {'month':200,'quarter':66,'semi':33,'annual':16}\n",
    "\n",
    "i=0\n",
    "for item in my_dict.keys():\n",
    "    if item=='month':\n",
    "        print('Month Rsquared_OS: ', CW_test(X,r,1,my_dict[item]))\n",
    "    else:\n",
    "        eval( f'print(item,\" Rsquared_OS: \",CW_test(X_{item},r_{item},1,my_dict[item]))')\n"
   ]
  },
  {
   "cell_type": "markdown",
   "metadata": {},
   "source": [
    "## 4. Portfolio Performance Evaluation"
   ]
  },
  {
   "cell_type": "markdown",
   "metadata": {},
   "source": [
    "Choice of the number of Principal Components for Month:\n",
    "Stock: 7, Bond: 2"
   ]
  },
  {
   "cell_type": "markdown",
   "metadata": {},
   "source": [
    "## 4.1 Return Estimate"
   ]
  },
  {
   "cell_type": "code",
   "execution_count": 316,
   "metadata": {},
   "outputs": [],
   "source": [
    "r_actual = processed_df[['r_SPX','r_bond','r_bill']].values"
   ]
  },
  {
   "cell_type": "code",
   "execution_count": 317,
   "metadata": {},
   "outputs": [],
   "source": [
    "r_hat_SPX = []\n",
    "for i in range(r_actual.shape[0]):\n",
    "    X_stock_PCA = truncated_PC(\n",
    "            processed_df[stock_explanatory_variables][:i].values,7)\n",
    "    w_stock = PC_fit(X_stock_PCA,r_actual[:i,0],7)\n",
    "    x_stock_PCA_new = \\\n",
    "        np.concatenate(\n",
    "            (np.ones(1),\n",
    "             truncated_PC(\n",
    "                 processed_df\n",
    "                 [stock_explanatory_variables][:i+1]\n",
    "                 .values,7)[-1,:]))\n",
    "    r_hat_SPX+=[np.dot(x_stock_PCA_new,w_stock)]"
   ]
  },
  {
   "cell_type": "code",
   "execution_count": 318,
   "metadata": {},
   "outputs": [
    {
     "name": "stderr",
     "output_type": "stream",
     "text": [
      "No handles with labels found to put in legend.\n"
     ]
    },
    {
     "data": {
      "text/plain": [
       "<matplotlib.legend.Legend at 0x115c82f60>"
      ]
     },
     "execution_count": 318,
     "metadata": {},
     "output_type": "execute_result"
    },
    {
     "data": {
      "image/png": "[encoded data removed]",
      "text/plain": [
       "<Figure size 432x288 with 1 Axes>"
      ]
     },
     "metadata": {
      "needs_background": "light"
     },
     "output_type": "display_data"
    }
   ],
   "source": [
    "plt.plot(r_hat_SPX[200:])\n",
    "plt.plot(r_actual[200:,0])\n",
    "plt.legend()"
   ]
  },
  {
   "cell_type": "code",
   "execution_count": 319,
   "metadata": {},
   "outputs": [],
   "source": [
    "r_hat_bond = []\n",
    "for i in range(r_actual.shape[0]):\n",
    "    X_bond_PCA = truncated_PC(\n",
    "        processed_df\n",
    "        [bonds_explanatory_variables][:i].values,2)\n",
    "    w_bond = PC_fit(X_bond_PCA,r_actual[:i,1],2)\n",
    "    x_bond_PCA_new = \\\n",
    "      np.concatenate(\n",
    "        (np.ones(1),\n",
    "         truncated_PC(\n",
    "             processed_df\n",
    "             [bonds_explanatory_variables][:i+1].values,2)[-1,:]))\n",
    "    r_hat_bond+=[np.dot(x_bond_PCA_new,w_bond)]"
   ]
  },
  {
   "cell_type": "code",
   "execution_count": 320,
   "metadata": {},
   "outputs": [
    {
     "name": "stderr",
     "output_type": "stream",
     "text": [
      "No handles with labels found to put in legend.\n"
     ]
    },
    {
     "data": {
      "text/plain": [
       "<matplotlib.legend.Legend at 0x115cf75c0>"
      ]
     },
     "execution_count": 320,
     "metadata": {},
     "output_type": "execute_result"
    },
    {
     "data": {
      "image/png": "[encoded data removed]",
      "text/plain": [
       "<Figure size 432x288 with 1 Axes>"
      ]
     },
     "metadata": {
      "needs_background": "light"
     },
     "output_type": "display_data"
    }
   ],
   "source": [
    "plt.plot(r_hat_bond[200:])\n",
    "plt.plot(r_actual[200:,1])\n",
    "plt.legend()"
   ]
  },
  {
   "cell_type": "code",
   "execution_count": 321,
   "metadata": {},
   "outputs": [],
   "source": [
    "r_hat_bill = []\n",
    "X_bill = np.concatenate((np.ones(r_actual.shape[0]).reshape(-1,1),\n",
    "                         processed_df['y_bill'].values.reshape(-1,1)),axis=1)\n",
    "for i in range(r_actual.shape[0]):\n",
    "    w_bill = np.matmul(\n",
    "                    np.matmul(\n",
    "                        np.linalg.inv(1e-6*np.eye(2) + np.matmul(\n",
    "                            X_bill[:i-1,:].transpose(),X_bill[:i-1,:])),\n",
    "                            X_bill[:i-1,:].transpose()),\n",
    "                        r_actual[:i-1,2])\n",
    "    r_hat_bill+=[np.dot(X_bill[i-1,:],w_bill)]\n",
    "    \n",
    "    \n",
    "    "
   ]
  },
  {
   "cell_type": "code",
   "execution_count": 322,
   "metadata": {},
   "outputs": [
    {
     "name": "stderr",
     "output_type": "stream",
     "text": [
      "No handles with labels found to put in legend.\n"
     ]
    },
    {
     "data": {
      "text/plain": [
       "<matplotlib.legend.Legend at 0x115eae710>"
      ]
     },
     "execution_count": 322,
     "metadata": {},
     "output_type": "execute_result"
    },
    {
     "data": {
      "image/png": "[encoded data removed]",
      "text/plain": [
       "<Figure size 432x288 with 1 Axes>"
      ]
     },
     "metadata": {
      "needs_background": "light"
     },
     "output_type": "display_data"
    }
   ],
   "source": [
    "plt.plot(r_hat_bill[200:])\n",
    "plt.plot(r_actual[200:,2])\n",
    "plt.legend()"
   ]
  },
  {
   "cell_type": "code",
   "execution_count": 323,
   "metadata": {},
   "outputs": [],
   "source": [
    "r_hat = pd.DataFrame(r_hat_SPX,columns = ['r_hat_SPX'])\n",
    "r_hat['r_hat_bond'] = pd.Series(r_hat_bond)\n",
    "r_hat['r_hat_bill'] = pd.Series(r_hat_bill)\n",
    "r_hat = r_hat.astype(float)"
   ]
  },
  {
   "cell_type": "markdown",
   "metadata": {},
   "source": [
    "## 4.2 EWMA Covariance Estimate"
   ]
  },
  {
   "cell_type": "markdown",
   "metadata": {},
   "source": [
    "I referred the formula of Exponentially Weighted Moving Average from Table 5.1 of Riskmetrics - technical document. It is as following:\n",
    "$$Cov(r^i, r^j)= (1-\\lambda)\\sum_{t=0}^{T-1}\\lambda^t (r_{t}^{i}-\\overline{r}_{t}^{i})(r_{t}^{j}-\\overline{r}_{t}^{j}) \\quad i,j \\in{\\{stock, bond, bill\\}}$$\n",
    "The way I compute this amount is:\n",
    "$$ X =\\begin{pmatrix}\n",
    "r^{stock}_0 -\\overline{r}^{stock}& r^{bond}_0  -\\overline{r}^{bond}& r^{bill}_0 -\\overline{r}^{bill}\\\\ \n",
    "r^{stock}_1 -\\overline{r}^{stock}&  r^{bond}_1 -\\overline{r}^{bond}& r^{bill}_1 -\\overline{r}^{bill}\\\\ \n",
    "r^{stock}_3 -\\overline{r}^{stock}&  r^{bond}_2 -\\overline{r}^{bond}& r^{bill}_2 -\\overline{r}^{bill}\n",
    "\\end{pmatrix} \\\\\n",
    "\\Rightarrow\n",
    "\\tilde{X}=\\sqrt{1-\\lambda}\\bigl(\\begin{smallmatrix}\n",
    "1 & 0 & 0\\\\ \n",
    " 0&  \\lambda^{0.5}& 0\\\\ \n",
    " 0&  0& \\lambda\n",
    "\\end{smallmatrix}\\bigr)X = (\\tilde{r}^{stock},\\tilde{r}^{bond},\\tilde{r}^{bill} )\n",
    "\\\\\n",
    "$$\n",
    "\n",
    "$$\\Rightarrow\n",
    "\\tilde{X}^T\\tilde{X} = \\begin{pmatrix}\n",
    " (\\tilde{r}^{stock})^T\\tilde{r}^{stock}& (\\tilde{r}^{stock})^T\\tilde{r}^{bond} &(\\tilde{r}^{stock})^T\\tilde{r}^{bill} \\\\ \n",
    " (\\tilde{r}^{bond})^T\\tilde{r}^{stock}&  (\\tilde{r}^{bond})^T\\tilde{r}^{bond}& (\\tilde{r}^{bond})^T\\tilde{r}^{bill}\\\\ \n",
    " (\\tilde{r}^{bill})^T\\tilde{r}^{stock}&  (\\tilde{r}^{bill})^T\\tilde{r}^{bond}& (\\tilde{r}^{bill})^T\\tilde{r}^{bill}\n",
    "\\end{pmatrix}\n",
    "$$\n",
    "which is the desired matrix"
   ]
  },
  {
   "cell_type": "code",
   "execution_count": 324,
   "metadata": {},
   "outputs": [],
   "source": [
    "def EWMA(t):\n",
    "    decay = 0.94\n",
    "    A = np.matmul(np.diag([np.sqrt((1-decay)*decay**i) \n",
    "                           for i in range(t+1)]),r_actual[:t+1])\n",
    "    return np.matmul(A.T,A)"
   ]
  },
  {
   "cell_type": "code",
   "execution_count": 325,
   "metadata": {},
   "outputs": [
    {
     "data": {
      "text/plain": [
       "array([[ 0.00119016, -0.00066904, -0.00047128],\n",
       "       [-0.00066904,  0.00164213,  0.00131968],\n",
       "       [-0.00047128,  0.00131968,  0.00323162]])"
      ]
     },
     "execution_count": 325,
     "metadata": {},
     "output_type": "execute_result"
    }
   ],
   "source": [
    "EWMA(200)"
   ]
  },
  {
   "cell_type": "markdown",
   "metadata": {},
   "source": [
    "## 4.3 Black Litterman $\\mu$ and $\\Sigma$"
   ]
  },
  {
   "cell_type": "markdown",
   "metadata": {},
   "source": [
    "### 4.3.1 Covariance Matrix of Active Views"
   ]
  },
  {
   "cell_type": "markdown",
   "metadata": {},
   "source": [
    "$$\\omega_{j} = \\left( \\frac{1-c_{j}}{c_{j}} \\right)p_{j}\\hat{\\Sigma}_{t:t+h}p_{j}^{T}\\quad \\text{for} \\space j = \\text{stock, bond, or bill}$$\n",
    "where $p_{stock}, p_{bond}, p_{bill}$ are first, second and third rows of $P = I_{3}$. And, $c_{stock} = 0.25, c_{bond} = 0.50, c_{bill} = 0.75$. Note that larger the c is, less relevant is the investor view and when c equals 1 then investor view is considered majestic. The rationale for the choice of parameter is that if regression result is credit-worthy (characterized by high $R^2_{OS}$) then do not utilize information about views."
   ]
  },
  {
   "cell_type": "markdown",
   "metadata": {},
   "source": [
    "I slightly modify the weights `c` because of poor quality of bond/bill returns data I obtained."
   ]
  },
  {
   "cell_type": "code",
   "execution_count": 326,
   "metadata": {},
   "outputs": [],
   "source": [
    "omega_stock = [(1/0.75 -1)*EWMA(t)[0,0] \n",
    "               for t in range(r_actual.shape[0])]\n",
    "omega_bond  = [(1/0.5 -1)*EWMA(t)[1,1] \n",
    "               for t in range(r_actual.shape[0])]\n",
    "omega_bill  = [(1/0.25 -1)*EWMA(t)[2,2] \n",
    "               for t in range(r_actual.shape[0])]"
   ]
  },
  {
   "cell_type": "code",
   "execution_count": 327,
   "metadata": {},
   "outputs": [],
   "source": [
    "Omega = []\n",
    "for i in range(len(omega_stock)):\n",
    "    Omega += [np.diag([omega_stock[i],omega_bond[i],omega_bill[i]])]"
   ]
  },
  {
   "cell_type": "markdown",
   "metadata": {},
   "source": [
    "### 4.3.2 $\\mu_{BL}$ And $\\Sigma_{BL}$"
   ]
  },
  {
   "cell_type": "markdown",
   "metadata": {},
   "source": [
    "$$\\mu_{BL} = \\mu + \\hat{\\Sigma} P^T(P\\hat{\\Sigma}P^T+\\Omega)^{-1}(V-P \\mu) $$\n",
    "$$ \\Sigma_{BL} = \\hat{\\Sigma} - \\hat{\\Sigma}P^T(P\\hat{\\Sigma}P^T+\\Omega)^{-1}P\\hat{\\Sigma}$$\n",
    "\n",
    "Da Silva(2009) claims that Black-Litterman was derived under the mean-variance portfolio optimization rather than optimizing the common active management performance measure, the information ratio. And, this resulted in a bias that could lead to unintentional trades.\n",
    "\n",
    "The authors' remedy for this issue pertains to the practice of obtaining implied equilibrium excess returns through $\\mu = \\gamma \\Sigma \\omega_B$ where $\\gamma$ is a risk-aversion coefficient. The author asserts to set $\\mu = 0$. And, $\\hat{r}$ is considered to be the active views $V$ and $P$ is assumed to be $I_3$.\n",
    "In summary,\n",
    "$$\\mu_{BL} = \\hat{\\Sigma}(\\hat{\\Sigma}+\\Omega)^{-1}\\hat{r} $$\n",
    "$$ \\Sigma_{BL} = \\hat{\\Sigma} - \\hat{\\Sigma}(\\hat{\\Sigma}+\\Omega)^{-1}\\hat{\\Sigma}$$"
   ]
  },
  {
   "cell_type": "code",
   "execution_count": 328,
   "metadata": {},
   "outputs": [],
   "source": [
    "mu_BL = []\n",
    "Sigma_BL = []\n",
    "for i in range(len(r_actual)):\n",
    "    mu_BL+=[np.dot(\n",
    "                np.matmul(EWMA(i),\n",
    "                    np.linalg.inv(\n",
    "                        1e-6 + EWMA(i) + Omega[i])),\n",
    "                r_hat.values[i] )]\n",
    "    Sigma_BL+=[EWMA(i)\n",
    "               -np.matmul(\n",
    "                   np.matmul(\n",
    "                       EWMA(i),\n",
    "                       np.linalg.inv(\n",
    "                           1e-6 +EWMA(i)+Omega[i]))\n",
    "                   ,EWMA(i))]"
   ]
  },
  {
   "cell_type": "markdown",
   "metadata": {},
   "source": [
    "### 4.3.3 Black-Litterman Return Expectation and Variance"
   ]
  },
  {
   "cell_type": "markdown",
   "metadata": {},
   "source": [
    "$log(r)|view \\sim N(\\mu_{BL},\\Sigma_{BL}) \\\\ \\Rightarrow E[P^i_{t}] = P^i_{0}exp\\left(\\mu_{BL,i} + \\frac{1}{2} \\Sigma_{BL,(i,i)}\\right) \\quad \\text{where} \\quad i\\in{\\{stock,bond,bill\\}}\n",
    " \\\\ \\quad Cov[P^i_{t},P^j_{t}] =P^i_{0}P^i_{0}e^{\\mu_{BL,i}+\\mu_{BL,j}}e^{\\frac{1}{2}\\left(\\Sigma_{BL,(ii)} +   \\Sigma_{BL,(jj)}\\right)}\\bigodot\\left(e^{\\Sigma_{BL,(ij)}-1}\\right)       $\n"
   ]
  },
  {
   "cell_type": "code",
   "execution_count": 329,
   "metadata": {},
   "outputs": [],
   "source": [
    "m=[]\n",
    "S=[]\n",
    "for i in range(len(r_actual)):\n",
    "    m += [np.exp(mu_BL[i]\n",
    "          +0.5*np.diag(Sigma_BL[i]))\n",
    "                  .reshape(-1,1)\n",
    "          - 1]\n",
    "    S += [np.multiply(\n",
    "            np.matmul(\n",
    "                np.exp(\n",
    "                    mu_BL[i]\n",
    "                    +0.5*np.diag(Sigma_BL[i]))\n",
    "                     .reshape(-1,1),\n",
    "                np.exp(\n",
    "                    mu_BL[i]\n",
    "                    +0.5*np.diag(Sigma_BL[i]))\n",
    "                     .reshape(-1,1).T)\n",
    "            ,np.exp(Sigma_BL[i]) - 1)]"
   ]
  },
  {
   "cell_type": "markdown",
   "metadata": {},
   "source": [
    "### 4.3.4 DAA Portfolio Optimization"
   ]
  },
  {
   "cell_type": "markdown",
   "metadata": {},
   "source": [
    "Initial attempt:"
   ]
  },
  {
   "cell_type": "markdown",
   "metadata": {},
   "source": [
    "Optimization problem is:\n",
    "\n",
    "\n",
    "\\begin{aligned}\n",
    "\\max_{w} \\quad & \\left ( w-w_{bench} \\right )^Tm\\\\\n",
    "\\textrm{s.t.} \\quad & \\left \\| R\\left ( w-w_{bench} \\right )\\right \\|_2^2 \\leq (h/12)TE^2\\\\\n",
    " & w^T1_3 =1    \\\\\n",
    " & w  \\geq w_{LB}\n",
    "\\end{aligned}\n",
    "\n",
    "where $R$ is the Cholesky Decomposition of $S$\n"
   ]
  },
  {
   "cell_type": "code",
   "execution_count": 330,
   "metadata": {},
   "outputs": [],
   "source": [
    "def cholesky(A):\n",
    "    \"\"\"\n",
    "    computes left cholesky matrix. Advantage of this \n",
    "    matrix over np.linalg.cholesky\n",
    "    is that first few observation of S matrix is not \n",
    "    positive definite which creates\n",
    "    an error message.\n",
    "    \"\"\"\n",
    "    L = np.eye(3)\n",
    "    L[1:,0]=-A[1:,0]/A[0,0]\n",
    "    tmp = np.matmul(L,A)\n",
    "    L2 = np.eye(3)\n",
    "    L2[2,1] = -tmp[2,1]/tmp[1,1]\n",
    "    diag = np.sqrt(np.matmul(\n",
    "                    np.matmul(np.matmul(L2,tmp),L.T),L2.T))\n",
    "    Linv=np.eye(3)\n",
    "    Linv[1:,0] = -L[1:,0]/L[0,0]\n",
    "    L2inv=np.eye(3)\n",
    "    L2inv[2,1] = -L2[2,1]/L2[1,1]\n",
    "    Left = np.matmul(np.matmul(Linv,L2inv),diag)\n",
    "    return Left"
   ]
  },
  {
   "cell_type": "markdown",
   "metadata": {},
   "source": [
    "Sanity Check:"
   ]
  },
  {
   "cell_type": "code",
   "execution_count": 331,
   "metadata": {},
   "outputs": [
    {
     "data": {
      "text/plain": [
       "array([[0., 0., 0.],\n",
       "       [0., 0., 0.],\n",
       "       [0., 0., 0.]])"
      ]
     },
     "execution_count": 331,
     "metadata": {},
     "output_type": "execute_result"
    }
   ],
   "source": [
    "R = cholesky(S[20]).T\n",
    "R.T - np.linalg.cholesky(S[20])"
   ]
  },
  {
   "cell_type": "code",
   "execution_count": 332,
   "metadata": {},
   "outputs": [
    {
     "name": "stdout",
     "output_type": "stream",
     "text": [
      "[[ 5.32797217e-05  0.00000000e+00  0.00000000e+00]\n",
      " [-5.73580103e-04  2.58327850e-07  0.00000000e+00]\n",
      " [-6.21356947e-03  2.69271475e-05  4.56954959e-06]]\n",
      "[[      nan 0.              nan]\n",
      " [      nan 0.0007352       nan]\n",
      " [      nan 0.0078131       nan]]\n",
      "[[ 0.00785924  0.          0.        ]\n",
      " [-0.000789    0.00282752  0.        ]\n",
      " [ 0.00037972  0.00165482  0.00759579]]\n",
      "[[ 0.00665097  0.          0.        ]\n",
      " [-0.00130537  0.00472013  0.        ]\n",
      " [ 0.00032736  0.00192706  0.00942859]]\n",
      "[[ 1.00566426e-02  0.00000000e+00  0.00000000e+00]\n",
      " [-1.12037556e-03  5.42509194e-03  0.00000000e+00]\n",
      " [ 2.50722230e-05  4.10683401e-03  7.22966998e-03]]\n"
     ]
    },
    {
     "name": "stderr",
     "output_type": "stream",
     "text": [
      "/Users/gimdong-geon/python3_cooking/lib/python3.7/site-packages/ipykernel_launcher.py:15: RuntimeWarning: invalid value encountered in sqrt\n",
      "  from ipykernel import kernelapp as app\n"
     ]
    }
   ],
   "source": [
    "for i in range(len(r_actual))[:5]:\n",
    "    print(cholesky(S[i]))"
   ]
  },
  {
   "cell_type": "markdown",
   "metadata": {},
   "source": [
    "S is not psd for many observations. So I avoided cholesky"
   ]
  },
  {
   "cell_type": "markdown",
   "metadata": {},
   "source": [
    "\\begin{aligned}\n",
    "\\max_{w} \\quad &  w^Tm\\\\\n",
    "\\textrm{s.t.} \\quad &  \\left ( w-w_{bench} \\right )^TS\\left ( w-w_{bench} \\right ) \\ \\leq (h/12)TE^2\\\\\n",
    " & w^T1_3 =1    \\\\\n",
    " & w  \\geq w_{LB}\n",
    "\\end{aligned}"
   ]
  },
  {
   "cell_type": "markdown",
   "metadata": {},
   "source": [
    "To get constraints, I use fstring with list comprehension as below:"
   ]
  },
  {
   "cell_type": "code",
   "execution_count": 333,
   "metadata": {},
   "outputs": [
    {
     "data": {
      "text/plain": [
       "'((w0-w_bench[0])*S[i][0,0]*(w0-w_bench[0]))+((w0-w_bench[0])*S[i][0,1]*(w1-w_bench[1]))+((w0-w_bench[0])*S[i][0,2]*(w2-w_bench[2]))+((w1-w_bench[1])*S[i][1,0]*(w0-w_bench[0]))+((w1-w_bench[1])*S[i][1,1]*(w1-w_bench[1]))+((w1-w_bench[1])*S[i][1,2]*(w2-w_bench[2]))+((w2-w_bench[2])*S[i][2,0]*(w0-w_bench[0]))+((w2-w_bench[2])*S[i][2,1]*(w1-w_bench[1]))+((w2-w_bench[2])*S[i][2,2]*(w2-w_bench[2]))'"
      ]
     },
     "execution_count": 333,
     "metadata": {},
     "output_type": "execute_result"
    }
   ],
   "source": [
    "cone = '+'.join([f'((w{i}-w_bench[{i}])*S[i][{i},{j}]*(w{j}-w_bench[{j}]))'\\\n",
    "                 for i in range(3) for j in range(3)])\n",
    "cone"
   ]
  },
  {
   "cell_type": "code",
   "execution_count": 334,
   "metadata": {},
   "outputs": [
    {
     "name": "stdout",
     "output_type": "stream",
     "text": [
      "0th observation: \n",
      "w0 0.0500041\n",
      "w1 0.0500182\n",
      "w2 0.899978\n",
      "Obj: 0.00750459\n",
      "100th observation: \n",
      "w0 0.818077\n",
      "w1 0.131605\n",
      "w2 0.0503178\n",
      "Obj: 0.00521456\n",
      "200th observation: \n",
      "w0 0.818\n",
      "w1 0.131969\n",
      "w2 0.0500305\n",
      "Obj: 0.00632291\n",
      "300th observation: \n",
      "w0 0.700523\n",
      "w1 0.131539\n",
      "w2 0.167938\n",
      "Obj: 0.0127552\n"
     ]
    }
   ],
   "source": [
    "w_LB = 0.05*np.ones(3)\n",
    "w_bench = np.array([0.65,0.3,0.05])\n",
    "TE=0.02\n",
    "w = np.array([np.nan,np.nan,np.nan]).reshape(-1,3)\n",
    "for i in range(len(r_actual)):\n",
    "    # Create a new model\n",
    "\n",
    "        model = Model(\"qcp\")\n",
    "        model.setParam('OutputFlag', 0)\n",
    "        # Create variables\n",
    "        w0 = model.addVar(name=\"w0\")\n",
    "        w1 = model.addVar(name=\"w1\")\n",
    "        w2 = model.addVar(name=\"w2\")\n",
    "\n",
    "        # Set objective: x\n",
    "        obj = m[i][0][0]*w0 + m[i][1][0]*w1 + m[i][2][0]*w2 \n",
    "        model.setObjective(obj, GRB.MAXIMIZE)\n",
    "\n",
    "        model.addConstr(w0 + w1 + w2 == 1, \"c0\")\n",
    "        model.addConstr(w0  >= w_LB[0], \"c1\")\n",
    "        model.addConstr(w1  >= w_LB[1], \"c2\")\n",
    "        model.addConstr(w2  >= w_LB[2], \"c3\")\n",
    "\n",
    "        # Add second-order cone: \n",
    "        eval('model.addConstr(' + cone + '<= (TE**2 *(1/12)), \"qc0\")')\n",
    "        model.optimize()\n",
    "\n",
    "        if i%100==0:\n",
    "            print(f'{i}th observation: ')\n",
    "            for v in model.getVars():\n",
    "                print('%s %g' % (v.varName, v.x))\n",
    "            print('Obj: %g' % obj.getValue())\n",
    "        w = np.concatenate((w,np.array([model.getVars()[i].x \n",
    "                                for i in range(3)]).reshape(-1,3)))\n",
    "w = w[1:,:]"
   ]
  },
  {
   "cell_type": "code",
   "execution_count": 335,
   "metadata": {},
   "outputs": [
    {
     "data": {
      "text/plain": [
       "Text(0.5, 1.0, 'DAA stock weight')"
      ]
     },
     "execution_count": 335,
     "metadata": {},
     "output_type": "execute_result"
    },
    {
     "data": {
      "image/png": "[encoded data removed]",
      "text/plain": [
       "<Figure size 432x288 with 1 Axes>"
      ]
     },
     "metadata": {
      "needs_background": "light"
     },
     "output_type": "display_data"
    }
   ],
   "source": [
    "plt.plot(w[:,0])\n",
    "plt.title(\"DAA stock weight\")"
   ]
  },
  {
   "cell_type": "code",
   "execution_count": 336,
   "metadata": {},
   "outputs": [
    {
     "data": {
      "text/plain": [
       "Text(0.5, 1.0, 'DAA bond weight')"
      ]
     },
     "execution_count": 336,
     "metadata": {},
     "output_type": "execute_result"
    },
    {
     "data": {
      "image/png": "[encoded data removed]",
      "text/plain": [
       "<Figure size 432x288 with 1 Axes>"
      ]
     },
     "metadata": {
      "needs_background": "light"
     },
     "output_type": "display_data"
    }
   ],
   "source": [
    "plt.plot(w[:,1])\n",
    "plt.title(\"DAA bond weight\")"
   ]
  },
  {
   "cell_type": "code",
   "execution_count": 337,
   "metadata": {},
   "outputs": [
    {
     "data": {
      "text/plain": [
       "Text(0.5, 1.0, 'DAA bill weight')"
      ]
     },
     "execution_count": 337,
     "metadata": {},
     "output_type": "execute_result"
    },
    {
     "data": {
      "image/png": "[encoded data removed]",
      "text/plain": [
       "<Figure size 432x288 with 1 Axes>"
      ]
     },
     "metadata": {
      "needs_background": "light"
     },
     "output_type": "display_data"
    }
   ],
   "source": [
    "plt.plot(w[:,2])\n",
    "plt.title(\"DAA bill weight\")"
   ]
  },
  {
   "cell_type": "markdown",
   "metadata": {},
   "source": [
    "### 4.3.5 Portfolio Performance Statistics"
   ]
  },
  {
   "cell_type": "markdown",
   "metadata": {},
   "source": [
    "### 4.3.5.1 Annualized Return"
   ]
  },
  {
   "cell_type": "markdown",
   "metadata": {},
   "source": [
    "Below cell tries to adjusts for erratic data. Bill return is not expected to change by 500% over a month."
   ]
  },
  {
   "cell_type": "code",
   "execution_count": 338,
   "metadata": {},
   "outputs": [
    {
     "data": {
      "text/plain": [
       "array([[0.48131974, 0.46832747, 0.        ],\n",
       "       [0.61944123, 0.19848686, 0.        ],\n",
       "       [0.56876547, 0.25783333, 0.        ]])"
      ]
     },
     "execution_count": 338,
     "metadata": {},
     "output_type": "execute_result"
    }
   ],
   "source": [
    "np.place(w[:,2], np.abs(r_actual[:,2])>5, 0)\n",
    "w[np.abs(r_actual[:,2])>5]"
   ]
  },
  {
   "cell_type": "code",
   "execution_count": 339,
   "metadata": {},
   "outputs": [],
   "source": [
    "r_portfolio_actual = np.multiply(r_actual,w).sum(axis=1)\n",
    "r_portfolio_bench = np.multiply(r_actual,w_bench).sum(axis=1)"
   ]
  },
  {
   "cell_type": "code",
   "execution_count": 340,
   "metadata": {},
   "outputs": [
    {
     "data": {
      "text/plain": [
       "0.12859850020765418"
      ]
     },
     "execution_count": 340,
     "metadata": {},
     "output_type": "execute_result"
    }
   ],
   "source": [
    "DAA_geo_return = ((((r_portfolio_actual[200:]+1)\n",
    "                   .prod()**(1/r_portfolio_actual[200:].shape[0]))\n",
    "                  -1) * 12)\n",
    "DAA_geo_return"
   ]
  },
  {
   "cell_type": "code",
   "execution_count": 341,
   "metadata": {},
   "outputs": [
    {
     "data": {
      "text/plain": [
       "0.0824949523121612"
      ]
     },
     "execution_count": 341,
     "metadata": {},
     "output_type": "execute_result"
    }
   ],
   "source": [
    "Bench_geo_return =(((r_portfolio_bench[200:]+1).prod()**(1/r_portfolio_bench[200:].shape[0]))-1) * 12\n",
    "Bench_geo_return "
   ]
  },
  {
   "cell_type": "markdown",
   "metadata": {},
   "source": [
    "Annualized geometric return of DAA portfolio from November 2007 (observation index 200) to July is 13.97% and that of benchmark portfolio is 7.49%"
   ]
  },
  {
   "cell_type": "markdown",
   "metadata": {},
   "source": [
    "### 4.3.5.2 Standard Deviation"
   ]
  },
  {
   "cell_type": "code",
   "execution_count": 342,
   "metadata": {},
   "outputs": [
    {
     "data": {
      "text/plain": [
       "0.09470120187816364"
      ]
     },
     "execution_count": 342,
     "metadata": {},
     "output_type": "execute_result"
    }
   ],
   "source": [
    "DAA_std = r_portfolio_actual[200:].std(ddof=1)\n",
    "DAA_std"
   ]
  },
  {
   "cell_type": "code",
   "execution_count": 343,
   "metadata": {},
   "outputs": [
    {
     "data": {
      "text/plain": [
       "0.0772344189520475"
      ]
     },
     "execution_count": 343,
     "metadata": {},
     "output_type": "execute_result"
    }
   ],
   "source": [
    "Bench_std = r_portfolio_bench[200:].std(ddof=1)\n",
    "Bench_std"
   ]
  },
  {
   "cell_type": "markdown",
   "metadata": {},
   "source": [
    "### 4.3.5.3 Maximum Drawdown"
   ]
  },
  {
   "cell_type": "code",
   "execution_count": 472,
   "metadata": {},
   "outputs": [
    {
     "data": {
      "text/plain": [
       "0.5218382528879826"
      ]
     },
     "execution_count": 472,
     "metadata": {},
     "output_type": "execute_result"
    }
   ],
   "source": [
    "DAA_mdd = 1-(r_portfolio_actual[200:] + 1).cumprod().min()\n",
    "DAA_mdd"
   ]
  },
  {
   "cell_type": "code",
   "execution_count": 473,
   "metadata": {},
   "outputs": [
    {
     "data": {
      "text/plain": [
       "0.4146251668854053"
      ]
     },
     "execution_count": 473,
     "metadata": {},
     "output_type": "execute_result"
    }
   ],
   "source": [
    "Bench_mdd = 1-(r_portfolio_bench[200:] + 1).cumprod().min()\n",
    "Bench_mdd"
   ]
  },
  {
   "cell_type": "markdown",
   "metadata": {},
   "source": [
    "### 4.3.5.4 Calmar Ratio"
   ]
  },
  {
   "cell_type": "code",
   "execution_count": 474,
   "metadata": {},
   "outputs": [
    {
     "data": {
      "text/plain": [
       "0.2464336401096664"
      ]
     },
     "execution_count": 474,
     "metadata": {},
     "output_type": "execute_result"
    }
   ],
   "source": [
    "DAA_Calmar = DAA_geo_return/DAA_mdd\n",
    "DAA_Calmar "
   ]
  },
  {
   "cell_type": "code",
   "execution_count": 475,
   "metadata": {},
   "outputs": [
    {
     "data": {
      "text/plain": [
       "0.198962723203344"
      ]
     },
     "execution_count": 475,
     "metadata": {},
     "output_type": "execute_result"
    }
   ],
   "source": [
    "Bench_Calmar = Bench_geo_return/Bench_mdd\n",
    "Bench_Calmar"
   ]
  },
  {
   "cell_type": "markdown",
   "metadata": {},
   "source": [
    "### 4.3.5.4 Average Excess Return"
   ]
  },
  {
   "cell_type": "code",
   "execution_count": 348,
   "metadata": {},
   "outputs": [
    {
     "data": {
      "text/plain": [
       "0.04610354789549298"
      ]
     },
     "execution_count": 348,
     "metadata": {},
     "output_type": "execute_result"
    }
   ],
   "source": [
    "Avg_Excess_Return = DAA_geo_return - Bench_geo_return\n",
    "Avg_Excess_Return"
   ]
  },
  {
   "cell_type": "markdown",
   "metadata": {},
   "source": [
    "### 4.3.5.5 Tracking Error"
   ]
  },
  {
   "cell_type": "code",
   "execution_count": 349,
   "metadata": {},
   "outputs": [
    {
     "data": {
      "text/plain": [
       "0.3100078946188472"
      ]
     },
     "execution_count": 349,
     "metadata": {},
     "output_type": "execute_result"
    }
   ],
   "source": [
    "Tracking_Error = ((r_portfolio_actual[200:] \n",
    "                  - r_portfolio_bench[200:])\n",
    "                 .std(ddof=1) *np.sqrt(12))\n",
    "Tracking_Error"
   ]
  },
  {
   "cell_type": "markdown",
   "metadata": {},
   "source": [
    "### 4.3.5.6 Information Ratio"
   ]
  },
  {
   "cell_type": "code",
   "execution_count": 350,
   "metadata": {},
   "outputs": [
    {
     "data": {
      "text/plain": [
       "0.14871733493167008"
      ]
     },
     "execution_count": 350,
     "metadata": {},
     "output_type": "execute_result"
    }
   ],
   "source": [
    "IR = Avg_Excess_Return/Tracking_Error\n",
    "IR"
   ]
  },
  {
   "cell_type": "markdown",
   "metadata": {},
   "source": [
    "### 4.3.5.7 CER Gain"
   ]
  },
  {
   "cell_type": "markdown",
   "metadata": {},
   "source": [
    "Certainty Equivalent Return is the return an investor would want to be guaranteed for his investment. The investor is assumed to have power utility with risk aversion coefficients of two. This means the investor is risk-averse because utility function is concave.\n",
    "Power Utility fuction is as following:\n",
    "$$U(x) = \\frac{x^{1-RAA}}{1-RAA}$$\n",
    "To compute the CER, for each return observation, compute $U(1+return)$. Denote the average of the return as $\\overline{U}$\n",
    "Then, we recover CER from the following equation.\n",
    "$$ \\overline{U} = \\frac{\\left(1 + CER\\right)^{1-RAA}}{1-RAA}$$\n",
    "For the ease of writing code, this is equivalent to:\n",
    "$$ CER = [\\left(1-RRA \\right)\\overline{U} ]^{\\frac{1}{1-RAA}} -1 $$\n",
    "As the final step, the return is annualized."
   ]
  },
  {
   "cell_type": "code",
   "execution_count": 390,
   "metadata": {},
   "outputs": [],
   "source": [
    "U_bar_actual = (-(1+r_portfolio_actual)**(-1)).mean()\n",
    "U_bar_bench = (-(1+r_portfolio_bench)**(-1)).mean()"
   ]
  },
  {
   "cell_type": "code",
   "execution_count": 394,
   "metadata": {},
   "outputs": [],
   "source": [
    "CER_actual = ((-U_bar_actual)**(-1) -1)*12\n",
    "CER_bench = ((-U_bar_bench)**(-1) -1)*12"
   ]
  },
  {
   "cell_type": "code",
   "execution_count": 396,
   "metadata": {},
   "outputs": [
    {
     "data": {
      "text/plain": [
       "0.016350129132626456"
      ]
     },
     "execution_count": 396,
     "metadata": {},
     "output_type": "execute_result"
    }
   ],
   "source": [
    "CER_gain = CER_actual - CER_bench\n",
    "CER_gain"
   ]
  },
  {
   "cell_type": "markdown",
   "metadata": {},
   "source": [
    "## 4.4 Transaction Cost and Performance Evaluation"
   ]
  },
  {
   "cell_type": "markdown",
   "metadata": {},
   "source": [
    "### 4.4.1 Transaction Cost"
   ]
  },
  {
   "cell_type": "code",
   "execution_count": 351,
   "metadata": {},
   "outputs": [
    {
     "data": {
      "text/plain": [
       "array([0.    , 0.0005, 0.001 , 0.0015, 0.002 , 0.0025, 0.003 , 0.0035,\n",
       "       0.004 , 0.0045, 0.005 , 0.0055, 0.006 , 0.0065, 0.007 , 0.0075,\n",
       "       0.008 , 0.0085, 0.009 , 0.0095, 0.01  , 0.0105, 0.011 , 0.0115,\n",
       "       0.012 , 0.0125, 0.013 , 0.0135, 0.014 , 0.0145, 0.015 , 0.0155,\n",
       "       0.016 , 0.0165, 0.017 , 0.0175, 0.018 , 0.0185, 0.019 , 0.0195,\n",
       "       0.02  , 0.0205, 0.021 , 0.0215, 0.022 , 0.0225, 0.023 , 0.0235,\n",
       "       0.024 , 0.0245, 0.025 , 0.0255, 0.026 , 0.0265, 0.027 , 0.0275,\n",
       "       0.028 , 0.0285, 0.029 , 0.0295, 0.03  , 0.0305, 0.031 , 0.0315,\n",
       "       0.032 , 0.0325, 0.033 , 0.0335, 0.034 , 0.0345, 0.035 , 0.0355,\n",
       "       0.036 , 0.0365, 0.037 , 0.0375, 0.038 , 0.0385, 0.039 , 0.0395,\n",
       "       0.04  , 0.0405, 0.041 , 0.0415, 0.042 , 0.0425, 0.043 , 0.0435,\n",
       "       0.044 , 0.0445, 0.045 ])"
      ]
     },
     "execution_count": 351,
     "metadata": {},
     "output_type": "execute_result"
    }
   ],
   "source": [
    "transaction_cost = np.arange(0,0.0455,0.0005) # 50 basis points increments\n",
    "transaction_cost"
   ]
  },
  {
   "cell_type": "code",
   "execution_count": 352,
   "metadata": {},
   "outputs": [],
   "source": [
    "r_sign = np.sign(r_portfolio_actual)"
   ]
  },
  {
   "cell_type": "code",
   "execution_count": 353,
   "metadata": {},
   "outputs": [
    {
     "name": "stderr",
     "output_type": "stream",
     "text": [
      "/Users/gimdong-geon/python3_cooking/lib/python3.7/site-packages/ipykernel_launcher.py:2: SettingWithCopyWarning: \n",
      "A value is trying to be set on a copy of a slice from a DataFrame.\n",
      "Try using .loc[row_indexer,col_indexer] = value instead\n",
      "\n",
      "See the caveats in the documentation: http://pandas.pydata.org/pandas-docs/stable/indexing.html#indexing-view-versus-copy\n",
      "  \n",
      "/Users/gimdong-geon/python3_cooking/lib/python3.7/site-packages/ipykernel_launcher.py:1: SettingWithCopyWarning: \n",
      "A value is trying to be set on a copy of a slice from a DataFrame.\n",
      "Try using .loc[row_indexer,col_indexer] = value instead\n",
      "\n",
      "See the caveats in the documentation: http://pandas.pydata.org/pandas-docs/stable/indexing.html#indexing-view-versus-copy\n",
      "  \"\"\"Entry point for launching an IPython kernel.\n"
     ]
    }
   ],
   "source": [
    "transaction_df = processed_df[['Dates']]\n",
    "transaction_df['tc_0_bp'] = r_portfolio_actual \n",
    "for i in range(1,len(transaction_cost)):\n",
    "    string = f'transaction_df[\"tc_{i*50}_bp\"] = np.multiply(r_portfolio_actual,'\n",
    "    string += '(1-r_sign*transaction_cost[i]))'\n",
    "    exec(string)\n",
    "transaction_df.set_index('Dates', inplace=True)"
   ]
  },
  {
   "cell_type": "code",
   "execution_count": 354,
   "metadata": {},
   "outputs": [
    {
     "data": {
      "text/html": [
       "<div>\n",
       "<style scoped>\n",
       "    .dataframe tbody tr th:only-of-type {\n",
       "        vertical-align: middle;\n",
       "    }\n",
       "\n",
       "    .dataframe tbody tr th {\n",
       "        vertical-align: top;\n",
       "    }\n",
       "\n",
       "    .dataframe thead th {\n",
       "        text-align: right;\n",
       "    }\n",
       "</style>\n",
       "<table border=\"1\" class=\"dataframe\">\n",
       "  <thead>\n",
       "    <tr style=\"text-align: right;\">\n",
       "      <th></th>\n",
       "      <th>tc_0_bp</th>\n",
       "      <th>tc_50_bp</th>\n",
       "      <th>tc_100_bp</th>\n",
       "      <th>tc_150_bp</th>\n",
       "      <th>tc_200_bp</th>\n",
       "      <th>tc_250_bp</th>\n",
       "      <th>tc_300_bp</th>\n",
       "      <th>tc_350_bp</th>\n",
       "      <th>tc_400_bp</th>\n",
       "      <th>tc_450_bp</th>\n",
       "      <th>...</th>\n",
       "      <th>tc_4050_bp</th>\n",
       "      <th>tc_4100_bp</th>\n",
       "      <th>tc_4150_bp</th>\n",
       "      <th>tc_4200_bp</th>\n",
       "      <th>tc_4250_bp</th>\n",
       "      <th>tc_4300_bp</th>\n",
       "      <th>tc_4350_bp</th>\n",
       "      <th>tc_4400_bp</th>\n",
       "      <th>tc_4450_bp</th>\n",
       "      <th>tc_4500_bp</th>\n",
       "    </tr>\n",
       "    <tr>\n",
       "      <th>Dates</th>\n",
       "      <th></th>\n",
       "      <th></th>\n",
       "      <th></th>\n",
       "      <th></th>\n",
       "      <th></th>\n",
       "      <th></th>\n",
       "      <th></th>\n",
       "      <th></th>\n",
       "      <th></th>\n",
       "      <th></th>\n",
       "      <th></th>\n",
       "      <th></th>\n",
       "      <th></th>\n",
       "      <th></th>\n",
       "      <th></th>\n",
       "      <th></th>\n",
       "      <th></th>\n",
       "      <th></th>\n",
       "      <th></th>\n",
       "      <th></th>\n",
       "      <th></th>\n",
       "    </tr>\n",
       "  </thead>\n",
       "  <tbody>\n",
       "    <tr>\n",
       "      <th>1991-03-29</th>\n",
       "      <td>-0.036231</td>\n",
       "      <td>-0.036249</td>\n",
       "      <td>-0.036267</td>\n",
       "      <td>-0.036285</td>\n",
       "      <td>-0.036303</td>\n",
       "      <td>-0.036321</td>\n",
       "      <td>-0.036340</td>\n",
       "      <td>-0.036358</td>\n",
       "      <td>-0.036376</td>\n",
       "      <td>-0.036394</td>\n",
       "      <td>...</td>\n",
       "      <td>-0.037698</td>\n",
       "      <td>-0.037716</td>\n",
       "      <td>-0.037734</td>\n",
       "      <td>-0.037753</td>\n",
       "      <td>-0.037771</td>\n",
       "      <td>-0.037789</td>\n",
       "      <td>-0.037807</td>\n",
       "      <td>-0.037825</td>\n",
       "      <td>-0.037843</td>\n",
       "      <td>-0.037861</td>\n",
       "    </tr>\n",
       "    <tr>\n",
       "      <th>1991-04-30</th>\n",
       "      <td>0.006605</td>\n",
       "      <td>0.006602</td>\n",
       "      <td>0.006598</td>\n",
       "      <td>0.006595</td>\n",
       "      <td>0.006592</td>\n",
       "      <td>0.006589</td>\n",
       "      <td>0.006585</td>\n",
       "      <td>0.006582</td>\n",
       "      <td>0.006579</td>\n",
       "      <td>0.006575</td>\n",
       "      <td>...</td>\n",
       "      <td>0.006338</td>\n",
       "      <td>0.006334</td>\n",
       "      <td>0.006331</td>\n",
       "      <td>0.006328</td>\n",
       "      <td>0.006324</td>\n",
       "      <td>0.006321</td>\n",
       "      <td>0.006318</td>\n",
       "      <td>0.006314</td>\n",
       "      <td>0.006311</td>\n",
       "      <td>0.006308</td>\n",
       "    </tr>\n",
       "    <tr>\n",
       "      <th>1991-05-31</th>\n",
       "      <td>-0.041896</td>\n",
       "      <td>-0.041917</td>\n",
       "      <td>-0.041938</td>\n",
       "      <td>-0.041959</td>\n",
       "      <td>-0.041980</td>\n",
       "      <td>-0.042001</td>\n",
       "      <td>-0.042022</td>\n",
       "      <td>-0.042043</td>\n",
       "      <td>-0.042064</td>\n",
       "      <td>-0.042085</td>\n",
       "      <td>...</td>\n",
       "      <td>-0.043593</td>\n",
       "      <td>-0.043614</td>\n",
       "      <td>-0.043635</td>\n",
       "      <td>-0.043656</td>\n",
       "      <td>-0.043677</td>\n",
       "      <td>-0.043698</td>\n",
       "      <td>-0.043719</td>\n",
       "      <td>-0.043740</td>\n",
       "      <td>-0.043761</td>\n",
       "      <td>-0.043782</td>\n",
       "    </tr>\n",
       "    <tr>\n",
       "      <th>1991-06-28</th>\n",
       "      <td>-0.002216</td>\n",
       "      <td>-0.002217</td>\n",
       "      <td>-0.002218</td>\n",
       "      <td>-0.002220</td>\n",
       "      <td>-0.002221</td>\n",
       "      <td>-0.002222</td>\n",
       "      <td>-0.002223</td>\n",
       "      <td>-0.002224</td>\n",
       "      <td>-0.002225</td>\n",
       "      <td>-0.002226</td>\n",
       "      <td>...</td>\n",
       "      <td>-0.002306</td>\n",
       "      <td>-0.002307</td>\n",
       "      <td>-0.002308</td>\n",
       "      <td>-0.002309</td>\n",
       "      <td>-0.002310</td>\n",
       "      <td>-0.002312</td>\n",
       "      <td>-0.002313</td>\n",
       "      <td>-0.002314</td>\n",
       "      <td>-0.002315</td>\n",
       "      <td>-0.002316</td>\n",
       "    </tr>\n",
       "    <tr>\n",
       "      <th>1991-07-31</th>\n",
       "      <td>0.013559</td>\n",
       "      <td>0.013552</td>\n",
       "      <td>0.013545</td>\n",
       "      <td>0.013538</td>\n",
       "      <td>0.013531</td>\n",
       "      <td>0.013525</td>\n",
       "      <td>0.013518</td>\n",
       "      <td>0.013511</td>\n",
       "      <td>0.013504</td>\n",
       "      <td>0.013497</td>\n",
       "      <td>...</td>\n",
       "      <td>0.013009</td>\n",
       "      <td>0.013003</td>\n",
       "      <td>0.012996</td>\n",
       "      <td>0.012989</td>\n",
       "      <td>0.012982</td>\n",
       "      <td>0.012975</td>\n",
       "      <td>0.012969</td>\n",
       "      <td>0.012962</td>\n",
       "      <td>0.012955</td>\n",
       "      <td>0.012948</td>\n",
       "    </tr>\n",
       "  </tbody>\n",
       "</table>\n",
       "<p>5 rows × 91 columns</p>\n",
       "</div>"
      ],
      "text/plain": [
       "             tc_0_bp  tc_50_bp  tc_100_bp  tc_150_bp  tc_200_bp  tc_250_bp  \\\n",
       "Dates                                                                        \n",
       "1991-03-29 -0.036231 -0.036249  -0.036267  -0.036285  -0.036303  -0.036321   \n",
       "1991-04-30  0.006605  0.006602   0.006598   0.006595   0.006592   0.006589   \n",
       "1991-05-31 -0.041896 -0.041917  -0.041938  -0.041959  -0.041980  -0.042001   \n",
       "1991-06-28 -0.002216 -0.002217  -0.002218  -0.002220  -0.002221  -0.002222   \n",
       "1991-07-31  0.013559  0.013552   0.013545   0.013538   0.013531   0.013525   \n",
       "\n",
       "            tc_300_bp  tc_350_bp  tc_400_bp  tc_450_bp  ...  tc_4050_bp  \\\n",
       "Dates                                                   ...               \n",
       "1991-03-29  -0.036340  -0.036358  -0.036376  -0.036394  ...   -0.037698   \n",
       "1991-04-30   0.006585   0.006582   0.006579   0.006575  ...    0.006338   \n",
       "1991-05-31  -0.042022  -0.042043  -0.042064  -0.042085  ...   -0.043593   \n",
       "1991-06-28  -0.002223  -0.002224  -0.002225  -0.002226  ...   -0.002306   \n",
       "1991-07-31   0.013518   0.013511   0.013504   0.013497  ...    0.013009   \n",
       "\n",
       "            tc_4100_bp  tc_4150_bp  tc_4200_bp  tc_4250_bp  tc_4300_bp  \\\n",
       "Dates                                                                    \n",
       "1991-03-29   -0.037716   -0.037734   -0.037753   -0.037771   -0.037789   \n",
       "1991-04-30    0.006334    0.006331    0.006328    0.006324    0.006321   \n",
       "1991-05-31   -0.043614   -0.043635   -0.043656   -0.043677   -0.043698   \n",
       "1991-06-28   -0.002307   -0.002308   -0.002309   -0.002310   -0.002312   \n",
       "1991-07-31    0.013003    0.012996    0.012989    0.012982    0.012975   \n",
       "\n",
       "            tc_4350_bp  tc_4400_bp  tc_4450_bp  tc_4500_bp  \n",
       "Dates                                                       \n",
       "1991-03-29   -0.037807   -0.037825   -0.037843   -0.037861  \n",
       "1991-04-30    0.006318    0.006314    0.006311    0.006308  \n",
       "1991-05-31   -0.043719   -0.043740   -0.043761   -0.043782  \n",
       "1991-06-28   -0.002313   -0.002314   -0.002315   -0.002316  \n",
       "1991-07-31    0.012969    0.012962    0.012955    0.012948  \n",
       "\n",
       "[5 rows x 91 columns]"
      ]
     },
     "execution_count": 354,
     "metadata": {},
     "output_type": "execute_result"
    }
   ],
   "source": [
    "transaction_df.head()"
   ]
  },
  {
   "cell_type": "code",
   "execution_count": 355,
   "metadata": {},
   "outputs": [
    {
     "name": "stderr",
     "output_type": "stream",
     "text": [
      "/Users/gimdong-geon/python3_cooking/lib/python3.7/site-packages/ipykernel_launcher.py:4: SettingWithCopyWarning: \n",
      "A value is trying to be set on a copy of a slice from a DataFrame.\n",
      "Try using .loc[row_indexer,col_indexer] = value instead\n",
      "\n",
      "See the caveats in the documentation: http://pandas.pydata.org/pandas-docs/stable/indexing.html#indexing-view-versus-copy\n",
      "  after removing the cwd from sys.path.\n",
      "/Users/gimdong-geon/python3_cooking/lib/python3.7/site-packages/ipykernel_launcher.py:1: SettingWithCopyWarning: \n",
      "A value is trying to be set on a copy of a slice from a DataFrame.\n",
      "Try using .loc[row_indexer,col_indexer] = value instead\n",
      "\n",
      "See the caveats in the documentation: http://pandas.pydata.org/pandas-docs/stable/indexing.html#indexing-view-versus-copy\n",
      "  \"\"\"Entry point for launching an IPython kernel.\n"
     ]
    }
   ],
   "source": [
    "r_sign_bench = np.sign(r_portfolio_bench)\n",
    "\n",
    "transaction_benchmark_df = processed_df[['Dates']]\n",
    "transaction_benchmark_df['tc_0_bp'] = r_portfolio_bench \n",
    "for i in range(1,len(transaction_cost)):\n",
    "    string = f'transaction_benchmark_df[\"tc_{i*50}_bp\"]'\n",
    "    string += '=np.multiply(r_portfolio_bench,'\n",
    "    string += '(1-r_sign_bench*transaction_cost[i]))'\n",
    "    exec(string)\n",
    "transaction_benchmark_df.set_index('Dates', inplace=True)"
   ]
  },
  {
   "cell_type": "code",
   "execution_count": 356,
   "metadata": {},
   "outputs": [
    {
     "data": {
      "text/html": [
       "<div>\n",
       "<style scoped>\n",
       "    .dataframe tbody tr th:only-of-type {\n",
       "        vertical-align: middle;\n",
       "    }\n",
       "\n",
       "    .dataframe tbody tr th {\n",
       "        vertical-align: top;\n",
       "    }\n",
       "\n",
       "    .dataframe thead th {\n",
       "        text-align: right;\n",
       "    }\n",
       "</style>\n",
       "<table border=\"1\" class=\"dataframe\">\n",
       "  <thead>\n",
       "    <tr style=\"text-align: right;\">\n",
       "      <th></th>\n",
       "      <th>tc_0_bp</th>\n",
       "      <th>tc_50_bp</th>\n",
       "      <th>tc_100_bp</th>\n",
       "      <th>tc_150_bp</th>\n",
       "      <th>tc_200_bp</th>\n",
       "      <th>tc_250_bp</th>\n",
       "      <th>tc_300_bp</th>\n",
       "      <th>tc_350_bp</th>\n",
       "      <th>tc_400_bp</th>\n",
       "      <th>tc_450_bp</th>\n",
       "      <th>...</th>\n",
       "      <th>tc_4050_bp</th>\n",
       "      <th>tc_4100_bp</th>\n",
       "      <th>tc_4150_bp</th>\n",
       "      <th>tc_4200_bp</th>\n",
       "      <th>tc_4250_bp</th>\n",
       "      <th>tc_4300_bp</th>\n",
       "      <th>tc_4350_bp</th>\n",
       "      <th>tc_4400_bp</th>\n",
       "      <th>tc_4450_bp</th>\n",
       "      <th>tc_4500_bp</th>\n",
       "    </tr>\n",
       "    <tr>\n",
       "      <th>Dates</th>\n",
       "      <th></th>\n",
       "      <th></th>\n",
       "      <th></th>\n",
       "      <th></th>\n",
       "      <th></th>\n",
       "      <th></th>\n",
       "      <th></th>\n",
       "      <th></th>\n",
       "      <th></th>\n",
       "      <th></th>\n",
       "      <th></th>\n",
       "      <th></th>\n",
       "      <th></th>\n",
       "      <th></th>\n",
       "      <th></th>\n",
       "      <th></th>\n",
       "      <th></th>\n",
       "      <th></th>\n",
       "      <th></th>\n",
       "      <th></th>\n",
       "      <th></th>\n",
       "    </tr>\n",
       "  </thead>\n",
       "  <tbody>\n",
       "    <tr>\n",
       "      <th>1991-03-29</th>\n",
       "      <td>-0.002896</td>\n",
       "      <td>-0.002898</td>\n",
       "      <td>-0.002899</td>\n",
       "      <td>-0.002901</td>\n",
       "      <td>-0.002902</td>\n",
       "      <td>-0.002904</td>\n",
       "      <td>-0.002905</td>\n",
       "      <td>-0.002906</td>\n",
       "      <td>-0.002908</td>\n",
       "      <td>-0.002909</td>\n",
       "      <td>...</td>\n",
       "      <td>-0.003014</td>\n",
       "      <td>-0.003015</td>\n",
       "      <td>-0.003016</td>\n",
       "      <td>-0.003018</td>\n",
       "      <td>-0.003019</td>\n",
       "      <td>-0.003021</td>\n",
       "      <td>-0.003022</td>\n",
       "      <td>-0.003024</td>\n",
       "      <td>-0.003025</td>\n",
       "      <td>-0.003027</td>\n",
       "    </tr>\n",
       "    <tr>\n",
       "      <th>1991-04-30</th>\n",
       "      <td>0.026753</td>\n",
       "      <td>0.026740</td>\n",
       "      <td>0.026726</td>\n",
       "      <td>0.026713</td>\n",
       "      <td>0.026700</td>\n",
       "      <td>0.026686</td>\n",
       "      <td>0.026673</td>\n",
       "      <td>0.026659</td>\n",
       "      <td>0.026646</td>\n",
       "      <td>0.026633</td>\n",
       "      <td>...</td>\n",
       "      <td>0.025670</td>\n",
       "      <td>0.025656</td>\n",
       "      <td>0.025643</td>\n",
       "      <td>0.025629</td>\n",
       "      <td>0.025616</td>\n",
       "      <td>0.025603</td>\n",
       "      <td>0.025589</td>\n",
       "      <td>0.025576</td>\n",
       "      <td>0.025563</td>\n",
       "      <td>0.025549</td>\n",
       "    </tr>\n",
       "    <tr>\n",
       "      <th>1991-05-31</th>\n",
       "      <td>-0.024340</td>\n",
       "      <td>-0.024352</td>\n",
       "      <td>-0.024364</td>\n",
       "      <td>-0.024377</td>\n",
       "      <td>-0.024389</td>\n",
       "      <td>-0.024401</td>\n",
       "      <td>-0.024413</td>\n",
       "      <td>-0.024425</td>\n",
       "      <td>-0.024437</td>\n",
       "      <td>-0.024450</td>\n",
       "      <td>...</td>\n",
       "      <td>-0.025326</td>\n",
       "      <td>-0.025338</td>\n",
       "      <td>-0.025350</td>\n",
       "      <td>-0.025362</td>\n",
       "      <td>-0.025375</td>\n",
       "      <td>-0.025387</td>\n",
       "      <td>-0.025399</td>\n",
       "      <td>-0.025411</td>\n",
       "      <td>-0.025423</td>\n",
       "      <td>-0.025435</td>\n",
       "    </tr>\n",
       "    <tr>\n",
       "      <th>1991-06-28</th>\n",
       "      <td>0.027612</td>\n",
       "      <td>0.027598</td>\n",
       "      <td>0.027584</td>\n",
       "      <td>0.027571</td>\n",
       "      <td>0.027557</td>\n",
       "      <td>0.027543</td>\n",
       "      <td>0.027529</td>\n",
       "      <td>0.027515</td>\n",
       "      <td>0.027502</td>\n",
       "      <td>0.027488</td>\n",
       "      <td>...</td>\n",
       "      <td>0.026494</td>\n",
       "      <td>0.026480</td>\n",
       "      <td>0.026466</td>\n",
       "      <td>0.026452</td>\n",
       "      <td>0.026439</td>\n",
       "      <td>0.026425</td>\n",
       "      <td>0.026411</td>\n",
       "      <td>0.026397</td>\n",
       "      <td>0.026383</td>\n",
       "      <td>0.026369</td>\n",
       "    </tr>\n",
       "    <tr>\n",
       "      <th>1991-07-31</th>\n",
       "      <td>-0.002939</td>\n",
       "      <td>-0.002941</td>\n",
       "      <td>-0.002942</td>\n",
       "      <td>-0.002943</td>\n",
       "      <td>-0.002945</td>\n",
       "      <td>-0.002946</td>\n",
       "      <td>-0.002948</td>\n",
       "      <td>-0.002949</td>\n",
       "      <td>-0.002951</td>\n",
       "      <td>-0.002952</td>\n",
       "      <td>...</td>\n",
       "      <td>-0.003058</td>\n",
       "      <td>-0.003060</td>\n",
       "      <td>-0.003061</td>\n",
       "      <td>-0.003062</td>\n",
       "      <td>-0.003064</td>\n",
       "      <td>-0.003065</td>\n",
       "      <td>-0.003067</td>\n",
       "      <td>-0.003068</td>\n",
       "      <td>-0.003070</td>\n",
       "      <td>-0.003071</td>\n",
       "    </tr>\n",
       "  </tbody>\n",
       "</table>\n",
       "<p>5 rows × 91 columns</p>\n",
       "</div>"
      ],
      "text/plain": [
       "             tc_0_bp  tc_50_bp  tc_100_bp  tc_150_bp  tc_200_bp  tc_250_bp  \\\n",
       "Dates                                                                        \n",
       "1991-03-29 -0.002896 -0.002898  -0.002899  -0.002901  -0.002902  -0.002904   \n",
       "1991-04-30  0.026753  0.026740   0.026726   0.026713   0.026700   0.026686   \n",
       "1991-05-31 -0.024340 -0.024352  -0.024364  -0.024377  -0.024389  -0.024401   \n",
       "1991-06-28  0.027612  0.027598   0.027584   0.027571   0.027557   0.027543   \n",
       "1991-07-31 -0.002939 -0.002941  -0.002942  -0.002943  -0.002945  -0.002946   \n",
       "\n",
       "            tc_300_bp  tc_350_bp  tc_400_bp  tc_450_bp  ...  tc_4050_bp  \\\n",
       "Dates                                                   ...               \n",
       "1991-03-29  -0.002905  -0.002906  -0.002908  -0.002909  ...   -0.003014   \n",
       "1991-04-30   0.026673   0.026659   0.026646   0.026633  ...    0.025670   \n",
       "1991-05-31  -0.024413  -0.024425  -0.024437  -0.024450  ...   -0.025326   \n",
       "1991-06-28   0.027529   0.027515   0.027502   0.027488  ...    0.026494   \n",
       "1991-07-31  -0.002948  -0.002949  -0.002951  -0.002952  ...   -0.003058   \n",
       "\n",
       "            tc_4100_bp  tc_4150_bp  tc_4200_bp  tc_4250_bp  tc_4300_bp  \\\n",
       "Dates                                                                    \n",
       "1991-03-29   -0.003015   -0.003016   -0.003018   -0.003019   -0.003021   \n",
       "1991-04-30    0.025656    0.025643    0.025629    0.025616    0.025603   \n",
       "1991-05-31   -0.025338   -0.025350   -0.025362   -0.025375   -0.025387   \n",
       "1991-06-28    0.026480    0.026466    0.026452    0.026439    0.026425   \n",
       "1991-07-31   -0.003060   -0.003061   -0.003062   -0.003064   -0.003065   \n",
       "\n",
       "            tc_4350_bp  tc_4400_bp  tc_4450_bp  tc_4500_bp  \n",
       "Dates                                                       \n",
       "1991-03-29   -0.003022   -0.003024   -0.003025   -0.003027  \n",
       "1991-04-30    0.025589    0.025576    0.025563    0.025549  \n",
       "1991-05-31   -0.025399   -0.025411   -0.025423   -0.025435  \n",
       "1991-06-28    0.026411    0.026397    0.026383    0.026369  \n",
       "1991-07-31   -0.003067   -0.003068   -0.003070   -0.003071  \n",
       "\n",
       "[5 rows x 91 columns]"
      ]
     },
     "execution_count": 356,
     "metadata": {},
     "output_type": "execute_result"
    }
   ],
   "source": [
    "transaction_benchmark_df.head()"
   ]
  },
  {
   "cell_type": "markdown",
   "metadata": {},
   "source": [
    "### 4.4.2 Performance Evaluation"
   ]
  },
  {
   "cell_type": "markdown",
   "metadata": {},
   "source": [
    "### 4.4.2.1 Annualized Return"
   ]
  },
  {
   "cell_type": "code",
   "execution_count": 357,
   "metadata": {},
   "outputs": [],
   "source": [
    "tc_perf_df = pd.DataFrame([f'{i*50} bp' \n",
    "                           for i in range(0,len(transaction_cost))])\n",
    "tc_perf_df.columns=['transaction_cost']"
   ]
  },
  {
   "cell_type": "code",
   "execution_count": 358,
   "metadata": {},
   "outputs": [],
   "source": [
    "tc_return = []\n",
    "tc_bench_return = []\n",
    "for i in range(0,len(transaction_cost)):\n",
    "    string = f\"tc_return += [(((transaction_df\"\n",
    "    string += f\"['tc_{i*50}_bp'].values[200:]+1)\"\n",
    "    string += f'.prod()**(1/transaction_df[\"tc_'\n",
    "    string += f'{i*50}_bp\"].values[200:].shape[0]))-1) * 12]'\n",
    "    exec(string)\n",
    "    string2 = f\"tc_bench_return += [(((transaction_\"\n",
    "    string2 += f\"benchmark_df['tc_{i*50}_bp'].values[200:]+1)\"\n",
    "    string2 += f'.prod()**(1/transaction_benchmark_df'\n",
    "    string2 += f'[\"tc_{i*50}_bp\"].values[200:].shape[0]))-1) * 12]'\n",
    "    exec(string2)"
   ]
  },
  {
   "cell_type": "code",
   "execution_count": 359,
   "metadata": {},
   "outputs": [],
   "source": [
    "tc_perf_df['annual_return'] = tc_return\n",
    "tc_perf_df['annual_return_bench'] = tc_bench_return"
   ]
  },
  {
   "cell_type": "code",
   "execution_count": 360,
   "metadata": {},
   "outputs": [
    {
     "data": {
      "text/html": [
       "<div>\n",
       "<style scoped>\n",
       "    .dataframe tbody tr th:only-of-type {\n",
       "        vertical-align: middle;\n",
       "    }\n",
       "\n",
       "    .dataframe tbody tr th {\n",
       "        vertical-align: top;\n",
       "    }\n",
       "\n",
       "    .dataframe thead th {\n",
       "        text-align: right;\n",
       "    }\n",
       "</style>\n",
       "<table border=\"1\" class=\"dataframe\">\n",
       "  <thead>\n",
       "    <tr style=\"text-align: right;\">\n",
       "      <th></th>\n",
       "      <th>transaction_cost</th>\n",
       "      <th>annual_return</th>\n",
       "      <th>annual_return_bench</th>\n",
       "    </tr>\n",
       "  </thead>\n",
       "  <tbody>\n",
       "    <tr>\n",
       "      <th>0</th>\n",
       "      <td>0 bp</td>\n",
       "      <td>0.128599</td>\n",
       "      <td>0.082495</td>\n",
       "    </tr>\n",
       "    <tr>\n",
       "      <th>1</th>\n",
       "      <td>50 bp</td>\n",
       "      <td>0.128205</td>\n",
       "      <td>0.082196</td>\n",
       "    </tr>\n",
       "    <tr>\n",
       "      <th>2</th>\n",
       "      <td>100 bp</td>\n",
       "      <td>0.127812</td>\n",
       "      <td>0.081897</td>\n",
       "    </tr>\n",
       "    <tr>\n",
       "      <th>3</th>\n",
       "      <td>150 bp</td>\n",
       "      <td>0.127419</td>\n",
       "      <td>0.081598</td>\n",
       "    </tr>\n",
       "    <tr>\n",
       "      <th>4</th>\n",
       "      <td>200 bp</td>\n",
       "      <td>0.127025</td>\n",
       "      <td>0.081300</td>\n",
       "    </tr>\n",
       "  </tbody>\n",
       "</table>\n",
       "</div>"
      ],
      "text/plain": [
       "  transaction_cost  annual_return  annual_return_bench\n",
       "0             0 bp       0.128599             0.082495\n",
       "1            50 bp       0.128205             0.082196\n",
       "2           100 bp       0.127812             0.081897\n",
       "3           150 bp       0.127419             0.081598\n",
       "4           200 bp       0.127025             0.081300"
      ]
     },
     "execution_count": 360,
     "metadata": {},
     "output_type": "execute_result"
    }
   ],
   "source": [
    "tc_perf_df.head()"
   ]
  },
  {
   "cell_type": "markdown",
   "metadata": {},
   "source": [
    "### 4.4.2.2 Standard Deviation"
   ]
  },
  {
   "cell_type": "code",
   "execution_count": 361,
   "metadata": {},
   "outputs": [],
   "source": [
    "aug_str = '.values[200:].std(ddof=1)'\n",
    "tc_perf_df['std'] = [eval(f'transaction_df[\"tc_{i*50}_bp\"]'+aug_str)\n",
    "                            for i in range(0,len(transaction_cost))]"
   ]
  },
  {
   "cell_type": "code",
   "execution_count": 362,
   "metadata": {},
   "outputs": [],
   "source": [
    "tc_perf_df['std_bench'] = \\\n",
    "[eval(f'transaction_benchmark_df[\"tc_{i*50}_bp\"]'+aug_str)\n",
    "      for i in range(0,len(transaction_cost))]"
   ]
  },
  {
   "cell_type": "code",
   "execution_count": 363,
   "metadata": {},
   "outputs": [
    {
     "data": {
      "text/html": [
       "<div>\n",
       "<style scoped>\n",
       "    .dataframe tbody tr th:only-of-type {\n",
       "        vertical-align: middle;\n",
       "    }\n",
       "\n",
       "    .dataframe tbody tr th {\n",
       "        vertical-align: top;\n",
       "    }\n",
       "\n",
       "    .dataframe thead th {\n",
       "        text-align: right;\n",
       "    }\n",
       "</style>\n",
       "<table border=\"1\" class=\"dataframe\">\n",
       "  <thead>\n",
       "    <tr style=\"text-align: right;\">\n",
       "      <th></th>\n",
       "      <th>transaction_cost</th>\n",
       "      <th>std_bench</th>\n",
       "    </tr>\n",
       "  </thead>\n",
       "  <tbody>\n",
       "    <tr>\n",
       "      <th>0</th>\n",
       "      <td>0 bp</td>\n",
       "      <td>0.077234</td>\n",
       "    </tr>\n",
       "    <tr>\n",
       "      <th>1</th>\n",
       "      <td>50 bp</td>\n",
       "      <td>0.077230</td>\n",
       "    </tr>\n",
       "    <tr>\n",
       "      <th>2</th>\n",
       "      <td>100 bp</td>\n",
       "      <td>0.077226</td>\n",
       "    </tr>\n",
       "    <tr>\n",
       "      <th>3</th>\n",
       "      <td>150 bp</td>\n",
       "      <td>0.077221</td>\n",
       "    </tr>\n",
       "    <tr>\n",
       "      <th>4</th>\n",
       "      <td>200 bp</td>\n",
       "      <td>0.077217</td>\n",
       "    </tr>\n",
       "  </tbody>\n",
       "</table>\n",
       "</div>"
      ],
      "text/plain": [
       "  transaction_cost  std_bench\n",
       "0             0 bp   0.077234\n",
       "1            50 bp   0.077230\n",
       "2           100 bp   0.077226\n",
       "3           150 bp   0.077221\n",
       "4           200 bp   0.077217"
      ]
     },
     "execution_count": 363,
     "metadata": {},
     "output_type": "execute_result"
    }
   ],
   "source": [
    "tc_perf_df[['transaction_cost','std_bench']].head()"
   ]
  },
  {
   "cell_type": "markdown",
   "metadata": {},
   "source": [
    "### 4.4.2.3 Maximum Drawdown"
   ]
  },
  {
   "cell_type": "code",
   "execution_count": 452,
   "metadata": {},
   "outputs": [],
   "source": [
    "aug_str = '.values[200:]+1).cumprod().min()'\n",
    "tc_perf_df['max_drawdown'] = \\\n",
    "[eval(f'1-(transaction_df[\"tc_{i*50}_bp\"]'+aug_str)\n",
    "      for i in range(0,len(transaction_cost))]"
   ]
  },
  {
   "cell_type": "code",
   "execution_count": 453,
   "metadata": {},
   "outputs": [],
   "source": [
    "tc_perf_df['max_drawdown_bench'] = \\\n",
    "[eval(f'1-(transaction_benchmark_df[\"tc_{i*50}_bp\"]'+aug_str)\n",
    "      for i in range(0,len(transaction_cost))]"
   ]
  },
  {
   "cell_type": "code",
   "execution_count": 454,
   "metadata": {},
   "outputs": [
    {
     "data": {
      "text/html": [
       "<div>\n",
       "<style scoped>\n",
       "    .dataframe tbody tr th:only-of-type {\n",
       "        vertical-align: middle;\n",
       "    }\n",
       "\n",
       "    .dataframe tbody tr th {\n",
       "        vertical-align: top;\n",
       "    }\n",
       "\n",
       "    .dataframe thead th {\n",
       "        text-align: right;\n",
       "    }\n",
       "</style>\n",
       "<table border=\"1\" class=\"dataframe\">\n",
       "  <thead>\n",
       "    <tr style=\"text-align: right;\">\n",
       "      <th></th>\n",
       "      <th>transaction_cost</th>\n",
       "      <th>max_drawdown</th>\n",
       "      <th>max_drawdown_bench</th>\n",
       "    </tr>\n",
       "  </thead>\n",
       "  <tbody>\n",
       "    <tr>\n",
       "      <th>0</th>\n",
       "      <td>0 bp</td>\n",
       "      <td>0.521838</td>\n",
       "      <td>0.414625</td>\n",
       "    </tr>\n",
       "    <tr>\n",
       "      <th>1</th>\n",
       "      <td>50 bp</td>\n",
       "      <td>0.522094</td>\n",
       "      <td>0.414861</td>\n",
       "    </tr>\n",
       "    <tr>\n",
       "      <th>2</th>\n",
       "      <td>100 bp</td>\n",
       "      <td>0.522350</td>\n",
       "      <td>0.415096</td>\n",
       "    </tr>\n",
       "    <tr>\n",
       "      <th>3</th>\n",
       "      <td>150 bp</td>\n",
       "      <td>0.522606</td>\n",
       "      <td>0.415332</td>\n",
       "    </tr>\n",
       "    <tr>\n",
       "      <th>4</th>\n",
       "      <td>200 bp</td>\n",
       "      <td>0.522861</td>\n",
       "      <td>0.415567</td>\n",
       "    </tr>\n",
       "  </tbody>\n",
       "</table>\n",
       "</div>"
      ],
      "text/plain": [
       "  transaction_cost  max_drawdown  max_drawdown_bench\n",
       "0             0 bp      0.521838            0.414625\n",
       "1            50 bp      0.522094            0.414861\n",
       "2           100 bp      0.522350            0.415096\n",
       "3           150 bp      0.522606            0.415332\n",
       "4           200 bp      0.522861            0.415567"
      ]
     },
     "execution_count": 454,
     "metadata": {},
     "output_type": "execute_result"
    }
   ],
   "source": [
    "tc_perf_df[['transaction_cost','max_drawdown',\\\n",
    "            'max_drawdown_bench']].head()"
   ]
  },
  {
   "cell_type": "markdown",
   "metadata": {},
   "source": [
    "### 4.4.2.4 Calmar Ratio"
   ]
  },
  {
   "cell_type": "code",
   "execution_count": 455,
   "metadata": {},
   "outputs": [],
   "source": [
    "tc_perf_df['calmar'] =\\\n",
    "    tc_perf_df['annual_return'].values/ \\\n",
    "    tc_perf_df['max_drawdown'].values"
   ]
  },
  {
   "cell_type": "code",
   "execution_count": 456,
   "metadata": {},
   "outputs": [],
   "source": [
    "tc_perf_df['calmar_bench'] = \\\n",
    "    tc_perf_df['annual_return_bench'].values/ \\\n",
    "    tc_perf_df['max_drawdown_bench'].values"
   ]
  },
  {
   "cell_type": "code",
   "execution_count": 457,
   "metadata": {},
   "outputs": [
    {
     "data": {
      "text/html": [
       "<div>\n",
       "<style scoped>\n",
       "    .dataframe tbody tr th:only-of-type {\n",
       "        vertical-align: middle;\n",
       "    }\n",
       "\n",
       "    .dataframe tbody tr th {\n",
       "        vertical-align: top;\n",
       "    }\n",
       "\n",
       "    .dataframe thead th {\n",
       "        text-align: right;\n",
       "    }\n",
       "</style>\n",
       "<table border=\"1\" class=\"dataframe\">\n",
       "  <thead>\n",
       "    <tr style=\"text-align: right;\">\n",
       "      <th></th>\n",
       "      <th>transaction_cost</th>\n",
       "      <th>calmar</th>\n",
       "      <th>calmar_bench</th>\n",
       "    </tr>\n",
       "  </thead>\n",
       "  <tbody>\n",
       "    <tr>\n",
       "      <th>0</th>\n",
       "      <td>0 bp</td>\n",
       "      <td>0.246434</td>\n",
       "      <td>0.198963</td>\n",
       "    </tr>\n",
       "    <tr>\n",
       "      <th>1</th>\n",
       "      <td>50 bp</td>\n",
       "      <td>0.245560</td>\n",
       "      <td>0.198129</td>\n",
       "    </tr>\n",
       "    <tr>\n",
       "      <th>2</th>\n",
       "      <td>100 bp</td>\n",
       "      <td>0.244686</td>\n",
       "      <td>0.197297</td>\n",
       "    </tr>\n",
       "    <tr>\n",
       "      <th>3</th>\n",
       "      <td>150 bp</td>\n",
       "      <td>0.243814</td>\n",
       "      <td>0.196466</td>\n",
       "    </tr>\n",
       "    <tr>\n",
       "      <th>4</th>\n",
       "      <td>200 bp</td>\n",
       "      <td>0.242943</td>\n",
       "      <td>0.195635</td>\n",
       "    </tr>\n",
       "  </tbody>\n",
       "</table>\n",
       "</div>"
      ],
      "text/plain": [
       "  transaction_cost    calmar  calmar_bench\n",
       "0             0 bp  0.246434      0.198963\n",
       "1            50 bp  0.245560      0.198129\n",
       "2           100 bp  0.244686      0.197297\n",
       "3           150 bp  0.243814      0.196466\n",
       "4           200 bp  0.242943      0.195635"
      ]
     },
     "execution_count": 457,
     "metadata": {},
     "output_type": "execute_result"
    }
   ],
   "source": [
    "tc_perf_df[['transaction_cost','calmar','calmar_bench']].head()"
   ]
  },
  {
   "cell_type": "markdown",
   "metadata": {},
   "source": [
    "### 4.4.2.5 Average Excess Return"
   ]
  },
  {
   "cell_type": "code",
   "execution_count": 458,
   "metadata": {},
   "outputs": [],
   "source": [
    "tc_perf_df['avg_excess_return'] =\\\n",
    "tc_perf_df['annual_return'] - tc_perf_df['annual_return_bench']"
   ]
  },
  {
   "cell_type": "code",
   "execution_count": 459,
   "metadata": {},
   "outputs": [
    {
     "data": {
      "text/html": [
       "<div>\n",
       "<style scoped>\n",
       "    .dataframe tbody tr th:only-of-type {\n",
       "        vertical-align: middle;\n",
       "    }\n",
       "\n",
       "    .dataframe tbody tr th {\n",
       "        vertical-align: top;\n",
       "    }\n",
       "\n",
       "    .dataframe thead th {\n",
       "        text-align: right;\n",
       "    }\n",
       "</style>\n",
       "<table border=\"1\" class=\"dataframe\">\n",
       "  <thead>\n",
       "    <tr style=\"text-align: right;\">\n",
       "      <th></th>\n",
       "      <th>transaction_cost</th>\n",
       "      <th>avg_excess_return</th>\n",
       "    </tr>\n",
       "  </thead>\n",
       "  <tbody>\n",
       "    <tr>\n",
       "      <th>0</th>\n",
       "      <td>0 bp</td>\n",
       "      <td>0.046104</td>\n",
       "    </tr>\n",
       "    <tr>\n",
       "      <th>1</th>\n",
       "      <td>50 bp</td>\n",
       "      <td>0.046009</td>\n",
       "    </tr>\n",
       "    <tr>\n",
       "      <th>2</th>\n",
       "      <td>100 bp</td>\n",
       "      <td>0.045915</td>\n",
       "    </tr>\n",
       "    <tr>\n",
       "      <th>3</th>\n",
       "      <td>150 bp</td>\n",
       "      <td>0.045820</td>\n",
       "    </tr>\n",
       "    <tr>\n",
       "      <th>4</th>\n",
       "      <td>200 bp</td>\n",
       "      <td>0.045726</td>\n",
       "    </tr>\n",
       "  </tbody>\n",
       "</table>\n",
       "</div>"
      ],
      "text/plain": [
       "  transaction_cost  avg_excess_return\n",
       "0             0 bp           0.046104\n",
       "1            50 bp           0.046009\n",
       "2           100 bp           0.045915\n",
       "3           150 bp           0.045820\n",
       "4           200 bp           0.045726"
      ]
     },
     "execution_count": 459,
     "metadata": {},
     "output_type": "execute_result"
    }
   ],
   "source": [
    "tc_perf_df[['transaction_cost','avg_excess_return']].head()"
   ]
  },
  {
   "cell_type": "markdown",
   "metadata": {},
   "source": [
    "### 4.4.2.6 Tracking Error"
   ]
  },
  {
   "cell_type": "code",
   "execution_count": 460,
   "metadata": {},
   "outputs": [],
   "source": [
    "string = f'(transaction_df[\"tc_{i*50}_bp\"].values[200:] '\n",
    "string += f'- transaction_benchmark_df[\"tc_{i*50}_bp\"]'\n",
    "string += '.values[200:]).std(ddof=1)*np.sqrt(12)'\n",
    "tc_perf_df['tracking_error'] = \\\n",
    "[eval(string) for i in range(0,len(transaction_cost))]"
   ]
  },
  {
   "cell_type": "code",
   "execution_count": 461,
   "metadata": {},
   "outputs": [
    {
     "data": {
      "text/html": [
       "<div>\n",
       "<style scoped>\n",
       "    .dataframe tbody tr th:only-of-type {\n",
       "        vertical-align: middle;\n",
       "    }\n",
       "\n",
       "    .dataframe tbody tr th {\n",
       "        vertical-align: top;\n",
       "    }\n",
       "\n",
       "    .dataframe thead th {\n",
       "        text-align: right;\n",
       "    }\n",
       "</style>\n",
       "<table border=\"1\" class=\"dataframe\">\n",
       "  <thead>\n",
       "    <tr style=\"text-align: right;\">\n",
       "      <th></th>\n",
       "      <th>transaction_cost</th>\n",
       "      <th>tracking_error</th>\n",
       "    </tr>\n",
       "  </thead>\n",
       "  <tbody>\n",
       "    <tr>\n",
       "      <th>0</th>\n",
       "      <td>0 bp</td>\n",
       "      <td>0.30494</td>\n",
       "    </tr>\n",
       "    <tr>\n",
       "      <th>1</th>\n",
       "      <td>50 bp</td>\n",
       "      <td>0.30494</td>\n",
       "    </tr>\n",
       "    <tr>\n",
       "      <th>2</th>\n",
       "      <td>100 bp</td>\n",
       "      <td>0.30494</td>\n",
       "    </tr>\n",
       "    <tr>\n",
       "      <th>3</th>\n",
       "      <td>150 bp</td>\n",
       "      <td>0.30494</td>\n",
       "    </tr>\n",
       "    <tr>\n",
       "      <th>4</th>\n",
       "      <td>200 bp</td>\n",
       "      <td>0.30494</td>\n",
       "    </tr>\n",
       "  </tbody>\n",
       "</table>\n",
       "</div>"
      ],
      "text/plain": [
       "  transaction_cost  tracking_error\n",
       "0             0 bp         0.30494\n",
       "1            50 bp         0.30494\n",
       "2           100 bp         0.30494\n",
       "3           150 bp         0.30494\n",
       "4           200 bp         0.30494"
      ]
     },
     "execution_count": 461,
     "metadata": {},
     "output_type": "execute_result"
    }
   ],
   "source": [
    "tc_perf_df[['transaction_cost','tracking_error']].head()"
   ]
  },
  {
   "cell_type": "markdown",
   "metadata": {},
   "source": [
    "### 4.4.2.7 Information Ratio"
   ]
  },
  {
   "cell_type": "code",
   "execution_count": 462,
   "metadata": {},
   "outputs": [],
   "source": [
    "tc_perf_df['IR'] = \\\n",
    "    tc_perf_df['avg_excess_return'].values/ \\\n",
    "    tc_perf_df['tracking_error'].values"
   ]
  },
  {
   "cell_type": "code",
   "execution_count": 463,
   "metadata": {},
   "outputs": [
    {
     "data": {
      "text/html": [
       "<div>\n",
       "<style scoped>\n",
       "    .dataframe tbody tr th:only-of-type {\n",
       "        vertical-align: middle;\n",
       "    }\n",
       "\n",
       "    .dataframe tbody tr th {\n",
       "        vertical-align: top;\n",
       "    }\n",
       "\n",
       "    .dataframe thead th {\n",
       "        text-align: right;\n",
       "    }\n",
       "</style>\n",
       "<table border=\"1\" class=\"dataframe\">\n",
       "  <thead>\n",
       "    <tr style=\"text-align: right;\">\n",
       "      <th></th>\n",
       "      <th>transaction_cost</th>\n",
       "      <th>IR</th>\n",
       "    </tr>\n",
       "  </thead>\n",
       "  <tbody>\n",
       "    <tr>\n",
       "      <th>0</th>\n",
       "      <td>0 bp</td>\n",
       "      <td>0.151189</td>\n",
       "    </tr>\n",
       "    <tr>\n",
       "      <th>1</th>\n",
       "      <td>50 bp</td>\n",
       "      <td>0.150879</td>\n",
       "    </tr>\n",
       "    <tr>\n",
       "      <th>2</th>\n",
       "      <td>100 bp</td>\n",
       "      <td>0.150569</td>\n",
       "    </tr>\n",
       "    <tr>\n",
       "      <th>3</th>\n",
       "      <td>150 bp</td>\n",
       "      <td>0.150260</td>\n",
       "    </tr>\n",
       "    <tr>\n",
       "      <th>4</th>\n",
       "      <td>200 bp</td>\n",
       "      <td>0.149950</td>\n",
       "    </tr>\n",
       "  </tbody>\n",
       "</table>\n",
       "</div>"
      ],
      "text/plain": [
       "  transaction_cost        IR\n",
       "0             0 bp  0.151189\n",
       "1            50 bp  0.150879\n",
       "2           100 bp  0.150569\n",
       "3           150 bp  0.150260\n",
       "4           200 bp  0.149950"
      ]
     },
     "execution_count": 463,
     "metadata": {},
     "output_type": "execute_result"
    }
   ],
   "source": [
    "tc_perf_df[['transaction_cost','IR']].head()"
   ]
  },
  {
   "cell_type": "markdown",
   "metadata": {},
   "source": [
    "### 4.4.2.7 CER Gain"
   ]
  },
  {
   "cell_type": "code",
   "execution_count": 464,
   "metadata": {},
   "outputs": [],
   "source": [
    "cer_gain=[]\n",
    "for i in range(transaction_df.shape[1]):\n",
    "    string = f'transaction_df[\"tc_{i*50}_bp\"].values[200:]'\n",
    "    string2=f'transaction_benchmark_df[\"tc_{i*50}_bp\"].values[200:]'\n",
    "    exec(f'U_bar_tc = (-(1+{string})**(-1)).mean()')\n",
    "    exec(f'U_bar_bench_tc = (-(1+ {string2})**(-1)).mean()')\n",
    "    CER_actual_tc = ((-U_bar_tc)**(-1) -1)*12\n",
    "    CER_bench_tc = ((-U_bar_bench_tc)**(-1) -1)*12\n",
    "    cer_gain += [CER_actual_tc-CER_bench_tc]\n",
    "tc_perf_df['CER_gain'] = cer_gain"
   ]
  },
  {
   "cell_type": "markdown",
   "metadata": {},
   "source": [
    "### 4.4.3 Plot"
   ]
  },
  {
   "cell_type": "code",
   "execution_count": 465,
   "metadata": {},
   "outputs": [
    {
     "data": {
      "text/plain": [
       "<matplotlib.legend.Legend at 0x11589dd68>"
      ]
     },
     "execution_count": 465,
     "metadata": {},
     "output_type": "execute_result"
    },
    {
     "data": {
      "image/png": "[encoded data removed]",
      "text/plain": [
       "<Figure size 432x288 with 1 Axes>"
      ]
     },
     "metadata": {
      "needs_background": "light"
     },
     "output_type": "display_data"
    }
   ],
   "source": [
    "plt.plot('transaction_cost','IR',data=tc_perf_df)\n",
    "plt.title('Information Ratio vs transaction cost')\n",
    "plt.xticks(np.arange(0,90,10),rotation=30)\n",
    "plt.legend()"
   ]
  },
  {
   "cell_type": "code",
   "execution_count": 466,
   "metadata": {},
   "outputs": [
    {
     "data": {
      "text/plain": [
       "<matplotlib.legend.Legend at 0x1156a5e10>"
      ]
     },
     "execution_count": 466,
     "metadata": {},
     "output_type": "execute_result"
    },
    {
     "data": {
      "image/png": "[encoded data removed]",
      "text/plain": [
       "<Figure size 432x288 with 1 Axes>"
      ]
     },
     "metadata": {
      "needs_background": "light"
     },
     "output_type": "display_data"
    }
   ],
   "source": [
    "plt.plot('transaction_cost','calmar',data=tc_perf_df)\n",
    "plt.plot('transaction_cost','calmar_bench',data=tc_perf_df)\n",
    "plt.title('Calmar Ratio vs transaction cost')\n",
    "plt.xticks(np.arange(0,90,10),rotation=30)\n",
    "plt.legend()"
   ]
  },
  {
   "cell_type": "code",
   "execution_count": 467,
   "metadata": {},
   "outputs": [
    {
     "data": {
      "text/plain": [
       "<matplotlib.legend.Legend at 0x11548fd68>"
      ]
     },
     "execution_count": 467,
     "metadata": {},
     "output_type": "execute_result"
    },
    {
     "data": {
      "image/png": "[encoded data removed]",
      "text/plain": [
       "<Figure size 432x288 with 1 Axes>"
      ]
     },
     "metadata": {
      "needs_background": "light"
     },
     "output_type": "display_data"
    }
   ],
   "source": [
    "plt.plot('transaction_cost','CER_gain',data=tc_perf_df)\n",
    "plt.title('CER Gain vs transaction cost')\n",
    "plt.xticks(np.arange(0,90,10),rotation=30)\n",
    "plt.legend()"
   ]
  },
  {
   "cell_type": "markdown",
   "metadata": {},
   "source": [
    "### 5. Data Export"
   ]
  },
  {
   "cell_type": "markdown",
   "metadata": {},
   "source": [
    "Exporting data to csv"
   ]
  },
  {
   "cell_type": "code",
   "execution_count": 378,
   "metadata": {},
   "outputs": [],
   "source": [
    "weights_df = pd.DataFrame(w)\n",
    "weights_df['Dates'] = processed_df['Dates']\n",
    "weights_df.columns = ['w_stock','w_bond','w_bill','Dates']\n",
    "weights_df.to_csv('weight.csv')"
   ]
  }
 ],
 "metadata": {
  "kernelspec": {
   "display_name": "Python 3",
   "language": "python",
   "name": "python3"
  },
  "language_info": {
   "codemirror_mode": {
    "name": "ipython",
    "version": 3
   },
   "file_extension": ".py",
   "mimetype": "text/x-python",
   "name": "python",
   "nbconvert_exporter": "python",
   "pygments_lexer": "ipython3",
   "version": "3.7.2"
  }
 },
 "nbformat": 4,
 "nbformat_minor": 2
}
