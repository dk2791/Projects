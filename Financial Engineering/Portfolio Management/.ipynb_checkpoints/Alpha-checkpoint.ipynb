{
 "cells": [
  {
   "cell_type": "markdown",
   "metadata": {},
   "source": [
    "Alpha#1:"
   ]
  },
  {
   "cell_type": "code",
   "execution_count": null,
   "metadata": {},
   "outputs": [],
   "source": [
    "(rank(Ts_ArgMax(SignedPower(((returns < 0) ? stddev(returns, 20) : close), 2.), 5)) - 0.5)"
   ]
  },
  {
   "cell_type": "code",
   "execution_count": null,
   "metadata": {},
   "outputs": [],
   "source": []
  },
  {
   "cell_type": "code",
   "execution_count": null,
   "metadata": {},
   "outputs": [],
   "source": []
  },
  {
   "cell_type": "code",
   "execution_count": null,
   "metadata": {},
   "outputs": [],
   "source": []
  },
  {
   "cell_type": "code",
   "execution_count": null,
   "metadata": {},
   "outputs": [],
   "source": []
  },
  {
   "cell_type": "code",
   "execution_count": null,
   "metadata": {},
   "outputs": [],
   "source": [
    "Alpha#1: (rank(Ts_ArgMax(SignedPower(((returns < 0) ?\n",
    "stddev(returns, 20) : close), 2.), 5)) - 0.5)\n",
    "Alpha#2: (-1 * correlation(rank(delta(log(volume), 2)),\n",
    "rank(((close - open) / open)), 6))\n",
    "Alpha#3: (-1 * correlation(rank(open), rank(volume),\n",
    "10))\n",
    "Alpha#4: (-1 * Ts_Rank(rank(low), 9))\n",
    "Alpha#5: (rank((open - (sum(vwap, 10) / 10))) * (-1 *\n",
    "abs(rank((close - vwap)))))\n",
    "Alpha#6: (-1 * correlation(open, volume, 10))\n",
    "Alpha#7: ((adv20 < volume) ? ((-1 *\n",
    "ts_rank(abs(delta(close, 7)), 60)) * sign(delta(close,\n",
    "7))) : (-1 * 1))\n",
    "Alpha#8: (-1 * rank(((sum(open, 5) * sum(returns, 5)) -\n",
    "delay((sum(open, 5) * sum(returns, 5)), 10))))\n",
    "Alpha#9: ((0 < ts_min(delta(close, 1), 5)) ? delta(close,\n",
    "1) : ((ts_max(delta(close, 1), 5) < 0) ? delta(close, 1)\n",
    ": (-1 * delta(close, 1))))\n",
    "Alpha#10: rank(((0 < ts_min(delta(close, 1), 4)) ?\n",
    "delta(close, 1) : ((ts_max(delta(close, 1), 4) < 0) ?\n",
    "delta(close, 1) : (-1 * delta(close, 1)))))\n",
    "Alpha#11: ((rank(ts_max((vwap - close), 3)) + rank\n",
    "(ts_min((vwap - close), 3))) * rank(delta(volume, 3)))\n",
    "Alpha#12: (sign(delta(volume, 1)) * (-1 * delta(close,\n",
    "1)))\n",
    "Alpha#13: (-1 * rank(covariance(rank(close),\n",
    "rank(volume), 5)))\n",
    "Alpha#14: ((-1 * rank(delta(returns, 3))) *\n",
    "correlation(open, volume, 10))\n",
    "Alpha#15: (-1 * sum(rank(correlation(rank(high),\n",
    "rank(volume), 3)), 3))\n",
    "Alpha#16: (-1 * rank(covariance(rank(high),\n",
    "rank(volume), 5)))\n",
    "Alpha#17: (((-1 * rank(ts_rank(close, 10))) *\n",
    "rank(delta(delta(close, 1), 1))) * rank(ts_rank((volume\n",
    "/ adv20), 5)))\n",
    "Alpha#18: (-1 * rank(((stddev(abs((close - open)), 5) +\n",
    "(close - open)) + correlation(close, open, 10))))\n",
    "Alpha#19: ((-1 * sign(((close - delay(close, 7)) +\n",
    "delta(close, 7)))) * (1 + rank((1 + sum(returns, 250)))))\n",
    "Alpha#20: (((-1 * rank((open - delay(high, 1)))) *\n",
    "rank((open - delay(close, 1)))) * rank((open - delay(low,\n",
    "1))))\n",
    "Alpha#21: ((((sum(close, 8) / 8) + stddev(close, 8)) <\n",
    "(sum(close, 2) / 2)) ? (-1 * 1) : (((sum(close, 2) / 2)\n",
    "< ((sum(close, 8) / 8) - stddev(close, 8))) ? 1 : (((1 <\n",
    "(volume / adv20)) || ((volume / adv20) == 1)) ? 1 : (-1 *\n",
    "1))))\n",
    "Alpha#22: (-1 * (delta(correlation(high, volume, 5), 5) *\n",
    "rank(stddev(close, 20))))\n",
    "Alpha#23: (((sum(high, 20) / 20) < high) ? (-1 *\n",
    "delta(high, 2)) : 0)\n",
    "Alpha#24: ((((delta((sum(close, 100) / 100), 100) /\n",
    "delay(close, 100)) < 0.05) || ((delta((sum(close, 100) /\n",
    "100), 100) / delay(close, 100)) == 0.05)) ? (-1 * (close -\n",
    "ts_min(close, 100))) : (-1 * delta(close, 3)))\n",
    "Alpha#25: rank(((((-1 * returns) * adv20) * vwap) * (high\n",
    "- close)))"
   ]
  }
 ],
 "metadata": {
  "kernelspec": {
   "display_name": "Python 3",
   "language": "python",
   "name": "python3"
  },
  "language_info": {
   "codemirror_mode": {
    "name": "ipython",
    "version": 3
   },
   "file_extension": ".py",
   "mimetype": "text/x-python",
   "name": "python",
   "nbconvert_exporter": "python",
   "pygments_lexer": "ipython3",
   "version": "3.7.7"
  }
 },
 "nbformat": 4,
 "nbformat_minor": 4
}
