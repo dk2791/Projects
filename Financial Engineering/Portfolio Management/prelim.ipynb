{
 "cells": [
  {
   "cell_type": "markdown",
   "metadata": {},
   "source": [
    "# Implementation Exercise: Work in Progress\n",
    "### _Return Predictability and Dynamic Asset Allocation: How Often Should Investors Rebalance?_\n",
    "by _Himanshu Almadi, David E. Rapach, and Anil Suri_"
   ]
  },
  {
   "cell_type": "markdown",
   "metadata": {},
   "source": [
    "## 1. Processing data from Bloomberg Terminal"
   ]
  },
  {
   "cell_type": "code",
   "execution_count": 818,
   "metadata": {},
   "outputs": [],
   "source": [
    "import pandas as pd\n",
    "import numpy as np\n",
    "import matplotlib.pyplot as plt"
   ]
  },
  {
   "cell_type": "code",
   "execution_count": 1717,
   "metadata": {},
   "outputs": [],
   "source": [
    "def process_xlsx(filename,filetype = 'Bloomberg'):\n",
    "    \"\"\"\n",
    "    process .xlsx files downloaded from Bloomberg and Factset\n",
    "    \"\"\"\n",
    "    if filetype == 'Bloomberg':\n",
    "        df = pd.read_excel(filename,header=5)\n",
    "        df.rename(columns = {'Unnamed: 0':'dates'},inplace=True)\n",
    "        df.loc[:,'Dates']=pd.to_datetime(other_df['Dates'])\n",
    "    if filetype == 'Bonds':\n",
    "        df = pd.read_excel(filename,header=3,parser='Date')\n",
    "    if filetype == 'Bills':\n",
    "        df = pd.read_excel(filename,header=20,parser='Date')\n",
    "    return df.reset_index(drop=True)"
   ]
  },
  {
   "cell_type": "code",
   "execution_count": 820,
   "metadata": {},
   "outputs": [
    {
     "data": {
      "text/html": [
       "<div>\n",
       "<style scoped>\n",
       "    .dataframe tbody tr th:only-of-type {\n",
       "        vertical-align: middle;\n",
       "    }\n",
       "\n",
       "    .dataframe tbody tr th {\n",
       "        vertical-align: top;\n",
       "    }\n",
       "\n",
       "    .dataframe thead th {\n",
       "        text-align: right;\n",
       "    }\n",
       "</style>\n",
       "<table border=\"1\" class=\"dataframe\">\n",
       "  <thead>\n",
       "    <tr style=\"text-align: right;\">\n",
       "      <th></th>\n",
       "      <th>Dates</th>\n",
       "      <th>SPX Index</th>\n",
       "      <th>SPXDIV Index</th>\n",
       "      <th>CPI INDX Index</th>\n",
       "      <th>CT10 Govt</th>\n",
       "      <th>CB3 Govt</th>\n",
       "      <th>MOODCBAA Index</th>\n",
       "      <th>MOODCAAA Index</th>\n",
       "      <th>IP Index</th>\n",
       "    </tr>\n",
       "  </thead>\n",
       "  <tbody>\n",
       "    <tr>\n",
       "      <th>0</th>\n",
       "      <td>NaT</td>\n",
       "      <td>329.08</td>\n",
       "      <td>NaN</td>\n",
       "      <td>NaN</td>\n",
       "      <td>NaN</td>\n",
       "      <td>NaN</td>\n",
       "      <td>NaN</td>\n",
       "      <td>NaN</td>\n",
       "      <td>NaN</td>\n",
       "    </tr>\n",
       "    <tr>\n",
       "      <th>1</th>\n",
       "      <td>1990-02-28</td>\n",
       "      <td>331.89</td>\n",
       "      <td>NaN</td>\n",
       "      <td>128.0</td>\n",
       "      <td>NaN</td>\n",
       "      <td>NaN</td>\n",
       "      <td>10.14</td>\n",
       "      <td>9.22</td>\n",
       "      <td>64.0446</td>\n",
       "    </tr>\n",
       "    <tr>\n",
       "      <th>2</th>\n",
       "      <td>1990-03-30</td>\n",
       "      <td>339.94</td>\n",
       "      <td>0.31</td>\n",
       "      <td>128.6</td>\n",
       "      <td>NaN</td>\n",
       "      <td>NaN</td>\n",
       "      <td>10.21</td>\n",
       "      <td>9.37</td>\n",
       "      <td>64.3580</td>\n",
       "    </tr>\n",
       "    <tr>\n",
       "      <th>3</th>\n",
       "      <td>1990-04-30</td>\n",
       "      <td>330.80</td>\n",
       "      <td>0.98</td>\n",
       "      <td>128.9</td>\n",
       "      <td>NaN</td>\n",
       "      <td>NaN</td>\n",
       "      <td>10.30</td>\n",
       "      <td>9.46</td>\n",
       "      <td>64.2602</td>\n",
       "    </tr>\n",
       "    <tr>\n",
       "      <th>4</th>\n",
       "      <td>1990-05-31</td>\n",
       "      <td>361.23</td>\n",
       "      <td>2.74</td>\n",
       "      <td>129.1</td>\n",
       "      <td>NaN</td>\n",
       "      <td>NaN</td>\n",
       "      <td>10.41</td>\n",
       "      <td>9.47</td>\n",
       "      <td>64.3973</td>\n",
       "    </tr>\n",
       "  </tbody>\n",
       "</table>\n",
       "</div>"
      ],
      "text/plain": [
       "       Dates  SPX Index  SPXDIV Index  CPI INDX Index  CT10 Govt  CB3 Govt  \\\n",
       "0        NaT     329.08           NaN             NaN        NaN       NaN   \n",
       "1 1990-02-28     331.89           NaN           128.0        NaN       NaN   \n",
       "2 1990-03-30     339.94          0.31           128.6        NaN       NaN   \n",
       "3 1990-04-30     330.80          0.98           128.9        NaN       NaN   \n",
       "4 1990-05-31     361.23          2.74           129.1        NaN       NaN   \n",
       "\n",
       "   MOODCBAA Index  MOODCAAA Index  IP Index  \n",
       "0             NaN             NaN       NaN  \n",
       "1           10.14            9.22   64.0446  \n",
       "2           10.21            9.37   64.3580  \n",
       "3           10.30            9.46   64.2602  \n",
       "4           10.41            9.47   64.3973  "
      ]
     },
     "execution_count": 820,
     "metadata": {},
     "output_type": "execute_result"
    }
   ],
   "source": [
    "other_df = process_xlsx('others.xlsx')\n",
    "other_df.head(5)"
   ]
  },
  {
   "cell_type": "code",
   "execution_count": 821,
   "metadata": {},
   "outputs": [
    {
     "data": {
      "text/html": [
       "<div>\n",
       "<style scoped>\n",
       "    .dataframe tbody tr th:only-of-type {\n",
       "        vertical-align: middle;\n",
       "    }\n",
       "\n",
       "    .dataframe tbody tr th {\n",
       "        vertical-align: top;\n",
       "    }\n",
       "\n",
       "    .dataframe thead th {\n",
       "        text-align: right;\n",
       "    }\n",
       "</style>\n",
       "<table border=\"1\" class=\"dataframe\">\n",
       "  <thead>\n",
       "    <tr style=\"text-align: right;\">\n",
       "      <th></th>\n",
       "      <th>Dates</th>\n",
       "      <th>USGG3M Index</th>\n",
       "      <th>USGG10YR Index</th>\n",
       "    </tr>\n",
       "  </thead>\n",
       "  <tbody>\n",
       "    <tr>\n",
       "      <th>0</th>\n",
       "      <td>NaT</td>\n",
       "      <td>8.009</td>\n",
       "      <td>NaN</td>\n",
       "    </tr>\n",
       "    <tr>\n",
       "      <th>1</th>\n",
       "      <td>1990-02-28</td>\n",
       "      <td>8.030</td>\n",
       "      <td>8.515</td>\n",
       "    </tr>\n",
       "    <tr>\n",
       "      <th>2</th>\n",
       "      <td>1990-03-30</td>\n",
       "      <td>8.044</td>\n",
       "      <td>8.628</td>\n",
       "    </tr>\n",
       "    <tr>\n",
       "      <th>3</th>\n",
       "      <td>1990-04-30</td>\n",
       "      <td>8.032</td>\n",
       "      <td>9.022</td>\n",
       "    </tr>\n",
       "    <tr>\n",
       "      <th>4</th>\n",
       "      <td>1990-05-31</td>\n",
       "      <td>8.018</td>\n",
       "      <td>8.599</td>\n",
       "    </tr>\n",
       "  </tbody>\n",
       "</table>\n",
       "</div>"
      ],
      "text/plain": [
       "       Dates  USGG3M Index  USGG10YR Index\n",
       "0        NaT         8.009             NaN\n",
       "1 1990-02-28         8.030           8.515\n",
       "2 1990-03-30         8.044           8.628\n",
       "3 1990-04-30         8.032           9.022\n",
       "4 1990-05-31         8.018           8.599"
      ]
     },
     "execution_count": 821,
     "metadata": {},
     "output_type": "execute_result"
    }
   ],
   "source": [
    "bonds_df = process_xlsx('bonds.xlsx')\n",
    "bonds_df.head(5)"
   ]
  },
  {
   "cell_type": "code",
   "execution_count": 822,
   "metadata": {},
   "outputs": [],
   "source": [
    "df = pd.DataFrame(bonds_df['Dates'])"
   ]
  },
  {
   "cell_type": "code",
   "execution_count": 823,
   "metadata": {},
   "outputs": [
    {
     "data": {
      "text/html": [
       "<div>\n",
       "<style scoped>\n",
       "    .dataframe tbody tr th:only-of-type {\n",
       "        vertical-align: middle;\n",
       "    }\n",
       "\n",
       "    .dataframe tbody tr th {\n",
       "        vertical-align: top;\n",
       "    }\n",
       "\n",
       "    .dataframe thead th {\n",
       "        text-align: right;\n",
       "    }\n",
       "</style>\n",
       "<table border=\"1\" class=\"dataframe\">\n",
       "  <thead>\n",
       "    <tr style=\"text-align: right;\">\n",
       "      <th></th>\n",
       "      <th>Dates</th>\n",
       "    </tr>\n",
       "  </thead>\n",
       "  <tbody>\n",
       "    <tr>\n",
       "      <th>0</th>\n",
       "      <td>NaT</td>\n",
       "    </tr>\n",
       "    <tr>\n",
       "      <th>1</th>\n",
       "      <td>1990-02-28</td>\n",
       "    </tr>\n",
       "    <tr>\n",
       "      <th>2</th>\n",
       "      <td>1990-03-30</td>\n",
       "    </tr>\n",
       "    <tr>\n",
       "      <th>3</th>\n",
       "      <td>1990-04-30</td>\n",
       "    </tr>\n",
       "    <tr>\n",
       "      <th>4</th>\n",
       "      <td>1990-05-31</td>\n",
       "    </tr>\n",
       "  </tbody>\n",
       "</table>\n",
       "</div>"
      ],
      "text/plain": [
       "       Dates\n",
       "0        NaT\n",
       "1 1990-02-28\n",
       "2 1990-03-30\n",
       "3 1990-04-30\n",
       "4 1990-05-31"
      ]
     },
     "execution_count": 823,
     "metadata": {},
     "output_type": "execute_result"
    }
   ],
   "source": [
    "df.head()"
   ]
  },
  {
   "cell_type": "markdown",
   "metadata": {},
   "source": [
    "## 2. Processing Explanatory Variables"
   ]
  },
  {
   "cell_type": "markdown",
   "metadata": {},
   "source": [
    "### 2.1 log(D/P)"
   ]
  },
  {
   "cell_type": "markdown",
   "metadata": {},
   "source": [
    "More specifically, I am computing the following:\n",
    "$$ log(\\sum_{s=1}^{12} D_{t-(s-1)}) - log(P_{t}) $$\n",
    "where `D` stands for dividens paid by `SP500` constituents at time t. \n",
    "And `P` stands for `SP500` at time t.\n"
   ]
  },
  {
   "cell_type": "markdown",
   "metadata": {},
   "source": [
    "As a sanity check, I wanted to check there are only two `NaN` values for `SPXDIV Index`"
   ]
  },
  {
   "cell_type": "code",
   "execution_count": 824,
   "metadata": {},
   "outputs": [
    {
     "data": {
      "text/plain": [
       "2"
      ]
     },
     "execution_count": 824,
     "metadata": {},
     "output_type": "execute_result"
    }
   ],
   "source": [
    "other_df['SPXDIV Index'].isna().sum()"
   ]
  },
  {
   "cell_type": "code",
   "execution_count": 825,
   "metadata": {},
   "outputs": [
    {
     "data": {
      "text/html": [
       "<div>\n",
       "<style scoped>\n",
       "    .dataframe tbody tr th:only-of-type {\n",
       "        vertical-align: middle;\n",
       "    }\n",
       "\n",
       "    .dataframe tbody tr th {\n",
       "        vertical-align: top;\n",
       "    }\n",
       "\n",
       "    .dataframe thead th {\n",
       "        text-align: right;\n",
       "    }\n",
       "</style>\n",
       "<table border=\"1\" class=\"dataframe\">\n",
       "  <thead>\n",
       "    <tr style=\"text-align: right;\">\n",
       "      <th></th>\n",
       "      <th>Dates</th>\n",
       "      <th>SPX Index</th>\n",
       "      <th>SPXDIV Index</th>\n",
       "      <th>CPI INDX Index</th>\n",
       "      <th>CT10 Govt</th>\n",
       "      <th>CB3 Govt</th>\n",
       "      <th>MOODCBAA Index</th>\n",
       "      <th>MOODCAAA Index</th>\n",
       "      <th>IP Index</th>\n",
       "    </tr>\n",
       "  </thead>\n",
       "  <tbody>\n",
       "    <tr>\n",
       "      <th>0</th>\n",
       "      <td>NaT</td>\n",
       "      <td>329.08</td>\n",
       "      <td>NaN</td>\n",
       "      <td>NaN</td>\n",
       "      <td>NaN</td>\n",
       "      <td>NaN</td>\n",
       "      <td>NaN</td>\n",
       "      <td>NaN</td>\n",
       "      <td>NaN</td>\n",
       "    </tr>\n",
       "    <tr>\n",
       "      <th>1</th>\n",
       "      <td>1990-02-28</td>\n",
       "      <td>331.89</td>\n",
       "      <td>NaN</td>\n",
       "      <td>128.0</td>\n",
       "      <td>NaN</td>\n",
       "      <td>NaN</td>\n",
       "      <td>10.14</td>\n",
       "      <td>9.22</td>\n",
       "      <td>64.0446</td>\n",
       "    </tr>\n",
       "    <tr>\n",
       "      <th>2</th>\n",
       "      <td>1990-03-30</td>\n",
       "      <td>339.94</td>\n",
       "      <td>0.31</td>\n",
       "      <td>128.6</td>\n",
       "      <td>NaN</td>\n",
       "      <td>NaN</td>\n",
       "      <td>10.21</td>\n",
       "      <td>9.37</td>\n",
       "      <td>64.3580</td>\n",
       "    </tr>\n",
       "    <tr>\n",
       "      <th>3</th>\n",
       "      <td>1990-04-30</td>\n",
       "      <td>330.80</td>\n",
       "      <td>0.98</td>\n",
       "      <td>128.9</td>\n",
       "      <td>NaN</td>\n",
       "      <td>NaN</td>\n",
       "      <td>10.30</td>\n",
       "      <td>9.46</td>\n",
       "      <td>64.2602</td>\n",
       "    </tr>\n",
       "    <tr>\n",
       "      <th>4</th>\n",
       "      <td>1990-05-31</td>\n",
       "      <td>361.23</td>\n",
       "      <td>2.74</td>\n",
       "      <td>129.1</td>\n",
       "      <td>NaN</td>\n",
       "      <td>NaN</td>\n",
       "      <td>10.41</td>\n",
       "      <td>9.47</td>\n",
       "      <td>64.3973</td>\n",
       "    </tr>\n",
       "  </tbody>\n",
       "</table>\n",
       "</div>"
      ],
      "text/plain": [
       "       Dates  SPX Index  SPXDIV Index  CPI INDX Index  CT10 Govt  CB3 Govt  \\\n",
       "0        NaT     329.08           NaN             NaN        NaN       NaN   \n",
       "1 1990-02-28     331.89           NaN           128.0        NaN       NaN   \n",
       "2 1990-03-30     339.94          0.31           128.6        NaN       NaN   \n",
       "3 1990-04-30     330.80          0.98           128.9        NaN       NaN   \n",
       "4 1990-05-31     361.23          2.74           129.1        NaN       NaN   \n",
       "\n",
       "   MOODCBAA Index  MOODCAAA Index  IP Index  \n",
       "0             NaN             NaN       NaN  \n",
       "1           10.14            9.22   64.0446  \n",
       "2           10.21            9.37   64.3580  \n",
       "3           10.30            9.46   64.2602  \n",
       "4           10.41            9.47   64.3973  "
      ]
     },
     "execution_count": 825,
     "metadata": {},
     "output_type": "execute_result"
    }
   ],
   "source": [
    "other_df.head()"
   ]
  },
  {
   "cell_type": "code",
   "execution_count": 826,
   "metadata": {},
   "outputs": [],
   "source": [
    "df['log_DP'] = (other_df['SPXDIV Index'].rolling(12).sum().apply('log').shift()\n",
    "                - other_df['SPX Index'].apply('log'))"
   ]
  },
  {
   "cell_type": "code",
   "execution_count": 827,
   "metadata": {},
   "outputs": [
    {
     "data": {
      "text/html": [
       "<div>\n",
       "<style scoped>\n",
       "    .dataframe tbody tr th:only-of-type {\n",
       "        vertical-align: middle;\n",
       "    }\n",
       "\n",
       "    .dataframe tbody tr th {\n",
       "        vertical-align: top;\n",
       "    }\n",
       "\n",
       "    .dataframe thead th {\n",
       "        text-align: right;\n",
       "    }\n",
       "</style>\n",
       "<table border=\"1\" class=\"dataframe\">\n",
       "  <thead>\n",
       "    <tr style=\"text-align: right;\">\n",
       "      <th></th>\n",
       "      <th>Dates</th>\n",
       "      <th>log_DP</th>\n",
       "    </tr>\n",
       "  </thead>\n",
       "  <tbody>\n",
       "    <tr>\n",
       "      <th>13</th>\n",
       "      <td>1991-02-28</td>\n",
       "      <td>NaN</td>\n",
       "    </tr>\n",
       "    <tr>\n",
       "      <th>14</th>\n",
       "      <td>1991-03-29</td>\n",
       "      <td>-3.184739</td>\n",
       "    </tr>\n",
       "    <tr>\n",
       "      <th>15</th>\n",
       "      <td>1991-04-30</td>\n",
       "      <td>-3.187664</td>\n",
       "    </tr>\n",
       "    <tr>\n",
       "      <th>16</th>\n",
       "      <td>1991-05-31</td>\n",
       "      <td>-3.221650</td>\n",
       "    </tr>\n",
       "    <tr>\n",
       "      <th>17</th>\n",
       "      <td>1991-06-28</td>\n",
       "      <td>-3.175793</td>\n",
       "    </tr>\n",
       "  </tbody>\n",
       "</table>\n",
       "</div>"
      ],
      "text/plain": [
       "        Dates    log_DP\n",
       "13 1991-02-28       NaN\n",
       "14 1991-03-29 -3.184739\n",
       "15 1991-04-30 -3.187664\n",
       "16 1991-05-31 -3.221650\n",
       "17 1991-06-28 -3.175793"
      ]
     },
     "execution_count": 827,
     "metadata": {},
     "output_type": "execute_result"
    }
   ],
   "source": [
    "df[['Dates','log_DP']][13:].head()"
   ]
  },
  {
   "cell_type": "markdown",
   "metadata": {},
   "source": [
    "Compare 14th row with following for sanity check:"
   ]
  },
  {
   "cell_type": "code",
   "execution_count": 828,
   "metadata": {},
   "outputs": [
    {
     "data": {
      "text/plain": [
       "-3.1847388834548687"
      ]
     },
     "execution_count": 828,
     "metadata": {},
     "output_type": "execute_result"
    }
   ],
   "source": [
    "np.log(sum(other_df['SPXDIV Index'][2:14])) - np.log(other_df['SPX Index'][14])"
   ]
  },
  {
   "cell_type": "markdown",
   "metadata": {},
   "source": [
    "### 2.2 Inflation"
   ]
  },
  {
   "cell_type": "markdown",
   "metadata": {},
   "source": [
    "Inflation is calculated by CPI Index. The research paper writes following: \n",
    "<br>\n",
    "_We account for the delay in the release of monthly CPI data when computing the forecast_\n",
    "<br>\n",
    "My susequent search suggested that  CPI Index is released with lag of 1 month.\n",
    "<br>\n",
    "Thus, I adjust for the issue by shifting CPI Index level by 1.\n",
    "$$ inflation_{t} = \\frac{CPI_{t}}{CPI_{t-1}}$$\n",
    "However, at time t, the most recent available inflation rate is that of time t-1.\n"
   ]
  },
  {
   "cell_type": "code",
   "execution_count": 829,
   "metadata": {},
   "outputs": [],
   "source": [
    "df['inflation'] = other_df['CPI INDX Index'].pct_change().shift()"
   ]
  },
  {
   "cell_type": "code",
   "execution_count": 830,
   "metadata": {},
   "outputs": [
    {
     "data": {
      "text/html": [
       "<div>\n",
       "<style scoped>\n",
       "    .dataframe tbody tr th:only-of-type {\n",
       "        vertical-align: middle;\n",
       "    }\n",
       "\n",
       "    .dataframe tbody tr th {\n",
       "        vertical-align: top;\n",
       "    }\n",
       "\n",
       "    .dataframe thead th {\n",
       "        text-align: right;\n",
       "    }\n",
       "</style>\n",
       "<table border=\"1\" class=\"dataframe\">\n",
       "  <thead>\n",
       "    <tr style=\"text-align: right;\">\n",
       "      <th></th>\n",
       "      <th>Dates</th>\n",
       "      <th>inflation</th>\n",
       "    </tr>\n",
       "  </thead>\n",
       "  <tbody>\n",
       "    <tr>\n",
       "      <th>0</th>\n",
       "      <td>NaT</td>\n",
       "      <td>NaN</td>\n",
       "    </tr>\n",
       "    <tr>\n",
       "      <th>1</th>\n",
       "      <td>1990-02-28</td>\n",
       "      <td>NaN</td>\n",
       "    </tr>\n",
       "    <tr>\n",
       "      <th>2</th>\n",
       "      <td>1990-03-30</td>\n",
       "      <td>NaN</td>\n",
       "    </tr>\n",
       "    <tr>\n",
       "      <th>3</th>\n",
       "      <td>1990-04-30</td>\n",
       "      <td>0.004687</td>\n",
       "    </tr>\n",
       "    <tr>\n",
       "      <th>4</th>\n",
       "      <td>1990-05-31</td>\n",
       "      <td>0.002333</td>\n",
       "    </tr>\n",
       "  </tbody>\n",
       "</table>\n",
       "</div>"
      ],
      "text/plain": [
       "       Dates  inflation\n",
       "0        NaT        NaN\n",
       "1 1990-02-28        NaN\n",
       "2 1990-03-30        NaN\n",
       "3 1990-04-30   0.004687\n",
       "4 1990-05-31   0.002333"
      ]
     },
     "execution_count": 830,
     "metadata": {},
     "output_type": "execute_result"
    }
   ],
   "source": [
    "df[['Dates','inflation']].head()"
   ]
  },
  {
   "cell_type": "markdown",
   "metadata": {},
   "source": [
    "Following is a sanity check. inflation rate for 2nd row is consistent with third row of inflation columns. The rationale for this is explained at the Markdown Cell above"
   ]
  },
  {
   "cell_type": "code",
   "execution_count": 831,
   "metadata": {},
   "outputs": [
    {
     "data": {
      "text/plain": [
       "0.004687499999999956"
      ]
     },
     "execution_count": 831,
     "metadata": {},
     "output_type": "execute_result"
    }
   ],
   "source": [
    "(other_df['CPI INDX Index'][2]/other_df['CPI INDX Index'][1] -1)"
   ]
  },
  {
   "cell_type": "markdown",
   "metadata": {},
   "source": [
    "### 2.3 Term Spread"
   ]
  },
  {
   "cell_type": "markdown",
   "metadata": {},
   "source": [
    "Term spread refers to the difference between 10-year Treasury bond yield and the three-month Treasury bill yield.\n",
    "<br>\n",
    "When I retrieved data from the Bloomberg Terminal, I requested quotes for `USGG10YR Index` and `USGG3M Index`. However, I need to get confirmation about whether this is indeed the data I was after."
   ]
  },
  {
   "cell_type": "code",
   "execution_count": 832,
   "metadata": {},
   "outputs": [
    {
     "data": {
      "text/plain": [
       "Index(['Dates', 'USGG3M Index', 'USGG10YR Index'], dtype='object')"
      ]
     },
     "execution_count": 832,
     "metadata": {},
     "output_type": "execute_result"
    }
   ],
   "source": [
    "bonds_df.keys()"
   ]
  },
  {
   "cell_type": "code",
   "execution_count": 833,
   "metadata": {},
   "outputs": [],
   "source": [
    "df['Term_Spread'] = bonds_df[bonds_df.keys()[2]]-bonds_df[bonds_df.keys()[1]]"
   ]
  },
  {
   "cell_type": "code",
   "execution_count": 834,
   "metadata": {},
   "outputs": [
    {
     "data": {
      "text/html": [
       "<div>\n",
       "<style scoped>\n",
       "    .dataframe tbody tr th:only-of-type {\n",
       "        vertical-align: middle;\n",
       "    }\n",
       "\n",
       "    .dataframe tbody tr th {\n",
       "        vertical-align: top;\n",
       "    }\n",
       "\n",
       "    .dataframe thead th {\n",
       "        text-align: right;\n",
       "    }\n",
       "</style>\n",
       "<table border=\"1\" class=\"dataframe\">\n",
       "  <thead>\n",
       "    <tr style=\"text-align: right;\">\n",
       "      <th></th>\n",
       "      <th>Dates</th>\n",
       "      <th>Term_Spread</th>\n",
       "    </tr>\n",
       "  </thead>\n",
       "  <tbody>\n",
       "    <tr>\n",
       "      <th>0</th>\n",
       "      <td>NaT</td>\n",
       "      <td>NaN</td>\n",
       "    </tr>\n",
       "    <tr>\n",
       "      <th>1</th>\n",
       "      <td>1990-02-28</td>\n",
       "      <td>0.485</td>\n",
       "    </tr>\n",
       "    <tr>\n",
       "      <th>2</th>\n",
       "      <td>1990-03-30</td>\n",
       "      <td>0.584</td>\n",
       "    </tr>\n",
       "    <tr>\n",
       "      <th>3</th>\n",
       "      <td>1990-04-30</td>\n",
       "      <td>0.990</td>\n",
       "    </tr>\n",
       "    <tr>\n",
       "      <th>4</th>\n",
       "      <td>1990-05-31</td>\n",
       "      <td>0.581</td>\n",
       "    </tr>\n",
       "  </tbody>\n",
       "</table>\n",
       "</div>"
      ],
      "text/plain": [
       "       Dates  Term_Spread\n",
       "0        NaT          NaN\n",
       "1 1990-02-28        0.485\n",
       "2 1990-03-30        0.584\n",
       "3 1990-04-30        0.990\n",
       "4 1990-05-31        0.581"
      ]
     },
     "execution_count": 834,
     "metadata": {},
     "output_type": "execute_result"
    }
   ],
   "source": [
    "df[['Dates','Term_Spread']].head()"
   ]
  },
  {
   "cell_type": "markdown",
   "metadata": {},
   "source": [
    "A few observations would be sufficient for a sanity check as it only requires a subtraction"
   ]
  },
  {
   "cell_type": "code",
   "execution_count": 835,
   "metadata": {},
   "outputs": [
    {
     "data": {
      "text/html": [
       "<div>\n",
       "<style scoped>\n",
       "    .dataframe tbody tr th:only-of-type {\n",
       "        vertical-align: middle;\n",
       "    }\n",
       "\n",
       "    .dataframe tbody tr th {\n",
       "        vertical-align: top;\n",
       "    }\n",
       "\n",
       "    .dataframe thead th {\n",
       "        text-align: right;\n",
       "    }\n",
       "</style>\n",
       "<table border=\"1\" class=\"dataframe\">\n",
       "  <thead>\n",
       "    <tr style=\"text-align: right;\">\n",
       "      <th></th>\n",
       "      <th>Dates</th>\n",
       "      <th>USGG3M Index</th>\n",
       "      <th>USGG10YR Index</th>\n",
       "    </tr>\n",
       "  </thead>\n",
       "  <tbody>\n",
       "    <tr>\n",
       "      <th>0</th>\n",
       "      <td>NaT</td>\n",
       "      <td>8.009</td>\n",
       "      <td>NaN</td>\n",
       "    </tr>\n",
       "    <tr>\n",
       "      <th>1</th>\n",
       "      <td>1990-02-28</td>\n",
       "      <td>8.030</td>\n",
       "      <td>8.515</td>\n",
       "    </tr>\n",
       "    <tr>\n",
       "      <th>2</th>\n",
       "      <td>1990-03-30</td>\n",
       "      <td>8.044</td>\n",
       "      <td>8.628</td>\n",
       "    </tr>\n",
       "    <tr>\n",
       "      <th>3</th>\n",
       "      <td>1990-04-30</td>\n",
       "      <td>8.032</td>\n",
       "      <td>9.022</td>\n",
       "    </tr>\n",
       "    <tr>\n",
       "      <th>4</th>\n",
       "      <td>1990-05-31</td>\n",
       "      <td>8.018</td>\n",
       "      <td>8.599</td>\n",
       "    </tr>\n",
       "  </tbody>\n",
       "</table>\n",
       "</div>"
      ],
      "text/plain": [
       "       Dates  USGG3M Index  USGG10YR Index\n",
       "0        NaT         8.009             NaN\n",
       "1 1990-02-28         8.030           8.515\n",
       "2 1990-03-30         8.044           8.628\n",
       "3 1990-04-30         8.032           9.022\n",
       "4 1990-05-31         8.018           8.599"
      ]
     },
     "execution_count": 835,
     "metadata": {},
     "output_type": "execute_result"
    }
   ],
   "source": [
    "bonds_df.head()"
   ]
  },
  {
   "cell_type": "markdown",
   "metadata": {},
   "source": [
    "### 2.4 Default Spread"
   ]
  },
  {
   "cell_type": "markdown",
   "metadata": {},
   "source": [
    "The difference between Moody's BAA and AAA rated corporate Bond yields"
   ]
  },
  {
   "cell_type": "code",
   "execution_count": 836,
   "metadata": {},
   "outputs": [],
   "source": [
    "df['Default_Spread']=other_df['MOODCBAA Index'] - other_df['MOODCAAA Index']"
   ]
  },
  {
   "cell_type": "code",
   "execution_count": 837,
   "metadata": {},
   "outputs": [
    {
     "data": {
      "text/html": [
       "<div>\n",
       "<style scoped>\n",
       "    .dataframe tbody tr th:only-of-type {\n",
       "        vertical-align: middle;\n",
       "    }\n",
       "\n",
       "    .dataframe tbody tr th {\n",
       "        vertical-align: top;\n",
       "    }\n",
       "\n",
       "    .dataframe thead th {\n",
       "        text-align: right;\n",
       "    }\n",
       "</style>\n",
       "<table border=\"1\" class=\"dataframe\">\n",
       "  <thead>\n",
       "    <tr style=\"text-align: right;\">\n",
       "      <th></th>\n",
       "      <th>Dates</th>\n",
       "      <th>Default_Spread</th>\n",
       "    </tr>\n",
       "  </thead>\n",
       "  <tbody>\n",
       "    <tr>\n",
       "      <th>0</th>\n",
       "      <td>NaT</td>\n",
       "      <td>NaN</td>\n",
       "    </tr>\n",
       "    <tr>\n",
       "      <th>1</th>\n",
       "      <td>1990-02-28</td>\n",
       "      <td>0.92</td>\n",
       "    </tr>\n",
       "    <tr>\n",
       "      <th>2</th>\n",
       "      <td>1990-03-30</td>\n",
       "      <td>0.84</td>\n",
       "    </tr>\n",
       "    <tr>\n",
       "      <th>3</th>\n",
       "      <td>1990-04-30</td>\n",
       "      <td>0.84</td>\n",
       "    </tr>\n",
       "    <tr>\n",
       "      <th>4</th>\n",
       "      <td>1990-05-31</td>\n",
       "      <td>0.94</td>\n",
       "    </tr>\n",
       "  </tbody>\n",
       "</table>\n",
       "</div>"
      ],
      "text/plain": [
       "       Dates  Default_Spread\n",
       "0        NaT             NaN\n",
       "1 1990-02-28            0.92\n",
       "2 1990-03-30            0.84\n",
       "3 1990-04-30            0.84\n",
       "4 1990-05-31            0.94"
      ]
     },
     "execution_count": 837,
     "metadata": {},
     "output_type": "execute_result"
    }
   ],
   "source": [
    "df[['Dates','Default_Spread']].head()"
   ]
  },
  {
   "cell_type": "markdown",
   "metadata": {},
   "source": [
    "As with `term spread`, a few observation would be sufficient for a sanity check as it only requires a subtraction"
   ]
  },
  {
   "cell_type": "code",
   "execution_count": 838,
   "metadata": {},
   "outputs": [
    {
     "data": {
      "text/html": [
       "<div>\n",
       "<style scoped>\n",
       "    .dataframe tbody tr th:only-of-type {\n",
       "        vertical-align: middle;\n",
       "    }\n",
       "\n",
       "    .dataframe tbody tr th {\n",
       "        vertical-align: top;\n",
       "    }\n",
       "\n",
       "    .dataframe thead th {\n",
       "        text-align: right;\n",
       "    }\n",
       "</style>\n",
       "<table border=\"1\" class=\"dataframe\">\n",
       "  <thead>\n",
       "    <tr style=\"text-align: right;\">\n",
       "      <th></th>\n",
       "      <th>Dates</th>\n",
       "      <th>MOODCBAA Index</th>\n",
       "      <th>MOODCAAA Index</th>\n",
       "    </tr>\n",
       "  </thead>\n",
       "  <tbody>\n",
       "    <tr>\n",
       "      <th>0</th>\n",
       "      <td>NaT</td>\n",
       "      <td>NaN</td>\n",
       "      <td>NaN</td>\n",
       "    </tr>\n",
       "    <tr>\n",
       "      <th>1</th>\n",
       "      <td>1990-02-28</td>\n",
       "      <td>10.14</td>\n",
       "      <td>9.22</td>\n",
       "    </tr>\n",
       "    <tr>\n",
       "      <th>2</th>\n",
       "      <td>1990-03-30</td>\n",
       "      <td>10.21</td>\n",
       "      <td>9.37</td>\n",
       "    </tr>\n",
       "    <tr>\n",
       "      <th>3</th>\n",
       "      <td>1990-04-30</td>\n",
       "      <td>10.30</td>\n",
       "      <td>9.46</td>\n",
       "    </tr>\n",
       "    <tr>\n",
       "      <th>4</th>\n",
       "      <td>1990-05-31</td>\n",
       "      <td>10.41</td>\n",
       "      <td>9.47</td>\n",
       "    </tr>\n",
       "  </tbody>\n",
       "</table>\n",
       "</div>"
      ],
      "text/plain": [
       "       Dates  MOODCBAA Index  MOODCAAA Index\n",
       "0        NaT             NaN             NaN\n",
       "1 1990-02-28           10.14            9.22\n",
       "2 1990-03-30           10.21            9.37\n",
       "3 1990-04-30           10.30            9.46\n",
       "4 1990-05-31           10.41            9.47"
      ]
     },
     "execution_count": 838,
     "metadata": {},
     "output_type": "execute_result"
    }
   ],
   "source": [
    "other_df[['Dates','MOODCBAA Index','MOODCAAA Index']].head()"
   ]
  },
  {
   "cell_type": "markdown",
   "metadata": {},
   "source": [
    "### 2.5  Moving Averages"
   ]
  },
  {
   "cell_type": "markdown",
   "metadata": {},
   "source": [
    "Average of `SPX Index` for the past 12-months.\n",
    "<br>\n",
    "$$ MA_{t} = \\frac{\\sum_{i=0}^{11} SPX_{t-i}}{12}$$"
   ]
  },
  {
   "cell_type": "code",
   "execution_count": 839,
   "metadata": {},
   "outputs": [],
   "source": [
    "Moving_Average_12 = other_df['SPX Index'].rolling(12).mean()"
   ]
  },
  {
   "cell_type": "code",
   "execution_count": 840,
   "metadata": {},
   "outputs": [
    {
     "data": {
      "text/plain": [
       "10           NaN\n",
       "11    332.680000\n",
       "12    333.917500\n",
       "13    336.849167\n",
       "14    339.789167\n",
       "Name: SPX Index, dtype: float64"
      ]
     },
     "execution_count": 840,
     "metadata": {},
     "output_type": "execute_result"
    }
   ],
   "source": [
    "Moving_Average_12[10:].head()"
   ]
  },
  {
   "cell_type": "markdown",
   "metadata": {},
   "source": [
    "As a sanity check: the moving average of first 12 numbers are as following:"
   ]
  },
  {
   "cell_type": "code",
   "execution_count": 841,
   "metadata": {},
   "outputs": [
    {
     "data": {
      "text/plain": [
       "332.68000000000006"
      ]
     },
     "execution_count": 841,
     "metadata": {},
     "output_type": "execute_result"
    }
   ],
   "source": [
    "np.mean(other_df['SPX Index'][:12])"
   ]
  },
  {
   "cell_type": "code",
   "execution_count": 842,
   "metadata": {},
   "outputs": [],
   "source": [
    "Moving_Average_2 = other_df['SPX Index'].rolling(2).mean()"
   ]
  },
  {
   "cell_type": "code",
   "execution_count": 843,
   "metadata": {},
   "outputs": [
    {
     "data": {
      "text/plain": [
       "0        NaN\n",
       "1    330.485\n",
       "2    335.915\n",
       "3    335.370\n",
       "4    346.015\n",
       "Name: SPX Index, dtype: float64"
      ]
     },
     "execution_count": 843,
     "metadata": {},
     "output_type": "execute_result"
    }
   ],
   "source": [
    "Moving_Average_2.head()"
   ]
  },
  {
   "cell_type": "markdown",
   "metadata": {},
   "source": [
    "As a sanity check: the moving average of first 12 numbers are as following:"
   ]
  },
  {
   "cell_type": "code",
   "execution_count": 844,
   "metadata": {},
   "outputs": [
    {
     "data": {
      "text/plain": [
       "330.485"
      ]
     },
     "execution_count": 844,
     "metadata": {},
     "output_type": "execute_result"
    }
   ],
   "source": [
    "np.mean(other_df['SPX Index'][:2])"
   ]
  },
  {
   "cell_type": "code",
   "execution_count": 845,
   "metadata": {},
   "outputs": [],
   "source": [
    "Bond_Moving_Average_12 = bonds_df['USGG10YR Index'].rolling(12).mean()"
   ]
  },
  {
   "cell_type": "code",
   "execution_count": 846,
   "metadata": {},
   "outputs": [
    {
     "data": {
      "text/plain": [
       "10         NaN\n",
       "11         NaN\n",
       "12    8.508417\n",
       "13    8.468250\n",
       "14    8.421000\n",
       "Name: USGG10YR Index, dtype: float64"
      ]
     },
     "execution_count": 846,
     "metadata": {},
     "output_type": "execute_result"
    }
   ],
   "source": [
    "Bond_Moving_Average_12[10:].head()"
   ]
  },
  {
   "cell_type": "markdown",
   "metadata": {},
   "source": [
    "As a sanity check: the moving average of first 12 numbers are as following:"
   ]
  },
  {
   "cell_type": "code",
   "execution_count": 847,
   "metadata": {},
   "outputs": [
    {
     "data": {
      "text/plain": [
       "8.508416666666667"
      ]
     },
     "execution_count": 847,
     "metadata": {},
     "output_type": "execute_result"
    }
   ],
   "source": [
    "np.mean(bonds_df['USGG10YR Index'][1:13])"
   ]
  },
  {
   "cell_type": "code",
   "execution_count": 848,
   "metadata": {},
   "outputs": [],
   "source": [
    "Bond_Moving_Average_6 = bonds_df['USGG10YR Index'].rolling(6).mean()"
   ]
  },
  {
   "cell_type": "code",
   "execution_count": 849,
   "metadata": {},
   "outputs": [
    {
     "data": {
      "text/plain": [
       "5         NaN\n",
       "6    8.586167\n",
       "7    8.641333\n",
       "8    8.669167\n",
       "9    8.601667\n",
       "Name: USGG10YR Index, dtype: float64"
      ]
     },
     "execution_count": 849,
     "metadata": {},
     "output_type": "execute_result"
    }
   ],
   "source": [
    "Bond_Moving_Average_6[5:].head()"
   ]
  },
  {
   "cell_type": "code",
   "execution_count": 850,
   "metadata": {},
   "outputs": [
    {
     "data": {
      "text/plain": [
       "8.586166666666665"
      ]
     },
     "execution_count": 850,
     "metadata": {},
     "output_type": "execute_result"
    }
   ],
   "source": [
    "np.mean(bonds_df['USGG10YR Index'][1:7])"
   ]
  },
  {
   "cell_type": "markdown",
   "metadata": {},
   "source": [
    "### 2.5.1 MA(1,12) "
   ]
  },
  {
   "cell_type": "markdown",
   "metadata": {},
   "source": [
    "It is a dummy variable based on `SPX Index` level and `Moving_Average_12`\n",
    "<br>\n",
    "If `SPX Index` value is greater than its 12 months moving average, then assign 1. Otherwise assign 0."
   ]
  },
  {
   "cell_type": "code",
   "execution_count": 851,
   "metadata": {},
   "outputs": [],
   "source": [
    "MA_nan = (other_df['SPX Index']-Moving_Average_12).apply(lambda x: np.nan if np.isnan(x) else 0)"
   ]
  },
  {
   "cell_type": "code",
   "execution_count": 852,
   "metadata": {},
   "outputs": [],
   "source": [
    "df['MA_1_12']=(other_df['SPX Index']-Moving_Average_12).apply(lambda x: 1 if x>0 else 0) + MA_nan"
   ]
  },
  {
   "cell_type": "code",
   "execution_count": 853,
   "metadata": {},
   "outputs": [
    {
     "data": {
      "text/html": [
       "<div>\n",
       "<style scoped>\n",
       "    .dataframe tbody tr th:only-of-type {\n",
       "        vertical-align: middle;\n",
       "    }\n",
       "\n",
       "    .dataframe tbody tr th {\n",
       "        vertical-align: top;\n",
       "    }\n",
       "\n",
       "    .dataframe thead th {\n",
       "        text-align: right;\n",
       "    }\n",
       "</style>\n",
       "<table border=\"1\" class=\"dataframe\">\n",
       "  <thead>\n",
       "    <tr style=\"text-align: right;\">\n",
       "      <th></th>\n",
       "      <th>Dates</th>\n",
       "      <th>MA_1_12</th>\n",
       "    </tr>\n",
       "  </thead>\n",
       "  <tbody>\n",
       "    <tr>\n",
       "      <th>9</th>\n",
       "      <td>1990-10-31</td>\n",
       "      <td>NaN</td>\n",
       "    </tr>\n",
       "    <tr>\n",
       "      <th>10</th>\n",
       "      <td>1990-11-30</td>\n",
       "      <td>NaN</td>\n",
       "    </tr>\n",
       "    <tr>\n",
       "      <th>11</th>\n",
       "      <td>1990-12-31</td>\n",
       "      <td>0.0</td>\n",
       "    </tr>\n",
       "    <tr>\n",
       "      <th>12</th>\n",
       "      <td>1991-01-31</td>\n",
       "      <td>1.0</td>\n",
       "    </tr>\n",
       "    <tr>\n",
       "      <th>13</th>\n",
       "      <td>1991-02-28</td>\n",
       "      <td>1.0</td>\n",
       "    </tr>\n",
       "  </tbody>\n",
       "</table>\n",
       "</div>"
      ],
      "text/plain": [
       "        Dates  MA_1_12\n",
       "9  1990-10-31      NaN\n",
       "10 1990-11-30      NaN\n",
       "11 1990-12-31      0.0\n",
       "12 1991-01-31      1.0\n",
       "13 1991-02-28      1.0"
      ]
     },
     "execution_count": 853,
     "metadata": {},
     "output_type": "execute_result"
    }
   ],
   "source": [
    "df[['Dates','MA_1_12']][9:].head()"
   ]
  },
  {
   "cell_type": "markdown",
   "metadata": {},
   "source": [
    "As a sanity check, since Moving_Average_12 is already checked, following shows that lambda function performs as expected."
   ]
  },
  {
   "cell_type": "code",
   "execution_count": 854,
   "metadata": {},
   "outputs": [
    {
     "data": {
      "text/plain": [
       "9           NaN\n",
       "10          NaN\n",
       "11    -2.460000\n",
       "12    10.012500\n",
       "13    30.220833\n",
       "Name: SPX Index, dtype: float64"
      ]
     },
     "execution_count": 854,
     "metadata": {},
     "output_type": "execute_result"
    }
   ],
   "source": [
    "(other_df['SPX Index']-Moving_Average_12)[9:].head()"
   ]
  },
  {
   "cell_type": "markdown",
   "metadata": {},
   "source": [
    "### 2.5.2 MA(2,12) "
   ]
  },
  {
   "cell_type": "markdown",
   "metadata": {},
   "source": [
    "It is a dummy variable based on `Moving_Average_2`  and `Moving_Average_12`\n",
    "<br>\n",
    "If `Moving_Average_2` value is greater than `Moving_Average_12` value, then assign 1. Otherwise assign 0."
   ]
  },
  {
   "cell_type": "code",
   "execution_count": 855,
   "metadata": {},
   "outputs": [],
   "source": [
    "df['MA_2_12']=(Moving_Average_2-Moving_Average_12).apply(lambda x: 1 if x>0 else 0) + MA_nan"
   ]
  },
  {
   "cell_type": "code",
   "execution_count": 856,
   "metadata": {},
   "outputs": [
    {
     "data": {
      "text/html": [
       "<div>\n",
       "<style scoped>\n",
       "    .dataframe tbody tr th:only-of-type {\n",
       "        vertical-align: middle;\n",
       "    }\n",
       "\n",
       "    .dataframe tbody tr th {\n",
       "        vertical-align: top;\n",
       "    }\n",
       "\n",
       "    .dataframe thead th {\n",
       "        text-align: right;\n",
       "    }\n",
       "</style>\n",
       "<table border=\"1\" class=\"dataframe\">\n",
       "  <thead>\n",
       "    <tr style=\"text-align: right;\">\n",
       "      <th></th>\n",
       "      <th>Dates</th>\n",
       "      <th>MA_2_12</th>\n",
       "    </tr>\n",
       "  </thead>\n",
       "  <tbody>\n",
       "    <tr>\n",
       "      <th>9</th>\n",
       "      <td>1990-10-31</td>\n",
       "      <td>NaN</td>\n",
       "    </tr>\n",
       "    <tr>\n",
       "      <th>10</th>\n",
       "      <td>1990-11-30</td>\n",
       "      <td>NaN</td>\n",
       "    </tr>\n",
       "    <tr>\n",
       "      <th>11</th>\n",
       "      <td>1990-12-31</td>\n",
       "      <td>0.0</td>\n",
       "    </tr>\n",
       "    <tr>\n",
       "      <th>12</th>\n",
       "      <td>1991-01-31</td>\n",
       "      <td>1.0</td>\n",
       "    </tr>\n",
       "    <tr>\n",
       "      <th>13</th>\n",
       "      <td>1991-02-28</td>\n",
       "      <td>1.0</td>\n",
       "    </tr>\n",
       "  </tbody>\n",
       "</table>\n",
       "</div>"
      ],
      "text/plain": [
       "        Dates  MA_2_12\n",
       "9  1990-10-31      NaN\n",
       "10 1990-11-30      NaN\n",
       "11 1990-12-31      0.0\n",
       "12 1991-01-31      1.0\n",
       "13 1991-02-28      1.0"
      ]
     },
     "execution_count": 856,
     "metadata": {},
     "output_type": "execute_result"
    }
   ],
   "source": [
    "df[['Dates','MA_2_12']][9:].head()"
   ]
  },
  {
   "cell_type": "markdown",
   "metadata": {},
   "source": [
    "### 2.5.3 MOMBY(6) "
   ]
  },
  {
   "cell_type": "markdown",
   "metadata": {},
   "source": [
    "It is a dummy variable based on `Bond_Moving_Average_6`  and the current bond yield.\n",
    "<br>\n",
    "If the bond yield is greater than `Bond_Moving_Average_6` by more than 5 basis points, assign -1. \n",
    "<br>\n",
    "Else if the bond yield is less than `Bond_Moving_Average_6` by more than 5 basis points, assign 1.\n",
    "<br>\n",
    "Otherwie, assign 0."
   ]
  },
  {
   "cell_type": "code",
   "execution_count": 857,
   "metadata": {},
   "outputs": [],
   "source": [
    "MOMBY_6_nan = (bonds_df['USGG10YR Index']-Bond_Moving_Average_6\n",
    "              ).apply(lambda x: np.nan if np.isnan(x) else 0)"
   ]
  },
  {
   "cell_type": "code",
   "execution_count": 858,
   "metadata": {},
   "outputs": [],
   "source": [
    "df['MOMBY_6']=(bonds_df['USGG10YR Index']-Bond_Moving_Average_6\n",
    "              ).apply(lambda x: -1 if x>0.05 else (1 if x<0.05 else 0)) + MOMBY_6_nan"
   ]
  },
  {
   "cell_type": "code",
   "execution_count": 859,
   "metadata": {},
   "outputs": [
    {
     "data": {
      "text/html": [
       "<div>\n",
       "<style scoped>\n",
       "    .dataframe tbody tr th:only-of-type {\n",
       "        vertical-align: middle;\n",
       "    }\n",
       "\n",
       "    .dataframe tbody tr th {\n",
       "        vertical-align: top;\n",
       "    }\n",
       "\n",
       "    .dataframe thead th {\n",
       "        text-align: right;\n",
       "    }\n",
       "</style>\n",
       "<table border=\"1\" class=\"dataframe\">\n",
       "  <thead>\n",
       "    <tr style=\"text-align: right;\">\n",
       "      <th></th>\n",
       "      <th>Dates</th>\n",
       "      <th>MOMBY_6</th>\n",
       "    </tr>\n",
       "  </thead>\n",
       "  <tbody>\n",
       "    <tr>\n",
       "      <th>5</th>\n",
       "      <td>1990-06-29</td>\n",
       "      <td>NaN</td>\n",
       "    </tr>\n",
       "    <tr>\n",
       "      <th>6</th>\n",
       "      <td>1990-07-31</td>\n",
       "      <td>1.0</td>\n",
       "    </tr>\n",
       "    <tr>\n",
       "      <th>7</th>\n",
       "      <td>1990-08-31</td>\n",
       "      <td>-1.0</td>\n",
       "    </tr>\n",
       "    <tr>\n",
       "      <th>8</th>\n",
       "      <td>1990-09-28</td>\n",
       "      <td>-1.0</td>\n",
       "    </tr>\n",
       "    <tr>\n",
       "      <th>9</th>\n",
       "      <td>1990-10-31</td>\n",
       "      <td>1.0</td>\n",
       "    </tr>\n",
       "  </tbody>\n",
       "</table>\n",
       "</div>"
      ],
      "text/plain": [
       "       Dates  MOMBY_6\n",
       "5 1990-06-29      NaN\n",
       "6 1990-07-31      1.0\n",
       "7 1990-08-31     -1.0\n",
       "8 1990-09-28     -1.0\n",
       "9 1990-10-31      1.0"
      ]
     },
     "execution_count": 859,
     "metadata": {},
     "output_type": "execute_result"
    }
   ],
   "source": [
    "df[['Dates','MOMBY_6']][5:].head()"
   ]
  },
  {
   "cell_type": "markdown",
   "metadata": {},
   "source": [
    "### 2.5.3 MOMBY(12) "
   ]
  },
  {
   "cell_type": "code",
   "execution_count": 860,
   "metadata": {},
   "outputs": [],
   "source": [
    "MOMBY_12_nan = (bonds_df['USGG10YR Index']-Bond_Moving_Average_12\n",
    "              ).apply(lambda x: np.nan if np.isnan(x) else 0)"
   ]
  },
  {
   "cell_type": "code",
   "execution_count": 861,
   "metadata": {},
   "outputs": [],
   "source": [
    "df['MOMBY_12']=(bonds_df['USGG10YR Index']-Bond_Moving_Average_12\n",
    "              ).apply(lambda x: -1 if x>0.05 else (1 if x<0.05 else 0)) + MOMBY_12_nan"
   ]
  },
  {
   "cell_type": "code",
   "execution_count": 862,
   "metadata": {},
   "outputs": [
    {
     "data": {
      "text/html": [
       "<div>\n",
       "<style scoped>\n",
       "    .dataframe tbody tr th:only-of-type {\n",
       "        vertical-align: middle;\n",
       "    }\n",
       "\n",
       "    .dataframe tbody tr th {\n",
       "        vertical-align: top;\n",
       "    }\n",
       "\n",
       "    .dataframe thead th {\n",
       "        text-align: right;\n",
       "    }\n",
       "</style>\n",
       "<table border=\"1\" class=\"dataframe\">\n",
       "  <thead>\n",
       "    <tr style=\"text-align: right;\">\n",
       "      <th></th>\n",
       "      <th>Dates</th>\n",
       "      <th>MOMBY_12</th>\n",
       "    </tr>\n",
       "  </thead>\n",
       "  <tbody>\n",
       "    <tr>\n",
       "      <th>11</th>\n",
       "      <td>1990-12-31</td>\n",
       "      <td>NaN</td>\n",
       "    </tr>\n",
       "    <tr>\n",
       "      <th>12</th>\n",
       "      <td>1991-01-31</td>\n",
       "      <td>1.0</td>\n",
       "    </tr>\n",
       "    <tr>\n",
       "      <th>13</th>\n",
       "      <td>1991-02-28</td>\n",
       "      <td>1.0</td>\n",
       "    </tr>\n",
       "    <tr>\n",
       "      <th>14</th>\n",
       "      <td>1991-03-29</td>\n",
       "      <td>1.0</td>\n",
       "    </tr>\n",
       "    <tr>\n",
       "      <th>15</th>\n",
       "      <td>1991-04-30</td>\n",
       "      <td>1.0</td>\n",
       "    </tr>\n",
       "  </tbody>\n",
       "</table>\n",
       "</div>"
      ],
      "text/plain": [
       "        Dates  MOMBY_12\n",
       "11 1990-12-31       NaN\n",
       "12 1991-01-31       1.0\n",
       "13 1991-02-28       1.0\n",
       "14 1991-03-29       1.0\n",
       "15 1991-04-30       1.0"
      ]
     },
     "execution_count": 862,
     "metadata": {},
     "output_type": "execute_result"
    }
   ],
   "source": [
    "df[['Dates','MOMBY_12']][11:].head()"
   ]
  },
  {
   "cell_type": "markdown",
   "metadata": {},
   "source": [
    "### 2.6 MOM"
   ]
  },
  {
   "cell_type": "markdown",
   "metadata": {},
   "source": [
    "It is a dummy variable that depends on `SPX Index` and its lagged values."
   ]
  },
  {
   "cell_type": "markdown",
   "metadata": {},
   "source": [
    "### 2.6.1 MOM(9)\n",
    "If the difference between `SPX Index` and its 9 months lagged value is positive then assign 1. Otherwise assign 0."
   ]
  },
  {
   "cell_type": "code",
   "execution_count": 863,
   "metadata": {},
   "outputs": [],
   "source": [
    "MOM_9_nan = (other_df['SPX Index']-other_df['SPX Index'].shift(9)\n",
    "            ).apply(lambda x: np.nan if np.isnan(x) else 0)\n",
    "df['MOM_9']=(other_df['SPX Index']-other_df['SPX Index'].shift(9)\n",
    "            ).apply(lambda x: 1 if x>0 else 0) + MOM_9_nan"
   ]
  },
  {
   "cell_type": "code",
   "execution_count": 864,
   "metadata": {},
   "outputs": [
    {
     "data": {
      "text/html": [
       "<div>\n",
       "<style scoped>\n",
       "    .dataframe tbody tr th:only-of-type {\n",
       "        vertical-align: middle;\n",
       "    }\n",
       "\n",
       "    .dataframe tbody tr th {\n",
       "        vertical-align: top;\n",
       "    }\n",
       "\n",
       "    .dataframe thead th {\n",
       "        text-align: right;\n",
       "    }\n",
       "</style>\n",
       "<table border=\"1\" class=\"dataframe\">\n",
       "  <thead>\n",
       "    <tr style=\"text-align: right;\">\n",
       "      <th></th>\n",
       "      <th>Dates</th>\n",
       "      <th>MOM_9</th>\n",
       "    </tr>\n",
       "  </thead>\n",
       "  <tbody>\n",
       "    <tr>\n",
       "      <th>8</th>\n",
       "      <td>1990-09-28</td>\n",
       "      <td>NaN</td>\n",
       "    </tr>\n",
       "    <tr>\n",
       "      <th>9</th>\n",
       "      <td>1990-10-31</td>\n",
       "      <td>0.0</td>\n",
       "    </tr>\n",
       "    <tr>\n",
       "      <th>10</th>\n",
       "      <td>1990-11-30</td>\n",
       "      <td>0.0</td>\n",
       "    </tr>\n",
       "    <tr>\n",
       "      <th>11</th>\n",
       "      <td>1990-12-31</td>\n",
       "      <td>0.0</td>\n",
       "    </tr>\n",
       "    <tr>\n",
       "      <th>12</th>\n",
       "      <td>1991-01-31</td>\n",
       "      <td>1.0</td>\n",
       "    </tr>\n",
       "  </tbody>\n",
       "</table>\n",
       "</div>"
      ],
      "text/plain": [
       "        Dates  MOM_9\n",
       "8  1990-09-28    NaN\n",
       "9  1990-10-31    0.0\n",
       "10 1990-11-30    0.0\n",
       "11 1990-12-31    0.0\n",
       "12 1991-01-31    1.0"
      ]
     },
     "execution_count": 864,
     "metadata": {},
     "output_type": "execute_result"
    }
   ],
   "source": [
    "df[['Dates','MOM_9']][8:].head()"
   ]
  },
  {
   "cell_type": "markdown",
   "metadata": {},
   "source": [
    "Following checks the result"
   ]
  },
  {
   "cell_type": "code",
   "execution_count": 865,
   "metadata": {},
   "outputs": [
    {
     "data": {
      "text/plain": [
       "8       NaN\n",
       "9    -25.08\n",
       "10    -9.67\n",
       "11    -9.72\n",
       "12    13.13\n",
       "Name: SPX Index, dtype: float64"
      ]
     },
     "execution_count": 865,
     "metadata": {},
     "output_type": "execute_result"
    }
   ],
   "source": [
    "(other_df['SPX Index']-other_df['SPX Index'].shift(9))[8:].head()"
   ]
  },
  {
   "cell_type": "markdown",
   "metadata": {},
   "source": [
    "### 2.6.2 MOM(12)\n",
    "If the difference between `SPX Index` and its 12 months lagged value is positive then assign 1. Otherwise assign 0."
   ]
  },
  {
   "cell_type": "code",
   "execution_count": 866,
   "metadata": {},
   "outputs": [],
   "source": [
    "MOM_12_nan = (other_df['SPX Index']-other_df['SPX Index'].shift(12)\n",
    "            ).apply(lambda x: np.nan if np.isnan(x) else 0)\n",
    "df['MOM_12']=(other_df['SPX Index']-other_df['SPX Index'].shift(12)\n",
    "            ).apply(lambda x: 1 if x>0 else 0) + MOM_12_nan"
   ]
  },
  {
   "cell_type": "code",
   "execution_count": 867,
   "metadata": {},
   "outputs": [
    {
     "data": {
      "text/html": [
       "<div>\n",
       "<style scoped>\n",
       "    .dataframe tbody tr th:only-of-type {\n",
       "        vertical-align: middle;\n",
       "    }\n",
       "\n",
       "    .dataframe tbody tr th {\n",
       "        vertical-align: top;\n",
       "    }\n",
       "\n",
       "    .dataframe thead th {\n",
       "        text-align: right;\n",
       "    }\n",
       "</style>\n",
       "<table border=\"1\" class=\"dataframe\">\n",
       "  <thead>\n",
       "    <tr style=\"text-align: right;\">\n",
       "      <th></th>\n",
       "      <th>Dates</th>\n",
       "      <th>MOM_12</th>\n",
       "    </tr>\n",
       "  </thead>\n",
       "  <tbody>\n",
       "    <tr>\n",
       "      <th>11</th>\n",
       "      <td>1990-12-31</td>\n",
       "      <td>NaN</td>\n",
       "    </tr>\n",
       "    <tr>\n",
       "      <th>12</th>\n",
       "      <td>1991-01-31</td>\n",
       "      <td>1.0</td>\n",
       "    </tr>\n",
       "    <tr>\n",
       "      <th>13</th>\n",
       "      <td>1991-02-28</td>\n",
       "      <td>1.0</td>\n",
       "    </tr>\n",
       "    <tr>\n",
       "      <th>14</th>\n",
       "      <td>1991-03-29</td>\n",
       "      <td>1.0</td>\n",
       "    </tr>\n",
       "    <tr>\n",
       "      <th>15</th>\n",
       "      <td>1991-04-30</td>\n",
       "      <td>1.0</td>\n",
       "    </tr>\n",
       "  </tbody>\n",
       "</table>\n",
       "</div>"
      ],
      "text/plain": [
       "        Dates  MOM_12\n",
       "11 1990-12-31     NaN\n",
       "12 1991-01-31     1.0\n",
       "13 1991-02-28     1.0\n",
       "14 1991-03-29     1.0\n",
       "15 1991-04-30     1.0"
      ]
     },
     "execution_count": 867,
     "metadata": {},
     "output_type": "execute_result"
    }
   ],
   "source": [
    "df[['Dates','MOM_12']][11:].head()"
   ]
  },
  {
   "cell_type": "markdown",
   "metadata": {},
   "source": [
    "### 2.7 Output Gap"
   ]
  },
  {
   "cell_type": "markdown",
   "metadata": {},
   "source": [
    "The deviation of the log of industrial production from a quadratic trend.\n",
    "<br>\n",
    "I believe this data is available from Bloomberg Terminal. \n",
    "However, it is simple to compute. Therefore, I decided to simply compute it.\n",
    "<br>\n",
    "A quadratic trend is of the following form:\n",
    "<br>\n",
    "$$ y_{t} = \\beta_{0} + \\beta_{0}x_{t} + \\beta_{0}x_{t}^2 +\\epsilon_{t} $$\n",
    "<br>\n",
    "$\\widehat{\\beta}$ is estimated by $$\\widehat{\\beta} = (X^{T}X)^{-1}X^{T}y  $$\n",
    "\n",
    "following provides an illustration of this estimation procedure.\n",
    "\n"
   ]
  },
  {
   "cell_type": "code",
   "execution_count": 1092,
   "metadata": {},
   "outputs": [],
   "source": [
    "def beta_est(obs):\n",
    "    \"\"\"\n",
    "    estimates beta of ols to minimize l2 norm\n",
    "    \"\"\"\n",
    "    y = np.log(other_df['IP Index'].dropna())[:obs]\n",
    "    X = np.concatenate((np.ones(obs).reshape(-1,1),np.arange(obs).reshape(-1,1)),axis=1)\n",
    "    X = np.concatenate((X,(np.arange(obs)**2).reshape(-1,1)),axis=1)\n",
    "    beta_hat = np.dot(np.matmul(np.linalg.inv(1e-6 *np.eye(3) + np.matmul(X.transpose(),X)),\n",
    "                                X.transpose()),y.values.reshape(-1,1))\n",
    "    return beta_hat"
   ]
  },
  {
   "cell_type": "code",
   "execution_count": 868,
   "metadata": {},
   "outputs": [
    {
     "data": {
      "text/plain": [
       "<matplotlib.legend.Legend at 0x124b8b6a0>"
      ]
     },
     "execution_count": 868,
     "metadata": {},
     "output_type": "execute_result"
    },
    {
     "data": {
      "image/png": "[encoded data removed]",
      "text/plain": [
       "<Figure size 432x288 with 1 Axes>"
      ]
     },
     "metadata": {
      "needs_background": "light"
     },
     "output_type": "display_data"
    }
   ],
   "source": [
    "n = len(np.log(other_df['IP Index'].dropna()))\n",
    "X = np.concatenate((np.ones(n).reshape(-1,1),np.arange(n).reshape(-1,1)),axis=1)\n",
    "X = np.concatenate((X,(np.arange(n)**2).reshape(-1,1)),axis=1)\n",
    "y_pred = np.matmul(X,beta_hat)\n",
    "y = np.log(other_df['IP Index'].dropna())\n",
    "plot_df = np.concatenate((np.arange(n).reshape(-1,1),y.values.reshape(-1,1),y_pred),axis=1)\n",
    "plot_df = pd.DataFrame(plot_df)\n",
    "plot_df.columns = ['obs','log(IP)','predicted log(IP)']\n",
    "plt.plot('obs','log(IP)',data=plot_df)\n",
    "plt.plot('obs','predicted log(IP)',data=plot_df)\n",
    "plt.legend()"
   ]
  },
  {
   "cell_type": "markdown",
   "metadata": {},
   "source": [
    "However, the research estimates $\\widehat{\\beta}$ from data available up to each point in time. Thus, I will repeat the calculation above to every time step."
   ]
  },
  {
   "cell_type": "code",
   "execution_count": 1093,
   "metadata": {},
   "outputs": [],
   "source": [
    "def output_gap_computer(obs):\n",
    "    \"\"\"\n",
    "    computes the deviation of the log of industrial production from a quadratic trend.\n",
    "    \"\"\"\n",
    "    return y[obs]-np.dot(X[:obs],beta_est(obs))[-1]"
   ]
  },
  {
   "cell_type": "code",
   "execution_count": 870,
   "metadata": {},
   "outputs": [],
   "source": [
    "# Next Cell parallelize for loop. It is equivalent to\n",
    "\n",
    "# output_gap2 = []\n",
    "# for i in range(1,n+1):\n",
    "#     output_gap2 += [output_gap_computer(i)]"
   ]
  },
  {
   "cell_type": "code",
   "execution_count": 871,
   "metadata": {},
   "outputs": [],
   "source": [
    "pool = multiprocessing.Pool(4)\n",
    "output_gap =[*pool.map(output_gap_computer, range(1, n+1))]"
   ]
  },
  {
   "cell_type": "code",
   "execution_count": 872,
   "metadata": {},
   "outputs": [],
   "source": [
    "df['output_gap']=np.concatenate(([np.nan],np.array(output_gap).reshape(-1)))"
   ]
  },
  {
   "cell_type": "markdown",
   "metadata": {},
   "source": [
    "### 2.7 SPX Index return\n"
   ]
  },
  {
   "cell_type": "code",
   "execution_count": 1292,
   "metadata": {},
   "outputs": [
    {
     "data": {
      "text/html": [
       "<div>\n",
       "<style scoped>\n",
       "    .dataframe tbody tr th:only-of-type {\n",
       "        vertical-align: middle;\n",
       "    }\n",
       "\n",
       "    .dataframe tbody tr th {\n",
       "        vertical-align: top;\n",
       "    }\n",
       "\n",
       "    .dataframe thead th {\n",
       "        text-align: right;\n",
       "    }\n",
       "</style>\n",
       "<table border=\"1\" class=\"dataframe\">\n",
       "  <thead>\n",
       "    <tr style=\"text-align: right;\">\n",
       "      <th></th>\n",
       "      <th>Dates</th>\n",
       "      <th>r_SPX</th>\n",
       "    </tr>\n",
       "  </thead>\n",
       "  <tbody>\n",
       "    <tr>\n",
       "      <th>0</th>\n",
       "      <td>NaT</td>\n",
       "      <td>NaN</td>\n",
       "    </tr>\n",
       "    <tr>\n",
       "      <th>1</th>\n",
       "      <td>1990-02-28</td>\n",
       "      <td>0.008539</td>\n",
       "    </tr>\n",
       "    <tr>\n",
       "      <th>2</th>\n",
       "      <td>1990-03-30</td>\n",
       "      <td>0.024255</td>\n",
       "    </tr>\n",
       "    <tr>\n",
       "      <th>3</th>\n",
       "      <td>1990-04-30</td>\n",
       "      <td>-0.026887</td>\n",
       "    </tr>\n",
       "    <tr>\n",
       "      <th>4</th>\n",
       "      <td>1990-05-31</td>\n",
       "      <td>0.091989</td>\n",
       "    </tr>\n",
       "  </tbody>\n",
       "</table>\n",
       "</div>"
      ],
      "text/plain": [
       "       Dates     r_SPX\n",
       "0        NaT       NaN\n",
       "1 1990-02-28  0.008539\n",
       "2 1990-03-30  0.024255\n",
       "3 1990-04-30 -0.026887\n",
       "4 1990-05-31  0.091989"
      ]
     },
     "execution_count": 1292,
     "metadata": {},
     "output_type": "execute_result"
    }
   ],
   "source": [
    "df['r_SPX'] = other_df['SPX Index'].pct_change()\n",
    "df[['Dates','r_SPX']].head()"
   ]
  },
  {
   "cell_type": "markdown",
   "metadata": {},
   "source": [
    "### 2.8 Bond return and yield"
   ]
  },
  {
   "cell_type": "code",
   "execution_count": null,
   "metadata": {},
   "outputs": [],
   "source": [
    "def compound_return(cum_return):\n",
    "    sol = (cum_return.values/100 + 1)\n",
    "    for i in range(2,len(sol)):\n",
    "       sol[i] = sol[i]/sol[:i].prod()\n",
    "    return sol - 1\n",
    "compound_return(df_tmp2['Cumulative Return %'])\n"
   ]
  },
  {
   "cell_type": "code",
   "execution_count": 1792,
   "metadata": {},
   "outputs": [
    {
     "data": {
      "text/html": [
       "<div>\n",
       "<style scoped>\n",
       "    .dataframe tbody tr th:only-of-type {\n",
       "        vertical-align: middle;\n",
       "    }\n",
       "\n",
       "    .dataframe tbody tr th {\n",
       "        vertical-align: top;\n",
       "    }\n",
       "\n",
       "    .dataframe thead th {\n",
       "        text-align: right;\n",
       "    }\n",
       "</style>\n",
       "<table border=\"1\" class=\"dataframe\">\n",
       "  <thead>\n",
       "    <tr style=\"text-align: right;\">\n",
       "      <th></th>\n",
       "      <th>Date</th>\n",
       "      <th>Close</th>\n",
       "      <th>Volume</th>\n",
       "      <th>Change</th>\n",
       "      <th>% Change</th>\n",
       "      <th>Total Return (Gross)</th>\n",
       "      <th>Cumulative Return %</th>\n",
       "      <th>Open</th>\n",
       "      <th>High</th>\n",
       "      <th>Low</th>\n",
       "    </tr>\n",
       "  </thead>\n",
       "  <tbody>\n",
       "    <tr>\n",
       "      <th>0</th>\n",
       "      <td>1990-01-31</td>\n",
       "      <td>8.43</td>\n",
       "      <td>NaN</td>\n",
       "      <td>NaN</td>\n",
       "      <td>NaN</td>\n",
       "      <td>8.43</td>\n",
       "      <td>0.000000</td>\n",
       "      <td>NaN</td>\n",
       "      <td>NaN</td>\n",
       "      <td>NaN</td>\n",
       "    </tr>\n",
       "    <tr>\n",
       "      <th>1</th>\n",
       "      <td>1990-02-28</td>\n",
       "      <td>8.51</td>\n",
       "      <td>NaN</td>\n",
       "      <td>0.080000</td>\n",
       "      <td>0.948991</td>\n",
       "      <td>8.51</td>\n",
       "      <td>0.948992</td>\n",
       "      <td>NaN</td>\n",
       "      <td>NaN</td>\n",
       "      <td>NaN</td>\n",
       "    </tr>\n",
       "    <tr>\n",
       "      <th>2</th>\n",
       "      <td>1990-03-30</td>\n",
       "      <td>8.65</td>\n",
       "      <td>NaN</td>\n",
       "      <td>0.139999</td>\n",
       "      <td>1.645116</td>\n",
       "      <td>8.65</td>\n",
       "      <td>2.609727</td>\n",
       "      <td>NaN</td>\n",
       "      <td>NaN</td>\n",
       "      <td>NaN</td>\n",
       "    </tr>\n",
       "    <tr>\n",
       "      <th>3</th>\n",
       "      <td>1990-04-30</td>\n",
       "      <td>9.04</td>\n",
       "      <td>NaN</td>\n",
       "      <td>0.390000</td>\n",
       "      <td>4.508675</td>\n",
       "      <td>9.04</td>\n",
       "      <td>7.236062</td>\n",
       "      <td>NaN</td>\n",
       "      <td>NaN</td>\n",
       "      <td>NaN</td>\n",
       "    </tr>\n",
       "    <tr>\n",
       "      <th>4</th>\n",
       "      <td>1990-05-31</td>\n",
       "      <td>8.60</td>\n",
       "      <td>NaN</td>\n",
       "      <td>-0.440000</td>\n",
       "      <td>-4.867252</td>\n",
       "      <td>8.60</td>\n",
       "      <td>2.016607</td>\n",
       "      <td>NaN</td>\n",
       "      <td>NaN</td>\n",
       "      <td>NaN</td>\n",
       "    </tr>\n",
       "  </tbody>\n",
       "</table>\n",
       "</div>"
      ],
      "text/plain": [
       "        Date  Close  Volume    Change  % Change  Total Return (Gross)  \\\n",
       "0 1990-01-31   8.43     NaN       NaN       NaN                  8.43   \n",
       "1 1990-02-28   8.51     NaN  0.080000  0.948991                  8.51   \n",
       "2 1990-03-30   8.65     NaN  0.139999  1.645116                  8.65   \n",
       "3 1990-04-30   9.04     NaN  0.390000  4.508675                  9.04   \n",
       "4 1990-05-31   8.60     NaN -0.440000 -4.867252                  8.60   \n",
       "\n",
       "   Cumulative Return %  Open  High  Low  \n",
       "0             0.000000   NaN   NaN  NaN  \n",
       "1             0.948992   NaN   NaN  NaN  \n",
       "2             2.609727   NaN   NaN  NaN  \n",
       "3             7.236062   NaN   NaN  NaN  \n",
       "4             2.016607   NaN   NaN  NaN  "
      ]
     },
     "execution_count": 1792,
     "metadata": {},
     "output_type": "execute_result"
    }
   ],
   "source": [
    "df_tmp = process_xlsx('./facset/US10YY-TU1.xlsx','Bonds')\n",
    "df_tmp.head()"
   ]
  },
  {
   "cell_type": "code",
   "execution_count": 1797,
   "metadata": {},
   "outputs": [
    {
     "data": {
      "text/html": [
       "<div>\n",
       "<style scoped>\n",
       "    .dataframe tbody tr th:only-of-type {\n",
       "        vertical-align: middle;\n",
       "    }\n",
       "\n",
       "    .dataframe tbody tr th {\n",
       "        vertical-align: top;\n",
       "    }\n",
       "\n",
       "    .dataframe thead th {\n",
       "        text-align: right;\n",
       "    }\n",
       "</style>\n",
       "<table border=\"1\" class=\"dataframe\">\n",
       "  <thead>\n",
       "    <tr style=\"text-align: right;\">\n",
       "      <th></th>\n",
       "      <th>Dates</th>\n",
       "      <th>y_bond</th>\n",
       "    </tr>\n",
       "  </thead>\n",
       "  <tbody>\n",
       "    <tr>\n",
       "      <th>0</th>\n",
       "      <td>NaT</td>\n",
       "      <td>0.0774</td>\n",
       "    </tr>\n",
       "    <tr>\n",
       "      <th>1</th>\n",
       "      <td>1990-02-28</td>\n",
       "      <td>0.0777</td>\n",
       "    </tr>\n",
       "    <tr>\n",
       "      <th>2</th>\n",
       "      <td>1990-03-30</td>\n",
       "      <td>0.0780</td>\n",
       "    </tr>\n",
       "    <tr>\n",
       "      <th>3</th>\n",
       "      <td>1990-04-30</td>\n",
       "      <td>0.0779</td>\n",
       "    </tr>\n",
       "    <tr>\n",
       "      <th>4</th>\n",
       "      <td>1990-05-31</td>\n",
       "      <td>0.0775</td>\n",
       "    </tr>\n",
       "  </tbody>\n",
       "</table>\n",
       "</div>"
      ],
      "text/plain": [
       "       Dates  y_bond\n",
       "0        NaT  0.0774\n",
       "1 1990-02-28  0.0777\n",
       "2 1990-03-30  0.0780\n",
       "3 1990-04-30  0.0779\n",
       "4 1990-05-31  0.0775"
      ]
     },
     "execution_count": 1797,
     "metadata": {},
     "output_type": "execute_result"
    }
   ],
   "source": [
    "df['y_bond'] = df_tmp['Close']/100\n",
    "df[['Dates','y_bond']].head()"
   ]
  },
  {
   "cell_type": "code",
   "execution_count": 1799,
   "metadata": {},
   "outputs": [
    {
     "data": {
      "text/html": [
       "<div>\n",
       "<style scoped>\n",
       "    .dataframe tbody tr th:only-of-type {\n",
       "        vertical-align: middle;\n",
       "    }\n",
       "\n",
       "    .dataframe tbody tr th {\n",
       "        vertical-align: top;\n",
       "    }\n",
       "\n",
       "    .dataframe thead th {\n",
       "        text-align: right;\n",
       "    }\n",
       "</style>\n",
       "<table border=\"1\" class=\"dataframe\">\n",
       "  <thead>\n",
       "    <tr style=\"text-align: right;\">\n",
       "      <th></th>\n",
       "      <th>Dates</th>\n",
       "      <th>r_bond</th>\n",
       "    </tr>\n",
       "  </thead>\n",
       "  <tbody>\n",
       "    <tr>\n",
       "      <th>0</th>\n",
       "      <td>NaT</td>\n",
       "      <td>0.000000</td>\n",
       "    </tr>\n",
       "    <tr>\n",
       "      <th>1</th>\n",
       "      <td>1990-02-28</td>\n",
       "      <td>0.003876</td>\n",
       "    </tr>\n",
       "    <tr>\n",
       "      <th>2</th>\n",
       "      <td>1990-03-30</td>\n",
       "      <td>0.003861</td>\n",
       "    </tr>\n",
       "    <tr>\n",
       "      <th>3</th>\n",
       "      <td>1990-04-30</td>\n",
       "      <td>-0.001282</td>\n",
       "    </tr>\n",
       "    <tr>\n",
       "      <th>4</th>\n",
       "      <td>1990-05-31</td>\n",
       "      <td>-0.005135</td>\n",
       "    </tr>\n",
       "  </tbody>\n",
       "</table>\n",
       "</div>"
      ],
      "text/plain": [
       "       Dates    r_bond\n",
       "0        NaT  0.000000\n",
       "1 1990-02-28  0.003876\n",
       "2 1990-03-30  0.003861\n",
       "3 1990-04-30 -0.001282\n",
       "4 1990-05-31 -0.005135"
      ]
     },
     "execution_count": 1799,
     "metadata": {},
     "output_type": "execute_result"
    }
   ],
   "source": [
    "df['r_bond'] = compound_return(df_tmp['Cumulative Return %'])\n",
    "df[['Dates','r_bond']].head()"
   ]
  },
  {
   "cell_type": "markdown",
   "metadata": {},
   "source": [
    "To check the comulative_return function indeed takes cumulative return as input and computes the compounding rate of return: I will manually compute `r_bond` on `1990-03-30`. The numbers correspond to cumulative returns as can be seen from the cell below:\n",
    "<br>\n",
    "$$ (1+ 0.007752) = (1 + 0.003876)(1 + r) \\Rightarrow r = 0.003861$$\n",
    "$$ (1 + 0.006460) = (1 + 0.003876)(1 + 0.003861)(1 + r) \\Rightarrow r = -0.001282 $$\n",
    "\n"
   ]
  },
  {
   "cell_type": "code",
   "execution_count": 1810,
   "metadata": {},
   "outputs": [
    {
     "data": {
      "text/plain": [
       "0    1.000000\n",
       "1    1.003876\n",
       "2    1.007752\n",
       "3    1.006460\n",
       "4    1.001292\n",
       "Name: Cumulative Return %, dtype: float64"
      ]
     },
     "execution_count": 1810,
     "metadata": {},
     "output_type": "execute_result"
    }
   ],
   "source": [
    "(df_tmp['Cumulative Return %']/100 + 1).head()"
   ]
  },
  {
   "cell_type": "markdown",
   "metadata": {},
   "source": [
    "### 2. Bill return and yield"
   ]
  },
  {
   "cell_type": "code",
   "execution_count": 1793,
   "metadata": {},
   "outputs": [
    {
     "data": {
      "text/html": [
       "<div>\n",
       "<style scoped>\n",
       "    .dataframe tbody tr th:only-of-type {\n",
       "        vertical-align: middle;\n",
       "    }\n",
       "\n",
       "    .dataframe tbody tr th {\n",
       "        vertical-align: top;\n",
       "    }\n",
       "\n",
       "    .dataframe thead th {\n",
       "        text-align: right;\n",
       "    }\n",
       "</style>\n",
       "<table border=\"1\" class=\"dataframe\">\n",
       "  <thead>\n",
       "    <tr style=\"text-align: right;\">\n",
       "      <th></th>\n",
       "      <th>Date</th>\n",
       "      <th>Close</th>\n",
       "      <th>Volume</th>\n",
       "      <th>Change</th>\n",
       "      <th>% Change</th>\n",
       "      <th>Total Return (Gross)</th>\n",
       "      <th>Cumulative Return %</th>\n",
       "      <th>Open</th>\n",
       "      <th>High</th>\n",
       "      <th>Low</th>\n",
       "    </tr>\n",
       "  </thead>\n",
       "  <tbody>\n",
       "    <tr>\n",
       "      <th>0</th>\n",
       "      <td>1990-01-31</td>\n",
       "      <td>7.74</td>\n",
       "      <td>NaN</td>\n",
       "      <td>NaN</td>\n",
       "      <td>NaN</td>\n",
       "      <td>7.74</td>\n",
       "      <td>0.000000</td>\n",
       "      <td>NaN</td>\n",
       "      <td>NaN</td>\n",
       "      <td>NaN</td>\n",
       "    </tr>\n",
       "    <tr>\n",
       "      <th>1</th>\n",
       "      <td>1990-02-28</td>\n",
       "      <td>7.77</td>\n",
       "      <td>NaN</td>\n",
       "      <td>0.03</td>\n",
       "      <td>0.387600</td>\n",
       "      <td>7.77</td>\n",
       "      <td>0.387597</td>\n",
       "      <td>NaN</td>\n",
       "      <td>NaN</td>\n",
       "      <td>NaN</td>\n",
       "    </tr>\n",
       "    <tr>\n",
       "      <th>2</th>\n",
       "      <td>1990-03-30</td>\n",
       "      <td>7.80</td>\n",
       "      <td>NaN</td>\n",
       "      <td>0.03</td>\n",
       "      <td>0.386103</td>\n",
       "      <td>7.80</td>\n",
       "      <td>0.775194</td>\n",
       "      <td>NaN</td>\n",
       "      <td>NaN</td>\n",
       "      <td>NaN</td>\n",
       "    </tr>\n",
       "    <tr>\n",
       "      <th>3</th>\n",
       "      <td>1990-04-30</td>\n",
       "      <td>7.79</td>\n",
       "      <td>NaN</td>\n",
       "      <td>-0.01</td>\n",
       "      <td>-0.128208</td>\n",
       "      <td>7.79</td>\n",
       "      <td>0.645995</td>\n",
       "      <td>NaN</td>\n",
       "      <td>NaN</td>\n",
       "      <td>NaN</td>\n",
       "    </tr>\n",
       "    <tr>\n",
       "      <th>4</th>\n",
       "      <td>1990-05-31</td>\n",
       "      <td>7.75</td>\n",
       "      <td>NaN</td>\n",
       "      <td>-0.04</td>\n",
       "      <td>-0.513478</td>\n",
       "      <td>7.75</td>\n",
       "      <td>0.129199</td>\n",
       "      <td>NaN</td>\n",
       "      <td>NaN</td>\n",
       "      <td>NaN</td>\n",
       "    </tr>\n",
       "  </tbody>\n",
       "</table>\n",
       "</div>"
      ],
      "text/plain": [
       "        Date  Close  Volume  Change  % Change  Total Return (Gross)  \\\n",
       "0 1990-01-31   7.74     NaN     NaN       NaN                  7.74   \n",
       "1 1990-02-28   7.77     NaN    0.03  0.387600                  7.77   \n",
       "2 1990-03-30   7.80     NaN    0.03  0.386103                  7.80   \n",
       "3 1990-04-30   7.79     NaN   -0.01 -0.128208                  7.79   \n",
       "4 1990-05-31   7.75     NaN   -0.04 -0.513478                  7.75   \n",
       "\n",
       "   Cumulative Return %  Open  High  Low  \n",
       "0             0.000000   NaN   NaN  NaN  \n",
       "1             0.387597   NaN   NaN  NaN  \n",
       "2             0.775194   NaN   NaN  NaN  \n",
       "3             0.645995   NaN   NaN  NaN  \n",
       "4             0.129199   NaN   NaN  NaN  "
      ]
     },
     "execution_count": 1793,
     "metadata": {},
     "output_type": "execute_result"
    }
   ],
   "source": [
    "df_tmp2 = process_xlsx('./facset/TRYUS3M-FDS.xlsx','Bills')\n",
    "df_tmp2.head()"
   ]
  },
  {
   "cell_type": "code",
   "execution_count": 1811,
   "metadata": {},
   "outputs": [
    {
     "data": {
      "text/html": [
       "<div>\n",
       "<style scoped>\n",
       "    .dataframe tbody tr th:only-of-type {\n",
       "        vertical-align: middle;\n",
       "    }\n",
       "\n",
       "    .dataframe tbody tr th {\n",
       "        vertical-align: top;\n",
       "    }\n",
       "\n",
       "    .dataframe thead th {\n",
       "        text-align: right;\n",
       "    }\n",
       "</style>\n",
       "<table border=\"1\" class=\"dataframe\">\n",
       "  <thead>\n",
       "    <tr style=\"text-align: right;\">\n",
       "      <th></th>\n",
       "      <th>Dates</th>\n",
       "      <th>y_bill</th>\n",
       "    </tr>\n",
       "  </thead>\n",
       "  <tbody>\n",
       "    <tr>\n",
       "      <th>0</th>\n",
       "      <td>NaT</td>\n",
       "      <td>0.0774</td>\n",
       "    </tr>\n",
       "    <tr>\n",
       "      <th>1</th>\n",
       "      <td>1990-02-28</td>\n",
       "      <td>0.0777</td>\n",
       "    </tr>\n",
       "    <tr>\n",
       "      <th>2</th>\n",
       "      <td>1990-03-30</td>\n",
       "      <td>0.0780</td>\n",
       "    </tr>\n",
       "    <tr>\n",
       "      <th>3</th>\n",
       "      <td>1990-04-30</td>\n",
       "      <td>0.0779</td>\n",
       "    </tr>\n",
       "    <tr>\n",
       "      <th>4</th>\n",
       "      <td>1990-05-31</td>\n",
       "      <td>0.0775</td>\n",
       "    </tr>\n",
       "  </tbody>\n",
       "</table>\n",
       "</div>"
      ],
      "text/plain": [
       "       Dates  y_bill\n",
       "0        NaT  0.0774\n",
       "1 1990-02-28  0.0777\n",
       "2 1990-03-30  0.0780\n",
       "3 1990-04-30  0.0779\n",
       "4 1990-05-31  0.0775"
      ]
     },
     "execution_count": 1811,
     "metadata": {},
     "output_type": "execute_result"
    }
   ],
   "source": [
    "df['y_bill'] = df_tmp['Close']/100\n",
    "df[['Dates','y_bill']].head()"
   ]
  },
  {
   "cell_type": "code",
   "execution_count": 1812,
   "metadata": {},
   "outputs": [
    {
     "data": {
      "text/html": [
       "<div>\n",
       "<style scoped>\n",
       "    .dataframe tbody tr th:only-of-type {\n",
       "        vertical-align: middle;\n",
       "    }\n",
       "\n",
       "    .dataframe tbody tr th {\n",
       "        vertical-align: top;\n",
       "    }\n",
       "\n",
       "    .dataframe thead th {\n",
       "        text-align: right;\n",
       "    }\n",
       "</style>\n",
       "<table border=\"1\" class=\"dataframe\">\n",
       "  <thead>\n",
       "    <tr style=\"text-align: right;\">\n",
       "      <th></th>\n",
       "      <th>Dates</th>\n",
       "      <th>r_bill</th>\n",
       "    </tr>\n",
       "  </thead>\n",
       "  <tbody>\n",
       "    <tr>\n",
       "      <th>0</th>\n",
       "      <td>NaT</td>\n",
       "      <td>0.000000</td>\n",
       "    </tr>\n",
       "    <tr>\n",
       "      <th>1</th>\n",
       "      <td>1990-02-28</td>\n",
       "      <td>0.003876</td>\n",
       "    </tr>\n",
       "    <tr>\n",
       "      <th>2</th>\n",
       "      <td>1990-03-30</td>\n",
       "      <td>0.003861</td>\n",
       "    </tr>\n",
       "    <tr>\n",
       "      <th>3</th>\n",
       "      <td>1990-04-30</td>\n",
       "      <td>-0.001282</td>\n",
       "    </tr>\n",
       "    <tr>\n",
       "      <th>4</th>\n",
       "      <td>1990-05-31</td>\n",
       "      <td>-0.005135</td>\n",
       "    </tr>\n",
       "  </tbody>\n",
       "</table>\n",
       "</div>"
      ],
      "text/plain": [
       "       Dates    r_bill\n",
       "0        NaT  0.000000\n",
       "1 1990-02-28  0.003876\n",
       "2 1990-03-30  0.003861\n",
       "3 1990-04-30 -0.001282\n",
       "4 1990-05-31 -0.005135"
      ]
     },
     "execution_count": 1812,
     "metadata": {},
     "output_type": "execute_result"
    }
   ],
   "source": [
    "df['r_bill'] = compound_return(df_tmp['Cumulative Return %'])\n",
    "df[['Dates','r_bill']].head()"
   ]
  },
  {
   "cell_type": "markdown",
   "metadata": {},
   "source": [
    "## 3. Return Forecasts"
   ]
  },
  {
   "cell_type": "markdown",
   "metadata": {},
   "source": [
    "After preprocessing available data is from 1991-03-29 to 2019-07-31"
   ]
  },
  {
   "cell_type": "code",
   "execution_count": 1814,
   "metadata": {},
   "outputs": [
    {
     "data": {
      "text/html": [
       "<div>\n",
       "<style scoped>\n",
       "    .dataframe tbody tr th:only-of-type {\n",
       "        vertical-align: middle;\n",
       "    }\n",
       "\n",
       "    .dataframe tbody tr th {\n",
       "        vertical-align: top;\n",
       "    }\n",
       "\n",
       "    .dataframe thead th {\n",
       "        text-align: right;\n",
       "    }\n",
       "</style>\n",
       "<table border=\"1\" class=\"dataframe\">\n",
       "  <thead>\n",
       "    <tr style=\"text-align: right;\">\n",
       "      <th></th>\n",
       "      <th>Dates</th>\n",
       "      <th>log_DP</th>\n",
       "      <th>inflation</th>\n",
       "      <th>Term_Spread</th>\n",
       "      <th>Default_Spread</th>\n",
       "      <th>MA_1_12</th>\n",
       "      <th>MA_2_12</th>\n",
       "      <th>MOMBY_6</th>\n",
       "      <th>MOMBY_12</th>\n",
       "      <th>MOM_9</th>\n",
       "      <th>MOM_12</th>\n",
       "      <th>output_gap</th>\n",
       "      <th>r_SPX</th>\n",
       "      <th>r_bond</th>\n",
       "      <th>r_bill</th>\n",
       "      <th>y_bond</th>\n",
       "      <th>y_bill</th>\n",
       "    </tr>\n",
       "  </thead>\n",
       "  <tbody>\n",
       "    <tr>\n",
       "      <th>0</th>\n",
       "      <td>1991-03-29</td>\n",
       "      <td>-3.184739</td>\n",
       "      <td>0.000742</td>\n",
       "      <td>2.128</td>\n",
       "      <td>1.16</td>\n",
       "      <td>1.0</td>\n",
       "      <td>1.0</td>\n",
       "      <td>1.0</td>\n",
       "      <td>1.0</td>\n",
       "      <td>1.0</td>\n",
       "      <td>1.0</td>\n",
       "      <td>0.003305</td>\n",
       "      <td>0.022203</td>\n",
       "      <td>-0.049669</td>\n",
       "      <td>-0.049669</td>\n",
       "      <td>0.0574</td>\n",
       "      <td>0.0574</td>\n",
       "    </tr>\n",
       "    <tr>\n",
       "      <th>1</th>\n",
       "      <td>1991-04-30</td>\n",
       "      <td>-3.187664</td>\n",
       "      <td>0.000000</td>\n",
       "      <td>2.326</td>\n",
       "      <td>1.08</td>\n",
       "      <td>1.0</td>\n",
       "      <td>1.0</td>\n",
       "      <td>1.0</td>\n",
       "      <td>1.0</td>\n",
       "      <td>1.0</td>\n",
       "      <td>1.0</td>\n",
       "      <td>0.008409</td>\n",
       "      <td>0.000346</td>\n",
       "      <td>-0.040070</td>\n",
       "      <td>-0.040070</td>\n",
       "      <td>0.0551</td>\n",
       "      <td>0.0551</td>\n",
       "    </tr>\n",
       "    <tr>\n",
       "      <th>2</th>\n",
       "      <td>1991-05-31</td>\n",
       "      <td>-3.221650</td>\n",
       "      <td>0.002226</td>\n",
       "      <td>2.366</td>\n",
       "      <td>1.00</td>\n",
       "      <td>1.0</td>\n",
       "      <td>1.0</td>\n",
       "      <td>1.0</td>\n",
       "      <td>1.0</td>\n",
       "      <td>1.0</td>\n",
       "      <td>1.0</td>\n",
       "      <td>0.015507</td>\n",
       "      <td>0.038577</td>\n",
       "      <td>0.003630</td>\n",
       "      <td>0.003630</td>\n",
       "      <td>0.0553</td>\n",
       "      <td>0.0553</td>\n",
       "    </tr>\n",
       "    <tr>\n",
       "      <th>3</th>\n",
       "      <td>1991-06-28</td>\n",
       "      <td>-3.175793</td>\n",
       "      <td>0.003701</td>\n",
       "      <td>2.534</td>\n",
       "      <td>0.95</td>\n",
       "      <td>1.0</td>\n",
       "      <td>1.0</td>\n",
       "      <td>-1.0</td>\n",
       "      <td>1.0</td>\n",
       "      <td>1.0</td>\n",
       "      <td>1.0</td>\n",
       "      <td>0.018247</td>\n",
       "      <td>-0.047893</td>\n",
       "      <td>0.001808</td>\n",
       "      <td>0.001808</td>\n",
       "      <td>0.0554</td>\n",
       "      <td>0.0554</td>\n",
       "    </tr>\n",
       "    <tr>\n",
       "      <th>4</th>\n",
       "      <td>1991-07-31</td>\n",
       "      <td>-3.222907</td>\n",
       "      <td>0.002950</td>\n",
       "      <td>2.471</td>\n",
       "      <td>0.89</td>\n",
       "      <td>1.0</td>\n",
       "      <td>1.0</td>\n",
       "      <td>-1.0</td>\n",
       "      <td>1.0</td>\n",
       "      <td>1.0</td>\n",
       "      <td>1.0</td>\n",
       "      <td>0.014082</td>\n",
       "      <td>0.044859</td>\n",
       "      <td>-0.001805</td>\n",
       "      <td>-0.001805</td>\n",
       "      <td>0.0553</td>\n",
       "      <td>0.0553</td>\n",
       "    </tr>\n",
       "  </tbody>\n",
       "</table>\n",
       "</div>"
      ],
      "text/plain": [
       "       Dates    log_DP  inflation  Term_Spread  Default_Spread  MA_1_12  \\\n",
       "0 1991-03-29 -3.184739   0.000742        2.128            1.16      1.0   \n",
       "1 1991-04-30 -3.187664   0.000000        2.326            1.08      1.0   \n",
       "2 1991-05-31 -3.221650   0.002226        2.366            1.00      1.0   \n",
       "3 1991-06-28 -3.175793   0.003701        2.534            0.95      1.0   \n",
       "4 1991-07-31 -3.222907   0.002950        2.471            0.89      1.0   \n",
       "\n",
       "   MA_2_12  MOMBY_6  MOMBY_12  MOM_9  MOM_12  output_gap     r_SPX    r_bond  \\\n",
       "0      1.0      1.0       1.0    1.0     1.0    0.003305  0.022203 -0.049669   \n",
       "1      1.0      1.0       1.0    1.0     1.0    0.008409  0.000346 -0.040070   \n",
       "2      1.0      1.0       1.0    1.0     1.0    0.015507  0.038577  0.003630   \n",
       "3      1.0     -1.0       1.0    1.0     1.0    0.018247 -0.047893  0.001808   \n",
       "4      1.0     -1.0       1.0    1.0     1.0    0.014082  0.044859 -0.001805   \n",
       "\n",
       "     r_bill  y_bond  y_bill  \n",
       "0 -0.049669  0.0574  0.0574  \n",
       "1 -0.040070  0.0551  0.0551  \n",
       "2  0.003630  0.0553  0.0553  \n",
       "3  0.001808  0.0554  0.0554  \n",
       "4 -0.001805  0.0553  0.0553  "
      ]
     },
     "execution_count": 1814,
     "metadata": {},
     "output_type": "execute_result"
    }
   ],
   "source": [
    "processed_df = df.loc[14:].reset_index(drop=True)\n",
    "processed_df.head()"
   ]
  },
  {
   "cell_type": "markdown",
   "metadata": {},
   "source": [
    "### 3.1 Stock Returns"
   ]
  },
  {
   "cell_type": "markdown",
   "metadata": {},
   "source": [
    "First step is to find truncated PCA for different number of eigenvalues.\n",
    "<br>\n",
    "PCA is implemented on the following matrix. Each variable corresponds to a set of observations and hence is a column vector.\n",
    "<br>\n",
    "[ $log(\\frac{D}{P})$, Inflation, Term Spread, Default Spread, Output Gap, MA(1,12), MA(2,12), MOM(9), MOM(12) ] \n",
    "<br>"
   ]
  },
  {
   "cell_type": "markdown",
   "metadata": {},
   "source": [
    "Second step is to come up with a decision rule on how to truncate eigenvalues.\n",
    "The research paper utilizes (1) out-of-sample $R^2$ denoted as $R_{OS}^2$ and (2) Clark and West statistic.\n",
    "<br>\n",
    "where \n",
    "$$R_{OS}^2 = 1 - \\frac{\\sum_{t=1}^T (r_{t} - \\widehat{r}_{t})}{\\sum_{t=1}^T (r_{t} - \\overline{r}_{t-1})} $$\n",
    "and\n",
    "<br>\n",
    "<br>\n",
    "$\\widehat{r}_{t}$ is the fitted value using data up to t-1\n",
    "<br>\n",
    "$\\overline{r}_{t-1}$ is the historal average using data upto t-1\n",
    "<br>\n",
    "<br>\n",
    "Apart from $R_{OS}^2$, the paper utilizes Clark and West (2007) test. \n",
    "<br> Refer: Approximately Normal Tests for Equal Predictive Accuracy in Nested Models.\n",
    "<br> Clark and West claims that test of mean squared prediction error (MSPE) typically exhibits a stylised pattern. That is, `the MSPE under Null (parsimonious model) is relatively smaller than it is expected to be because of the efficiency of parsimonious model and noises from estimating more parameters`. Therefore, authors propose an alternative hypothesis test as following:\n",
    "<br>\n",
    "For the hypothesis testing <br>H0: Parsimonious model (constant) MSPE is equal to or better than that of the larger model, H1: Larger model is better.\n",
    "$$ \\hat{f}_{t+1} = (y_{t+1} - \\hat{y}_{\\text{pars:} t,t+1})^2 - [(y_{t+1} - \\hat{y}_{\\text{large:} t,t+1})^2 - (\\hat{y}_{\\text{pars:} t,t+1} - \\hat{y}_{\\text{large:} t,t+1})^2] $$\n",
    "$$ \\overline{f} = \\frac{1}{T}\\sum_{t=1}^{T}\\hat{f}_{t+1}$$\n",
    "$$ s_{\\hat{f}-\\overline{f}}^2 = \\frac{1}{T-1}\\sum_{t=1}^{T}(\\hat{f}_{t+1}-\\overline{f})^2 $$\n",
    "\n",
    "<br>Test statistics is: $$ CW = \\frac{\\overline{f}}{s_{\\hat{f}-\\overline{f}}/\\sqrt{T}}$$ <br> the mean of $\\hat{f}_{t+\\tau}$ denoted as $\\overline{\\hat{f}_{t+\\tau}}$ . With 10% significance level, reject null if $\\overline{\\hat{f}_{t+\\tau}}$ > 1.282. With 5% significance level, reject null if $\\overline{\\hat{f}_{t+\\tau}}$ > 1.645. For one step forecast errors, the usual least squares standard errors can be used. For autocorrelated forecast errors, an autocorrelation consistent standard error should be used."
   ]
  },
  {
   "cell_type": "code",
   "execution_count": 1678,
   "metadata": {},
   "outputs": [],
   "source": [
    "def truncated_PC(X,dim):\n",
    "    eig, V = np.linalg.eig(np.matmul(X.transpose(),X))\n",
    "    approx_X =  np.matmul(X,V[:,:dim])\n",
    "    return approx_X"
   ]
  },
  {
   "cell_type": "code",
   "execution_count": 1382,
   "metadata": {},
   "outputs": [],
   "source": [
    "def PC_approx_error(X,dim):\n",
    "    \"\"\"\n",
    "    PC approximation errors in terms of frobenius norms\n",
    "    \"\"\"\n",
    "    eig, V = np.linalg.eig(np.matmul(X.transpose,X))\n",
    "    approx_A =  np.matmul(np.matmul(V[:,:dim],\n",
    "                            np.diag(eig[:dim])),\n",
    "                            V[:,:dim].transpose())\n",
    "    error = np.linalg.norm(approx_A - A, ord='fro')\n",
    "    return error"
   ]
  },
  {
   "cell_type": "code",
   "execution_count": 1410,
   "metadata": {},
   "outputs": [],
   "source": [
    "def PC_fit(X,r,dim):\n",
    "    \"\"\"\n",
    "    estimates SPX Index return in a way that minimizes l2 norm\n",
    "    \"\"\"\n",
    "    beta = \\\n",
    "    np.matmul(\n",
    "        np.linalg.inv(1e-6*np.eye(dim) + np.matmul(X.transpose(),X)),\n",
    "        np.matmul(X.transpose(),r))\n",
    "    return beta"
   ]
  },
  {
   "cell_type": "code",
   "execution_count": 1316,
   "metadata": {},
   "outputs": [],
   "source": [
    "def R_squared_OS(r):\n",
    "    np.matmul(X.transpose(),X)\n",
    "    "
   ]
  },
  {
   "cell_type": "markdown",
   "metadata": {},
   "source": [
    "### 3.1.1 Principle Component Regression"
   ]
  },
  {
   "cell_type": "code",
   "execution_count": 1813,
   "metadata": {},
   "outputs": [],
   "source": [
    "stock_explanatory_variables = ['log_DP','inflation','Term_Spread','Default_Spread',\\\n",
    "                               'output_gap','MA_1_12','MA_2_12','MOM_9','MOM_12']\n",
    "X = processed_df[stock_explanatory_variables].values"
   ]
  },
  {
   "cell_type": "markdown",
   "metadata": {},
   "source": [
    "The plot of PC approximation errors in terms of frobenius norm is as following:"
   ]
  },
  {
   "cell_type": "code",
   "execution_count": 1369,
   "metadata": {},
   "outputs": [
    {
     "data": {
      "text/plain": [
       "<matplotlib.legend.Legend at 0x126271cc0>"
      ]
     },
     "execution_count": 1369,
     "metadata": {},
     "output_type": "execute_result"
    },
    {
     "data": {
      "image/png": "[encoded data removed]",
      "text/plain": [
       "<Figure size 432x288 with 1 Axes>"
      ]
     },
     "metadata": {
      "needs_background": "light"
     },
     "output_type": "display_data"
    }
   ],
   "source": [
    "PC_plot_df = pd.DataFrame([])\n",
    "PC_plot_df['dim'] = range(3,X.shape[1]+1) \n",
    "PC_plot_df['approx_error'] = [PC_approx_error(X,dim) for dim \\\n",
    "                               in range(3,X.shape[1]+1)]\n",
    "plt.plot('dim','approx_error',data=PC_plot_df)\n",
    "plt.title(\"Principle Component Approximation of X'X\")\n",
    "plt.legend()"
   ]
  },
  {
   "cell_type": "markdown",
   "metadata": {},
   "source": [
    "Above plot confirms that the principle component approximation works as expected"
   ]
  },
  {
   "cell_type": "markdown",
   "metadata": {},
   "source": [
    "Following figures compare actual return with estimated return based on PC regression."
   ]
  },
  {
   "cell_type": "code",
   "execution_count": 1419,
   "metadata": {
    "scrolled": true
   },
   "outputs": [
    {
     "data": {
      "image/png": "[encoded data removed]",
      "text/plain": [
       "<Figure size 432x288 with 1 Axes>"
      ]
     },
     "metadata": {
      "needs_background": "light"
     },
     "output_type": "display_data"
    },
    {
     "data": {
      "image/png": "[encoded data removed]",
      "text/plain": [
       "<Figure size 432x288 with 1 Axes>"
      ]
     },
     "metadata": {
      "needs_background": "light"
     },
     "output_type": "display_data"
    },
    {
     "data": {
      "image/png": "[encoded data removed]",
      "text/plain": [
       "<Figure size 432x288 with 1 Axes>"
      ]
     },
     "metadata": {
      "needs_background": "light"
     },
     "output_type": "display_data"
    },
    {
     "data": {
      "image/png": "[encoded data removed]",
      "text/plain": [
       "<Figure size 432x288 with 1 Axes>"
      ]
     },
     "metadata": {
      "needs_background": "light"
     },
     "output_type": "display_data"
    },
    {
     "data": {
      "image/png": "[encoded data removed]",
      "text/plain": [
       "<Figure size 432x288 with 1 Axes>"
      ]
     },
     "metadata": {
      "needs_background": "light"
     },
     "output_type": "display_data"
    },
    {
     "data": {
      "image/png": "[encoded data removed]",
      "text/plain": [
       "<Figure size 432x288 with 1 Axes>"
      ]
     },
     "metadata": {
      "needs_background": "light"
     },
     "output_type": "display_data"
    },
    {
     "data": {
      "image/png": "[encoded data removed]",
      "text/plain": [
       "<Figure size 432x288 with 1 Axes>"
      ]
     },
     "metadata": {
      "needs_background": "light"
     },
     "output_type": "display_data"
    }
   ],
   "source": [
    "for i in range(3,10):\n",
    "    dim = i\n",
    "    r = processed_df['r_SPX'].values\n",
    "    X_PCA = truncated_PC(X,dim)\n",
    "    w = PC_fit(X_PCA,r,dim)\n",
    "    r_hat = np.matmul(X_PCA,w)\n",
    "    plt.figure(i)\n",
    "    PC_plot_df2 = pd.DataFrame([])\n",
    "    PC_plot_df2['r_hat'] = r_hat\n",
    "    PC_plot_df2['r'] = r\n",
    "    plt.plot('r',data=PC_plot_df2)\n",
    "    plt.plot('r_hat',data=PC_plot_df2)\n",
    "    plt.title(f'Estimated return based on PCA with dimension: {dim}')\n",
    "    plt.legend()\n"
   ]
  },
  {
   "cell_type": "markdown",
   "metadata": {},
   "source": [
    "### 3.1.2  $R_{OS}^2$ Computation"
   ]
  },
  {
   "cell_type": "markdown",
   "metadata": {},
   "source": [
    "Following the logic of the original paper, I will compute $R_{OS}^2$ for monthly (h=1), quartherly (h=3), semi-annual (h=6), and annual (h=12). And out-of-sample forecasts are estimated by recursive estimation windows. For example, for monthly estimation, initial 200 samples are used exclusively for fitting the model. The 201$^{\\text{st}}$ sample is forecasted by the model fitted by 200 samples. The 202$^{\\text{nd}}$ sample is estimated by the model fitted using 201 samples. And so on.\n",
    "<br>\n",
    "<br>\n",
    "Below illustrations show that monthly $R_{OS}^2$ gives the highest value range. This is consistent with the original paper. $R_{OS}^2$ for monthly rebalancing, however, is significantly higher than the original paper. Following the logic of the original authors, this could mean that the out-of-sample period for this particular implementation was more predictable than the out-of-sample period used in the original paper."
   ]
  },
  {
   "cell_type": "code",
   "execution_count": 1612,
   "metadata": {},
   "outputs": [],
   "source": [
    "def Rsquared_OS(X,r,dim,OS_start):\n",
    "    numerator = 0\n",
    "    denominator = 0\n",
    "    for i in range(OS_start,len(r)):\n",
    "        X_PCA = truncated_PC(X[:i],dim)\n",
    "        w = PC_fit(X_PCA,r[:i],dim)\n",
    "        X_PCA_OS = truncated_PC(X[:i+1],dim)\n",
    "        r_hat = np.matmul(X_PCA_OS[-1],w)\n",
    "        numerator += (r[i] - r_hat)**2\n",
    "        denominator += (r[i]-r[:i].mean())**2\n",
    "    R_squared_OS = 1 - numerator/denominator\n",
    "    return R_squared_OS"
   ]
  },
  {
   "cell_type": "markdown",
   "metadata": {},
   "source": [
    "### 3.1.2.1 Month $R_{OS}^2$ "
   ]
  },
  {
   "cell_type": "code",
   "execution_count": 1611,
   "metadata": {},
   "outputs": [
    {
     "data": {
      "text/plain": [
       "Text(0.5, 1.0, 'Month out-of-sample R-squared')"
      ]
     },
     "execution_count": 1611,
     "metadata": {},
     "output_type": "execute_result"
    },
    {
     "data": {
      "image/png": "[encoded data removed]",
      "text/plain": [
       "<Figure size 432x288 with 1 Axes>"
      ]
     },
     "metadata": {
      "needs_background": "light"
     },
     "output_type": "display_data"
    }
   ],
   "source": [
    "plt.plot([Rsquared_OS(X,r,i,200) for i in range(X.shape[1]+1)])\n",
    "plt.xlabel('Rank of Principle Component Approximation')\n",
    "plt.ylabel('Out-of-sample R-squared')\n",
    "plt.title('Month out-of-sample R-squared')"
   ]
  },
  {
   "cell_type": "markdown",
   "metadata": {},
   "source": [
    "### 3.1.2.2  Quarter $R_{OS}^2$"
   ]
  },
  {
   "cell_type": "markdown",
   "metadata": {},
   "source": [
    "For consistency, I utilized 66 quarterly observations exclusively for fitting the model. Following dataframe shows that 66$^{\\text{th}}$ quarterly observation corresponds to 200$^{\\text{th}}$ monthly observation."
   ]
  },
  {
   "cell_type": "code",
   "execution_count": 1545,
   "metadata": {},
   "outputs": [
    {
     "data": {
      "text/html": [
       "<div>\n",
       "<style scoped>\n",
       "    .dataframe tbody tr th:only-of-type {\n",
       "        vertical-align: middle;\n",
       "    }\n",
       "\n",
       "    .dataframe tbody tr th {\n",
       "        vertical-align: top;\n",
       "    }\n",
       "\n",
       "    .dataframe thead th {\n",
       "        text-align: right;\n",
       "    }\n",
       "</style>\n",
       "<table border=\"1\" class=\"dataframe\">\n",
       "  <thead>\n",
       "    <tr style=\"text-align: right;\">\n",
       "      <th></th>\n",
       "      <th>Dates</th>\n",
       "      <th>index</th>\n",
       "      <th>log_DP</th>\n",
       "      <th>inflation</th>\n",
       "      <th>Term_Spread</th>\n",
       "      <th>Default_Spread</th>\n",
       "      <th>MA_1_12</th>\n",
       "      <th>MA_2_12</th>\n",
       "      <th>MOMBY_6</th>\n",
       "      <th>MOMBY_12</th>\n",
       "      <th>MOM_9</th>\n",
       "      <th>MOM_12</th>\n",
       "      <th>output_gap</th>\n",
       "      <th>r_SPX</th>\n",
       "    </tr>\n",
       "  </thead>\n",
       "  <tbody>\n",
       "    <tr>\n",
       "      <th>64</th>\n",
       "      <td>2007-05-31</td>\n",
       "      <td>194</td>\n",
       "      <td>-3.843610</td>\n",
       "      <td>0.003001</td>\n",
       "      <td>0.1568</td>\n",
       "      <td>0.92</td>\n",
       "      <td>1.0</td>\n",
       "      <td>1.0</td>\n",
       "      <td>-1.0</td>\n",
       "      <td>-1.0</td>\n",
       "      <td>1.0</td>\n",
       "      <td>1.0</td>\n",
       "      <td>0.021707</td>\n",
       "      <td>0.032549</td>\n",
       "    </tr>\n",
       "    <tr>\n",
       "      <th>65</th>\n",
       "      <td>2007-08-31</td>\n",
       "      <td>197</td>\n",
       "      <td>-3.779418</td>\n",
       "      <td>0.001781</td>\n",
       "      <td>0.4233</td>\n",
       "      <td>0.86</td>\n",
       "      <td>1.0</td>\n",
       "      <td>1.0</td>\n",
       "      <td>1.0</td>\n",
       "      <td>1.0</td>\n",
       "      <td>1.0</td>\n",
       "      <td>1.0</td>\n",
       "      <td>0.018905</td>\n",
       "      <td>0.012857</td>\n",
       "    </tr>\n",
       "    <tr>\n",
       "      <th>66</th>\n",
       "      <td>2007-11-30</td>\n",
       "      <td>200</td>\n",
       "      <td>-3.788723</td>\n",
       "      <td>0.003083</td>\n",
       "      <td>0.7934</td>\n",
       "      <td>0.96</td>\n",
       "      <td>1.0</td>\n",
       "      <td>1.0</td>\n",
       "      <td>1.0</td>\n",
       "      <td>1.0</td>\n",
       "      <td>1.0</td>\n",
       "      <td>1.0</td>\n",
       "      <td>0.019589</td>\n",
       "      <td>-0.044043</td>\n",
       "    </tr>\n",
       "    <tr>\n",
       "      <th>67</th>\n",
       "      <td>2008-02-29</td>\n",
       "      <td>203</td>\n",
       "      <td>-3.710938</td>\n",
       "      <td>0.003448</td>\n",
       "      <td>1.6712</td>\n",
       "      <td>1.29</td>\n",
       "      <td>0.0</td>\n",
       "      <td>0.0</td>\n",
       "      <td>1.0</td>\n",
       "      <td>1.0</td>\n",
       "      <td>0.0</td>\n",
       "      <td>0.0</td>\n",
       "      <td>0.009492</td>\n",
       "      <td>-0.034761</td>\n",
       "    </tr>\n",
       "    <tr>\n",
       "      <th>68</th>\n",
       "      <td>2008-05-31</td>\n",
       "      <td>206</td>\n",
       "      <td>-3.774398</td>\n",
       "      <td>0.002314</td>\n",
       "      <td>2.1805</td>\n",
       "      <td>1.36</td>\n",
       "      <td>0.0</td>\n",
       "      <td>0.0</td>\n",
       "      <td>-1.0</td>\n",
       "      <td>1.0</td>\n",
       "      <td>0.0</td>\n",
       "      <td>0.0</td>\n",
       "      <td>-0.008239</td>\n",
       "      <td>0.010674</td>\n",
       "    </tr>\n",
       "  </tbody>\n",
       "</table>\n",
       "</div>"
      ],
      "text/plain": [
       "        Dates  index    log_DP  inflation  Term_Spread  Default_Spread  \\\n",
       "64 2007-05-31    194 -3.843610   0.003001       0.1568            0.92   \n",
       "65 2007-08-31    197 -3.779418   0.001781       0.4233            0.86   \n",
       "66 2007-11-30    200 -3.788723   0.003083       0.7934            0.96   \n",
       "67 2008-02-29    203 -3.710938   0.003448       1.6712            1.29   \n",
       "68 2008-05-31    206 -3.774398   0.002314       2.1805            1.36   \n",
       "\n",
       "    MA_1_12  MA_2_12  MOMBY_6  MOMBY_12  MOM_9  MOM_12  output_gap     r_SPX  \n",
       "64      1.0      1.0     -1.0      -1.0    1.0     1.0    0.021707  0.032549  \n",
       "65      1.0      1.0      1.0       1.0    1.0     1.0    0.018905  0.012857  \n",
       "66      1.0      1.0      1.0       1.0    1.0     1.0    0.019589 -0.044043  \n",
       "67      0.0      0.0      1.0       1.0    0.0     0.0    0.009492 -0.034761  \n",
       "68      0.0      0.0     -1.0       1.0    0.0     0.0   -0.008239  0.010674  "
      ]
     },
     "execution_count": 1545,
     "metadata": {},
     "output_type": "execute_result"
    }
   ],
   "source": [
    "processed_df[2:].reset_index().set_index('Dates').resample('3M').agg('last').reset_index()[64:].head()"
   ]
  },
  {
   "cell_type": "code",
   "execution_count": 1608,
   "metadata": {},
   "outputs": [
    {
     "data": {
      "text/plain": [
       "Text(0.5, 1.0, 'Quarter out-of-sample R-squared')"
      ]
     },
     "execution_count": 1608,
     "metadata": {},
     "output_type": "execute_result"
    },
    {
     "data": {
      "image/png": "[encoded data removed]",
      "text/plain": [
       "<Figure size 432x288 with 1 Axes>"
      ]
     },
     "metadata": {
      "needs_background": "light"
     },
     "output_type": "display_data"
    }
   ],
   "source": [
    "X_quarter = processed_df[2:].set_index('Dates').resample('3M').agg('last')[stock_explanatory_variables].values\n",
    "r_quarter = processed_df[2:].set_index('Dates').resample('3M').agg('last')['r_SPX'].values\n",
    "plt.plot([Rsquared_OS(X_quarter,r_quarter,i,66) for i in range(X.shape[1]+1)])\n",
    "plt.xlabel('Rank of Principle Component Approximation')\n",
    "plt.ylabel('Out-of-sample R-squared')\n",
    "plt.title('Quarter out-of-sample R-squared')"
   ]
  },
  {
   "cell_type": "markdown",
   "metadata": {},
   "source": [
    "### 3.1.2.3  Semi-annual $R_{OS}^2$"
   ]
  },
  {
   "cell_type": "markdown",
   "metadata": {},
   "source": [
    "For consistency, I utilized 33 semi-annually observations exclusively for fitting the model. Following dataframe shows that 33$^{\\text{rd}}$ quarterly observation corresponds to 200$^{\\text{th}}$ monthly observation."
   ]
  },
  {
   "cell_type": "code",
   "execution_count": 1559,
   "metadata": {},
   "outputs": [
    {
     "data": {
      "text/html": [
       "<div>\n",
       "<style scoped>\n",
       "    .dataframe tbody tr th:only-of-type {\n",
       "        vertical-align: middle;\n",
       "    }\n",
       "\n",
       "    .dataframe tbody tr th {\n",
       "        vertical-align: top;\n",
       "    }\n",
       "\n",
       "    .dataframe thead th {\n",
       "        text-align: right;\n",
       "    }\n",
       "</style>\n",
       "<table border=\"1\" class=\"dataframe\">\n",
       "  <thead>\n",
       "    <tr style=\"text-align: right;\">\n",
       "      <th></th>\n",
       "      <th>Dates</th>\n",
       "      <th>index</th>\n",
       "      <th>log_DP</th>\n",
       "      <th>inflation</th>\n",
       "      <th>Term_Spread</th>\n",
       "      <th>Default_Spread</th>\n",
       "      <th>MA_1_12</th>\n",
       "      <th>MA_2_12</th>\n",
       "      <th>MOMBY_6</th>\n",
       "      <th>MOMBY_12</th>\n",
       "      <th>MOM_9</th>\n",
       "      <th>MOM_12</th>\n",
       "      <th>output_gap</th>\n",
       "      <th>r_SPX</th>\n",
       "    </tr>\n",
       "  </thead>\n",
       "  <tbody>\n",
       "    <tr>\n",
       "      <th>32</th>\n",
       "      <td>2007-05-31</td>\n",
       "      <td>194</td>\n",
       "      <td>-3.843610</td>\n",
       "      <td>0.003001</td>\n",
       "      <td>0.1568</td>\n",
       "      <td>0.92</td>\n",
       "      <td>1.0</td>\n",
       "      <td>1.0</td>\n",
       "      <td>-1.0</td>\n",
       "      <td>-1.0</td>\n",
       "      <td>1.0</td>\n",
       "      <td>1.0</td>\n",
       "      <td>0.021707</td>\n",
       "      <td>0.032549</td>\n",
       "    </tr>\n",
       "    <tr>\n",
       "      <th>33</th>\n",
       "      <td>2007-11-30</td>\n",
       "      <td>200</td>\n",
       "      <td>-3.788723</td>\n",
       "      <td>0.003083</td>\n",
       "      <td>0.7934</td>\n",
       "      <td>0.96</td>\n",
       "      <td>1.0</td>\n",
       "      <td>1.0</td>\n",
       "      <td>1.0</td>\n",
       "      <td>1.0</td>\n",
       "      <td>1.0</td>\n",
       "      <td>1.0</td>\n",
       "      <td>0.019589</td>\n",
       "      <td>-0.044043</td>\n",
       "    </tr>\n",
       "    <tr>\n",
       "      <th>34</th>\n",
       "      <td>2008-05-31</td>\n",
       "      <td>206</td>\n",
       "      <td>-3.774398</td>\n",
       "      <td>0.002314</td>\n",
       "      <td>2.1805</td>\n",
       "      <td>1.36</td>\n",
       "      <td>0.0</td>\n",
       "      <td>0.0</td>\n",
       "      <td>-1.0</td>\n",
       "      <td>1.0</td>\n",
       "      <td>0.0</td>\n",
       "      <td>0.0</td>\n",
       "      <td>-0.008239</td>\n",
       "      <td>0.010674</td>\n",
       "    </tr>\n",
       "    <tr>\n",
       "      <th>35</th>\n",
       "      <td>2008-11-30</td>\n",
       "      <td>212</td>\n",
       "      <td>-3.339371</td>\n",
       "      <td>-0.008598</td>\n",
       "      <td>2.8794</td>\n",
       "      <td>3.09</td>\n",
       "      <td>0.0</td>\n",
       "      <td>0.0</td>\n",
       "      <td>1.0</td>\n",
       "      <td>1.0</td>\n",
       "      <td>0.0</td>\n",
       "      <td>0.0</td>\n",
       "      <td>-0.071761</td>\n",
       "      <td>-0.074849</td>\n",
       "    </tr>\n",
       "    <tr>\n",
       "      <th>36</th>\n",
       "      <td>2009-05-31</td>\n",
       "      <td>218</td>\n",
       "      <td>-3.346824</td>\n",
       "      <td>0.001007</td>\n",
       "      <td>3.3296</td>\n",
       "      <td>2.52</td>\n",
       "      <td>0.0</td>\n",
       "      <td>0.0</td>\n",
       "      <td>-1.0</td>\n",
       "      <td>-1.0</td>\n",
       "      <td>0.0</td>\n",
       "      <td>0.0</td>\n",
       "      <td>-0.137647</td>\n",
       "      <td>0.053081</td>\n",
       "    </tr>\n",
       "  </tbody>\n",
       "</table>\n",
       "</div>"
      ],
      "text/plain": [
       "        Dates  index    log_DP  inflation  Term_Spread  Default_Spread  \\\n",
       "32 2007-05-31    194 -3.843610   0.003001       0.1568            0.92   \n",
       "33 2007-11-30    200 -3.788723   0.003083       0.7934            0.96   \n",
       "34 2008-05-31    206 -3.774398   0.002314       2.1805            1.36   \n",
       "35 2008-11-30    212 -3.339371  -0.008598       2.8794            3.09   \n",
       "36 2009-05-31    218 -3.346824   0.001007       3.3296            2.52   \n",
       "\n",
       "    MA_1_12  MA_2_12  MOMBY_6  MOMBY_12  MOM_9  MOM_12  output_gap     r_SPX  \n",
       "32      1.0      1.0     -1.0      -1.0    1.0     1.0    0.021707  0.032549  \n",
       "33      1.0      1.0      1.0       1.0    1.0     1.0    0.019589 -0.044043  \n",
       "34      0.0      0.0     -1.0       1.0    0.0     0.0   -0.008239  0.010674  \n",
       "35      0.0      0.0      1.0       1.0    0.0     0.0   -0.071761 -0.074849  \n",
       "36      0.0      0.0     -1.0      -1.0    0.0     0.0   -0.137647  0.053081  "
      ]
     },
     "execution_count": 1559,
     "metadata": {},
     "output_type": "execute_result"
    }
   ],
   "source": [
    "processed_df[2:].reset_index().set_index('Dates').resample('6M').agg('last').reset_index()[32:].head()"
   ]
  },
  {
   "cell_type": "code",
   "execution_count": 1607,
   "metadata": {},
   "outputs": [
    {
     "data": {
      "text/plain": [
       "Text(0.5, 1.0, 'Semi-annual out-of-sample R-squared')"
      ]
     },
     "execution_count": 1607,
     "metadata": {},
     "output_type": "execute_result"
    },
    {
     "data": {
      "image/png": "[encoded data removed]",
      "text/plain": [
       "<Figure size 432x288 with 1 Axes>"
      ]
     },
     "metadata": {
      "needs_background": "light"
     },
     "output_type": "display_data"
    }
   ],
   "source": [
    "X_semi = processed_df[2:].set_index('Dates').resample('6M').agg('last')[stock_explanatory_variables].values\n",
    "r_semi = processed_df[2:].set_index('Dates').resample('6M').agg('last')['r_SPX'].values\n",
    "plt.plot([Rsquared_OS(X_semi,r_semi,i,33) for i in range(X.shape[1]+1)])\n",
    "plt.xlabel('Rank of Principle Component Approximation')\n",
    "plt.ylabel('Out-of-sample R-squared')\n",
    "plt.title('Semi-annual out-of-sample R-squared')"
   ]
  },
  {
   "cell_type": "markdown",
   "metadata": {},
   "source": [
    "### 3.1.2.4  Annual $R_{OS}^2$"
   ]
  },
  {
   "cell_type": "markdown",
   "metadata": {},
   "source": [
    "For consistency, I utilized 33 semi-annually observations exclusively for fitting the model. Following dataframe shows that 33$^{\\text{rd}}$ quarterly observation corresponds to 200$^{\\text{th}}$ monthly observation."
   ]
  },
  {
   "cell_type": "code",
   "execution_count": 1600,
   "metadata": {
    "scrolled": true
   },
   "outputs": [
    {
     "data": {
      "text/html": [
       "<div>\n",
       "<style scoped>\n",
       "    .dataframe tbody tr th:only-of-type {\n",
       "        vertical-align: middle;\n",
       "    }\n",
       "\n",
       "    .dataframe tbody tr th {\n",
       "        vertical-align: top;\n",
       "    }\n",
       "\n",
       "    .dataframe thead th {\n",
       "        text-align: right;\n",
       "    }\n",
       "</style>\n",
       "<table border=\"1\" class=\"dataframe\">\n",
       "  <thead>\n",
       "    <tr style=\"text-align: right;\">\n",
       "      <th></th>\n",
       "      <th>Dates</th>\n",
       "      <th>index</th>\n",
       "      <th>log_DP</th>\n",
       "      <th>inflation</th>\n",
       "      <th>Term_Spread</th>\n",
       "      <th>Default_Spread</th>\n",
       "      <th>MA_1_12</th>\n",
       "      <th>MA_2_12</th>\n",
       "      <th>MOMBY_6</th>\n",
       "      <th>MOMBY_12</th>\n",
       "      <th>MOM_9</th>\n",
       "      <th>MOM_12</th>\n",
       "      <th>output_gap</th>\n",
       "      <th>r_SPX</th>\n",
       "    </tr>\n",
       "  </thead>\n",
       "  <tbody>\n",
       "    <tr>\n",
       "      <th>15</th>\n",
       "      <td>2006-12-31</td>\n",
       "      <td>188</td>\n",
       "      <td>-3.814893</td>\n",
       "      <td>-0.004438</td>\n",
       "      <td>-0.5612</td>\n",
       "      <td>0.87</td>\n",
       "      <td>1.0</td>\n",
       "      <td>1.0</td>\n",
       "      <td>1.0</td>\n",
       "      <td>1.0</td>\n",
       "      <td>1.0</td>\n",
       "      <td>1.0</td>\n",
       "      <td>0.006390</td>\n",
       "      <td>0.016467</td>\n",
       "    </tr>\n",
       "    <tr>\n",
       "      <th>16</th>\n",
       "      <td>2007-12-31</td>\n",
       "      <td>200</td>\n",
       "      <td>-3.788723</td>\n",
       "      <td>0.003083</td>\n",
       "      <td>0.7934</td>\n",
       "      <td>0.96</td>\n",
       "      <td>1.0</td>\n",
       "      <td>1.0</td>\n",
       "      <td>1.0</td>\n",
       "      <td>1.0</td>\n",
       "      <td>1.0</td>\n",
       "      <td>1.0</td>\n",
       "      <td>0.019589</td>\n",
       "      <td>-0.044043</td>\n",
       "    </tr>\n",
       "    <tr>\n",
       "      <th>17</th>\n",
       "      <td>2008-12-31</td>\n",
       "      <td>212</td>\n",
       "      <td>-3.339371</td>\n",
       "      <td>-0.008598</td>\n",
       "      <td>2.8794</td>\n",
       "      <td>3.09</td>\n",
       "      <td>0.0</td>\n",
       "      <td>0.0</td>\n",
       "      <td>1.0</td>\n",
       "      <td>1.0</td>\n",
       "      <td>0.0</td>\n",
       "      <td>0.0</td>\n",
       "      <td>-0.071761</td>\n",
       "      <td>-0.074849</td>\n",
       "    </tr>\n",
       "    <tr>\n",
       "      <th>18</th>\n",
       "      <td>2009-12-31</td>\n",
       "      <td>224</td>\n",
       "      <td>-3.617410</td>\n",
       "      <td>0.003002</td>\n",
       "      <td>3.1512</td>\n",
       "      <td>1.13</td>\n",
       "      <td>1.0</td>\n",
       "      <td>1.0</td>\n",
       "      <td>1.0</td>\n",
       "      <td>-1.0</td>\n",
       "      <td>1.0</td>\n",
       "      <td>1.0</td>\n",
       "      <td>-0.077893</td>\n",
       "      <td>0.057364</td>\n",
       "    </tr>\n",
       "    <tr>\n",
       "      <th>19</th>\n",
       "      <td>2010-12-31</td>\n",
       "      <td>236</td>\n",
       "      <td>-3.755558</td>\n",
       "      <td>0.003482</td>\n",
       "      <td>2.6416</td>\n",
       "      <td>1.05</td>\n",
       "      <td>1.0</td>\n",
       "      <td>1.0</td>\n",
       "      <td>-1.0</td>\n",
       "      <td>1.0</td>\n",
       "      <td>1.0</td>\n",
       "      <td>1.0</td>\n",
       "      <td>-0.001713</td>\n",
       "      <td>-0.002290</td>\n",
       "    </tr>\n",
       "  </tbody>\n",
       "</table>\n",
       "</div>"
      ],
      "text/plain": [
       "        Dates  index    log_DP  inflation  Term_Spread  Default_Spread  \\\n",
       "15 2006-12-31    188 -3.814893  -0.004438      -0.5612            0.87   \n",
       "16 2007-12-31    200 -3.788723   0.003083       0.7934            0.96   \n",
       "17 2008-12-31    212 -3.339371  -0.008598       2.8794            3.09   \n",
       "18 2009-12-31    224 -3.617410   0.003002       3.1512            1.13   \n",
       "19 2010-12-31    236 -3.755558   0.003482       2.6416            1.05   \n",
       "\n",
       "    MA_1_12  MA_2_12  MOMBY_6  MOMBY_12  MOM_9  MOM_12  output_gap     r_SPX  \n",
       "15      1.0      1.0      1.0       1.0    1.0     1.0    0.006390  0.016467  \n",
       "16      1.0      1.0      1.0       1.0    1.0     1.0    0.019589 -0.044043  \n",
       "17      0.0      0.0      1.0       1.0    0.0     0.0   -0.071761 -0.074849  \n",
       "18      1.0      1.0      1.0      -1.0    1.0     1.0   -0.077893  0.057364  \n",
       "19      1.0      1.0     -1.0       1.0    1.0     1.0   -0.001713 -0.002290  "
      ]
     },
     "execution_count": 1600,
     "metadata": {},
     "output_type": "execute_result"
    }
   ],
   "source": [
    "processed_df.reset_index().set_index('Dates').resample('Y').agg(lambda x: x[-2]).reset_index()[15:].head()"
   ]
  },
  {
   "cell_type": "code",
   "execution_count": 1606,
   "metadata": {},
   "outputs": [
    {
     "data": {
      "text/plain": [
       "Text(0.5, 1.0, 'Annual out-of-sample R-squared')"
      ]
     },
     "execution_count": 1606,
     "metadata": {},
     "output_type": "execute_result"
    },
    {
     "data": {
      "image/png": "[encoded data removed]",
      "text/plain": [
       "<Figure size 432x288 with 1 Axes>"
      ]
     },
     "metadata": {
      "needs_background": "light"
     },
     "output_type": "display_data"
    }
   ],
   "source": [
    "X_annual = (processed_df.set_index('Dates').resample('Y')\n",
    "            .agg(lambda x: x[-2])[stock_explanatory_variables].values)\n",
    "r_annual = (processed_df.set_index('Dates').resample('Y')\n",
    "            .agg(lambda x: x[-2])['r_SPX'].values)\n",
    "plt.plot([Rsquared_OS(X_annual,r_annual,i,16) for i in range(X.shape[1]+1)])\n",
    "plt.xlabel('Rank of Principle Component Approximation')\n",
    "plt.ylabel('Out-of-sample R-squared')\n",
    "plt.title('Annual out-of-sample R-squared')"
   ]
  },
  {
   "cell_type": "markdown",
   "metadata": {},
   "source": [
    "### 3.1.3  Clark and Wald (2007) Test Statistics Computation"
   ]
  },
  {
   "cell_type": "code",
   "execution_count": 1679,
   "metadata": {},
   "outputs": [],
   "source": [
    "def CW_test(X,r,dim,OS_start):\n",
    "    denom = len(r) - OS_start\n",
    "    num = []\n",
    "    for i in range(OS_start,len(r)):\n",
    "        X_PCA = truncated_PC(X[:i],dim)\n",
    "        w = PC_fit(X_PCA,r[:i],dim)\n",
    "        X_PCA_OS = truncated_PC(X[:i+1],dim)\n",
    "        r_hat = np.matmul(X_PCA_OS[-1],w)\n",
    "        num += [(r[i]-r[:i].mean())**2 - (r[i] - r_hat)**2  + (r[:i].mean() - r_hat)**2]\n",
    "    f_bar = np.array(num).mean()\n",
    "    CW = np.sqrt(denom) * f_bar / np.std(np.array(num) - f_bar,ddof=1)\n",
    "    return CW"
   ]
  },
  {
   "cell_type": "code",
   "execution_count": 1680,
   "metadata": {},
   "outputs": [
    {
     "data": {
      "image/png": "[encoded data removed]",
      "text/plain": [
       "<Figure size 432x288 with 1 Axes>"
      ]
     },
     "metadata": {
      "needs_background": "light"
     },
     "output_type": "display_data"
    },
    {
     "data": {
      "image/png": "[encoded data removed]",
      "text/plain": [
       "<Figure size 432x288 with 1 Axes>"
      ]
     },
     "metadata": {
      "needs_background": "light"
     },
     "output_type": "display_data"
    },
    {
     "data": {
      "image/png": "[encoded data removed]",
      "text/plain": [
       "<Figure size 432x288 with 1 Axes>"
      ]
     },
     "metadata": {
      "needs_background": "light"
     },
     "output_type": "display_data"
    },
    {
     "data": {
      "image/png": "[encoded data removed]",
      "text/plain": [
       "<Figure size 432x288 with 1 Axes>"
      ]
     },
     "metadata": {
      "needs_background": "light"
     },
     "output_type": "display_data"
    }
   ],
   "source": [
    "my_dict = {'month':200,'quarter':66,'semi':33,'annual':16}\n",
    "\n",
    "i=0\n",
    "for item in my_dict.keys():\n",
    "    plt.figure(i)\n",
    "    if item == 'month':\n",
    "        plt.plot([CW_test(X,r,i,my_dict[item]) for i in range(X.shape[1]+1)])\n",
    "        plt.xlabel('Rank of Principle Component Approximation')\n",
    "        plt.ylabel('CW test statistics')\n",
    "        plt.title('Month Clark and Wald Test')\n",
    "    else:\n",
    "        eval(f'plt.plot([CW_test(X_{item},r_{item},i,my_dict[item]) for i in range(X.shape[1]+1)])')\n",
    "        plt.xlabel('Rank of Principle Component Approximation')\n",
    "        plt.ylabel('CW test statistics')\n",
    "        if item == 'semi':\n",
    "            plt.title(f'{item[0].upper()}{item[1:]}' + '-annual Clark and Wald Test')\n",
    "        else:\n",
    "            plt.title(f'{item[0].upper()}{item[1:]} Clark and Wald Test')\n",
    "    i+=1"
   ]
  },
  {
   "cell_type": "markdown",
   "metadata": {},
   "source": [
    "### 3.2 Bond Returns"
   ]
  },
  {
   "cell_type": "markdown",
   "metadata": {},
   "source": [
    "The logic of this section is equivalent to the stock returns. First section deals with principal component, the second section the $R_{OS}^2$ and the third section the Clark Wald test statistics."
   ]
  },
  {
   "cell_type": "code",
   "execution_count": null,
   "metadata": {},
   "outputs": [],
   "source": [
    "stock_explanatory_variables = ['log_DP','inflation','Term_Spread','Default_Spread',\\\n",
    "                               'output_gap','MA_1_12','MA_2_12','MOM_9','MOM_12']\n",
    "X = processed_df[stock_explanatory_variables].values"
   ]
  },
  {
   "cell_type": "code",
   "execution_count": 1681,
   "metadata": {},
   "outputs": [
    {
     "data": {
      "text/html": [
       "<div>\n",
       "<style scoped>\n",
       "    .dataframe tbody tr th:only-of-type {\n",
       "        vertical-align: middle;\n",
       "    }\n",
       "\n",
       "    .dataframe tbody tr th {\n",
       "        vertical-align: top;\n",
       "    }\n",
       "\n",
       "    .dataframe thead th {\n",
       "        text-align: right;\n",
       "    }\n",
       "</style>\n",
       "<table border=\"1\" class=\"dataframe\">\n",
       "  <thead>\n",
       "    <tr style=\"text-align: right;\">\n",
       "      <th></th>\n",
       "      <th>Dates</th>\n",
       "      <th>log_DP</th>\n",
       "      <th>inflation</th>\n",
       "      <th>Term_Spread</th>\n",
       "      <th>Default_Spread</th>\n",
       "      <th>MA_1_12</th>\n",
       "      <th>MA_2_12</th>\n",
       "      <th>MOMBY_6</th>\n",
       "      <th>MOMBY_12</th>\n",
       "      <th>MOM_9</th>\n",
       "      <th>MOM_12</th>\n",
       "      <th>output_gap</th>\n",
       "      <th>r_SPX</th>\n",
       "    </tr>\n",
       "  </thead>\n",
       "  <tbody>\n",
       "    <tr>\n",
       "      <th>0</th>\n",
       "      <td>1991-03-29</td>\n",
       "      <td>-3.184739</td>\n",
       "      <td>0.000742</td>\n",
       "      <td>2.128</td>\n",
       "      <td>1.16</td>\n",
       "      <td>1.0</td>\n",
       "      <td>1.0</td>\n",
       "      <td>1.0</td>\n",
       "      <td>1.0</td>\n",
       "      <td>1.0</td>\n",
       "      <td>1.0</td>\n",
       "      <td>0.003305</td>\n",
       "      <td>0.022203</td>\n",
       "    </tr>\n",
       "    <tr>\n",
       "      <th>1</th>\n",
       "      <td>1991-04-30</td>\n",
       "      <td>-3.187664</td>\n",
       "      <td>0.000000</td>\n",
       "      <td>2.326</td>\n",
       "      <td>1.08</td>\n",
       "      <td>1.0</td>\n",
       "      <td>1.0</td>\n",
       "      <td>1.0</td>\n",
       "      <td>1.0</td>\n",
       "      <td>1.0</td>\n",
       "      <td>1.0</td>\n",
       "      <td>0.008409</td>\n",
       "      <td>0.000346</td>\n",
       "    </tr>\n",
       "    <tr>\n",
       "      <th>2</th>\n",
       "      <td>1991-05-31</td>\n",
       "      <td>-3.221650</td>\n",
       "      <td>0.002226</td>\n",
       "      <td>2.366</td>\n",
       "      <td>1.00</td>\n",
       "      <td>1.0</td>\n",
       "      <td>1.0</td>\n",
       "      <td>1.0</td>\n",
       "      <td>1.0</td>\n",
       "      <td>1.0</td>\n",
       "      <td>1.0</td>\n",
       "      <td>0.015507</td>\n",
       "      <td>0.038577</td>\n",
       "    </tr>\n",
       "    <tr>\n",
       "      <th>3</th>\n",
       "      <td>1991-06-28</td>\n",
       "      <td>-3.175793</td>\n",
       "      <td>0.003701</td>\n",
       "      <td>2.534</td>\n",
       "      <td>0.95</td>\n",
       "      <td>1.0</td>\n",
       "      <td>1.0</td>\n",
       "      <td>-1.0</td>\n",
       "      <td>1.0</td>\n",
       "      <td>1.0</td>\n",
       "      <td>1.0</td>\n",
       "      <td>0.018247</td>\n",
       "      <td>-0.047893</td>\n",
       "    </tr>\n",
       "    <tr>\n",
       "      <th>4</th>\n",
       "      <td>1991-07-31</td>\n",
       "      <td>-3.222907</td>\n",
       "      <td>0.002950</td>\n",
       "      <td>2.471</td>\n",
       "      <td>0.89</td>\n",
       "      <td>1.0</td>\n",
       "      <td>1.0</td>\n",
       "      <td>-1.0</td>\n",
       "      <td>1.0</td>\n",
       "      <td>1.0</td>\n",
       "      <td>1.0</td>\n",
       "      <td>0.014082</td>\n",
       "      <td>0.044859</td>\n",
       "    </tr>\n",
       "  </tbody>\n",
       "</table>\n",
       "</div>"
      ],
      "text/plain": [
       "       Dates    log_DP  inflation  Term_Spread  Default_Spread  MA_1_12  \\\n",
       "0 1991-03-29 -3.184739   0.000742        2.128            1.16      1.0   \n",
       "1 1991-04-30 -3.187664   0.000000        2.326            1.08      1.0   \n",
       "2 1991-05-31 -3.221650   0.002226        2.366            1.00      1.0   \n",
       "3 1991-06-28 -3.175793   0.003701        2.534            0.95      1.0   \n",
       "4 1991-07-31 -3.222907   0.002950        2.471            0.89      1.0   \n",
       "\n",
       "   MA_2_12  MOMBY_6  MOMBY_12  MOM_9  MOM_12  output_gap     r_SPX  \n",
       "0      1.0      1.0       1.0    1.0     1.0    0.003305  0.022203  \n",
       "1      1.0      1.0       1.0    1.0     1.0    0.008409  0.000346  \n",
       "2      1.0      1.0       1.0    1.0     1.0    0.015507  0.038577  \n",
       "3      1.0     -1.0       1.0    1.0     1.0    0.018247 -0.047893  \n",
       "4      1.0     -1.0       1.0    1.0     1.0    0.014082  0.044859  "
      ]
     },
     "execution_count": 1681,
     "metadata": {},
     "output_type": "execute_result"
    }
   ],
   "source": [
    "processed_df.head()"
   ]
  },
  {
   "cell_type": "code",
   "execution_count": 1688,
   "metadata": {},
   "outputs": [
    {
     "data": {
      "text/html": [
       "<div>\n",
       "<style scoped>\n",
       "    .dataframe tbody tr th:only-of-type {\n",
       "        vertical-align: middle;\n",
       "    }\n",
       "\n",
       "    .dataframe tbody tr th {\n",
       "        vertical-align: top;\n",
       "    }\n",
       "\n",
       "    .dataframe thead th {\n",
       "        text-align: right;\n",
       "    }\n",
       "</style>\n",
       "<table border=\"1\" class=\"dataframe\">\n",
       "  <thead>\n",
       "    <tr style=\"text-align: right;\">\n",
       "      <th></th>\n",
       "      <th>Dates</th>\n",
       "      <th>log_DP</th>\n",
       "      <th>inflation</th>\n",
       "      <th>Term_Spread</th>\n",
       "      <th>Default_Spread</th>\n",
       "      <th>MA_1_12</th>\n",
       "      <th>MA_2_12</th>\n",
       "      <th>MOMBY_6</th>\n",
       "      <th>MOMBY_12</th>\n",
       "      <th>MOM_9</th>\n",
       "      <th>MOM_12</th>\n",
       "      <th>output_gap</th>\n",
       "      <th>r_SPX</th>\n",
       "      <th>r_bond</th>\n",
       "      <th>r_bill</th>\n",
       "    </tr>\n",
       "  </thead>\n",
       "  <tbody>\n",
       "    <tr>\n",
       "      <th>0</th>\n",
       "      <td>1991-03-29</td>\n",
       "      <td>-3.184739</td>\n",
       "      <td>0.000742</td>\n",
       "      <td>2.1280</td>\n",
       "      <td>1.16</td>\n",
       "      <td>1.0</td>\n",
       "      <td>1.0</td>\n",
       "      <td>1.0</td>\n",
       "      <td>1.0</td>\n",
       "      <td>1.0</td>\n",
       "      <td>1.0</td>\n",
       "      <td>0.003305</td>\n",
       "      <td>0.022203</td>\n",
       "      <td>0.080610</td>\n",
       "      <td>0.059330</td>\n",
       "    </tr>\n",
       "    <tr>\n",
       "      <th>1</th>\n",
       "      <td>1991-04-30</td>\n",
       "      <td>-3.187664</td>\n",
       "      <td>0.000000</td>\n",
       "      <td>2.3260</td>\n",
       "      <td>1.08</td>\n",
       "      <td>1.0</td>\n",
       "      <td>1.0</td>\n",
       "      <td>1.0</td>\n",
       "      <td>1.0</td>\n",
       "      <td>1.0</td>\n",
       "      <td>1.0</td>\n",
       "      <td>0.008409</td>\n",
       "      <td>0.000346</td>\n",
       "      <td>0.080130</td>\n",
       "      <td>0.056870</td>\n",
       "    </tr>\n",
       "    <tr>\n",
       "      <th>2</th>\n",
       "      <td>1991-05-31</td>\n",
       "      <td>-3.221650</td>\n",
       "      <td>0.002226</td>\n",
       "      <td>2.3660</td>\n",
       "      <td>1.00</td>\n",
       "      <td>1.0</td>\n",
       "      <td>1.0</td>\n",
       "      <td>1.0</td>\n",
       "      <td>1.0</td>\n",
       "      <td>1.0</td>\n",
       "      <td>1.0</td>\n",
       "      <td>0.015507</td>\n",
       "      <td>0.038577</td>\n",
       "      <td>0.080590</td>\n",
       "      <td>0.056930</td>\n",
       "    </tr>\n",
       "    <tr>\n",
       "      <th>3</th>\n",
       "      <td>1991-06-28</td>\n",
       "      <td>-3.175793</td>\n",
       "      <td>0.003701</td>\n",
       "      <td>2.5340</td>\n",
       "      <td>0.95</td>\n",
       "      <td>1.0</td>\n",
       "      <td>1.0</td>\n",
       "      <td>-1.0</td>\n",
       "      <td>1.0</td>\n",
       "      <td>1.0</td>\n",
       "      <td>1.0</td>\n",
       "      <td>0.018247</td>\n",
       "      <td>-0.047893</td>\n",
       "      <td>0.082270</td>\n",
       "      <td>0.056930</td>\n",
       "    </tr>\n",
       "    <tr>\n",
       "      <th>4</th>\n",
       "      <td>1991-07-31</td>\n",
       "      <td>-3.222907</td>\n",
       "      <td>0.002950</td>\n",
       "      <td>2.4710</td>\n",
       "      <td>0.89</td>\n",
       "      <td>1.0</td>\n",
       "      <td>1.0</td>\n",
       "      <td>-1.0</td>\n",
       "      <td>1.0</td>\n",
       "      <td>1.0</td>\n",
       "      <td>1.0</td>\n",
       "      <td>0.014082</td>\n",
       "      <td>0.044859</td>\n",
       "      <td>0.081470</td>\n",
       "      <td>0.056760</td>\n",
       "    </tr>\n",
       "    <tr>\n",
       "      <th>5</th>\n",
       "      <td>1991-08-30</td>\n",
       "      <td>-3.251468</td>\n",
       "      <td>0.001471</td>\n",
       "      <td>2.3320</td>\n",
       "      <td>0.90</td>\n",
       "      <td>1.0</td>\n",
       "      <td>1.0</td>\n",
       "      <td>1.0</td>\n",
       "      <td>1.0</td>\n",
       "      <td>1.0</td>\n",
       "      <td>1.0</td>\n",
       "      <td>0.010468</td>\n",
       "      <td>0.019649</td>\n",
       "      <td>0.078160</td>\n",
       "      <td>0.054840</td>\n",
       "    </tr>\n",
       "    <tr>\n",
       "      <th>6</th>\n",
       "      <td>1991-09-30</td>\n",
       "      <td>-3.234754</td>\n",
       "      <td>0.002937</td>\n",
       "      <td>2.1910</td>\n",
       "      <td>0.90</td>\n",
       "      <td>1.0</td>\n",
       "      <td>1.0</td>\n",
       "      <td>1.0</td>\n",
       "      <td>1.0</td>\n",
       "      <td>1.0</td>\n",
       "      <td>1.0</td>\n",
       "      <td>0.012580</td>\n",
       "      <td>-0.019144</td>\n",
       "      <td>0.074450</td>\n",
       "      <td>0.052540</td>\n",
       "    </tr>\n",
       "    <tr>\n",
       "      <th>7</th>\n",
       "      <td>1991-10-31</td>\n",
       "      <td>-3.243275</td>\n",
       "      <td>0.002928</td>\n",
       "      <td>2.4950</td>\n",
       "      <td>0.94</td>\n",
       "      <td>1.0</td>\n",
       "      <td>1.0</td>\n",
       "      <td>1.0</td>\n",
       "      <td>1.0</td>\n",
       "      <td>1.0</td>\n",
       "      <td>1.0</td>\n",
       "      <td>0.006317</td>\n",
       "      <td>0.011860</td>\n",
       "      <td>0.074600</td>\n",
       "      <td>0.049650</td>\n",
       "    </tr>\n",
       "    <tr>\n",
       "      <th>8</th>\n",
       "      <td>1991-11-29</td>\n",
       "      <td>-3.205559</td>\n",
       "      <td>0.001460</td>\n",
       "      <td>2.9120</td>\n",
       "      <td>0.97</td>\n",
       "      <td>1.0</td>\n",
       "      <td>1.0</td>\n",
       "      <td>1.0</td>\n",
       "      <td>1.0</td>\n",
       "      <td>1.0</td>\n",
       "      <td>1.0</td>\n",
       "      <td>0.002107</td>\n",
       "      <td>-0.043928</td>\n",
       "      <td>0.073760</td>\n",
       "      <td>0.044640</td>\n",
       "    </tr>\n",
       "    <tr>\n",
       "      <th>9</th>\n",
       "      <td>1991-12-31</td>\n",
       "      <td>-3.313323</td>\n",
       "      <td>0.004373</td>\n",
       "      <td>2.7410</td>\n",
       "      <td>0.95</td>\n",
       "      <td>1.0</td>\n",
       "      <td>1.0</td>\n",
       "      <td>1.0</td>\n",
       "      <td>1.0</td>\n",
       "      <td>1.0</td>\n",
       "      <td>1.0</td>\n",
       "      <td>-0.002908</td>\n",
       "      <td>0.111588</td>\n",
       "      <td>0.066990</td>\n",
       "      <td>0.039580</td>\n",
       "    </tr>\n",
       "    <tr>\n",
       "      <th>10</th>\n",
       "      <td>1992-01-31</td>\n",
       "      <td>-3.292564</td>\n",
       "      <td>0.002903</td>\n",
       "      <td>3.3390</td>\n",
       "      <td>0.93</td>\n",
       "      <td>1.0</td>\n",
       "      <td>1.0</td>\n",
       "      <td>1.0</td>\n",
       "      <td>1.0</td>\n",
       "      <td>1.0</td>\n",
       "      <td>1.0</td>\n",
       "      <td>-0.007508</td>\n",
       "      <td>-0.019900</td>\n",
       "      <td>0.072740</td>\n",
       "      <td>0.039350</td>\n",
       "    </tr>\n",
       "    <tr>\n",
       "      <th>11</th>\n",
       "      <td>1992-02-28</td>\n",
       "      <td>-3.307364</td>\n",
       "      <td>0.000724</td>\n",
       "      <td>3.2330</td>\n",
       "      <td>0.93</td>\n",
       "      <td>1.0</td>\n",
       "      <td>1.0</td>\n",
       "      <td>1.0</td>\n",
       "      <td>1.0</td>\n",
       "      <td>1.0</td>\n",
       "      <td>1.0</td>\n",
       "      <td>-0.001758</td>\n",
       "      <td>0.009565</td>\n",
       "      <td>0.072500</td>\n",
       "      <td>0.040170</td>\n",
       "    </tr>\n",
       "    <tr>\n",
       "      <th>12</th>\n",
       "      <td>1992-03-31</td>\n",
       "      <td>-3.293931</td>\n",
       "      <td>0.002169</td>\n",
       "      <td>3.3840</td>\n",
       "      <td>0.90</td>\n",
       "      <td>1.0</td>\n",
       "      <td>1.0</td>\n",
       "      <td>-1.0</td>\n",
       "      <td>1.0</td>\n",
       "      <td>1.0</td>\n",
       "      <td>1.0</td>\n",
       "      <td>0.002975</td>\n",
       "      <td>-0.021832</td>\n",
       "      <td>0.075280</td>\n",
       "      <td>0.041440</td>\n",
       "    </tr>\n",
       "    <tr>\n",
       "      <th>13</th>\n",
       "      <td>1992-04-30</td>\n",
       "      <td>-3.316116</td>\n",
       "      <td>0.003608</td>\n",
       "      <td>3.8120</td>\n",
       "      <td>0.88</td>\n",
       "      <td>1.0</td>\n",
       "      <td>1.0</td>\n",
       "      <td>-1.0</td>\n",
       "      <td>1.0</td>\n",
       "      <td>1.0</td>\n",
       "      <td>1.0</td>\n",
       "      <td>0.005556</td>\n",
       "      <td>0.027893</td>\n",
       "      <td>0.075830</td>\n",
       "      <td>0.037710</td>\n",
       "    </tr>\n",
       "    <tr>\n",
       "      <th>14</th>\n",
       "      <td>1992-05-29</td>\n",
       "      <td>-3.324410</td>\n",
       "      <td>0.002157</td>\n",
       "      <td>3.5480</td>\n",
       "      <td>0.85</td>\n",
       "      <td>1.0</td>\n",
       "      <td>1.0</td>\n",
       "      <td>1.0</td>\n",
       "      <td>1.0</td>\n",
       "      <td>1.0</td>\n",
       "      <td>1.0</td>\n",
       "      <td>0.003961</td>\n",
       "      <td>0.000964</td>\n",
       "      <td>0.073180</td>\n",
       "      <td>0.037700</td>\n",
       "    </tr>\n",
       "    <tr>\n",
       "      <th>15</th>\n",
       "      <td>1992-06-30</td>\n",
       "      <td>-3.315633</td>\n",
       "      <td>0.002152</td>\n",
       "      <td>3.4730</td>\n",
       "      <td>0.83</td>\n",
       "      <td>1.0</td>\n",
       "      <td>1.0</td>\n",
       "      <td>1.0</td>\n",
       "      <td>1.0</td>\n",
       "      <td>1.0</td>\n",
       "      <td>1.0</td>\n",
       "      <td>0.000212</td>\n",
       "      <td>-0.017359</td>\n",
       "      <td>0.071210</td>\n",
       "      <td>0.036480</td>\n",
       "    </tr>\n",
       "    <tr>\n",
       "      <th>16</th>\n",
       "      <td>1992-07-31</td>\n",
       "      <td>-3.351556</td>\n",
       "      <td>0.002863</td>\n",
       "      <td>3.4650</td>\n",
       "      <td>0.77</td>\n",
       "      <td>1.0</td>\n",
       "      <td>1.0</td>\n",
       "      <td>1.0</td>\n",
       "      <td>1.0</td>\n",
       "      <td>1.0</td>\n",
       "      <td>1.0</td>\n",
       "      <td>0.003759</td>\n",
       "      <td>0.039374</td>\n",
       "      <td>0.067090</td>\n",
       "      <td>0.032440</td>\n",
       "    </tr>\n",
       "    <tr>\n",
       "      <th>17</th>\n",
       "      <td>1992-08-31</td>\n",
       "      <td>-3.327939</td>\n",
       "      <td>0.002855</td>\n",
       "      <td>3.3810</td>\n",
       "      <td>0.71</td>\n",
       "      <td>1.0</td>\n",
       "      <td>1.0</td>\n",
       "      <td>1.0</td>\n",
       "      <td>1.0</td>\n",
       "      <td>1.0</td>\n",
       "      <td>1.0</td>\n",
       "      <td>-0.004279</td>\n",
       "      <td>-0.023998</td>\n",
       "      <td>0.066040</td>\n",
       "      <td>0.032230</td>\n",
       "    </tr>\n",
       "    <tr>\n",
       "      <th>18</th>\n",
       "      <td>1992-09-30</td>\n",
       "      <td>-3.339025</td>\n",
       "      <td>0.002135</td>\n",
       "      <td>3.6130</td>\n",
       "      <td>0.69</td>\n",
       "      <td>1.0</td>\n",
       "      <td>1.0</td>\n",
       "      <td>1.0</td>\n",
       "      <td>1.0</td>\n",
       "      <td>1.0</td>\n",
       "      <td>1.0</td>\n",
       "      <td>-0.004979</td>\n",
       "      <td>0.009106</td>\n",
       "      <td>0.063540</td>\n",
       "      <td>0.027410</td>\n",
       "    </tr>\n",
       "    <tr>\n",
       "      <th>19</th>\n",
       "      <td>1992-10-30</td>\n",
       "      <td>-3.330391</td>\n",
       "      <td>0.002131</td>\n",
       "      <td>3.7820</td>\n",
       "      <td>0.85</td>\n",
       "      <td>1.0</td>\n",
       "      <td>1.0</td>\n",
       "      <td>1.0</td>\n",
       "      <td>1.0</td>\n",
       "      <td>1.0</td>\n",
       "      <td>1.0</td>\n",
       "      <td>-0.001699</td>\n",
       "      <td>0.002106</td>\n",
       "      <td>0.067890</td>\n",
       "      <td>0.030070</td>\n",
       "    </tr>\n",
       "    <tr>\n",
       "      <th>20</th>\n",
       "      <td>1992-11-30</td>\n",
       "      <td>-3.352888</td>\n",
       "      <td>0.004252</td>\n",
       "      <td>3.6010</td>\n",
       "      <td>0.87</td>\n",
       "      <td>1.0</td>\n",
       "      <td>1.0</td>\n",
       "      <td>-1.0</td>\n",
       "      <td>1.0</td>\n",
       "      <td>1.0</td>\n",
       "      <td>1.0</td>\n",
       "      <td>-0.001829</td>\n",
       "      <td>0.030262</td>\n",
       "      <td>0.069370</td>\n",
       "      <td>0.033360</td>\n",
       "    </tr>\n",
       "    <tr>\n",
       "      <th>21</th>\n",
       "      <td>1992-12-31</td>\n",
       "      <td>-3.350432</td>\n",
       "      <td>0.002823</td>\n",
       "      <td>3.5450</td>\n",
       "      <td>0.83</td>\n",
       "      <td>1.0</td>\n",
       "      <td>1.0</td>\n",
       "      <td>1.0</td>\n",
       "      <td>1.0</td>\n",
       "      <td>1.0</td>\n",
       "      <td>1.0</td>\n",
       "      <td>-0.004670</td>\n",
       "      <td>0.010108</td>\n",
       "      <td>0.066860</td>\n",
       "      <td>0.031410</td>\n",
       "    </tr>\n",
       "    <tr>\n",
       "      <th>22</th>\n",
       "      <td>1993-01-29</td>\n",
       "      <td>-3.361388</td>\n",
       "      <td>0.001407</td>\n",
       "      <td>3.3930</td>\n",
       "      <td>0.76</td>\n",
       "      <td>1.0</td>\n",
       "      <td>1.0</td>\n",
       "      <td>1.0</td>\n",
       "      <td>1.0</td>\n",
       "      <td>1.0</td>\n",
       "      <td>1.0</td>\n",
       "      <td>-0.004331</td>\n",
       "      <td>0.007046</td>\n",
       "      <td>0.063590</td>\n",
       "      <td>0.029660</td>\n",
       "    </tr>\n",
       "    <tr>\n",
       "      <th>23</th>\n",
       "      <td>1993-02-26</td>\n",
       "      <td>-3.373790</td>\n",
       "      <td>0.003514</td>\n",
       "      <td>3.0230</td>\n",
       "      <td>0.69</td>\n",
       "      <td>1.0</td>\n",
       "      <td>1.0</td>\n",
       "      <td>1.0</td>\n",
       "      <td>1.0</td>\n",
       "      <td>1.0</td>\n",
       "      <td>1.0</td>\n",
       "      <td>-0.004106</td>\n",
       "      <td>0.010484</td>\n",
       "      <td>0.060200</td>\n",
       "      <td>0.029970</td>\n",
       "    </tr>\n",
       "    <tr>\n",
       "      <th>24</th>\n",
       "      <td>1993-03-31</td>\n",
       "      <td>-3.394291</td>\n",
       "      <td>0.002101</td>\n",
       "      <td>3.0670</td>\n",
       "      <td>0.57</td>\n",
       "      <td>1.0</td>\n",
       "      <td>1.0</td>\n",
       "      <td>1.0</td>\n",
       "      <td>1.0</td>\n",
       "      <td>1.0</td>\n",
       "      <td>1.0</td>\n",
       "      <td>-0.008631</td>\n",
       "      <td>0.018697</td>\n",
       "      <td>0.060240</td>\n",
       "      <td>0.029570</td>\n",
       "    </tr>\n",
       "    <tr>\n",
       "      <th>25</th>\n",
       "      <td>1993-04-30</td>\n",
       "      <td>-3.369206</td>\n",
       "      <td>0.001398</td>\n",
       "      <td>3.0530</td>\n",
       "      <td>0.68</td>\n",
       "      <td>1.0</td>\n",
       "      <td>1.0</td>\n",
       "      <td>1.0</td>\n",
       "      <td>1.0</td>\n",
       "      <td>1.0</td>\n",
       "      <td>1.0</td>\n",
       "      <td>-0.008378</td>\n",
       "      <td>-0.025417</td>\n",
       "      <td>0.060090</td>\n",
       "      <td>0.029560</td>\n",
       "    </tr>\n",
       "    <tr>\n",
       "      <th>26</th>\n",
       "      <td>1993-05-31</td>\n",
       "      <td>-3.392990</td>\n",
       "      <td>0.003489</td>\n",
       "      <td>3.0390</td>\n",
       "      <td>0.78</td>\n",
       "      <td>1.0</td>\n",
       "      <td>1.0</td>\n",
       "      <td>1.0</td>\n",
       "      <td>1.0</td>\n",
       "      <td>1.0</td>\n",
       "      <td>1.0</td>\n",
       "      <td>-0.013780</td>\n",
       "      <td>0.022717</td>\n",
       "      <td>0.061490</td>\n",
       "      <td>0.031100</td>\n",
       "    </tr>\n",
       "    <tr>\n",
       "      <th>27</th>\n",
       "      <td>1993-06-30</td>\n",
       "      <td>-3.387814</td>\n",
       "      <td>0.002782</td>\n",
       "      <td>2.6960</td>\n",
       "      <td>0.74</td>\n",
       "      <td>1.0</td>\n",
       "      <td>1.0</td>\n",
       "      <td>1.0</td>\n",
       "      <td>1.0</td>\n",
       "      <td>1.0</td>\n",
       "      <td>1.0</td>\n",
       "      <td>-0.013959</td>\n",
       "      <td>0.000755</td>\n",
       "      <td>0.057760</td>\n",
       "      <td>0.030800</td>\n",
       "    </tr>\n",
       "    <tr>\n",
       "      <th>28</th>\n",
       "      <td>1993-07-30</td>\n",
       "      <td>-3.385105</td>\n",
       "      <td>0.000693</td>\n",
       "      <td>2.7070</td>\n",
       "      <td>0.76</td>\n",
       "      <td>1.0</td>\n",
       "      <td>1.0</td>\n",
       "      <td>1.0</td>\n",
       "      <td>1.0</td>\n",
       "      <td>1.0</td>\n",
       "      <td>1.0</td>\n",
       "      <td>-0.012917</td>\n",
       "      <td>-0.005327</td>\n",
       "      <td>0.058070</td>\n",
       "      <td>0.031000</td>\n",
       "    </tr>\n",
       "    <tr>\n",
       "      <th>29</th>\n",
       "      <td>1993-08-31</td>\n",
       "      <td>-3.421596</td>\n",
       "      <td>0.001386</td>\n",
       "      <td>2.3780</td>\n",
       "      <td>0.75</td>\n",
       "      <td>1.0</td>\n",
       "      <td>1.0</td>\n",
       "      <td>1.0</td>\n",
       "      <td>1.0</td>\n",
       "      <td>1.0</td>\n",
       "      <td>1.0</td>\n",
       "      <td>-0.015391</td>\n",
       "      <td>0.034432</td>\n",
       "      <td>0.054480</td>\n",
       "      <td>0.030700</td>\n",
       "    </tr>\n",
       "    <tr>\n",
       "      <th>...</th>\n",
       "      <td>...</td>\n",
       "      <td>...</td>\n",
       "      <td>...</td>\n",
       "      <td>...</td>\n",
       "      <td>...</td>\n",
       "      <td>...</td>\n",
       "      <td>...</td>\n",
       "      <td>...</td>\n",
       "      <td>...</td>\n",
       "      <td>...</td>\n",
       "      <td>...</td>\n",
       "      <td>...</td>\n",
       "      <td>...</td>\n",
       "      <td>...</td>\n",
       "      <td>...</td>\n",
       "    </tr>\n",
       "    <tr>\n",
       "      <th>311</th>\n",
       "      <td>2017-02-28</td>\n",
       "      <td>-3.755728</td>\n",
       "      <td>0.004152</td>\n",
       "      <td>1.7857</td>\n",
       "      <td>0.69</td>\n",
       "      <td>1.0</td>\n",
       "      <td>1.0</td>\n",
       "      <td>-1.0</td>\n",
       "      <td>-1.0</td>\n",
       "      <td>1.0</td>\n",
       "      <td>1.0</td>\n",
       "      <td>0.042376</td>\n",
       "      <td>0.037198</td>\n",
       "      <td>0.023899</td>\n",
       "      <td>0.006042</td>\n",
       "    </tr>\n",
       "    <tr>\n",
       "      <th>312</th>\n",
       "      <td>2017-03-31</td>\n",
       "      <td>-3.740433</td>\n",
       "      <td>0.000742</td>\n",
       "      <td>1.6358</td>\n",
       "      <td>0.67</td>\n",
       "      <td>1.0</td>\n",
       "      <td>1.0</td>\n",
       "      <td>-1.0</td>\n",
       "      <td>-1.0</td>\n",
       "      <td>1.0</td>\n",
       "      <td>1.0</td>\n",
       "      <td>0.048848</td>\n",
       "      <td>-0.000389</td>\n",
       "      <td>0.023874</td>\n",
       "      <td>0.007516</td>\n",
       "    </tr>\n",
       "    <tr>\n",
       "      <th>313</th>\n",
       "      <td>2017-04-28</td>\n",
       "      <td>-3.749840</td>\n",
       "      <td>-0.000869</td>\n",
       "      <td>1.4879</td>\n",
       "      <td>0.70</td>\n",
       "      <td>1.0</td>\n",
       "      <td>1.0</td>\n",
       "      <td>1.0</td>\n",
       "      <td>-1.0</td>\n",
       "      <td>1.0</td>\n",
       "      <td>1.0</td>\n",
       "      <td>0.057288</td>\n",
       "      <td>0.009091</td>\n",
       "      <td>0.022802</td>\n",
       "      <td>0.007923</td>\n",
       "    </tr>\n",
       "    <tr>\n",
       "      <th>314</th>\n",
       "      <td>2017-05-31</td>\n",
       "      <td>-3.755837</td>\n",
       "      <td>0.001239</td>\n",
       "      <td>1.2322</td>\n",
       "      <td>0.70</td>\n",
       "      <td>1.0</td>\n",
       "      <td>1.0</td>\n",
       "      <td>1.0</td>\n",
       "      <td>-1.0</td>\n",
       "      <td>1.0</td>\n",
       "      <td>1.0</td>\n",
       "      <td>0.058106</td>\n",
       "      <td>0.011576</td>\n",
       "      <td>0.022028</td>\n",
       "      <td>0.009706</td>\n",
       "    </tr>\n",
       "    <tr>\n",
       "      <th>315</th>\n",
       "      <td>2017-06-30</td>\n",
       "      <td>-3.745154</td>\n",
       "      <td>-0.000365</td>\n",
       "      <td>1.2924</td>\n",
       "      <td>0.69</td>\n",
       "      <td>1.0</td>\n",
       "      <td>1.0</td>\n",
       "      <td>1.0</td>\n",
       "      <td>-1.0</td>\n",
       "      <td>1.0</td>\n",
       "      <td>1.0</td>\n",
       "      <td>0.059191</td>\n",
       "      <td>0.004814</td>\n",
       "      <td>0.023037</td>\n",
       "      <td>0.010113</td>\n",
       "    </tr>\n",
       "    <tr>\n",
       "      <th>316</th>\n",
       "      <td>2017-07-31</td>\n",
       "      <td>-3.763445</td>\n",
       "      <td>0.000902</td>\n",
       "      <td>1.2218</td>\n",
       "      <td>0.69</td>\n",
       "      <td>1.0</td>\n",
       "      <td>1.0</td>\n",
       "      <td>1.0</td>\n",
       "      <td>-1.0</td>\n",
       "      <td>1.0</td>\n",
       "      <td>1.0</td>\n",
       "      <td>0.058253</td>\n",
       "      <td>0.019349</td>\n",
       "      <td>0.022942</td>\n",
       "      <td>0.010724</td>\n",
       "    </tr>\n",
       "    <tr>\n",
       "      <th>317</th>\n",
       "      <td>2017-08-31</td>\n",
       "      <td>-3.757384</td>\n",
       "      <td>0.000852</td>\n",
       "      <td>1.1260</td>\n",
       "      <td>0.68</td>\n",
       "      <td>1.0</td>\n",
       "      <td>1.0</td>\n",
       "      <td>1.0</td>\n",
       "      <td>1.0</td>\n",
       "      <td>1.0</td>\n",
       "      <td>1.0</td>\n",
       "      <td>0.053114</td>\n",
       "      <td>0.000546</td>\n",
       "      <td>0.021170</td>\n",
       "      <td>0.009910</td>\n",
       "    </tr>\n",
       "    <tr>\n",
       "      <th>318</th>\n",
       "      <td>2017-09-29</td>\n",
       "      <td>-3.762050</td>\n",
       "      <td>0.003711</td>\n",
       "      <td>1.2931</td>\n",
       "      <td>0.67</td>\n",
       "      <td>1.0</td>\n",
       "      <td>1.0</td>\n",
       "      <td>-1.0</td>\n",
       "      <td>1.0</td>\n",
       "      <td>1.0</td>\n",
       "      <td>1.0</td>\n",
       "      <td>0.052761</td>\n",
       "      <td>0.019303</td>\n",
       "      <td>0.023336</td>\n",
       "      <td>0.010405</td>\n",
       "    </tr>\n",
       "    <tr>\n",
       "      <th>319</th>\n",
       "      <td>2017-10-31</td>\n",
       "      <td>-3.782289</td>\n",
       "      <td>0.004570</td>\n",
       "      <td>1.2481</td>\n",
       "      <td>0.72</td>\n",
       "      <td>1.0</td>\n",
       "      <td>1.0</td>\n",
       "      <td>-1.0</td>\n",
       "      <td>1.0</td>\n",
       "      <td>1.0</td>\n",
       "      <td>1.0</td>\n",
       "      <td>0.067049</td>\n",
       "      <td>0.022188</td>\n",
       "      <td>0.023793</td>\n",
       "      <td>0.011312</td>\n",
       "    </tr>\n",
       "    <tr>\n",
       "      <th>320</th>\n",
       "      <td>2017-11-30</td>\n",
       "      <td>-3.803864</td>\n",
       "      <td>0.000686</td>\n",
       "      <td>1.1537</td>\n",
       "      <td>0.70</td>\n",
       "      <td>1.0</td>\n",
       "      <td>1.0</td>\n",
       "      <td>-1.0</td>\n",
       "      <td>-1.0</td>\n",
       "      <td>1.0</td>\n",
       "      <td>1.0</td>\n",
       "      <td>0.071486</td>\n",
       "      <td>0.028083</td>\n",
       "      <td>0.024097</td>\n",
       "      <td>0.012560</td>\n",
       "    </tr>\n",
       "    <tr>\n",
       "      <th>321</th>\n",
       "      <td>2017-12-29</td>\n",
       "      <td>-3.798008</td>\n",
       "      <td>0.003021</td>\n",
       "      <td>1.0297</td>\n",
       "      <td>0.71</td>\n",
       "      <td>1.0</td>\n",
       "      <td>1.0</td>\n",
       "      <td>-1.0</td>\n",
       "      <td>-1.0</td>\n",
       "      <td>1.0</td>\n",
       "      <td>1.0</td>\n",
       "      <td>0.073755</td>\n",
       "      <td>0.009832</td>\n",
       "      <td>0.024054</td>\n",
       "      <td>0.013757</td>\n",
       "    </tr>\n",
       "    <tr>\n",
       "      <th>322</th>\n",
       "      <td>2018-01-31</td>\n",
       "      <td>-3.854168</td>\n",
       "      <td>0.002301</td>\n",
       "      <td>1.2499</td>\n",
       "      <td>0.71</td>\n",
       "      <td>1.0</td>\n",
       "      <td>1.0</td>\n",
       "      <td>-1.0</td>\n",
       "      <td>-1.0</td>\n",
       "      <td>1.0</td>\n",
       "      <td>1.0</td>\n",
       "      <td>0.070347</td>\n",
       "      <td>0.056179</td>\n",
       "      <td>0.027050</td>\n",
       "      <td>0.014551</td>\n",
       "    </tr>\n",
       "    <tr>\n",
       "      <th>323</th>\n",
       "      <td>2018-02-28</td>\n",
       "      <td>-3.809109</td>\n",
       "      <td>0.003965</td>\n",
       "      <td>1.2088</td>\n",
       "      <td>0.69</td>\n",
       "      <td>1.0</td>\n",
       "      <td>1.0</td>\n",
       "      <td>-1.0</td>\n",
       "      <td>-1.0</td>\n",
       "      <td>1.0</td>\n",
       "      <td>1.0</td>\n",
       "      <td>0.072944</td>\n",
       "      <td>-0.038947</td>\n",
       "      <td>0.028606</td>\n",
       "      <td>0.016518</td>\n",
       "    </tr>\n",
       "    <tr>\n",
       "      <th>324</th>\n",
       "      <td>2018-03-30</td>\n",
       "      <td>-3.772261</td>\n",
       "      <td>0.001949</td>\n",
       "      <td>1.0388</td>\n",
       "      <td>0.77</td>\n",
       "      <td>1.0</td>\n",
       "      <td>1.0</td>\n",
       "      <td>-1.0</td>\n",
       "      <td>-1.0</td>\n",
       "      <td>1.0</td>\n",
       "      <td>1.0</td>\n",
       "      <td>0.077582</td>\n",
       "      <td>-0.026885</td>\n",
       "      <td>0.027389</td>\n",
       "      <td>0.017001</td>\n",
       "    </tr>\n",
       "    <tr>\n",
       "      <th>325</th>\n",
       "      <td>2018-04-30</td>\n",
       "      <td>-3.773331</td>\n",
       "      <td>0.000517</td>\n",
       "      <td>1.1535</td>\n",
       "      <td>0.82</td>\n",
       "      <td>1.0</td>\n",
       "      <td>1.0</td>\n",
       "      <td>-1.0</td>\n",
       "      <td>-1.0</td>\n",
       "      <td>1.0</td>\n",
       "      <td>1.0</td>\n",
       "      <td>0.085311</td>\n",
       "      <td>0.002719</td>\n",
       "      <td>0.029531</td>\n",
       "      <td>0.017996</td>\n",
       "    </tr>\n",
       "    <tr>\n",
       "      <th>326</th>\n",
       "      <td>2018-05-31</td>\n",
       "      <td>-3.789954</td>\n",
       "      <td>0.001836</td>\n",
       "      <td>0.9640</td>\n",
       "      <td>0.83</td>\n",
       "      <td>1.0</td>\n",
       "      <td>1.0</td>\n",
       "      <td>-1.0</td>\n",
       "      <td>-1.0</td>\n",
       "      <td>1.0</td>\n",
       "      <td>1.0</td>\n",
       "      <td>0.076305</td>\n",
       "      <td>0.021608</td>\n",
       "      <td>0.028586</td>\n",
       "      <td>0.018946</td>\n",
       "    </tr>\n",
       "    <tr>\n",
       "      <th>327</th>\n",
       "      <td>2018-06-29</td>\n",
       "      <td>-3.779525</td>\n",
       "      <td>0.002760</td>\n",
       "      <td>0.9478</td>\n",
       "      <td>0.88</td>\n",
       "      <td>1.0</td>\n",
       "      <td>1.0</td>\n",
       "      <td>1.0</td>\n",
       "      <td>-1.0</td>\n",
       "      <td>1.0</td>\n",
       "      <td>1.0</td>\n",
       "      <td>0.082578</td>\n",
       "      <td>0.004842</td>\n",
       "      <td>0.028601</td>\n",
       "      <td>0.019123</td>\n",
       "    </tr>\n",
       "    <tr>\n",
       "      <th>328</th>\n",
       "      <td>2018-07-31</td>\n",
       "      <td>-3.814108</td>\n",
       "      <td>0.001947</td>\n",
       "      <td>0.9395</td>\n",
       "      <td>0.92</td>\n",
       "      <td>1.0</td>\n",
       "      <td>1.0</td>\n",
       "      <td>-1.0</td>\n",
       "      <td>-1.0</td>\n",
       "      <td>1.0</td>\n",
       "      <td>1.0</td>\n",
       "      <td>0.085715</td>\n",
       "      <td>0.036022</td>\n",
       "      <td>0.029598</td>\n",
       "      <td>0.020203</td>\n",
       "    </tr>\n",
       "    <tr>\n",
       "      <th>329</th>\n",
       "      <td>2018-08-31</td>\n",
       "      <td>-3.838464</td>\n",
       "      <td>0.001844</td>\n",
       "      <td>0.7666</td>\n",
       "      <td>0.89</td>\n",
       "      <td>1.0</td>\n",
       "      <td>1.0</td>\n",
       "      <td>1.0</td>\n",
       "      <td>-1.0</td>\n",
       "      <td>1.0</td>\n",
       "      <td>1.0</td>\n",
       "      <td>0.092232</td>\n",
       "      <td>0.030263</td>\n",
       "      <td>0.028604</td>\n",
       "      <td>0.020938</td>\n",
       "    </tr>\n",
       "    <tr>\n",
       "      <th>330</th>\n",
       "      <td>2018-09-28</td>\n",
       "      <td>-3.833188</td>\n",
       "      <td>0.001121</td>\n",
       "      <td>0.8648</td>\n",
       "      <td>0.90</td>\n",
       "      <td>1.0</td>\n",
       "      <td>1.0</td>\n",
       "      <td>-1.0</td>\n",
       "      <td>-1.0</td>\n",
       "      <td>1.0</td>\n",
       "      <td>1.0</td>\n",
       "      <td>0.092118</td>\n",
       "      <td>0.004294</td>\n",
       "      <td>0.030612</td>\n",
       "      <td>0.021964</td>\n",
       "    </tr>\n",
       "    <tr>\n",
       "      <th>331</th>\n",
       "      <td>2018-10-31</td>\n",
       "      <td>-3.763959</td>\n",
       "      <td>0.000520</td>\n",
       "      <td>0.8184</td>\n",
       "      <td>0.93</td>\n",
       "      <td>0.0</td>\n",
       "      <td>1.0</td>\n",
       "      <td>-1.0</td>\n",
       "      <td>-1.0</td>\n",
       "      <td>0.0</td>\n",
       "      <td>1.0</td>\n",
       "      <td>0.092807</td>\n",
       "      <td>-0.069403</td>\n",
       "      <td>0.031435</td>\n",
       "      <td>0.023251</td>\n",
       "    </tr>\n",
       "    <tr>\n",
       "      <th>332</th>\n",
       "      <td>2018-11-30</td>\n",
       "      <td>-3.779119</td>\n",
       "      <td>0.003111</td>\n",
       "      <td>0.6455</td>\n",
       "      <td>1.00</td>\n",
       "      <td>1.0</td>\n",
       "      <td>0.0</td>\n",
       "      <td>1.0</td>\n",
       "      <td>-1.0</td>\n",
       "      <td>1.0</td>\n",
       "      <td>1.0</td>\n",
       "      <td>0.096544</td>\n",
       "      <td>0.017859</td>\n",
       "      <td>0.029879</td>\n",
       "      <td>0.023424</td>\n",
       "    </tr>\n",
       "    <tr>\n",
       "      <th>333</th>\n",
       "      <td>2018-12-31</td>\n",
       "      <td>-3.676372</td>\n",
       "      <td>-0.000134</td>\n",
       "      <td>0.3293</td>\n",
       "      <td>1.11</td>\n",
       "      <td>0.0</td>\n",
       "      <td>0.0</td>\n",
       "      <td>1.0</td>\n",
       "      <td>1.0</td>\n",
       "      <td>0.0</td>\n",
       "      <td>0.0</td>\n",
       "      <td>0.095356</td>\n",
       "      <td>-0.091777</td>\n",
       "      <td>0.026842</td>\n",
       "      <td>0.023549</td>\n",
       "    </tr>\n",
       "    <tr>\n",
       "      <th>334</th>\n",
       "      <td>2019-01-31</td>\n",
       "      <td>-3.757170</td>\n",
       "      <td>-0.000146</td>\n",
       "      <td>0.2454</td>\n",
       "      <td>1.19</td>\n",
       "      <td>0.0</td>\n",
       "      <td>0.0</td>\n",
       "      <td>1.0</td>\n",
       "      <td>1.0</td>\n",
       "      <td>1.0</td>\n",
       "      <td>0.0</td>\n",
       "      <td>0.089969</td>\n",
       "      <td>0.078684</td>\n",
       "      <td>0.026293</td>\n",
       "      <td>0.023839</td>\n",
       "    </tr>\n",
       "    <tr>\n",
       "      <th>335</th>\n",
       "      <td>2019-02-28</td>\n",
       "      <td>-3.780938</td>\n",
       "      <td>-0.000198</td>\n",
       "      <td>0.2824</td>\n",
       "      <td>1.16</td>\n",
       "      <td>1.0</td>\n",
       "      <td>1.0</td>\n",
       "      <td>1.0</td>\n",
       "      <td>1.0</td>\n",
       "      <td>1.0</td>\n",
       "      <td>1.0</td>\n",
       "      <td>0.083610</td>\n",
       "      <td>0.029729</td>\n",
       "      <td>0.027150</td>\n",
       "      <td>0.024326</td>\n",
       "    </tr>\n",
       "    <tr>\n",
       "      <th>336</th>\n",
       "      <td>2019-03-29</td>\n",
       "      <td>-3.785870</td>\n",
       "      <td>0.001741</td>\n",
       "      <td>0.0241</td>\n",
       "      <td>1.07</td>\n",
       "      <td>1.0</td>\n",
       "      <td>1.0</td>\n",
       "      <td>1.0</td>\n",
       "      <td>1.0</td>\n",
       "      <td>1.0</td>\n",
       "      <td>1.0</td>\n",
       "      <td>0.083278</td>\n",
       "      <td>0.017924</td>\n",
       "      <td>0.024050</td>\n",
       "      <td>0.023809</td>\n",
       "    </tr>\n",
       "    <tr>\n",
       "      <th>337</th>\n",
       "      <td>2019-04-30</td>\n",
       "      <td>-3.818848</td>\n",
       "      <td>0.004089</td>\n",
       "      <td>0.0919</td>\n",
       "      <td>1.01</td>\n",
       "      <td>1.0</td>\n",
       "      <td>1.0</td>\n",
       "      <td>1.0</td>\n",
       "      <td>1.0</td>\n",
       "      <td>1.0</td>\n",
       "      <td>1.0</td>\n",
       "      <td>0.075730</td>\n",
       "      <td>0.039313</td>\n",
       "      <td>0.025018</td>\n",
       "      <td>0.024099</td>\n",
       "    </tr>\n",
       "    <tr>\n",
       "      <th>338</th>\n",
       "      <td>2019-05-31</td>\n",
       "      <td>-3.740195</td>\n",
       "      <td>0.003187</td>\n",
       "      <td>-0.2153</td>\n",
       "      <td>0.96</td>\n",
       "      <td>0.0</td>\n",
       "      <td>1.0</td>\n",
       "      <td>1.0</td>\n",
       "      <td>1.0</td>\n",
       "      <td>0.0</td>\n",
       "      <td>1.0</td>\n",
       "      <td>0.076963</td>\n",
       "      <td>-0.065778</td>\n",
       "      <td>0.021246</td>\n",
       "      <td>0.023399</td>\n",
       "    </tr>\n",
       "    <tr>\n",
       "      <th>339</th>\n",
       "      <td>2019-06-28</td>\n",
       "      <td>-3.792573</td>\n",
       "      <td>0.000773</td>\n",
       "      <td>-0.0817</td>\n",
       "      <td>1.04</td>\n",
       "      <td>1.0</td>\n",
       "      <td>1.0</td>\n",
       "      <td>1.0</td>\n",
       "      <td>1.0</td>\n",
       "      <td>1.0</td>\n",
       "      <td>1.0</td>\n",
       "      <td>0.077539</td>\n",
       "      <td>0.068930</td>\n",
       "      <td>0.020051</td>\n",
       "      <td>0.020868</td>\n",
       "    </tr>\n",
       "    <tr>\n",
       "      <th>340</th>\n",
       "      <td>2019-07-31</td>\n",
       "      <td>-3.812730</td>\n",
       "      <td>0.000588</td>\n",
       "      <td>-0.0472</td>\n",
       "      <td>0.99</td>\n",
       "      <td>1.0</td>\n",
       "      <td>1.0</td>\n",
       "      <td>1.0</td>\n",
       "      <td>1.0</td>\n",
       "      <td>1.0</td>\n",
       "      <td>1.0</td>\n",
       "      <td>0.074272</td>\n",
       "      <td>0.013128</td>\n",
       "      <td>0.020144</td>\n",
       "      <td>0.020616</td>\n",
       "    </tr>\n",
       "  </tbody>\n",
       "</table>\n",
       "<p>341 rows × 15 columns</p>\n",
       "</div>"
      ],
      "text/plain": [
       "         Dates    log_DP  inflation  Term_Spread  Default_Spread  MA_1_12  \\\n",
       "0   1991-03-29 -3.184739   0.000742       2.1280            1.16      1.0   \n",
       "1   1991-04-30 -3.187664   0.000000       2.3260            1.08      1.0   \n",
       "2   1991-05-31 -3.221650   0.002226       2.3660            1.00      1.0   \n",
       "3   1991-06-28 -3.175793   0.003701       2.5340            0.95      1.0   \n",
       "4   1991-07-31 -3.222907   0.002950       2.4710            0.89      1.0   \n",
       "5   1991-08-30 -3.251468   0.001471       2.3320            0.90      1.0   \n",
       "6   1991-09-30 -3.234754   0.002937       2.1910            0.90      1.0   \n",
       "7   1991-10-31 -3.243275   0.002928       2.4950            0.94      1.0   \n",
       "8   1991-11-29 -3.205559   0.001460       2.9120            0.97      1.0   \n",
       "9   1991-12-31 -3.313323   0.004373       2.7410            0.95      1.0   \n",
       "10  1992-01-31 -3.292564   0.002903       3.3390            0.93      1.0   \n",
       "11  1992-02-28 -3.307364   0.000724       3.2330            0.93      1.0   \n",
       "12  1992-03-31 -3.293931   0.002169       3.3840            0.90      1.0   \n",
       "13  1992-04-30 -3.316116   0.003608       3.8120            0.88      1.0   \n",
       "14  1992-05-29 -3.324410   0.002157       3.5480            0.85      1.0   \n",
       "15  1992-06-30 -3.315633   0.002152       3.4730            0.83      1.0   \n",
       "16  1992-07-31 -3.351556   0.002863       3.4650            0.77      1.0   \n",
       "17  1992-08-31 -3.327939   0.002855       3.3810            0.71      1.0   \n",
       "18  1992-09-30 -3.339025   0.002135       3.6130            0.69      1.0   \n",
       "19  1992-10-30 -3.330391   0.002131       3.7820            0.85      1.0   \n",
       "20  1992-11-30 -3.352888   0.004252       3.6010            0.87      1.0   \n",
       "21  1992-12-31 -3.350432   0.002823       3.5450            0.83      1.0   \n",
       "22  1993-01-29 -3.361388   0.001407       3.3930            0.76      1.0   \n",
       "23  1993-02-26 -3.373790   0.003514       3.0230            0.69      1.0   \n",
       "24  1993-03-31 -3.394291   0.002101       3.0670            0.57      1.0   \n",
       "25  1993-04-30 -3.369206   0.001398       3.0530            0.68      1.0   \n",
       "26  1993-05-31 -3.392990   0.003489       3.0390            0.78      1.0   \n",
       "27  1993-06-30 -3.387814   0.002782       2.6960            0.74      1.0   \n",
       "28  1993-07-30 -3.385105   0.000693       2.7070            0.76      1.0   \n",
       "29  1993-08-31 -3.421596   0.001386       2.3780            0.75      1.0   \n",
       "..         ...       ...        ...          ...             ...      ...   \n",
       "311 2017-02-28 -3.755728   0.004152       1.7857            0.69      1.0   \n",
       "312 2017-03-31 -3.740433   0.000742       1.6358            0.67      1.0   \n",
       "313 2017-04-28 -3.749840  -0.000869       1.4879            0.70      1.0   \n",
       "314 2017-05-31 -3.755837   0.001239       1.2322            0.70      1.0   \n",
       "315 2017-06-30 -3.745154  -0.000365       1.2924            0.69      1.0   \n",
       "316 2017-07-31 -3.763445   0.000902       1.2218            0.69      1.0   \n",
       "317 2017-08-31 -3.757384   0.000852       1.1260            0.68      1.0   \n",
       "318 2017-09-29 -3.762050   0.003711       1.2931            0.67      1.0   \n",
       "319 2017-10-31 -3.782289   0.004570       1.2481            0.72      1.0   \n",
       "320 2017-11-30 -3.803864   0.000686       1.1537            0.70      1.0   \n",
       "321 2017-12-29 -3.798008   0.003021       1.0297            0.71      1.0   \n",
       "322 2018-01-31 -3.854168   0.002301       1.2499            0.71      1.0   \n",
       "323 2018-02-28 -3.809109   0.003965       1.2088            0.69      1.0   \n",
       "324 2018-03-30 -3.772261   0.001949       1.0388            0.77      1.0   \n",
       "325 2018-04-30 -3.773331   0.000517       1.1535            0.82      1.0   \n",
       "326 2018-05-31 -3.789954   0.001836       0.9640            0.83      1.0   \n",
       "327 2018-06-29 -3.779525   0.002760       0.9478            0.88      1.0   \n",
       "328 2018-07-31 -3.814108   0.001947       0.9395            0.92      1.0   \n",
       "329 2018-08-31 -3.838464   0.001844       0.7666            0.89      1.0   \n",
       "330 2018-09-28 -3.833188   0.001121       0.8648            0.90      1.0   \n",
       "331 2018-10-31 -3.763959   0.000520       0.8184            0.93      0.0   \n",
       "332 2018-11-30 -3.779119   0.003111       0.6455            1.00      1.0   \n",
       "333 2018-12-31 -3.676372  -0.000134       0.3293            1.11      0.0   \n",
       "334 2019-01-31 -3.757170  -0.000146       0.2454            1.19      0.0   \n",
       "335 2019-02-28 -3.780938  -0.000198       0.2824            1.16      1.0   \n",
       "336 2019-03-29 -3.785870   0.001741       0.0241            1.07      1.0   \n",
       "337 2019-04-30 -3.818848   0.004089       0.0919            1.01      1.0   \n",
       "338 2019-05-31 -3.740195   0.003187      -0.2153            0.96      0.0   \n",
       "339 2019-06-28 -3.792573   0.000773      -0.0817            1.04      1.0   \n",
       "340 2019-07-31 -3.812730   0.000588      -0.0472            0.99      1.0   \n",
       "\n",
       "     MA_2_12  MOMBY_6  MOMBY_12  MOM_9  MOM_12  output_gap     r_SPX  \\\n",
       "0        1.0      1.0       1.0    1.0     1.0    0.003305  0.022203   \n",
       "1        1.0      1.0       1.0    1.0     1.0    0.008409  0.000346   \n",
       "2        1.0      1.0       1.0    1.0     1.0    0.015507  0.038577   \n",
       "3        1.0     -1.0       1.0    1.0     1.0    0.018247 -0.047893   \n",
       "4        1.0     -1.0       1.0    1.0     1.0    0.014082  0.044859   \n",
       "5        1.0      1.0       1.0    1.0     1.0    0.010468  0.019649   \n",
       "6        1.0      1.0       1.0    1.0     1.0    0.012580 -0.019144   \n",
       "7        1.0      1.0       1.0    1.0     1.0    0.006317  0.011860   \n",
       "8        1.0      1.0       1.0    1.0     1.0    0.002107 -0.043928   \n",
       "9        1.0      1.0       1.0    1.0     1.0   -0.002908  0.111588   \n",
       "10       1.0      1.0       1.0    1.0     1.0   -0.007508 -0.019900   \n",
       "11       1.0      1.0       1.0    1.0     1.0   -0.001758  0.009565   \n",
       "12       1.0     -1.0       1.0    1.0     1.0    0.002975 -0.021832   \n",
       "13       1.0     -1.0       1.0    1.0     1.0    0.005556  0.027893   \n",
       "14       1.0      1.0       1.0    1.0     1.0    0.003961  0.000964   \n",
       "15       1.0      1.0       1.0    1.0     1.0    0.000212 -0.017359   \n",
       "16       1.0      1.0       1.0    1.0     1.0    0.003759  0.039374   \n",
       "17       1.0      1.0       1.0    1.0     1.0   -0.004279 -0.023998   \n",
       "18       1.0      1.0       1.0    1.0     1.0   -0.004979  0.009106   \n",
       "19       1.0      1.0       1.0    1.0     1.0   -0.001699  0.002106   \n",
       "20       1.0     -1.0       1.0    1.0     1.0   -0.001829  0.030262   \n",
       "21       1.0      1.0       1.0    1.0     1.0   -0.004670  0.010108   \n",
       "22       1.0      1.0       1.0    1.0     1.0   -0.004331  0.007046   \n",
       "23       1.0      1.0       1.0    1.0     1.0   -0.004106  0.010484   \n",
       "24       1.0      1.0       1.0    1.0     1.0   -0.008631  0.018697   \n",
       "25       1.0      1.0       1.0    1.0     1.0   -0.008378 -0.025417   \n",
       "26       1.0      1.0       1.0    1.0     1.0   -0.013780  0.022717   \n",
       "27       1.0      1.0       1.0    1.0     1.0   -0.013959  0.000755   \n",
       "28       1.0      1.0       1.0    1.0     1.0   -0.012917 -0.005327   \n",
       "29       1.0      1.0       1.0    1.0     1.0   -0.015391  0.034432   \n",
       "..       ...      ...       ...    ...     ...         ...       ...   \n",
       "311      1.0     -1.0      -1.0    1.0     1.0    0.042376  0.037198   \n",
       "312      1.0     -1.0      -1.0    1.0     1.0    0.048848 -0.000389   \n",
       "313      1.0      1.0      -1.0    1.0     1.0    0.057288  0.009091   \n",
       "314      1.0      1.0      -1.0    1.0     1.0    0.058106  0.011576   \n",
       "315      1.0      1.0      -1.0    1.0     1.0    0.059191  0.004814   \n",
       "316      1.0      1.0      -1.0    1.0     1.0    0.058253  0.019349   \n",
       "317      1.0      1.0       1.0    1.0     1.0    0.053114  0.000546   \n",
       "318      1.0     -1.0       1.0    1.0     1.0    0.052761  0.019303   \n",
       "319      1.0     -1.0       1.0    1.0     1.0    0.067049  0.022188   \n",
       "320      1.0     -1.0      -1.0    1.0     1.0    0.071486  0.028083   \n",
       "321      1.0     -1.0      -1.0    1.0     1.0    0.073755  0.009832   \n",
       "322      1.0     -1.0      -1.0    1.0     1.0    0.070347  0.056179   \n",
       "323      1.0     -1.0      -1.0    1.0     1.0    0.072944 -0.038947   \n",
       "324      1.0     -1.0      -1.0    1.0     1.0    0.077582 -0.026885   \n",
       "325      1.0     -1.0      -1.0    1.0     1.0    0.085311  0.002719   \n",
       "326      1.0     -1.0      -1.0    1.0     1.0    0.076305  0.021608   \n",
       "327      1.0      1.0      -1.0    1.0     1.0    0.082578  0.004842   \n",
       "328      1.0     -1.0      -1.0    1.0     1.0    0.085715  0.036022   \n",
       "329      1.0      1.0      -1.0    1.0     1.0    0.092232  0.030263   \n",
       "330      1.0     -1.0      -1.0    1.0     1.0    0.092118  0.004294   \n",
       "331      1.0     -1.0      -1.0    0.0     1.0    0.092807 -0.069403   \n",
       "332      0.0      1.0      -1.0    1.0     1.0    0.096544  0.017859   \n",
       "333      0.0      1.0       1.0    0.0     0.0    0.095356 -0.091777   \n",
       "334      0.0      1.0       1.0    1.0     0.0    0.089969  0.078684   \n",
       "335      1.0      1.0       1.0    1.0     1.0    0.083610  0.029729   \n",
       "336      1.0      1.0       1.0    1.0     1.0    0.083278  0.017924   \n",
       "337      1.0      1.0       1.0    1.0     1.0    0.075730  0.039313   \n",
       "338      1.0      1.0       1.0    0.0     1.0    0.076963 -0.065778   \n",
       "339      1.0      1.0       1.0    1.0     1.0    0.077539  0.068930   \n",
       "340      1.0      1.0       1.0    1.0     1.0    0.074272  0.013128   \n",
       "\n",
       "       r_bond    r_bill  \n",
       "0    0.080610  0.059330  \n",
       "1    0.080130  0.056870  \n",
       "2    0.080590  0.056930  \n",
       "3    0.082270  0.056930  \n",
       "4    0.081470  0.056760  \n",
       "5    0.078160  0.054840  \n",
       "6    0.074450  0.052540  \n",
       "7    0.074600  0.049650  \n",
       "8    0.073760  0.044640  \n",
       "9    0.066990  0.039580  \n",
       "10   0.072740  0.039350  \n",
       "11   0.072500  0.040170  \n",
       "12   0.075280  0.041440  \n",
       "13   0.075830  0.037710  \n",
       "14   0.073180  0.037700  \n",
       "15   0.071210  0.036480  \n",
       "16   0.067090  0.032440  \n",
       "17   0.066040  0.032230  \n",
       "18   0.063540  0.027410  \n",
       "19   0.067890  0.030070  \n",
       "20   0.069370  0.033360  \n",
       "21   0.066860  0.031410  \n",
       "22   0.063590  0.029660  \n",
       "23   0.060200  0.029970  \n",
       "24   0.060240  0.029570  \n",
       "25   0.060090  0.029560  \n",
       "26   0.061490  0.031100  \n",
       "27   0.057760  0.030800  \n",
       "28   0.058070  0.031000  \n",
       "29   0.054480  0.030700  \n",
       "..        ...       ...  \n",
       "311  0.023899  0.006042  \n",
       "312  0.023874  0.007516  \n",
       "313  0.022802  0.007923  \n",
       "314  0.022028  0.009706  \n",
       "315  0.023037  0.010113  \n",
       "316  0.022942  0.010724  \n",
       "317  0.021170  0.009910  \n",
       "318  0.023336  0.010405  \n",
       "319  0.023793  0.011312  \n",
       "320  0.024097  0.012560  \n",
       "321  0.024054  0.013757  \n",
       "322  0.027050  0.014551  \n",
       "323  0.028606  0.016518  \n",
       "324  0.027389  0.017001  \n",
       "325  0.029531  0.017996  \n",
       "326  0.028586  0.018946  \n",
       "327  0.028601  0.019123  \n",
       "328  0.029598  0.020203  \n",
       "329  0.028604  0.020938  \n",
       "330  0.030612  0.021964  \n",
       "331  0.031435  0.023251  \n",
       "332  0.029879  0.023424  \n",
       "333  0.026842  0.023549  \n",
       "334  0.026293  0.023839  \n",
       "335  0.027150  0.024326  \n",
       "336  0.024050  0.023809  \n",
       "337  0.025018  0.024099  \n",
       "338  0.021246  0.023399  \n",
       "339  0.020051  0.020868  \n",
       "340  0.020144  0.020616  \n",
       "\n",
       "[341 rows x 15 columns]"
      ]
     },
     "execution_count": 1688,
     "metadata": {},
     "output_type": "execute_result"
    }
   ],
   "source": [
    "processed_df[]"
   ]
  },
  {
   "cell_type": "code",
   "execution_count": null,
   "metadata": {},
   "outputs": [],
   "source": []
  },
  {
   "cell_type": "code",
   "execution_count": null,
   "metadata": {},
   "outputs": [],
   "source": []
  },
  {
   "cell_type": "code",
   "execution_count": null,
   "metadata": {},
   "outputs": [],
   "source": []
  },
  {
   "cell_type": "markdown",
   "metadata": {},
   "source": [
    "Work in progress"
   ]
  },
  {
   "cell_type": "code",
   "execution_count": null,
   "metadata": {},
   "outputs": [],
   "source": []
  },
  {
   "cell_type": "code",
   "execution_count": null,
   "metadata": {},
   "outputs": [],
   "source": []
  },
  {
   "cell_type": "code",
   "execution_count": null,
   "metadata": {},
   "outputs": [],
   "source": []
  }
 ],
 "metadata": {
  "kernelspec": {
   "display_name": "Python 3",
   "language": "python",
   "name": "python3"
  },
  "language_info": {
   "codemirror_mode": {
    "name": "ipython",
    "version": 3
   },
   "file_extension": ".py",
   "mimetype": "text/x-python",
   "name": "python",
   "nbconvert_exporter": "python",
   "pygments_lexer": "ipython3",
   "version": "3.7.2"
  }
 },
 "nbformat": 4,
 "nbformat_minor": 2
}
