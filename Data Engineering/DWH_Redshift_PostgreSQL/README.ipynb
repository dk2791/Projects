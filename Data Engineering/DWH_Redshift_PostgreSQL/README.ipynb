{
 "cells": [
  {
   "cell_type": "markdown",
   "metadata": {},
   "source": [
    "<!DOCTYPE html>\n",
    "<html>\n",
    "<head>\n",
    "<meta name=\"viewport\" content=\"width=device-width, initial-scale=1\">\n",
    "<style>\n",
    "img {\n",
    "  display: block;\n",
    "  margin-left: auto;\n",
    "  margin-right: auto;\n",
    "}\n",
    "</style>\n",
    "</head>\n",
    "<body>\n",
    "\n",
    "<h2>Schema for Song Play Analysis</h2>\n",
    "    <p>\n",
    "        This project builds on top of the SQL ETL project. Run `create_tables.py` and then `etl.py`. The primary difference is that this project loads data from Amazon S3 and Fact/Dimension table in Amazon Redshift Cluster.\n",
    "        Using the song and user datasets, this project attempts to create a star schema optimized for queries on song play analysis. \n",
    "        The data feeds are as following.\n",
    "    </p>\n",
    "\n",
    "<img src=\"./image/file_format.png\" alt=\"file_format\" width=\"500\"/>\n",
    "</body>\n",
    "</html>"
   ]
  },
  {
   "cell_type": "markdown",
   "metadata": {},
   "source": [
    "<!DOCTYPE html>\n",
    "<html>\n",
    "<head>\n",
    "<meta name=\"viewport\" content=\"width=device-width, initial-scale=1\">\n",
    "<style>\n",
    "img {\n",
    "  display: block;\n",
    "  margin-left: auto;\n",
    "  margin-right: auto;\n",
    "}\n",
    "</style>\n",
    "</head>\n",
    "<body>\n",
    "\n",
    "<h4>Schema Illustration</h4>\n",
    "<p>\n",
    "    The schema organizes data above into following set of tables. The fact table supports general analysis of data feed whereas dimension tables highlight distinctive features worthy of attentions on their own.\n",
    "</p>\n",
    "\n",
    "<img src=\"./image/schema.png\" alt=\"file_format\" width=\"800\"/>\n",
    "</body>\n",
    "</html>"
   ]
  },
  {
   "cell_type": "markdown",
   "metadata": {},
   "source": [
    "##### Core files or, in other words, final output consists of following.\n",
    "##### 1. `create_tables.py`\n",
    "This file initializes database for this project, drops table if there is any, and creates tables discussed above.\n",
    "##### 2. `sql_queries.py`\n",
    "It is a collection of sql queries necessary for dropping and creating tables. It also contains queries for inserting data into each table, which is utilized in `etl.py`\n",
    "##### 3. `etl.py`\n",
    "It grabs relevant files, processes files and feeds relevant data to tables.\n",
    "##### 4. `dwh.cfg`\n",
    "It aggregates data ware house information. It also contains sensitive information that must not be share\n"
   ]
  },
  {
   "cell_type": "code",
   "execution_count": null,
   "metadata": {},
   "outputs": [],
   "source": []
  },
  {
   "cell_type": "code",
   "execution_count": null,
   "metadata": {},
   "outputs": [],
   "source": []
  }
 ],
 "metadata": {
  "kernelspec": {
   "display_name": "Python 3",
   "language": "python",
   "name": "python3"
  },
  "language_info": {
   "codemirror_mode": {
    "name": "ipython",
    "version": 3
   },
   "file_extension": ".py",
   "mimetype": "text/x-python",
   "name": "python",
   "nbconvert_exporter": "python",
   "pygments_lexer": "ipython3",
   "version": "3.6.3"
  },
  "varInspector": {
   "cols": {
    "lenName": 16,
    "lenType": 16,
    "lenVar": 40
   },
   "kernels_config": {
    "python": {
     "delete_cmd_postfix": "",
     "delete_cmd_prefix": "del ",
     "library": "var_list.py",
     "varRefreshCmd": "print(var_dic_list())"
    },
    "r": {
     "delete_cmd_postfix": ") ",
     "delete_cmd_prefix": "rm(",
     "library": "var_list.r",
     "varRefreshCmd": "cat(var_dic_list()) "
    }
   },
   "types_to_exclude": [
    "module",
    "function",
    "builtin_function_or_method",
    "instance",
    "_Feature"
   ],
   "window_display": false
  }
 },
 "nbformat": 4,
 "nbformat_minor": 2
}
